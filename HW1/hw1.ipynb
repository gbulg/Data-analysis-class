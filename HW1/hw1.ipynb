{
  "nbformat": 4,
  "nbformat_minor": 0,
  "metadata": {
    "colab": {
      "provenance": [],
      "toc_visible": true,
      "authorship_tag": "ABX9TyNcD9GjiHzQqFce6N8iIdIw",
      "include_colab_link": true
    },
    "kernelspec": {
      "name": "python3",
      "display_name": "Python 3"
    },
    "language_info": {
      "name": "python"
    }
  },
  "cells": [
    {
      "cell_type": "markdown",
      "metadata": {
        "id": "view-in-github",
        "colab_type": "text"
      },
      "source": [
        "<a href=\"https://colab.research.google.com/github/gbulg/Data-analysis-class/blob/main/HW1/hw1.ipynb\" target=\"_parent\"><img src=\"https://colab.research.google.com/assets/colab-badge.svg\" alt=\"Open In Colab\"/></a>"
      ]
    },
    {
      "cell_type": "markdown",
      "source": [
        "# Homework 1\n",
        "\n",
        "### 1. Read the novel from txt file"
      ],
      "metadata": {
        "id": "JUQCP9P6sf-T"
      }
    },
    {
      "cell_type": "code",
      "source": [
        "f = open(\"./goncharov_obryv.txt\", \"r\")\n",
        "novel = f.read()\n",
        "f.close()"
      ],
      "metadata": {
        "id": "kwwp_pb-tcbi"
      },
      "execution_count": 51,
      "outputs": []
    },
    {
      "cell_type": "code",
      "source": [
        "print(novel[:500]) # Print first 500 characters to check that everything is fine"
      ],
      "metadata": {
        "colab": {
          "base_uri": "https://localhost:8080/"
        },
        "id": "W2RuviDLvfTI",
        "outputId": "3b31df69-b0ef-4da5-a541-8c806422dad8"
      },
      "execution_count": 52,
      "outputs": [
        {
          "output_type": "stream",
          "name": "stdout",
          "text": [
            "Иван Александрович Гончаров\n",
            "\n",
            "Обрыв\n",
            "\n",
            "Роман в пяти частях.\n",
            "\n",
            "\n",
            "\n",
            "ЧАСТЬ ПЕРВАЯ\n",
            "\n",
            "\n",
            "\n",
            "\n",
            "\n",
            "I\n",
            "\n",
            "\n",
            "\n",
            "\n",
            "\n",
            "Два господина сидели в небрежно убранной квартире в Петербурге, на одной из больших улиц. Одному было около тридцати пяти, а другому около сорока пяти лет.\n",
            "\n",
            "Первый был Борис Павлович Райский, второй -- Иван Иванович Аянов.\n",
            "\n",
            "У Бориса Павловича была живая, чрезвычайно подвижная физиономия. С первого взгляда он казался моложе своих лет: большой белый лоб блистал свежестью, глаза менялись, то загорались мыслию, чувс\n"
          ]
        }
      ]
    },
    {
      "cell_type": "markdown",
      "source": [
        "### 2. Import mystem, lemmatize text and save it to new txt file"
      ],
      "metadata": {
        "id": "6vkOg3fDDOIm"
      }
    },
    {
      "cell_type": "code",
      "source": [
        "from pymystem3 import Mystem"
      ],
      "metadata": {
        "id": "VXstzjieDZD5"
      },
      "execution_count": 37,
      "outputs": []
    },
    {
      "cell_type": "code",
      "source": [
        "m = Mystem()\n"
      ],
      "metadata": {
        "id": "sYVQK02PDsey"
      },
      "execution_count": 33,
      "outputs": []
    },
    {
      "cell_type": "code",
      "source": [
        "lemmas = m.lemmatize(novel)"
      ],
      "metadata": {
        "id": "SI0P-iutG4Ie"
      },
      "execution_count": 35,
      "outputs": []
    },
    {
      "cell_type": "code",
      "source": [
        "lemmas[50:100]"
      ],
      "metadata": {
        "colab": {
          "base_uri": "https://localhost:8080/"
        },
        "id": "Fn7GY9ICHQ25",
        "outputId": "40d85a15-7252-4728-85bf-3a3172bbf6f2"
      },
      "execution_count": 38,
      "outputs": [
        {
          "output_type": "execute_result",
          "data": {
            "text/plain": [
              "['квартира',\n",
              " ' ',\n",
              " 'в',\n",
              " ' ',\n",
              " 'петербург',\n",
              " ', ',\n",
              " 'на',\n",
              " ' ',\n",
              " 'один',\n",
              " ' ',\n",
              " 'из',\n",
              " ' ',\n",
              " 'большой',\n",
              " ' ',\n",
              " 'улица',\n",
              " '. ',\n",
              " 'один',\n",
              " ' ',\n",
              " 'быть',\n",
              " ' ',\n",
              " 'около',\n",
              " ' ',\n",
              " 'тридцать',\n",
              " ' ',\n",
              " 'пять',\n",
              " ', ',\n",
              " 'а',\n",
              " ' ',\n",
              " 'другой',\n",
              " ' ',\n",
              " 'около',\n",
              " ' ',\n",
              " 'сорок',\n",
              " ' ',\n",
              " 'пять',\n",
              " ' ',\n",
              " 'год',\n",
              " '.',\n",
              " '\\n',\n",
              " '\\n',\n",
              " 'первый',\n",
              " ' ',\n",
              " 'быть',\n",
              " ' ',\n",
              " 'борис',\n",
              " ' ',\n",
              " 'павлович',\n",
              " ' ',\n",
              " 'райский',\n",
              " ', ']"
            ]
          },
          "metadata": {},
          "execution_count": 38
        }
      ]
    },
    {
      "cell_type": "code",
      "source": [
        "f = open(\"goncharov_obryv_lemmas.txt\", \"w\")"
      ],
      "metadata": {
        "id": "1Z1SfuGtRi7T"
      },
      "execution_count": 41,
      "outputs": []
    },
    {
      "cell_type": "code",
      "source": [
        "f.write(''.join(lemmas))"
      ],
      "metadata": {
        "colab": {
          "base_uri": "https://localhost:8080/"
        },
        "id": "R7K92kUUR2nl",
        "outputId": "084424e5-28e9-4f85-a2d0-b94302911b3e"
      },
      "execution_count": 43,
      "outputs": [
        {
          "output_type": "execute_result",
          "data": {
            "text/plain": [
              "1467776"
            ]
          },
          "metadata": {},
          "execution_count": 43
        }
      ]
    },
    {
      "cell_type": "code",
      "source": [
        "f.close()"
      ],
      "metadata": {
        "id": "ezB3JMzSR0QG"
      },
      "execution_count": 45,
      "outputs": []
    },
    {
      "cell_type": "markdown",
      "source": [
        "### 3.1. Tokenizing with NLTK"
      ],
      "metadata": {
        "id": "WbJPsiHATKwP"
      }
    },
    {
      "cell_type": "code",
      "source": [
        "import nltk\n",
        "nltk.download('punkt')\n",
        "nltk.download('averaged_perceptron_tagger')"
      ],
      "metadata": {
        "id": "x5H1LZG2TOZx",
        "outputId": "10ed4654-49fa-491d-b2f5-d47bfc78bbb0",
        "colab": {
          "base_uri": "https://localhost:8080/"
        }
      },
      "execution_count": 46,
      "outputs": [
        {
          "output_type": "stream",
          "name": "stderr",
          "text": [
            "[nltk_data] Downloading package punkt to /root/nltk_data...\n",
            "[nltk_data]   Unzipping tokenizers/punkt.zip.\n",
            "[nltk_data] Downloading package averaged_perceptron_tagger to\n",
            "[nltk_data]     /root/nltk_data...\n",
            "[nltk_data]   Unzipping taggers/averaged_perceptron_tagger.zip.\n"
          ]
        },
        {
          "output_type": "execute_result",
          "data": {
            "text/plain": [
              "True"
            ]
          },
          "metadata": {},
          "execution_count": 46
        }
      ]
    },
    {
      "cell_type": "code",
      "source": [
        "tokens = nltk.word_tokenize(novel)"
      ],
      "metadata": {
        "id": "vnCXzUWFTWXu"
      },
      "execution_count": 47,
      "outputs": []
    },
    {
      "cell_type": "code",
      "source": [
        "tokens[:50]"
      ],
      "metadata": {
        "id": "C7kVt75BTatF",
        "outputId": "9bec6ced-e283-4faa-973f-e449d956ee1d",
        "colab": {
          "base_uri": "https://localhost:8080/"
        }
      },
      "execution_count": 84,
      "outputs": [
        {
          "output_type": "execute_result",
          "data": {
            "text/plain": [
              "['Иван',\n",
              " 'Александрович',\n",
              " 'Гончаров',\n",
              " 'Обрыв',\n",
              " 'Роман',\n",
              " 'в',\n",
              " 'пяти',\n",
              " 'частях',\n",
              " '.',\n",
              " 'ЧАСТЬ',\n",
              " 'ПЕРВАЯ',\n",
              " 'I',\n",
              " 'Два',\n",
              " 'господина',\n",
              " 'сидели',\n",
              " 'в',\n",
              " 'небрежно',\n",
              " 'убранной',\n",
              " 'квартире',\n",
              " 'в',\n",
              " 'Петербурге',\n",
              " ',',\n",
              " 'на',\n",
              " 'одной',\n",
              " 'из',\n",
              " 'больших',\n",
              " 'улиц',\n",
              " '.',\n",
              " 'Одному',\n",
              " 'было',\n",
              " 'около',\n",
              " 'тридцати',\n",
              " 'пяти',\n",
              " ',',\n",
              " 'а',\n",
              " 'другому',\n",
              " 'около',\n",
              " 'сорока',\n",
              " 'пяти',\n",
              " 'лет',\n",
              " '.',\n",
              " 'Первый',\n",
              " 'был',\n",
              " 'Борис',\n",
              " 'Павлович',\n",
              " 'Райский',\n",
              " ',',\n",
              " 'второй',\n",
              " '--',\n",
              " 'Иван']"
            ]
          },
          "metadata": {},
          "execution_count": 84
        }
      ]
    },
    {
      "cell_type": "markdown",
      "source": [
        "### 3.2 Analysing tokens with pymorphy\n"
      ],
      "metadata": {
        "id": "Uthg10fJcmMG"
      }
    },
    {
      "cell_type": "code",
      "source": [
        "from pymorphy2 import MorphAnalyzer\n",
        "morph = MorphAnalyzer()"
      ],
      "metadata": {
        "id": "MxYK5lRMcloM"
      },
      "execution_count": 53,
      "outputs": []
    },
    {
      "cell_type": "code",
      "source": [
        "def token_to_dict(token):\n",
        "  analysis = morph.parse(token)[0]\n",
        "  return {\"lemma\": analysis.normal_form, \"word\": analysis.word, \"pos\": analysis.tag.POS}\n",
        "\n",
        "tokens_analysis = list(map(token_to_dict, tokens))"
      ],
      "metadata": {
        "id": "7nmrp_w-c8Pc"
      },
      "execution_count": 87,
      "outputs": []
    },
    {
      "cell_type": "code",
      "source": [
        "tokens_analysis[:50]"
      ],
      "metadata": {
        "id": "okr_YVQLgu4f",
        "outputId": "a94d9b98-51a5-40c2-a7fd-165fe7a7e020",
        "colab": {
          "base_uri": "https://localhost:8080/"
        }
      },
      "execution_count": 90,
      "outputs": [
        {
          "output_type": "execute_result",
          "data": {
            "text/plain": [
              "[{'lemma': 'иван', 'word': 'иван', 'pos': 'NOUN'},\n",
              " {'lemma': 'александрович', 'word': 'александрович', 'pos': 'NOUN'},\n",
              " {'lemma': 'гончаров', 'word': 'гончаров', 'pos': 'NOUN'},\n",
              " {'lemma': 'обрыв', 'word': 'обрыв', 'pos': 'NOUN'},\n",
              " {'lemma': 'роман', 'word': 'роман', 'pos': 'NOUN'},\n",
              " {'lemma': 'в', 'word': 'в', 'pos': 'PREP'},\n",
              " {'lemma': 'пять', 'word': 'пяти', 'pos': 'NUMR'},\n",
              " {'lemma': 'часть', 'word': 'частях', 'pos': 'NOUN'},\n",
              " {'lemma': '.', 'word': '.', 'pos': None},\n",
              " {'lemma': 'часть', 'word': 'часть', 'pos': 'NOUN'},\n",
              " {'lemma': 'первый', 'word': 'первая', 'pos': 'ADJF'},\n",
              " {'lemma': 'i', 'word': 'i', 'pos': None},\n",
              " {'lemma': 'два', 'word': 'два', 'pos': 'NUMR'},\n",
              " {'lemma': 'господин', 'word': 'господина', 'pos': 'NOUN'},\n",
              " {'lemma': 'сидеть', 'word': 'сидели', 'pos': 'VERB'},\n",
              " {'lemma': 'в', 'word': 'в', 'pos': 'PREP'},\n",
              " {'lemma': 'небрежно', 'word': 'небрежно', 'pos': 'ADVB'},\n",
              " {'lemma': 'убрать', 'word': 'убранной', 'pos': 'PRTF'},\n",
              " {'lemma': 'квартира', 'word': 'квартире', 'pos': 'NOUN'},\n",
              " {'lemma': 'в', 'word': 'в', 'pos': 'PREP'},\n",
              " {'lemma': 'петербург', 'word': 'петербурге', 'pos': 'NOUN'},\n",
              " {'lemma': ',', 'word': ',', 'pos': None},\n",
              " {'lemma': 'на', 'word': 'на', 'pos': 'PREP'},\n",
              " {'lemma': 'один', 'word': 'одной', 'pos': 'ADJF'},\n",
              " {'lemma': 'из', 'word': 'из', 'pos': 'PREP'},\n",
              " {'lemma': 'больший', 'word': 'больших', 'pos': 'ADJF'},\n",
              " {'lemma': 'улица', 'word': 'улиц', 'pos': 'NOUN'},\n",
              " {'lemma': '.', 'word': '.', 'pos': None},\n",
              " {'lemma': 'один', 'word': 'одному', 'pos': 'ADJF'},\n",
              " {'lemma': 'быть', 'word': 'было', 'pos': 'VERB'},\n",
              " {'lemma': 'около', 'word': 'около', 'pos': 'PREP'},\n",
              " {'lemma': 'тридцать', 'word': 'тридцати', 'pos': 'NUMR'},\n",
              " {'lemma': 'пять', 'word': 'пяти', 'pos': 'NUMR'},\n",
              " {'lemma': ',', 'word': ',', 'pos': None},\n",
              " {'lemma': 'а', 'word': 'а', 'pos': 'CONJ'},\n",
              " {'lemma': 'другой', 'word': 'другому', 'pos': 'ADJF'},\n",
              " {'lemma': 'около', 'word': 'около', 'pos': 'PREP'},\n",
              " {'lemma': 'сорок', 'word': 'сорока', 'pos': 'NUMR'},\n",
              " {'lemma': 'пять', 'word': 'пяти', 'pos': 'NUMR'},\n",
              " {'lemma': 'год', 'word': 'лет', 'pos': 'NOUN'},\n",
              " {'lemma': '.', 'word': '.', 'pos': None},\n",
              " {'lemma': 'первый', 'word': 'первый', 'pos': 'ADJF'},\n",
              " {'lemma': 'быть', 'word': 'был', 'pos': 'VERB'},\n",
              " {'lemma': 'борис', 'word': 'борис', 'pos': 'NOUN'},\n",
              " {'lemma': 'павлович', 'word': 'павлович', 'pos': 'NOUN'},\n",
              " {'lemma': 'райский', 'word': 'райский', 'pos': 'ADJF'},\n",
              " {'lemma': ',', 'word': ',', 'pos': None},\n",
              " {'lemma': 'второй', 'word': 'второй', 'pos': 'ADJF'},\n",
              " {'lemma': '--', 'word': '--', 'pos': None},\n",
              " {'lemma': 'иван', 'word': 'иван', 'pos': 'NOUN'}]"
            ]
          },
          "metadata": {},
          "execution_count": 90
        }
      ]
    },
    {
      "cell_type": "markdown",
      "source": [
        "# TASK\n",
        "\n",
        "\n",
        "1. Choose a novel or any other long text, e.g., from http://lib.ru/ and save it in the .txt format. Check that the encoding is UTF-8\n",
        "\n",
        "2. (2 points) Lemmatize the text using mystem (if you absolutely do not want to use mystem, you can use any other suitable tool we have discussed) and save the result into a .txt file\n",
        "\n",
        "3. (3 points)\n",
        "tokenize the text using nltk\n",
        "\n",
        "analyze the words using pymorphy\n",
        "\n",
        "save the results of the analysis in jsonlines (.jsonl): every line contains morphological analysis in a form of a dictionary {\"lemma\": \"конь\", \"word\": \"коня\", \"pos\": \"NOUN\"}\n",
        "4. (2 points) Answer the following questions:\n",
        "\n",
        "What percentage constitutes each pos? (E.g., for the verb, the number of verbs divided by the total number of words)\n",
        "\n",
        "Print out top-20 verbs and adverbs\n",
        "\n",
        "you can keep the stop words or you can get rid of them\n",
        "5. (1 point) Find top-25 bigrams and trigrams for your text (use nltk.bigrams), use only lemmas, get rid of the punctuation. Comment shortly on the results.\n",
        "\n",
        "6. (2 points) Take 3-8 sentences from the original text and substitute some morphological information, for example, change the tense of the verbs, the number of the nouns, e.g, the original Слон подарил мартышке цветы should become Слоны подарят мартышкам цветок."
      ],
      "metadata": {
        "id": "M4iDQZuZT8AF"
      }
    }
  ]
}