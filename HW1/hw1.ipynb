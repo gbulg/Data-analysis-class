{
  "nbformat": 4,
  "nbformat_minor": 0,
  "metadata": {
    "colab": {
      "provenance": [],
      "authorship_tag": "ABX9TyORJojJDruhE1r4zNYhC09i",
      "include_colab_link": true
    },
    "kernelspec": {
      "name": "python3",
      "display_name": "Python 3"
    },
    "language_info": {
      "name": "python"
    }
  },
  "cells": [
    {
      "cell_type": "markdown",
      "metadata": {
        "id": "view-in-github",
        "colab_type": "text"
      },
      "source": [
        "<a href=\"https://colab.research.google.com/github/gbulg/Data-analysis-class/blob/main/HW1/hw1.ipynb\" target=\"_parent\"><img src=\"https://colab.research.google.com/assets/colab-badge.svg\" alt=\"Open In Colab\"/></a>"
      ]
    },
    {
      "cell_type": "markdown",
      "source": [
        "# Homework 1\n",
        "\n",
        "### 1. Read the novel from txt file"
      ],
      "metadata": {
        "id": "JUQCP9P6sf-T"
      }
    },
    {
      "cell_type": "code",
      "source": [
        "novel = open(\"./goncharov_obryv.txt\", \"r\").read()"
      ],
      "metadata": {
        "id": "kwwp_pb-tcbi"
      },
      "execution_count": 19,
      "outputs": []
    },
    {
      "cell_type": "code",
      "source": [
        "print(novel[:500]) # Print first 500 characters to check that everything is fine"
      ],
      "metadata": {
        "id": "W2RuviDLvfTI",
        "outputId": "fe57a21c-7a2b-4518-bede-4ec01316352f",
        "colab": {
          "base_uri": "https://localhost:8080/"
        }
      },
      "execution_count": 28,
      "outputs": [
        {
          "output_type": "stream",
          "name": "stdout",
          "text": [
            "Иван Александрович Гончаров\n",
            "\n",
            "Обрыв\n",
            "\n",
            "Роман в пяти частях.\n",
            "\n",
            "\n",
            "\n",
            "ЧАСТЬ ПЕРВАЯ\n",
            "\n",
            "\n",
            "\n",
            "\n",
            "\n",
            "I\n",
            "\n",
            "\n",
            "\n",
            "\n",
            "\n",
            "Два господина сидели в небрежно убранной квартире в Петербурге, на одной из больших улиц. Одному было около тридцати пяти, а другому около сорока пяти лет.\n",
            "\n",
            "Первый был Борис Павлович Райский, второй -- Иван Иванович Аянов.\n",
            "\n",
            "У Бориса Павловича была живая, чрезвычайно подвижная физиономия. С первого взгляда он казался моложе своих лет: большой белый лоб блистал свежестью, глаза менялись, то загорались мыслию, чувс\n"
          ]
        }
      ]
    },
    {
      "cell_type": "markdown",
      "source": [
        "### 2. Import mystem, lemmatize text and save it to new txt file"
      ],
      "metadata": {
        "id": "6vkOg3fDDOIm"
      }
    },
    {
      "cell_type": "code",
      "source": [
        "from pymystem3 import Mystem"
      ],
      "metadata": {
        "id": "VXstzjieDZD5"
      },
      "execution_count": 37,
      "outputs": []
    },
    {
      "cell_type": "code",
      "source": [
        "m = Mystem()\n"
      ],
      "metadata": {
        "id": "sYVQK02PDsey"
      },
      "execution_count": 33,
      "outputs": []
    },
    {
      "cell_type": "code",
      "source": [
        "lemmas = m.lemmatize(novel)"
      ],
      "metadata": {
        "id": "SI0P-iutG4Ie"
      },
      "execution_count": 35,
      "outputs": []
    },
    {
      "cell_type": "code",
      "source": [
        "lemmas[50:100]"
      ],
      "metadata": {
        "id": "Fn7GY9ICHQ25",
        "outputId": "40d85a15-7252-4728-85bf-3a3172bbf6f2",
        "colab": {
          "base_uri": "https://localhost:8080/"
        }
      },
      "execution_count": 38,
      "outputs": [
        {
          "output_type": "execute_result",
          "data": {
            "text/plain": [
              "['квартира',\n",
              " ' ',\n",
              " 'в',\n",
              " ' ',\n",
              " 'петербург',\n",
              " ', ',\n",
              " 'на',\n",
              " ' ',\n",
              " 'один',\n",
              " ' ',\n",
              " 'из',\n",
              " ' ',\n",
              " 'большой',\n",
              " ' ',\n",
              " 'улица',\n",
              " '. ',\n",
              " 'один',\n",
              " ' ',\n",
              " 'быть',\n",
              " ' ',\n",
              " 'около',\n",
              " ' ',\n",
              " 'тридцать',\n",
              " ' ',\n",
              " 'пять',\n",
              " ', ',\n",
              " 'а',\n",
              " ' ',\n",
              " 'другой',\n",
              " ' ',\n",
              " 'около',\n",
              " ' ',\n",
              " 'сорок',\n",
              " ' ',\n",
              " 'пять',\n",
              " ' ',\n",
              " 'год',\n",
              " '.',\n",
              " '\\n',\n",
              " '\\n',\n",
              " 'первый',\n",
              " ' ',\n",
              " 'быть',\n",
              " ' ',\n",
              " 'борис',\n",
              " ' ',\n",
              " 'павлович',\n",
              " ' ',\n",
              " 'райский',\n",
              " ', ']"
            ]
          },
          "metadata": {},
          "execution_count": 38
        }
      ]
    }
  ]
}