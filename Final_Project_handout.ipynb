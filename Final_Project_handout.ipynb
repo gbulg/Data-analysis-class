{
  "nbformat": 4,
  "nbformat_minor": 0,
  "metadata": {
    "colab": {
      "provenance": [],
      "collapsed_sections": [
        "VwTdH_pDH0eH",
        "5HS3ezNPykLD"
      ],
      "authorship_tag": "ABX9TyMe7jtRgHDwJaVHVHs9EIVH"
    },
    "kernelspec": {
      "name": "python3",
      "display_name": "Python 3"
    },
    "language_info": {
      "name": "python"
    }
  },
  "cells": [
    {
      "cell_type": "markdown",
      "source": [
        "### Disclaimer\n",
        "\n",
        "If you are viewing this file in github, the interactive plots in this file won't be shown as they are impemented via HTML + JS embedded code, which is not rendered in github. To view this file properly, you can open in using nbviewer at:\n",
        "\n",
        "[https://nbviewer.org/github/gbulg/Data-analysis-class/blob/main/Final%20Project/handout.ipynb](https://nbviewer.org/github/gbulg/Data-analysis-class/blob/main/Final%20Project/handout.ipynb)"
      ],
      "metadata": {
        "id": "VwTdH_pDH0eH"
      }
    },
    {
      "cell_type": "markdown",
      "source": [
        "---\n",
        "# Interactive Plots Handout\n"
      ],
      "metadata": {
        "id": "tNa-1gRcyk9Y"
      }
    },
    {
      "cell_type": "markdown",
      "source": [
        "In addition to ordinary, static plots, there are ways to make plots interactive.\n",
        "\n",
        "\n",
        "There are several libraries in python to make interactive plots. Here i will show two of them -- Plotly and Bokeh. Others include ... ?>??.\n",
        "\n",
        "There may be several uses of interactive plots -- ??"
      ],
      "metadata": {
        "id": "EDMiRrjsvwz8"
      }
    },
    {
      "cell_type": "markdown",
      "source": [
        "different ways of interactivity -- hover, click, zoom, + ??"
      ],
      "metadata": {
        "id": "dz-lOg2snq7j"
      }
    },
    {
      "cell_type": "markdown",
      "source": [
        "## 0. Load Data\n",
        "\n",
        "In this handout I will use ????? data. It contains ?????.\n",
        "Let's load it."
      ],
      "metadata": {
        "id": "MAQSKQTBo9sm"
      }
    },
    {
      "cell_type": "code",
      "source": [
        "import pandas as pd\n",
        "import numpy as np\n",
        "import requests"
      ],
      "metadata": {
        "id": "eo13RQogq3SQ"
      },
      "execution_count": 1,
      "outputs": []
    },
    {
      "cell_type": "code",
      "source": [
        "tolstoy_df = pd.read_csv('https://raw.githubusercontent.com/dashapopova/Data-Analysis-Python-II/main/24.09/tolstoy.csv', sep='\\t').fillna('') # reading from file and substituting empty values with empty rows\n",
        "\n",
        "tolstoy_df.shape"
      ],
      "metadata": {
        "id": "M0fnwb1IzGwt",
        "colab": {
          "base_uri": "https://localhost:8080/"
        },
        "outputId": "8c7bac2b-50f2-462f-a043-81c17e79e22d"
      },
      "execution_count": 2,
      "outputs": [
        {
          "output_type": "stream",
          "name": "stderr",
          "text": [
            "/usr/local/lib/python3.8/dist-packages/IPython/core/interactiveshell.py:3326: DtypeWarning: Columns (21,23,24) have mixed types.Specify dtype option on import or set low_memory=False.\n",
            "  exec(code_obj, self.user_global_ns, self.user_ns)\n"
          ]
        },
        {
          "output_type": "execute_result",
          "data": {
            "text/plain": [
              "(216099, 25)"
            ]
          },
          "metadata": {},
          "execution_count": 2
        }
      ]
    },
    {
      "cell_type": "code",
      "source": [
        "tolstoy_df.head(25)"
      ],
      "metadata": {
        "colab": {
          "base_uri": "https://localhost:8080/",
          "height": 863
        },
        "id": "h7qtFr0InSyP",
        "outputId": "64f89f4a-8c4e-4113-dfea-0d7dba49ddce"
      },
      "execution_count": 3,
      "outputs": [
        {
          "output_type": "execute_result",
          "data": {
            "text/plain": [
              "              lex           word     POS    time gender case number verbal  \\\n",
              "0             том            том       S            муж  вин     ед          \n",
              "1          первый         первый    ANUM            муж  вин     ед          \n",
              "2           часть          часть       S            жен  вин     ед          \n",
              "3          первый         первая    ANUM            жен   им     ед          \n",
              "4              ну             ну    PART                                     \n",
              "5   здравствовать   здравствуйте       V                         мн    пов   \n",
              "6   здравствовать   здравствуйте       V                         мн    пов   \n",
              "7        садиться       садитесь       V  непрош                 мн  изъяв   \n",
              "8               и              и    CONJ                                     \n",
              "9    рассказывать  рассказывайте       V                         мн    пов   \n",
              "10            так            так  ADVPRO                                     \n",
              "11       говорить       говорила       V    прош    жен          ед  изъяв   \n",
              "12              в              в      PR                                     \n",
              "13           июль           июле       S            муж   пр     ед          \n",
              "14            год           года       S            муж  вин     мн          \n",
              "15      известный      известная       A            жен   им     ед          \n",
              "16           анна           анна       S            жен   им     ед          \n",
              "17       павловна       павловна       S            жен   им     ед          \n",
              "18          шерер          шерер       S            муж   им     ед          \n",
              "19       фрейлина       фрейлина       S            жен   им     ед          \n",
              "20              и              и    CONJ                                     \n",
              "21     приближать   приближенная       V    прош    жен   им     ед   прич   \n",
              "22    императрица    императрицы       S            жен  род     ед          \n",
              "23          мария          марии       S            жен   пр     ед          \n",
              "24     феодоровна     феодоровны       S            жен  род     ед          \n",
              "\n",
              "   adj_form comp  ...  имя  отч  фам вводн гео сокр обсц разг редк устар  \n",
              "0                 ...                                                     \n",
              "1                 ...                                                     \n",
              "2                 ...                                                     \n",
              "3                 ...                                                     \n",
              "4                 ...                                                     \n",
              "5                 ...                                                     \n",
              "6                 ...                                                     \n",
              "7                 ...                                                     \n",
              "8                 ...                                                     \n",
              "9                 ...                                                     \n",
              "10                ...                                                     \n",
              "11                ...                                                     \n",
              "12                ...                                                     \n",
              "13                ...                                                     \n",
              "14                ...                                                     \n",
              "15     полн       ...                                                     \n",
              "16                ...  имя                                                \n",
              "17                ...       отч                                           \n",
              "18                ...            фам                                      \n",
              "19                ...                                                     \n",
              "20                ...                                                     \n",
              "21     полн       ...                                                     \n",
              "22                ...                                                     \n",
              "23                ...  имя                                                \n",
              "24                ...       отч                                           \n",
              "\n",
              "[25 rows x 25 columns]"
            ],
            "text/html": [
              "\n",
              "  <div id=\"df-49511a86-59ac-4a36-a246-a032e2c67143\">\n",
              "    <div class=\"colab-df-container\">\n",
              "      <div>\n",
              "<style scoped>\n",
              "    .dataframe tbody tr th:only-of-type {\n",
              "        vertical-align: middle;\n",
              "    }\n",
              "\n",
              "    .dataframe tbody tr th {\n",
              "        vertical-align: top;\n",
              "    }\n",
              "\n",
              "    .dataframe thead th {\n",
              "        text-align: right;\n",
              "    }\n",
              "</style>\n",
              "<table border=\"1\" class=\"dataframe\">\n",
              "  <thead>\n",
              "    <tr style=\"text-align: right;\">\n",
              "      <th></th>\n",
              "      <th>lex</th>\n",
              "      <th>word</th>\n",
              "      <th>POS</th>\n",
              "      <th>time</th>\n",
              "      <th>gender</th>\n",
              "      <th>case</th>\n",
              "      <th>number</th>\n",
              "      <th>verbal</th>\n",
              "      <th>adj_form</th>\n",
              "      <th>comp</th>\n",
              "      <th>...</th>\n",
              "      <th>имя</th>\n",
              "      <th>отч</th>\n",
              "      <th>фам</th>\n",
              "      <th>вводн</th>\n",
              "      <th>гео</th>\n",
              "      <th>сокр</th>\n",
              "      <th>обсц</th>\n",
              "      <th>разг</th>\n",
              "      <th>редк</th>\n",
              "      <th>устар</th>\n",
              "    </tr>\n",
              "  </thead>\n",
              "  <tbody>\n",
              "    <tr>\n",
              "      <th>0</th>\n",
              "      <td>том</td>\n",
              "      <td>том</td>\n",
              "      <td>S</td>\n",
              "      <td></td>\n",
              "      <td>муж</td>\n",
              "      <td>вин</td>\n",
              "      <td>ед</td>\n",
              "      <td></td>\n",
              "      <td></td>\n",
              "      <td></td>\n",
              "      <td>...</td>\n",
              "      <td></td>\n",
              "      <td></td>\n",
              "      <td></td>\n",
              "      <td></td>\n",
              "      <td></td>\n",
              "      <td></td>\n",
              "      <td></td>\n",
              "      <td></td>\n",
              "      <td></td>\n",
              "      <td></td>\n",
              "    </tr>\n",
              "    <tr>\n",
              "      <th>1</th>\n",
              "      <td>первый</td>\n",
              "      <td>первый</td>\n",
              "      <td>ANUM</td>\n",
              "      <td></td>\n",
              "      <td>муж</td>\n",
              "      <td>вин</td>\n",
              "      <td>ед</td>\n",
              "      <td></td>\n",
              "      <td></td>\n",
              "      <td></td>\n",
              "      <td>...</td>\n",
              "      <td></td>\n",
              "      <td></td>\n",
              "      <td></td>\n",
              "      <td></td>\n",
              "      <td></td>\n",
              "      <td></td>\n",
              "      <td></td>\n",
              "      <td></td>\n",
              "      <td></td>\n",
              "      <td></td>\n",
              "    </tr>\n",
              "    <tr>\n",
              "      <th>2</th>\n",
              "      <td>часть</td>\n",
              "      <td>часть</td>\n",
              "      <td>S</td>\n",
              "      <td></td>\n",
              "      <td>жен</td>\n",
              "      <td>вин</td>\n",
              "      <td>ед</td>\n",
              "      <td></td>\n",
              "      <td></td>\n",
              "      <td></td>\n",
              "      <td>...</td>\n",
              "      <td></td>\n",
              "      <td></td>\n",
              "      <td></td>\n",
              "      <td></td>\n",
              "      <td></td>\n",
              "      <td></td>\n",
              "      <td></td>\n",
              "      <td></td>\n",
              "      <td></td>\n",
              "      <td></td>\n",
              "    </tr>\n",
              "    <tr>\n",
              "      <th>3</th>\n",
              "      <td>первый</td>\n",
              "      <td>первая</td>\n",
              "      <td>ANUM</td>\n",
              "      <td></td>\n",
              "      <td>жен</td>\n",
              "      <td>им</td>\n",
              "      <td>ед</td>\n",
              "      <td></td>\n",
              "      <td></td>\n",
              "      <td></td>\n",
              "      <td>...</td>\n",
              "      <td></td>\n",
              "      <td></td>\n",
              "      <td></td>\n",
              "      <td></td>\n",
              "      <td></td>\n",
              "      <td></td>\n",
              "      <td></td>\n",
              "      <td></td>\n",
              "      <td></td>\n",
              "      <td></td>\n",
              "    </tr>\n",
              "    <tr>\n",
              "      <th>4</th>\n",
              "      <td>ну</td>\n",
              "      <td>ну</td>\n",
              "      <td>PART</td>\n",
              "      <td></td>\n",
              "      <td></td>\n",
              "      <td></td>\n",
              "      <td></td>\n",
              "      <td></td>\n",
              "      <td></td>\n",
              "      <td></td>\n",
              "      <td>...</td>\n",
              "      <td></td>\n",
              "      <td></td>\n",
              "      <td></td>\n",
              "      <td></td>\n",
              "      <td></td>\n",
              "      <td></td>\n",
              "      <td></td>\n",
              "      <td></td>\n",
              "      <td></td>\n",
              "      <td></td>\n",
              "    </tr>\n",
              "    <tr>\n",
              "      <th>5</th>\n",
              "      <td>здравствовать</td>\n",
              "      <td>здравствуйте</td>\n",
              "      <td>V</td>\n",
              "      <td></td>\n",
              "      <td></td>\n",
              "      <td></td>\n",
              "      <td>мн</td>\n",
              "      <td>пов</td>\n",
              "      <td></td>\n",
              "      <td></td>\n",
              "      <td>...</td>\n",
              "      <td></td>\n",
              "      <td></td>\n",
              "      <td></td>\n",
              "      <td></td>\n",
              "      <td></td>\n",
              "      <td></td>\n",
              "      <td></td>\n",
              "      <td></td>\n",
              "      <td></td>\n",
              "      <td></td>\n",
              "    </tr>\n",
              "    <tr>\n",
              "      <th>6</th>\n",
              "      <td>здравствовать</td>\n",
              "      <td>здравствуйте</td>\n",
              "      <td>V</td>\n",
              "      <td></td>\n",
              "      <td></td>\n",
              "      <td></td>\n",
              "      <td>мн</td>\n",
              "      <td>пов</td>\n",
              "      <td></td>\n",
              "      <td></td>\n",
              "      <td>...</td>\n",
              "      <td></td>\n",
              "      <td></td>\n",
              "      <td></td>\n",
              "      <td></td>\n",
              "      <td></td>\n",
              "      <td></td>\n",
              "      <td></td>\n",
              "      <td></td>\n",
              "      <td></td>\n",
              "      <td></td>\n",
              "    </tr>\n",
              "    <tr>\n",
              "      <th>7</th>\n",
              "      <td>садиться</td>\n",
              "      <td>садитесь</td>\n",
              "      <td>V</td>\n",
              "      <td>непрош</td>\n",
              "      <td></td>\n",
              "      <td></td>\n",
              "      <td>мн</td>\n",
              "      <td>изъяв</td>\n",
              "      <td></td>\n",
              "      <td></td>\n",
              "      <td>...</td>\n",
              "      <td></td>\n",
              "      <td></td>\n",
              "      <td></td>\n",
              "      <td></td>\n",
              "      <td></td>\n",
              "      <td></td>\n",
              "      <td></td>\n",
              "      <td></td>\n",
              "      <td></td>\n",
              "      <td></td>\n",
              "    </tr>\n",
              "    <tr>\n",
              "      <th>8</th>\n",
              "      <td>и</td>\n",
              "      <td>и</td>\n",
              "      <td>CONJ</td>\n",
              "      <td></td>\n",
              "      <td></td>\n",
              "      <td></td>\n",
              "      <td></td>\n",
              "      <td></td>\n",
              "      <td></td>\n",
              "      <td></td>\n",
              "      <td>...</td>\n",
              "      <td></td>\n",
              "      <td></td>\n",
              "      <td></td>\n",
              "      <td></td>\n",
              "      <td></td>\n",
              "      <td></td>\n",
              "      <td></td>\n",
              "      <td></td>\n",
              "      <td></td>\n",
              "      <td></td>\n",
              "    </tr>\n",
              "    <tr>\n",
              "      <th>9</th>\n",
              "      <td>рассказывать</td>\n",
              "      <td>рассказывайте</td>\n",
              "      <td>V</td>\n",
              "      <td></td>\n",
              "      <td></td>\n",
              "      <td></td>\n",
              "      <td>мн</td>\n",
              "      <td>пов</td>\n",
              "      <td></td>\n",
              "      <td></td>\n",
              "      <td>...</td>\n",
              "      <td></td>\n",
              "      <td></td>\n",
              "      <td></td>\n",
              "      <td></td>\n",
              "      <td></td>\n",
              "      <td></td>\n",
              "      <td></td>\n",
              "      <td></td>\n",
              "      <td></td>\n",
              "      <td></td>\n",
              "    </tr>\n",
              "    <tr>\n",
              "      <th>10</th>\n",
              "      <td>так</td>\n",
              "      <td>так</td>\n",
              "      <td>ADVPRO</td>\n",
              "      <td></td>\n",
              "      <td></td>\n",
              "      <td></td>\n",
              "      <td></td>\n",
              "      <td></td>\n",
              "      <td></td>\n",
              "      <td></td>\n",
              "      <td>...</td>\n",
              "      <td></td>\n",
              "      <td></td>\n",
              "      <td></td>\n",
              "      <td></td>\n",
              "      <td></td>\n",
              "      <td></td>\n",
              "      <td></td>\n",
              "      <td></td>\n",
              "      <td></td>\n",
              "      <td></td>\n",
              "    </tr>\n",
              "    <tr>\n",
              "      <th>11</th>\n",
              "      <td>говорить</td>\n",
              "      <td>говорила</td>\n",
              "      <td>V</td>\n",
              "      <td>прош</td>\n",
              "      <td>жен</td>\n",
              "      <td></td>\n",
              "      <td>ед</td>\n",
              "      <td>изъяв</td>\n",
              "      <td></td>\n",
              "      <td></td>\n",
              "      <td>...</td>\n",
              "      <td></td>\n",
              "      <td></td>\n",
              "      <td></td>\n",
              "      <td></td>\n",
              "      <td></td>\n",
              "      <td></td>\n",
              "      <td></td>\n",
              "      <td></td>\n",
              "      <td></td>\n",
              "      <td></td>\n",
              "    </tr>\n",
              "    <tr>\n",
              "      <th>12</th>\n",
              "      <td>в</td>\n",
              "      <td>в</td>\n",
              "      <td>PR</td>\n",
              "      <td></td>\n",
              "      <td></td>\n",
              "      <td></td>\n",
              "      <td></td>\n",
              "      <td></td>\n",
              "      <td></td>\n",
              "      <td></td>\n",
              "      <td>...</td>\n",
              "      <td></td>\n",
              "      <td></td>\n",
              "      <td></td>\n",
              "      <td></td>\n",
              "      <td></td>\n",
              "      <td></td>\n",
              "      <td></td>\n",
              "      <td></td>\n",
              "      <td></td>\n",
              "      <td></td>\n",
              "    </tr>\n",
              "    <tr>\n",
              "      <th>13</th>\n",
              "      <td>июль</td>\n",
              "      <td>июле</td>\n",
              "      <td>S</td>\n",
              "      <td></td>\n",
              "      <td>муж</td>\n",
              "      <td>пр</td>\n",
              "      <td>ед</td>\n",
              "      <td></td>\n",
              "      <td></td>\n",
              "      <td></td>\n",
              "      <td>...</td>\n",
              "      <td></td>\n",
              "      <td></td>\n",
              "      <td></td>\n",
              "      <td></td>\n",
              "      <td></td>\n",
              "      <td></td>\n",
              "      <td></td>\n",
              "      <td></td>\n",
              "      <td></td>\n",
              "      <td></td>\n",
              "    </tr>\n",
              "    <tr>\n",
              "      <th>14</th>\n",
              "      <td>год</td>\n",
              "      <td>года</td>\n",
              "      <td>S</td>\n",
              "      <td></td>\n",
              "      <td>муж</td>\n",
              "      <td>вин</td>\n",
              "      <td>мн</td>\n",
              "      <td></td>\n",
              "      <td></td>\n",
              "      <td></td>\n",
              "      <td>...</td>\n",
              "      <td></td>\n",
              "      <td></td>\n",
              "      <td></td>\n",
              "      <td></td>\n",
              "      <td></td>\n",
              "      <td></td>\n",
              "      <td></td>\n",
              "      <td></td>\n",
              "      <td></td>\n",
              "      <td></td>\n",
              "    </tr>\n",
              "    <tr>\n",
              "      <th>15</th>\n",
              "      <td>известный</td>\n",
              "      <td>известная</td>\n",
              "      <td>A</td>\n",
              "      <td></td>\n",
              "      <td>жен</td>\n",
              "      <td>им</td>\n",
              "      <td>ед</td>\n",
              "      <td></td>\n",
              "      <td>полн</td>\n",
              "      <td></td>\n",
              "      <td>...</td>\n",
              "      <td></td>\n",
              "      <td></td>\n",
              "      <td></td>\n",
              "      <td></td>\n",
              "      <td></td>\n",
              "      <td></td>\n",
              "      <td></td>\n",
              "      <td></td>\n",
              "      <td></td>\n",
              "      <td></td>\n",
              "    </tr>\n",
              "    <tr>\n",
              "      <th>16</th>\n",
              "      <td>анна</td>\n",
              "      <td>анна</td>\n",
              "      <td>S</td>\n",
              "      <td></td>\n",
              "      <td>жен</td>\n",
              "      <td>им</td>\n",
              "      <td>ед</td>\n",
              "      <td></td>\n",
              "      <td></td>\n",
              "      <td></td>\n",
              "      <td>...</td>\n",
              "      <td>имя</td>\n",
              "      <td></td>\n",
              "      <td></td>\n",
              "      <td></td>\n",
              "      <td></td>\n",
              "      <td></td>\n",
              "      <td></td>\n",
              "      <td></td>\n",
              "      <td></td>\n",
              "      <td></td>\n",
              "    </tr>\n",
              "    <tr>\n",
              "      <th>17</th>\n",
              "      <td>павловна</td>\n",
              "      <td>павловна</td>\n",
              "      <td>S</td>\n",
              "      <td></td>\n",
              "      <td>жен</td>\n",
              "      <td>им</td>\n",
              "      <td>ед</td>\n",
              "      <td></td>\n",
              "      <td></td>\n",
              "      <td></td>\n",
              "      <td>...</td>\n",
              "      <td></td>\n",
              "      <td>отч</td>\n",
              "      <td></td>\n",
              "      <td></td>\n",
              "      <td></td>\n",
              "      <td></td>\n",
              "      <td></td>\n",
              "      <td></td>\n",
              "      <td></td>\n",
              "      <td></td>\n",
              "    </tr>\n",
              "    <tr>\n",
              "      <th>18</th>\n",
              "      <td>шерер</td>\n",
              "      <td>шерер</td>\n",
              "      <td>S</td>\n",
              "      <td></td>\n",
              "      <td>муж</td>\n",
              "      <td>им</td>\n",
              "      <td>ед</td>\n",
              "      <td></td>\n",
              "      <td></td>\n",
              "      <td></td>\n",
              "      <td>...</td>\n",
              "      <td></td>\n",
              "      <td></td>\n",
              "      <td>фам</td>\n",
              "      <td></td>\n",
              "      <td></td>\n",
              "      <td></td>\n",
              "      <td></td>\n",
              "      <td></td>\n",
              "      <td></td>\n",
              "      <td></td>\n",
              "    </tr>\n",
              "    <tr>\n",
              "      <th>19</th>\n",
              "      <td>фрейлина</td>\n",
              "      <td>фрейлина</td>\n",
              "      <td>S</td>\n",
              "      <td></td>\n",
              "      <td>жен</td>\n",
              "      <td>им</td>\n",
              "      <td>ед</td>\n",
              "      <td></td>\n",
              "      <td></td>\n",
              "      <td></td>\n",
              "      <td>...</td>\n",
              "      <td></td>\n",
              "      <td></td>\n",
              "      <td></td>\n",
              "      <td></td>\n",
              "      <td></td>\n",
              "      <td></td>\n",
              "      <td></td>\n",
              "      <td></td>\n",
              "      <td></td>\n",
              "      <td></td>\n",
              "    </tr>\n",
              "    <tr>\n",
              "      <th>20</th>\n",
              "      <td>и</td>\n",
              "      <td>и</td>\n",
              "      <td>CONJ</td>\n",
              "      <td></td>\n",
              "      <td></td>\n",
              "      <td></td>\n",
              "      <td></td>\n",
              "      <td></td>\n",
              "      <td></td>\n",
              "      <td></td>\n",
              "      <td>...</td>\n",
              "      <td></td>\n",
              "      <td></td>\n",
              "      <td></td>\n",
              "      <td></td>\n",
              "      <td></td>\n",
              "      <td></td>\n",
              "      <td></td>\n",
              "      <td></td>\n",
              "      <td></td>\n",
              "      <td></td>\n",
              "    </tr>\n",
              "    <tr>\n",
              "      <th>21</th>\n",
              "      <td>приближать</td>\n",
              "      <td>приближенная</td>\n",
              "      <td>V</td>\n",
              "      <td>прош</td>\n",
              "      <td>жен</td>\n",
              "      <td>им</td>\n",
              "      <td>ед</td>\n",
              "      <td>прич</td>\n",
              "      <td>полн</td>\n",
              "      <td></td>\n",
              "      <td>...</td>\n",
              "      <td></td>\n",
              "      <td></td>\n",
              "      <td></td>\n",
              "      <td></td>\n",
              "      <td></td>\n",
              "      <td></td>\n",
              "      <td></td>\n",
              "      <td></td>\n",
              "      <td></td>\n",
              "      <td></td>\n",
              "    </tr>\n",
              "    <tr>\n",
              "      <th>22</th>\n",
              "      <td>императрица</td>\n",
              "      <td>императрицы</td>\n",
              "      <td>S</td>\n",
              "      <td></td>\n",
              "      <td>жен</td>\n",
              "      <td>род</td>\n",
              "      <td>ед</td>\n",
              "      <td></td>\n",
              "      <td></td>\n",
              "      <td></td>\n",
              "      <td>...</td>\n",
              "      <td></td>\n",
              "      <td></td>\n",
              "      <td></td>\n",
              "      <td></td>\n",
              "      <td></td>\n",
              "      <td></td>\n",
              "      <td></td>\n",
              "      <td></td>\n",
              "      <td></td>\n",
              "      <td></td>\n",
              "    </tr>\n",
              "    <tr>\n",
              "      <th>23</th>\n",
              "      <td>мария</td>\n",
              "      <td>марии</td>\n",
              "      <td>S</td>\n",
              "      <td></td>\n",
              "      <td>жен</td>\n",
              "      <td>пр</td>\n",
              "      <td>ед</td>\n",
              "      <td></td>\n",
              "      <td></td>\n",
              "      <td></td>\n",
              "      <td>...</td>\n",
              "      <td>имя</td>\n",
              "      <td></td>\n",
              "      <td></td>\n",
              "      <td></td>\n",
              "      <td></td>\n",
              "      <td></td>\n",
              "      <td></td>\n",
              "      <td></td>\n",
              "      <td></td>\n",
              "      <td></td>\n",
              "    </tr>\n",
              "    <tr>\n",
              "      <th>24</th>\n",
              "      <td>феодоровна</td>\n",
              "      <td>феодоровны</td>\n",
              "      <td>S</td>\n",
              "      <td></td>\n",
              "      <td>жен</td>\n",
              "      <td>род</td>\n",
              "      <td>ед</td>\n",
              "      <td></td>\n",
              "      <td></td>\n",
              "      <td></td>\n",
              "      <td>...</td>\n",
              "      <td></td>\n",
              "      <td>отч</td>\n",
              "      <td></td>\n",
              "      <td></td>\n",
              "      <td></td>\n",
              "      <td></td>\n",
              "      <td></td>\n",
              "      <td></td>\n",
              "      <td></td>\n",
              "      <td></td>\n",
              "    </tr>\n",
              "  </tbody>\n",
              "</table>\n",
              "<p>25 rows × 25 columns</p>\n",
              "</div>\n",
              "      <button class=\"colab-df-convert\" onclick=\"convertToInteractive('df-49511a86-59ac-4a36-a246-a032e2c67143')\"\n",
              "              title=\"Convert this dataframe to an interactive table.\"\n",
              "              style=\"display:none;\">\n",
              "        \n",
              "  <svg xmlns=\"http://www.w3.org/2000/svg\" height=\"24px\"viewBox=\"0 0 24 24\"\n",
              "       width=\"24px\">\n",
              "    <path d=\"M0 0h24v24H0V0z\" fill=\"none\"/>\n",
              "    <path d=\"M18.56 5.44l.94 2.06.94-2.06 2.06-.94-2.06-.94-.94-2.06-.94 2.06-2.06.94zm-11 1L8.5 8.5l.94-2.06 2.06-.94-2.06-.94L8.5 2.5l-.94 2.06-2.06.94zm10 10l.94 2.06.94-2.06 2.06-.94-2.06-.94-.94-2.06-.94 2.06-2.06.94z\"/><path d=\"M17.41 7.96l-1.37-1.37c-.4-.4-.92-.59-1.43-.59-.52 0-1.04.2-1.43.59L10.3 9.45l-7.72 7.72c-.78.78-.78 2.05 0 2.83L4 21.41c.39.39.9.59 1.41.59.51 0 1.02-.2 1.41-.59l7.78-7.78 2.81-2.81c.8-.78.8-2.07 0-2.86zM5.41 20L4 18.59l7.72-7.72 1.47 1.35L5.41 20z\"/>\n",
              "  </svg>\n",
              "      </button>\n",
              "      \n",
              "  <style>\n",
              "    .colab-df-container {\n",
              "      display:flex;\n",
              "      flex-wrap:wrap;\n",
              "      gap: 12px;\n",
              "    }\n",
              "\n",
              "    .colab-df-convert {\n",
              "      background-color: #E8F0FE;\n",
              "      border: none;\n",
              "      border-radius: 50%;\n",
              "      cursor: pointer;\n",
              "      display: none;\n",
              "      fill: #1967D2;\n",
              "      height: 32px;\n",
              "      padding: 0 0 0 0;\n",
              "      width: 32px;\n",
              "    }\n",
              "\n",
              "    .colab-df-convert:hover {\n",
              "      background-color: #E2EBFA;\n",
              "      box-shadow: 0px 1px 2px rgba(60, 64, 67, 0.3), 0px 1px 3px 1px rgba(60, 64, 67, 0.15);\n",
              "      fill: #174EA6;\n",
              "    }\n",
              "\n",
              "    [theme=dark] .colab-df-convert {\n",
              "      background-color: #3B4455;\n",
              "      fill: #D2E3FC;\n",
              "    }\n",
              "\n",
              "    [theme=dark] .colab-df-convert:hover {\n",
              "      background-color: #434B5C;\n",
              "      box-shadow: 0px 1px 3px 1px rgba(0, 0, 0, 0.15);\n",
              "      filter: drop-shadow(0px 1px 2px rgba(0, 0, 0, 0.3));\n",
              "      fill: #FFFFFF;\n",
              "    }\n",
              "  </style>\n",
              "\n",
              "      <script>\n",
              "        const buttonEl =\n",
              "          document.querySelector('#df-49511a86-59ac-4a36-a246-a032e2c67143 button.colab-df-convert');\n",
              "        buttonEl.style.display =\n",
              "          google.colab.kernel.accessAllowed ? 'block' : 'none';\n",
              "\n",
              "        async function convertToInteractive(key) {\n",
              "          const element = document.querySelector('#df-49511a86-59ac-4a36-a246-a032e2c67143');\n",
              "          const dataTable =\n",
              "            await google.colab.kernel.invokeFunction('convertToInteractive',\n",
              "                                                     [key], {});\n",
              "          if (!dataTable) return;\n",
              "\n",
              "          const docLinkHtml = 'Like what you see? Visit the ' +\n",
              "            '<a target=\"_blank\" href=https://colab.research.google.com/notebooks/data_table.ipynb>data table notebook</a>'\n",
              "            + ' to learn more about interactive tables.';\n",
              "          element.innerHTML = '';\n",
              "          dataTable['output_type'] = 'display_data';\n",
              "          await google.colab.output.renderOutput(dataTable, element);\n",
              "          const docLink = document.createElement('div');\n",
              "          docLink.innerHTML = docLinkHtml;\n",
              "          element.appendChild(docLink);\n",
              "        }\n",
              "      </script>\n",
              "    </div>\n",
              "  </div>\n",
              "  "
            ]
          },
          "metadata": {},
          "execution_count": 3
        }
      ]
    },
    {
      "cell_type": "code",
      "source": [
        "list(tolstoy_df.columns)"
      ],
      "metadata": {
        "colab": {
          "base_uri": "https://localhost:8080/"
        },
        "id": "xEoyYjs4sQLF",
        "outputId": "0d5eb83b-f20f-4b5e-9bca-2693977390ff"
      },
      "execution_count": 4,
      "outputs": [
        {
          "output_type": "execute_result",
          "data": {
            "text/plain": [
              "['lex',\n",
              " 'word',\n",
              " 'POS',\n",
              " 'time',\n",
              " 'gender',\n",
              " 'case',\n",
              " 'number',\n",
              " 'verbal',\n",
              " 'adj_form',\n",
              " 'comp',\n",
              " 'person',\n",
              " 'aspect',\n",
              " 'voice',\n",
              " 'animacy',\n",
              " 'transitivity',\n",
              " 'имя',\n",
              " 'отч',\n",
              " 'фам',\n",
              " 'вводн',\n",
              " 'гео',\n",
              " 'сокр',\n",
              " 'обсц',\n",
              " 'разг',\n",
              " 'редк',\n",
              " 'устар']"
            ]
          },
          "metadata": {},
          "execution_count": 4
        }
      ]
    },
    {
      "cell_type": "code",
      "source": [
        "tolstoy_df[tolstoy_df['case'] != ''][tolstoy_df['animacy'] != ''][['lex', 'word', 'case', 'animacy']]"
      ],
      "metadata": {
        "colab": {
          "base_uri": "https://localhost:8080/",
          "height": 458
        },
        "id": "gszPA35QnHm9",
        "outputId": "32be0538-0f3c-442e-b653-eac1bc8abc70"
      },
      "execution_count": 5,
      "outputs": [
        {
          "output_type": "stream",
          "name": "stderr",
          "text": [
            "<ipython-input-5-80912dc60615>:1: UserWarning: Boolean Series key will be reindexed to match DataFrame index.\n",
            "  tolstoy_df[tolstoy_df['case'] != ''][tolstoy_df['animacy'] != ''][['lex', 'word', 'case', 'animacy']]\n"
          ]
        },
        {
          "output_type": "execute_result",
          "data": {
            "text/plain": [
              "             lex       word case animacy\n",
              "0            том        том  вин    неод\n",
              "1         первый     первый  вин    неод\n",
              "2          часть      часть  вин    неод\n",
              "13          июль       июле   пр    неод\n",
              "14           год       года  вин    неод\n",
              "...          ...        ...  ...     ...\n",
              "216093   честный    честный  вин    неод\n",
              "216094   человек    человек  вин      од\n",
              "216096      след     следам  дат    неод\n",
              "216097      этот      этого  вин      од\n",
              "216098  господин  господина  вин      од\n",
              "\n",
              "[67002 rows x 4 columns]"
            ],
            "text/html": [
              "\n",
              "  <div id=\"df-00c420c7-d439-4c54-82fb-24e5e0003cf0\">\n",
              "    <div class=\"colab-df-container\">\n",
              "      <div>\n",
              "<style scoped>\n",
              "    .dataframe tbody tr th:only-of-type {\n",
              "        vertical-align: middle;\n",
              "    }\n",
              "\n",
              "    .dataframe tbody tr th {\n",
              "        vertical-align: top;\n",
              "    }\n",
              "\n",
              "    .dataframe thead th {\n",
              "        text-align: right;\n",
              "    }\n",
              "</style>\n",
              "<table border=\"1\" class=\"dataframe\">\n",
              "  <thead>\n",
              "    <tr style=\"text-align: right;\">\n",
              "      <th></th>\n",
              "      <th>lex</th>\n",
              "      <th>word</th>\n",
              "      <th>case</th>\n",
              "      <th>animacy</th>\n",
              "    </tr>\n",
              "  </thead>\n",
              "  <tbody>\n",
              "    <tr>\n",
              "      <th>0</th>\n",
              "      <td>том</td>\n",
              "      <td>том</td>\n",
              "      <td>вин</td>\n",
              "      <td>неод</td>\n",
              "    </tr>\n",
              "    <tr>\n",
              "      <th>1</th>\n",
              "      <td>первый</td>\n",
              "      <td>первый</td>\n",
              "      <td>вин</td>\n",
              "      <td>неод</td>\n",
              "    </tr>\n",
              "    <tr>\n",
              "      <th>2</th>\n",
              "      <td>часть</td>\n",
              "      <td>часть</td>\n",
              "      <td>вин</td>\n",
              "      <td>неод</td>\n",
              "    </tr>\n",
              "    <tr>\n",
              "      <th>13</th>\n",
              "      <td>июль</td>\n",
              "      <td>июле</td>\n",
              "      <td>пр</td>\n",
              "      <td>неод</td>\n",
              "    </tr>\n",
              "    <tr>\n",
              "      <th>14</th>\n",
              "      <td>год</td>\n",
              "      <td>года</td>\n",
              "      <td>вин</td>\n",
              "      <td>неод</td>\n",
              "    </tr>\n",
              "    <tr>\n",
              "      <th>...</th>\n",
              "      <td>...</td>\n",
              "      <td>...</td>\n",
              "      <td>...</td>\n",
              "      <td>...</td>\n",
              "    </tr>\n",
              "    <tr>\n",
              "      <th>216093</th>\n",
              "      <td>честный</td>\n",
              "      <td>честный</td>\n",
              "      <td>вин</td>\n",
              "      <td>неод</td>\n",
              "    </tr>\n",
              "    <tr>\n",
              "      <th>216094</th>\n",
              "      <td>человек</td>\n",
              "      <td>человек</td>\n",
              "      <td>вин</td>\n",
              "      <td>од</td>\n",
              "    </tr>\n",
              "    <tr>\n",
              "      <th>216096</th>\n",
              "      <td>след</td>\n",
              "      <td>следам</td>\n",
              "      <td>дат</td>\n",
              "      <td>неод</td>\n",
              "    </tr>\n",
              "    <tr>\n",
              "      <th>216097</th>\n",
              "      <td>этот</td>\n",
              "      <td>этого</td>\n",
              "      <td>вин</td>\n",
              "      <td>од</td>\n",
              "    </tr>\n",
              "    <tr>\n",
              "      <th>216098</th>\n",
              "      <td>господин</td>\n",
              "      <td>господина</td>\n",
              "      <td>вин</td>\n",
              "      <td>од</td>\n",
              "    </tr>\n",
              "  </tbody>\n",
              "</table>\n",
              "<p>67002 rows × 4 columns</p>\n",
              "</div>\n",
              "      <button class=\"colab-df-convert\" onclick=\"convertToInteractive('df-00c420c7-d439-4c54-82fb-24e5e0003cf0')\"\n",
              "              title=\"Convert this dataframe to an interactive table.\"\n",
              "              style=\"display:none;\">\n",
              "        \n",
              "  <svg xmlns=\"http://www.w3.org/2000/svg\" height=\"24px\"viewBox=\"0 0 24 24\"\n",
              "       width=\"24px\">\n",
              "    <path d=\"M0 0h24v24H0V0z\" fill=\"none\"/>\n",
              "    <path d=\"M18.56 5.44l.94 2.06.94-2.06 2.06-.94-2.06-.94-.94-2.06-.94 2.06-2.06.94zm-11 1L8.5 8.5l.94-2.06 2.06-.94-2.06-.94L8.5 2.5l-.94 2.06-2.06.94zm10 10l.94 2.06.94-2.06 2.06-.94-2.06-.94-.94-2.06-.94 2.06-2.06.94z\"/><path d=\"M17.41 7.96l-1.37-1.37c-.4-.4-.92-.59-1.43-.59-.52 0-1.04.2-1.43.59L10.3 9.45l-7.72 7.72c-.78.78-.78 2.05 0 2.83L4 21.41c.39.39.9.59 1.41.59.51 0 1.02-.2 1.41-.59l7.78-7.78 2.81-2.81c.8-.78.8-2.07 0-2.86zM5.41 20L4 18.59l7.72-7.72 1.47 1.35L5.41 20z\"/>\n",
              "  </svg>\n",
              "      </button>\n",
              "      \n",
              "  <style>\n",
              "    .colab-df-container {\n",
              "      display:flex;\n",
              "      flex-wrap:wrap;\n",
              "      gap: 12px;\n",
              "    }\n",
              "\n",
              "    .colab-df-convert {\n",
              "      background-color: #E8F0FE;\n",
              "      border: none;\n",
              "      border-radius: 50%;\n",
              "      cursor: pointer;\n",
              "      display: none;\n",
              "      fill: #1967D2;\n",
              "      height: 32px;\n",
              "      padding: 0 0 0 0;\n",
              "      width: 32px;\n",
              "    }\n",
              "\n",
              "    .colab-df-convert:hover {\n",
              "      background-color: #E2EBFA;\n",
              "      box-shadow: 0px 1px 2px rgba(60, 64, 67, 0.3), 0px 1px 3px 1px rgba(60, 64, 67, 0.15);\n",
              "      fill: #174EA6;\n",
              "    }\n",
              "\n",
              "    [theme=dark] .colab-df-convert {\n",
              "      background-color: #3B4455;\n",
              "      fill: #D2E3FC;\n",
              "    }\n",
              "\n",
              "    [theme=dark] .colab-df-convert:hover {\n",
              "      background-color: #434B5C;\n",
              "      box-shadow: 0px 1px 3px 1px rgba(0, 0, 0, 0.15);\n",
              "      filter: drop-shadow(0px 1px 2px rgba(0, 0, 0, 0.3));\n",
              "      fill: #FFFFFF;\n",
              "    }\n",
              "  </style>\n",
              "\n",
              "      <script>\n",
              "        const buttonEl =\n",
              "          document.querySelector('#df-00c420c7-d439-4c54-82fb-24e5e0003cf0 button.colab-df-convert');\n",
              "        buttonEl.style.display =\n",
              "          google.colab.kernel.accessAllowed ? 'block' : 'none';\n",
              "\n",
              "        async function convertToInteractive(key) {\n",
              "          const element = document.querySelector('#df-00c420c7-d439-4c54-82fb-24e5e0003cf0');\n",
              "          const dataTable =\n",
              "            await google.colab.kernel.invokeFunction('convertToInteractive',\n",
              "                                                     [key], {});\n",
              "          if (!dataTable) return;\n",
              "\n",
              "          const docLinkHtml = 'Like what you see? Visit the ' +\n",
              "            '<a target=\"_blank\" href=https://colab.research.google.com/notebooks/data_table.ipynb>data table notebook</a>'\n",
              "            + ' to learn more about interactive tables.';\n",
              "          element.innerHTML = '';\n",
              "          dataTable['output_type'] = 'display_data';\n",
              "          await google.colab.output.renderOutput(dataTable, element);\n",
              "          const docLink = document.createElement('div');\n",
              "          docLink.innerHTML = docLinkHtml;\n",
              "          element.appendChild(docLink);\n",
              "        }\n",
              "      </script>\n",
              "    </div>\n",
              "  </div>\n",
              "  "
            ]
          },
          "metadata": {},
          "execution_count": 5
        }
      ]
    },
    {
      "cell_type": "code",
      "source": [
        "princess_df = pd.read_csv('https://raw.githubusercontent.com/dashapopova/Data-Analysis-Python-II/main/24.09/princess_corpus.csv', sep=',').fillna('') # reading from file and substituting empty values with empty rows\n",
        "\n",
        "princess_df.shape"
      ],
      "metadata": {
        "colab": {
          "base_uri": "https://localhost:8080/"
        },
        "id": "cvfc3H5aLkGP",
        "outputId": "a3c38242-e5c9-43f1-807d-1fa2cf889f7b"
      },
      "execution_count": 6,
      "outputs": [
        {
          "output_type": "execute_result",
          "data": {
            "text/plain": [
              "(7748, 7)"
            ]
          },
          "metadata": {},
          "execution_count": 6
        }
      ]
    },
    {
      "cell_type": "code",
      "source": [
        "princess_df.head(25)"
      ],
      "metadata": {
        "colab": {
          "base_uri": "https://localhost:8080/",
          "height": 833
        },
        "id": "0z3y7CwILkRe",
        "outputId": "675fcbb4-4573-4280-d68f-45b7576add11"
      },
      "execution_count": 7,
      "outputs": [
        {
          "output_type": "execute_result",
          "data": {
            "text/plain": [
              "   Disney_Period                                               Text  \\\n",
              "0          EARLY  slave in the magic mirror come from the farthe...   \n",
              "1          EARLY                what wouldst thou know, my queen ?    \n",
              "2          EARLY  magic mirror on the wall, who is the fairest o...   \n",
              "3          EARLY  famed is thy beauty, majesty. but hold, a love...   \n",
              "4          EARLY                   alas for her ! reveal her name.    \n",
              "5          EARLY  lips red as the rose. hair black as ebony. ski...   \n",
              "6          EARLY                                      snow white !    \n",
              "7          EARLY  want to know a secret ? promise not to tell ? ...   \n",
              "8          EARLY                                             today    \n",
              "9          EARLY                                              oh !    \n",
              "10         EARLY                                            hello.    \n",
              "11         EARLY                                               oh.    \n",
              "12         EARLY  did i frighten you ? wait. wait, please. don't...   \n",
              "13         EARLY  take her far into the forest. find some seclud...   \n",
              "14         EARLY                                yes, your majesty.    \n",
              "15         EARLY  and there, my faithful huntsman, you will kill...   \n",
              "16         EARLY          but, your majesty, the little princess !    \n",
              "17         EARLY       silence ! you know the penalty if you fail.    \n",
              "18         EARLY                                yes, your majesty.    \n",
              "19         EARLY  but to make doubly sure... you do not fail, br...   \n",
              "20         EARLY                      one song i have but one song    \n",
              "21         EARLY  hello there. what's the matter ? where's your ...   \n",
              "22         EARLY  i can't ! i can't do it ! forgive me. i beg of...   \n",
              "23         EARLY                               i don't understand.    \n",
              "24         EARLY  she's mad! jealous of you! she'll stop at noth...   \n",
              "\n",
              "   Speaker_Status        Movie     Speaker  Year  UTTERANCE_NUMBER  \n",
              "0           NON-P  Snow White        queen  1937                 1  \n",
              "1           NON-P  Snow White       mirror  1937                 2  \n",
              "2           NON-P  Snow White        queen  1937                 3  \n",
              "3           NON-P  Snow White       mirror  1937                 4  \n",
              "4           NON-P  Snow White        queen  1937                 5  \n",
              "5           NON-P  Snow White       mirror  1937                 6  \n",
              "6           NON-P  Snow White        queen  1937                 7  \n",
              "7        PRINCESS  Snow White   snow white  1937                 8  \n",
              "8          PRINCE  Snow White       prince  1937                 9  \n",
              "9        PRINCESS  Snow White   snow white  1937                10  \n",
              "10         PRINCE  Snow White       prince  1937                11  \n",
              "11       PRINCESS  Snow White   snow white  1937                12  \n",
              "12         PRINCE  Snow White       prince  1937                13  \n",
              "13          NON-P  Snow White        queen  1937                14  \n",
              "14          NON-P  Snow White        guard  1937                15  \n",
              "15          NON-P  Snow White        queen  1937                16  \n",
              "16          NON-P  Snow White        guard  1937                17  \n",
              "17          NON-P  Snow White        queen  1937                18  \n",
              "18          NON-P  Snow White        guard  1937                19  \n",
              "19          NON-P  Snow White        queen  1937                20  \n",
              "20       PRINCESS  Snow White   snow white  1937                21  \n",
              "21       PRINCESS  Snow White   snow white  1937                22  \n",
              "22          NON-P  Snow White        guard  1937                23  \n",
              "23       PRINCESS  Snow White   snow white  1937                24  \n",
              "24          NON-P  Snow White        guard  1937                25  "
            ],
            "text/html": [
              "\n",
              "  <div id=\"df-c4d2a2f2-0012-42ef-8800-dce884eee49f\">\n",
              "    <div class=\"colab-df-container\">\n",
              "      <div>\n",
              "<style scoped>\n",
              "    .dataframe tbody tr th:only-of-type {\n",
              "        vertical-align: middle;\n",
              "    }\n",
              "\n",
              "    .dataframe tbody tr th {\n",
              "        vertical-align: top;\n",
              "    }\n",
              "\n",
              "    .dataframe thead th {\n",
              "        text-align: right;\n",
              "    }\n",
              "</style>\n",
              "<table border=\"1\" class=\"dataframe\">\n",
              "  <thead>\n",
              "    <tr style=\"text-align: right;\">\n",
              "      <th></th>\n",
              "      <th>Disney_Period</th>\n",
              "      <th>Text</th>\n",
              "      <th>Speaker_Status</th>\n",
              "      <th>Movie</th>\n",
              "      <th>Speaker</th>\n",
              "      <th>Year</th>\n",
              "      <th>UTTERANCE_NUMBER</th>\n",
              "    </tr>\n",
              "  </thead>\n",
              "  <tbody>\n",
              "    <tr>\n",
              "      <th>0</th>\n",
              "      <td>EARLY</td>\n",
              "      <td>slave in the magic mirror come from the farthe...</td>\n",
              "      <td>NON-P</td>\n",
              "      <td>Snow White</td>\n",
              "      <td>queen</td>\n",
              "      <td>1937</td>\n",
              "      <td>1</td>\n",
              "    </tr>\n",
              "    <tr>\n",
              "      <th>1</th>\n",
              "      <td>EARLY</td>\n",
              "      <td>what wouldst thou know, my queen ?</td>\n",
              "      <td>NON-P</td>\n",
              "      <td>Snow White</td>\n",
              "      <td>mirror</td>\n",
              "      <td>1937</td>\n",
              "      <td>2</td>\n",
              "    </tr>\n",
              "    <tr>\n",
              "      <th>2</th>\n",
              "      <td>EARLY</td>\n",
              "      <td>magic mirror on the wall, who is the fairest o...</td>\n",
              "      <td>NON-P</td>\n",
              "      <td>Snow White</td>\n",
              "      <td>queen</td>\n",
              "      <td>1937</td>\n",
              "      <td>3</td>\n",
              "    </tr>\n",
              "    <tr>\n",
              "      <th>3</th>\n",
              "      <td>EARLY</td>\n",
              "      <td>famed is thy beauty, majesty. but hold, a love...</td>\n",
              "      <td>NON-P</td>\n",
              "      <td>Snow White</td>\n",
              "      <td>mirror</td>\n",
              "      <td>1937</td>\n",
              "      <td>4</td>\n",
              "    </tr>\n",
              "    <tr>\n",
              "      <th>4</th>\n",
              "      <td>EARLY</td>\n",
              "      <td>alas for her ! reveal her name.</td>\n",
              "      <td>NON-P</td>\n",
              "      <td>Snow White</td>\n",
              "      <td>queen</td>\n",
              "      <td>1937</td>\n",
              "      <td>5</td>\n",
              "    </tr>\n",
              "    <tr>\n",
              "      <th>5</th>\n",
              "      <td>EARLY</td>\n",
              "      <td>lips red as the rose. hair black as ebony. ski...</td>\n",
              "      <td>NON-P</td>\n",
              "      <td>Snow White</td>\n",
              "      <td>mirror</td>\n",
              "      <td>1937</td>\n",
              "      <td>6</td>\n",
              "    </tr>\n",
              "    <tr>\n",
              "      <th>6</th>\n",
              "      <td>EARLY</td>\n",
              "      <td>snow white !</td>\n",
              "      <td>NON-P</td>\n",
              "      <td>Snow White</td>\n",
              "      <td>queen</td>\n",
              "      <td>1937</td>\n",
              "      <td>7</td>\n",
              "    </tr>\n",
              "    <tr>\n",
              "      <th>7</th>\n",
              "      <td>EARLY</td>\n",
              "      <td>want to know a secret ? promise not to tell ? ...</td>\n",
              "      <td>PRINCESS</td>\n",
              "      <td>Snow White</td>\n",
              "      <td>snow white</td>\n",
              "      <td>1937</td>\n",
              "      <td>8</td>\n",
              "    </tr>\n",
              "    <tr>\n",
              "      <th>8</th>\n",
              "      <td>EARLY</td>\n",
              "      <td>today</td>\n",
              "      <td>PRINCE</td>\n",
              "      <td>Snow White</td>\n",
              "      <td>prince</td>\n",
              "      <td>1937</td>\n",
              "      <td>9</td>\n",
              "    </tr>\n",
              "    <tr>\n",
              "      <th>9</th>\n",
              "      <td>EARLY</td>\n",
              "      <td>oh !</td>\n",
              "      <td>PRINCESS</td>\n",
              "      <td>Snow White</td>\n",
              "      <td>snow white</td>\n",
              "      <td>1937</td>\n",
              "      <td>10</td>\n",
              "    </tr>\n",
              "    <tr>\n",
              "      <th>10</th>\n",
              "      <td>EARLY</td>\n",
              "      <td>hello.</td>\n",
              "      <td>PRINCE</td>\n",
              "      <td>Snow White</td>\n",
              "      <td>prince</td>\n",
              "      <td>1937</td>\n",
              "      <td>11</td>\n",
              "    </tr>\n",
              "    <tr>\n",
              "      <th>11</th>\n",
              "      <td>EARLY</td>\n",
              "      <td>oh.</td>\n",
              "      <td>PRINCESS</td>\n",
              "      <td>Snow White</td>\n",
              "      <td>snow white</td>\n",
              "      <td>1937</td>\n",
              "      <td>12</td>\n",
              "    </tr>\n",
              "    <tr>\n",
              "      <th>12</th>\n",
              "      <td>EARLY</td>\n",
              "      <td>did i frighten you ? wait. wait, please. don't...</td>\n",
              "      <td>PRINCE</td>\n",
              "      <td>Snow White</td>\n",
              "      <td>prince</td>\n",
              "      <td>1937</td>\n",
              "      <td>13</td>\n",
              "    </tr>\n",
              "    <tr>\n",
              "      <th>13</th>\n",
              "      <td>EARLY</td>\n",
              "      <td>take her far into the forest. find some seclud...</td>\n",
              "      <td>NON-P</td>\n",
              "      <td>Snow White</td>\n",
              "      <td>queen</td>\n",
              "      <td>1937</td>\n",
              "      <td>14</td>\n",
              "    </tr>\n",
              "    <tr>\n",
              "      <th>14</th>\n",
              "      <td>EARLY</td>\n",
              "      <td>yes, your majesty.</td>\n",
              "      <td>NON-P</td>\n",
              "      <td>Snow White</td>\n",
              "      <td>guard</td>\n",
              "      <td>1937</td>\n",
              "      <td>15</td>\n",
              "    </tr>\n",
              "    <tr>\n",
              "      <th>15</th>\n",
              "      <td>EARLY</td>\n",
              "      <td>and there, my faithful huntsman, you will kill...</td>\n",
              "      <td>NON-P</td>\n",
              "      <td>Snow White</td>\n",
              "      <td>queen</td>\n",
              "      <td>1937</td>\n",
              "      <td>16</td>\n",
              "    </tr>\n",
              "    <tr>\n",
              "      <th>16</th>\n",
              "      <td>EARLY</td>\n",
              "      <td>but, your majesty, the little princess !</td>\n",
              "      <td>NON-P</td>\n",
              "      <td>Snow White</td>\n",
              "      <td>guard</td>\n",
              "      <td>1937</td>\n",
              "      <td>17</td>\n",
              "    </tr>\n",
              "    <tr>\n",
              "      <th>17</th>\n",
              "      <td>EARLY</td>\n",
              "      <td>silence ! you know the penalty if you fail.</td>\n",
              "      <td>NON-P</td>\n",
              "      <td>Snow White</td>\n",
              "      <td>queen</td>\n",
              "      <td>1937</td>\n",
              "      <td>18</td>\n",
              "    </tr>\n",
              "    <tr>\n",
              "      <th>18</th>\n",
              "      <td>EARLY</td>\n",
              "      <td>yes, your majesty.</td>\n",
              "      <td>NON-P</td>\n",
              "      <td>Snow White</td>\n",
              "      <td>guard</td>\n",
              "      <td>1937</td>\n",
              "      <td>19</td>\n",
              "    </tr>\n",
              "    <tr>\n",
              "      <th>19</th>\n",
              "      <td>EARLY</td>\n",
              "      <td>but to make doubly sure... you do not fail, br...</td>\n",
              "      <td>NON-P</td>\n",
              "      <td>Snow White</td>\n",
              "      <td>queen</td>\n",
              "      <td>1937</td>\n",
              "      <td>20</td>\n",
              "    </tr>\n",
              "    <tr>\n",
              "      <th>20</th>\n",
              "      <td>EARLY</td>\n",
              "      <td>one song i have but one song</td>\n",
              "      <td>PRINCESS</td>\n",
              "      <td>Snow White</td>\n",
              "      <td>snow white</td>\n",
              "      <td>1937</td>\n",
              "      <td>21</td>\n",
              "    </tr>\n",
              "    <tr>\n",
              "      <th>21</th>\n",
              "      <td>EARLY</td>\n",
              "      <td>hello there. what's the matter ? where's your ...</td>\n",
              "      <td>PRINCESS</td>\n",
              "      <td>Snow White</td>\n",
              "      <td>snow white</td>\n",
              "      <td>1937</td>\n",
              "      <td>22</td>\n",
              "    </tr>\n",
              "    <tr>\n",
              "      <th>22</th>\n",
              "      <td>EARLY</td>\n",
              "      <td>i can't ! i can't do it ! forgive me. i beg of...</td>\n",
              "      <td>NON-P</td>\n",
              "      <td>Snow White</td>\n",
              "      <td>guard</td>\n",
              "      <td>1937</td>\n",
              "      <td>23</td>\n",
              "    </tr>\n",
              "    <tr>\n",
              "      <th>23</th>\n",
              "      <td>EARLY</td>\n",
              "      <td>i don't understand.</td>\n",
              "      <td>PRINCESS</td>\n",
              "      <td>Snow White</td>\n",
              "      <td>snow white</td>\n",
              "      <td>1937</td>\n",
              "      <td>24</td>\n",
              "    </tr>\n",
              "    <tr>\n",
              "      <th>24</th>\n",
              "      <td>EARLY</td>\n",
              "      <td>she's mad! jealous of you! she'll stop at noth...</td>\n",
              "      <td>NON-P</td>\n",
              "      <td>Snow White</td>\n",
              "      <td>guard</td>\n",
              "      <td>1937</td>\n",
              "      <td>25</td>\n",
              "    </tr>\n",
              "  </tbody>\n",
              "</table>\n",
              "</div>\n",
              "      <button class=\"colab-df-convert\" onclick=\"convertToInteractive('df-c4d2a2f2-0012-42ef-8800-dce884eee49f')\"\n",
              "              title=\"Convert this dataframe to an interactive table.\"\n",
              "              style=\"display:none;\">\n",
              "        \n",
              "  <svg xmlns=\"http://www.w3.org/2000/svg\" height=\"24px\"viewBox=\"0 0 24 24\"\n",
              "       width=\"24px\">\n",
              "    <path d=\"M0 0h24v24H0V0z\" fill=\"none\"/>\n",
              "    <path d=\"M18.56 5.44l.94 2.06.94-2.06 2.06-.94-2.06-.94-.94-2.06-.94 2.06-2.06.94zm-11 1L8.5 8.5l.94-2.06 2.06-.94-2.06-.94L8.5 2.5l-.94 2.06-2.06.94zm10 10l.94 2.06.94-2.06 2.06-.94-2.06-.94-.94-2.06-.94 2.06-2.06.94z\"/><path d=\"M17.41 7.96l-1.37-1.37c-.4-.4-.92-.59-1.43-.59-.52 0-1.04.2-1.43.59L10.3 9.45l-7.72 7.72c-.78.78-.78 2.05 0 2.83L4 21.41c.39.39.9.59 1.41.59.51 0 1.02-.2 1.41-.59l7.78-7.78 2.81-2.81c.8-.78.8-2.07 0-2.86zM5.41 20L4 18.59l7.72-7.72 1.47 1.35L5.41 20z\"/>\n",
              "  </svg>\n",
              "      </button>\n",
              "      \n",
              "  <style>\n",
              "    .colab-df-container {\n",
              "      display:flex;\n",
              "      flex-wrap:wrap;\n",
              "      gap: 12px;\n",
              "    }\n",
              "\n",
              "    .colab-df-convert {\n",
              "      background-color: #E8F0FE;\n",
              "      border: none;\n",
              "      border-radius: 50%;\n",
              "      cursor: pointer;\n",
              "      display: none;\n",
              "      fill: #1967D2;\n",
              "      height: 32px;\n",
              "      padding: 0 0 0 0;\n",
              "      width: 32px;\n",
              "    }\n",
              "\n",
              "    .colab-df-convert:hover {\n",
              "      background-color: #E2EBFA;\n",
              "      box-shadow: 0px 1px 2px rgba(60, 64, 67, 0.3), 0px 1px 3px 1px rgba(60, 64, 67, 0.15);\n",
              "      fill: #174EA6;\n",
              "    }\n",
              "\n",
              "    [theme=dark] .colab-df-convert {\n",
              "      background-color: #3B4455;\n",
              "      fill: #D2E3FC;\n",
              "    }\n",
              "\n",
              "    [theme=dark] .colab-df-convert:hover {\n",
              "      background-color: #434B5C;\n",
              "      box-shadow: 0px 1px 3px 1px rgba(0, 0, 0, 0.15);\n",
              "      filter: drop-shadow(0px 1px 2px rgba(0, 0, 0, 0.3));\n",
              "      fill: #FFFFFF;\n",
              "    }\n",
              "  </style>\n",
              "\n",
              "      <script>\n",
              "        const buttonEl =\n",
              "          document.querySelector('#df-c4d2a2f2-0012-42ef-8800-dce884eee49f button.colab-df-convert');\n",
              "        buttonEl.style.display =\n",
              "          google.colab.kernel.accessAllowed ? 'block' : 'none';\n",
              "\n",
              "        async function convertToInteractive(key) {\n",
              "          const element = document.querySelector('#df-c4d2a2f2-0012-42ef-8800-dce884eee49f');\n",
              "          const dataTable =\n",
              "            await google.colab.kernel.invokeFunction('convertToInteractive',\n",
              "                                                     [key], {});\n",
              "          if (!dataTable) return;\n",
              "\n",
              "          const docLinkHtml = 'Like what you see? Visit the ' +\n",
              "            '<a target=\"_blank\" href=https://colab.research.google.com/notebooks/data_table.ipynb>data table notebook</a>'\n",
              "            + ' to learn more about interactive tables.';\n",
              "          element.innerHTML = '';\n",
              "          dataTable['output_type'] = 'display_data';\n",
              "          await google.colab.output.renderOutput(dataTable, element);\n",
              "          const docLink = document.createElement('div');\n",
              "          docLink.innerHTML = docLinkHtml;\n",
              "          element.appendChild(docLink);\n",
              "        }\n",
              "      </script>\n",
              "    </div>\n",
              "  </div>\n",
              "  "
            ]
          },
          "metadata": {},
          "execution_count": 7
        }
      ]
    },
    {
      "cell_type": "code",
      "source": [
        "set(princess_df['Speaker_Status'])"
      ],
      "metadata": {
        "colab": {
          "base_uri": "https://localhost:8080/"
        },
        "id": "NuC4wm22LkWr",
        "outputId": "84ca3c09-e2dc-40c0-a8d8-d52edff21730"
      },
      "execution_count": 8,
      "outputs": [
        {
          "output_type": "execute_result",
          "data": {
            "text/plain": [
              "{'NON-P', 'PRINCE', 'PRINCESS'}"
            ]
          },
          "metadata": {},
          "execution_count": 8
        }
      ]
    },
    {
      "cell_type": "markdown",
      "source": [
        "\n",
        "---\n",
        "---\n",
        "---"
      ],
      "metadata": {
        "id": "vLYB01P1tRJD"
      }
    },
    {
      "cell_type": "markdown",
      "source": [
        "## 1. Plotly\n",
        "\n",
        "Install the latest version:"
      ],
      "metadata": {
        "id": "wMZAZdNxo3su"
      }
    },
    {
      "cell_type": "code",
      "source": [
        "pip install plotly==5.13.0"
      ],
      "metadata": {
        "colab": {
          "base_uri": "https://localhost:8080/"
        },
        "id": "EvJqgjcTb26i",
        "outputId": "1d9a24ec-78fa-4f44-db62-fd62b7491e2d"
      },
      "execution_count": 9,
      "outputs": [
        {
          "output_type": "stream",
          "name": "stdout",
          "text": [
            "Looking in indexes: https://pypi.org/simple, https://us-python.pkg.dev/colab-wheels/public/simple/\n",
            "Requirement already satisfied: plotly==5.13.0 in /usr/local/lib/python3.8/dist-packages (5.13.0)\n",
            "Requirement already satisfied: tenacity>=6.2.0 in /usr/local/lib/python3.8/dist-packages (from plotly==5.13.0) (8.2.0)\n"
          ]
        }
      ]
    },
    {
      "cell_type": "markdown",
      "source": [
        "Import all important parts:"
      ],
      "metadata": {
        "id": "ulFgDYipt6_g"
      }
    },
    {
      "cell_type": "code",
      "source": [
        "import plotly.express as px\n",
        "from plotly.offline import download_plotlyjs, init_notebook_mode\n",
        "\n",
        "import plotly.io as pio\n",
        "\n",
        "init_notebook_mode(connected=True)\n",
        "\n",
        "pio.renderers.default += '+colab'\n",
        "\n",
        "\n",
        "pio.renderers"
      ],
      "metadata": {
        "colab": {
          "base_uri": "https://localhost:8080/",
          "height": 173
        },
        "id": "Tddr_FZsfCPg",
        "outputId": "f0735f1f-f58e-4b32-bfeb-816671ea5262"
      },
      "execution_count": 48,
      "outputs": [
        {
          "output_type": "display_data",
          "data": {
            "text/html": [
              "        <script type=\"text/javascript\">\n",
              "        window.PlotlyConfig = {MathJaxConfig: 'local'};\n",
              "        if (window.MathJax && window.MathJax.Hub && window.MathJax.Hub.Config) {window.MathJax.Hub.Config({SVG: {font: \"STIX-Web\"}});}\n",
              "        if (typeof require !== 'undefined') {\n",
              "        require.undef(\"plotly\");\n",
              "        requirejs.config({\n",
              "            paths: {\n",
              "                'plotly': ['https://cdn.plot.ly/plotly-2.18.0.min']\n",
              "            }\n",
              "        });\n",
              "        require(['plotly'], function(Plotly) {\n",
              "            window._Plotly = Plotly;\n",
              "        });\n",
              "        }\n",
              "        </script>\n",
              "        "
            ]
          },
          "metadata": {}
        },
        {
          "output_type": "execute_result",
          "data": {
            "text/plain": [
              "Renderers configuration\n",
              "-----------------------\n",
              "    Default renderer: 'plotly_mimetype+notebook_connected+colab'\n",
              "    Available renderers:\n",
              "        ['plotly_mimetype', 'jupyterlab', 'nteract', 'vscode',\n",
              "         'notebook', 'notebook_connected', 'kaggle', 'azure', 'colab',\n",
              "         'cocalc', 'databricks', 'json', 'png', 'jpeg', 'jpg', 'svg',\n",
              "         'pdf', 'browser', 'firefox', 'chrome', 'chromium', 'iframe',\n",
              "         'iframe_connected', 'sphinx_gallery', 'sphinx_gallery_png']"
            ]
          },
          "metadata": {},
          "execution_count": 48
        }
      ]
    },
    {
      "cell_type": "markdown",
      "source": [
        "All basic features are in express, while more complex ones need another imports.\n",
        "\n",
        "A few words about renderer."
      ],
      "metadata": {
        "id": "7uBvzlKxuECb"
      }
    },
    {
      "cell_type": "markdown",
      "source": [
        "### 1.1 Bar chart"
      ],
      "metadata": {
        "id": "EYEcbF8KtVAZ"
      }
    },
    {
      "cell_type": "markdown",
      "source": [
        "Let's make a bar plot wwith the distrubution of all names in the book."
      ],
      "metadata": {
        "id": "o3dF1wf1n12g"
      }
    },
    {
      "cell_type": "code",
      "source": [
        "names_count = tolstoy_df[tolstoy_df['имя'] != ''].lex.value_counts()"
      ],
      "metadata": {
        "id": "cKcOhOf3plNF"
      },
      "execution_count": 49,
      "outputs": []
    },
    {
      "cell_type": "code",
      "source": [
        "fig2 = px.bar(names_count[names_count > 10], title='???')\n",
        "fig2.update_layout(xaxis_title=None, yaxis_title=None)\n",
        "fig2.show()"
      ],
      "metadata": {
        "colab": {
          "base_uri": "https://localhost:8080/",
          "height": 542
        },
        "id": "IWpMzz-rliHG",
        "outputId": "a1ac9c4f-fbc3-4fce-e716-86c29dbe466c"
      },
      "execution_count": 50,
      "outputs": [
        {
          "output_type": "display_data",
          "data": {
            "text/html": [
              "        <script type=\"text/javascript\">\n",
              "        window.PlotlyConfig = {MathJaxConfig: 'local'};\n",
              "        if (window.MathJax && window.MathJax.Hub && window.MathJax.Hub.Config) {window.MathJax.Hub.Config({SVG: {font: \"STIX-Web\"}});}\n",
              "        if (typeof require !== 'undefined') {\n",
              "        require.undef(\"plotly\");\n",
              "        requirejs.config({\n",
              "            paths: {\n",
              "                'plotly': ['https://cdn.plot.ly/plotly-2.18.0.min']\n",
              "            }\n",
              "        });\n",
              "        require(['plotly'], function(Plotly) {\n",
              "            window._Plotly = Plotly;\n",
              "        });\n",
              "        }\n",
              "        </script>\n",
              "        "
            ]
          },
          "metadata": {}
        },
        {
          "output_type": "display_data",
          "data": {
            "application/vnd.plotly.v1+json": {
              "data": [
                {
                  "alignmentgroup": "True",
                  "hovertemplate": "variable=lex<br>index=%{x}<br>value=%{y}<extra></extra>",
                  "legendgroup": "lex",
                  "marker": {
                    "color": "#636efa",
                    "pattern": {
                      "shape": ""
                    }
                  },
                  "name": "lex",
                  "offsetgroup": "lex",
                  "orientation": "v",
                  "showlegend": true,
                  "textposition": "auto",
                  "x": [
                    "пьер",
                    "андрей",
                    "наташа",
                    "марья",
                    "николай",
                    "соня",
                    "борис",
                    "анна",
                    "анатоль",
                    "василий",
                    "элен",
                    "наполеон",
                    "илья",
                    "жюли",
                    "петя",
                    "ипполит",
                    "александр",
                    "вера",
                    "тихон",
                    "николенька",
                    "лиза",
                    "николушка",
                    "митенька",
                    "данило",
                    "франц",
                    "данила",
                    "петр",
                    "михаил",
                    "ред",
                    "анисья",
                    "сергей",
                    "иосиф",
                    "мари",
                    "семен",
                    "васька"
                  ],
                  "xaxis": "x",
                  "y": [
                    940,
                    845,
                    752,
                    364,
                    326,
                    314,
                    265,
                    255,
                    215,
                    166,
                    108,
                    88,
                    57,
                    54,
                    51,
                    49,
                    48,
                    39,
                    27,
                    26,
                    24,
                    24,
                    24,
                    19,
                    18,
                    18,
                    17,
                    17,
                    16,
                    15,
                    14,
                    14,
                    13,
                    12,
                    11
                  ],
                  "yaxis": "y",
                  "type": "bar"
                }
              ],
              "layout": {
                "template": {
                  "data": {
                    "histogram2dcontour": [
                      {
                        "type": "histogram2dcontour",
                        "colorbar": {
                          "outlinewidth": 0,
                          "ticks": ""
                        },
                        "colorscale": [
                          [
                            0,
                            "#0d0887"
                          ],
                          [
                            0.1111111111111111,
                            "#46039f"
                          ],
                          [
                            0.2222222222222222,
                            "#7201a8"
                          ],
                          [
                            0.3333333333333333,
                            "#9c179e"
                          ],
                          [
                            0.4444444444444444,
                            "#bd3786"
                          ],
                          [
                            0.5555555555555556,
                            "#d8576b"
                          ],
                          [
                            0.6666666666666666,
                            "#ed7953"
                          ],
                          [
                            0.7777777777777778,
                            "#fb9f3a"
                          ],
                          [
                            0.8888888888888888,
                            "#fdca26"
                          ],
                          [
                            1,
                            "#f0f921"
                          ]
                        ]
                      }
                    ],
                    "choropleth": [
                      {
                        "type": "choropleth",
                        "colorbar": {
                          "outlinewidth": 0,
                          "ticks": ""
                        }
                      }
                    ],
                    "histogram2d": [
                      {
                        "type": "histogram2d",
                        "colorbar": {
                          "outlinewidth": 0,
                          "ticks": ""
                        },
                        "colorscale": [
                          [
                            0,
                            "#0d0887"
                          ],
                          [
                            0.1111111111111111,
                            "#46039f"
                          ],
                          [
                            0.2222222222222222,
                            "#7201a8"
                          ],
                          [
                            0.3333333333333333,
                            "#9c179e"
                          ],
                          [
                            0.4444444444444444,
                            "#bd3786"
                          ],
                          [
                            0.5555555555555556,
                            "#d8576b"
                          ],
                          [
                            0.6666666666666666,
                            "#ed7953"
                          ],
                          [
                            0.7777777777777778,
                            "#fb9f3a"
                          ],
                          [
                            0.8888888888888888,
                            "#fdca26"
                          ],
                          [
                            1,
                            "#f0f921"
                          ]
                        ]
                      }
                    ],
                    "heatmap": [
                      {
                        "type": "heatmap",
                        "colorbar": {
                          "outlinewidth": 0,
                          "ticks": ""
                        },
                        "colorscale": [
                          [
                            0,
                            "#0d0887"
                          ],
                          [
                            0.1111111111111111,
                            "#46039f"
                          ],
                          [
                            0.2222222222222222,
                            "#7201a8"
                          ],
                          [
                            0.3333333333333333,
                            "#9c179e"
                          ],
                          [
                            0.4444444444444444,
                            "#bd3786"
                          ],
                          [
                            0.5555555555555556,
                            "#d8576b"
                          ],
                          [
                            0.6666666666666666,
                            "#ed7953"
                          ],
                          [
                            0.7777777777777778,
                            "#fb9f3a"
                          ],
                          [
                            0.8888888888888888,
                            "#fdca26"
                          ],
                          [
                            1,
                            "#f0f921"
                          ]
                        ]
                      }
                    ],
                    "heatmapgl": [
                      {
                        "type": "heatmapgl",
                        "colorbar": {
                          "outlinewidth": 0,
                          "ticks": ""
                        },
                        "colorscale": [
                          [
                            0,
                            "#0d0887"
                          ],
                          [
                            0.1111111111111111,
                            "#46039f"
                          ],
                          [
                            0.2222222222222222,
                            "#7201a8"
                          ],
                          [
                            0.3333333333333333,
                            "#9c179e"
                          ],
                          [
                            0.4444444444444444,
                            "#bd3786"
                          ],
                          [
                            0.5555555555555556,
                            "#d8576b"
                          ],
                          [
                            0.6666666666666666,
                            "#ed7953"
                          ],
                          [
                            0.7777777777777778,
                            "#fb9f3a"
                          ],
                          [
                            0.8888888888888888,
                            "#fdca26"
                          ],
                          [
                            1,
                            "#f0f921"
                          ]
                        ]
                      }
                    ],
                    "contourcarpet": [
                      {
                        "type": "contourcarpet",
                        "colorbar": {
                          "outlinewidth": 0,
                          "ticks": ""
                        }
                      }
                    ],
                    "contour": [
                      {
                        "type": "contour",
                        "colorbar": {
                          "outlinewidth": 0,
                          "ticks": ""
                        },
                        "colorscale": [
                          [
                            0,
                            "#0d0887"
                          ],
                          [
                            0.1111111111111111,
                            "#46039f"
                          ],
                          [
                            0.2222222222222222,
                            "#7201a8"
                          ],
                          [
                            0.3333333333333333,
                            "#9c179e"
                          ],
                          [
                            0.4444444444444444,
                            "#bd3786"
                          ],
                          [
                            0.5555555555555556,
                            "#d8576b"
                          ],
                          [
                            0.6666666666666666,
                            "#ed7953"
                          ],
                          [
                            0.7777777777777778,
                            "#fb9f3a"
                          ],
                          [
                            0.8888888888888888,
                            "#fdca26"
                          ],
                          [
                            1,
                            "#f0f921"
                          ]
                        ]
                      }
                    ],
                    "surface": [
                      {
                        "type": "surface",
                        "colorbar": {
                          "outlinewidth": 0,
                          "ticks": ""
                        },
                        "colorscale": [
                          [
                            0,
                            "#0d0887"
                          ],
                          [
                            0.1111111111111111,
                            "#46039f"
                          ],
                          [
                            0.2222222222222222,
                            "#7201a8"
                          ],
                          [
                            0.3333333333333333,
                            "#9c179e"
                          ],
                          [
                            0.4444444444444444,
                            "#bd3786"
                          ],
                          [
                            0.5555555555555556,
                            "#d8576b"
                          ],
                          [
                            0.6666666666666666,
                            "#ed7953"
                          ],
                          [
                            0.7777777777777778,
                            "#fb9f3a"
                          ],
                          [
                            0.8888888888888888,
                            "#fdca26"
                          ],
                          [
                            1,
                            "#f0f921"
                          ]
                        ]
                      }
                    ],
                    "mesh3d": [
                      {
                        "type": "mesh3d",
                        "colorbar": {
                          "outlinewidth": 0,
                          "ticks": ""
                        }
                      }
                    ],
                    "scatter": [
                      {
                        "fillpattern": {
                          "fillmode": "overlay",
                          "size": 10,
                          "solidity": 0.2
                        },
                        "type": "scatter"
                      }
                    ],
                    "parcoords": [
                      {
                        "type": "parcoords",
                        "line": {
                          "colorbar": {
                            "outlinewidth": 0,
                            "ticks": ""
                          }
                        }
                      }
                    ],
                    "scatterpolargl": [
                      {
                        "type": "scatterpolargl",
                        "marker": {
                          "colorbar": {
                            "outlinewidth": 0,
                            "ticks": ""
                          }
                        }
                      }
                    ],
                    "bar": [
                      {
                        "error_x": {
                          "color": "#2a3f5f"
                        },
                        "error_y": {
                          "color": "#2a3f5f"
                        },
                        "marker": {
                          "line": {
                            "color": "#E5ECF6",
                            "width": 0.5
                          },
                          "pattern": {
                            "fillmode": "overlay",
                            "size": 10,
                            "solidity": 0.2
                          }
                        },
                        "type": "bar"
                      }
                    ],
                    "scattergeo": [
                      {
                        "type": "scattergeo",
                        "marker": {
                          "colorbar": {
                            "outlinewidth": 0,
                            "ticks": ""
                          }
                        }
                      }
                    ],
                    "scatterpolar": [
                      {
                        "type": "scatterpolar",
                        "marker": {
                          "colorbar": {
                            "outlinewidth": 0,
                            "ticks": ""
                          }
                        }
                      }
                    ],
                    "histogram": [
                      {
                        "marker": {
                          "pattern": {
                            "fillmode": "overlay",
                            "size": 10,
                            "solidity": 0.2
                          }
                        },
                        "type": "histogram"
                      }
                    ],
                    "scattergl": [
                      {
                        "type": "scattergl",
                        "marker": {
                          "colorbar": {
                            "outlinewidth": 0,
                            "ticks": ""
                          }
                        }
                      }
                    ],
                    "scatter3d": [
                      {
                        "type": "scatter3d",
                        "line": {
                          "colorbar": {
                            "outlinewidth": 0,
                            "ticks": ""
                          }
                        },
                        "marker": {
                          "colorbar": {
                            "outlinewidth": 0,
                            "ticks": ""
                          }
                        }
                      }
                    ],
                    "scattermapbox": [
                      {
                        "type": "scattermapbox",
                        "marker": {
                          "colorbar": {
                            "outlinewidth": 0,
                            "ticks": ""
                          }
                        }
                      }
                    ],
                    "scatterternary": [
                      {
                        "type": "scatterternary",
                        "marker": {
                          "colorbar": {
                            "outlinewidth": 0,
                            "ticks": ""
                          }
                        }
                      }
                    ],
                    "scattercarpet": [
                      {
                        "type": "scattercarpet",
                        "marker": {
                          "colorbar": {
                            "outlinewidth": 0,
                            "ticks": ""
                          }
                        }
                      }
                    ],
                    "carpet": [
                      {
                        "aaxis": {
                          "endlinecolor": "#2a3f5f",
                          "gridcolor": "white",
                          "linecolor": "white",
                          "minorgridcolor": "white",
                          "startlinecolor": "#2a3f5f"
                        },
                        "baxis": {
                          "endlinecolor": "#2a3f5f",
                          "gridcolor": "white",
                          "linecolor": "white",
                          "minorgridcolor": "white",
                          "startlinecolor": "#2a3f5f"
                        },
                        "type": "carpet"
                      }
                    ],
                    "table": [
                      {
                        "cells": {
                          "fill": {
                            "color": "#EBF0F8"
                          },
                          "line": {
                            "color": "white"
                          }
                        },
                        "header": {
                          "fill": {
                            "color": "#C8D4E3"
                          },
                          "line": {
                            "color": "white"
                          }
                        },
                        "type": "table"
                      }
                    ],
                    "barpolar": [
                      {
                        "marker": {
                          "line": {
                            "color": "#E5ECF6",
                            "width": 0.5
                          },
                          "pattern": {
                            "fillmode": "overlay",
                            "size": 10,
                            "solidity": 0.2
                          }
                        },
                        "type": "barpolar"
                      }
                    ],
                    "pie": [
                      {
                        "automargin": true,
                        "type": "pie"
                      }
                    ]
                  },
                  "layout": {
                    "autotypenumbers": "strict",
                    "colorway": [
                      "#636efa",
                      "#EF553B",
                      "#00cc96",
                      "#ab63fa",
                      "#FFA15A",
                      "#19d3f3",
                      "#FF6692",
                      "#B6E880",
                      "#FF97FF",
                      "#FECB52"
                    ],
                    "font": {
                      "color": "#2a3f5f"
                    },
                    "hovermode": "closest",
                    "hoverlabel": {
                      "align": "left"
                    },
                    "paper_bgcolor": "white",
                    "plot_bgcolor": "#E5ECF6",
                    "polar": {
                      "bgcolor": "#E5ECF6",
                      "angularaxis": {
                        "gridcolor": "white",
                        "linecolor": "white",
                        "ticks": ""
                      },
                      "radialaxis": {
                        "gridcolor": "white",
                        "linecolor": "white",
                        "ticks": ""
                      }
                    },
                    "ternary": {
                      "bgcolor": "#E5ECF6",
                      "aaxis": {
                        "gridcolor": "white",
                        "linecolor": "white",
                        "ticks": ""
                      },
                      "baxis": {
                        "gridcolor": "white",
                        "linecolor": "white",
                        "ticks": ""
                      },
                      "caxis": {
                        "gridcolor": "white",
                        "linecolor": "white",
                        "ticks": ""
                      }
                    },
                    "coloraxis": {
                      "colorbar": {
                        "outlinewidth": 0,
                        "ticks": ""
                      }
                    },
                    "colorscale": {
                      "sequential": [
                        [
                          0,
                          "#0d0887"
                        ],
                        [
                          0.1111111111111111,
                          "#46039f"
                        ],
                        [
                          0.2222222222222222,
                          "#7201a8"
                        ],
                        [
                          0.3333333333333333,
                          "#9c179e"
                        ],
                        [
                          0.4444444444444444,
                          "#bd3786"
                        ],
                        [
                          0.5555555555555556,
                          "#d8576b"
                        ],
                        [
                          0.6666666666666666,
                          "#ed7953"
                        ],
                        [
                          0.7777777777777778,
                          "#fb9f3a"
                        ],
                        [
                          0.8888888888888888,
                          "#fdca26"
                        ],
                        [
                          1,
                          "#f0f921"
                        ]
                      ],
                      "sequentialminus": [
                        [
                          0,
                          "#0d0887"
                        ],
                        [
                          0.1111111111111111,
                          "#46039f"
                        ],
                        [
                          0.2222222222222222,
                          "#7201a8"
                        ],
                        [
                          0.3333333333333333,
                          "#9c179e"
                        ],
                        [
                          0.4444444444444444,
                          "#bd3786"
                        ],
                        [
                          0.5555555555555556,
                          "#d8576b"
                        ],
                        [
                          0.6666666666666666,
                          "#ed7953"
                        ],
                        [
                          0.7777777777777778,
                          "#fb9f3a"
                        ],
                        [
                          0.8888888888888888,
                          "#fdca26"
                        ],
                        [
                          1,
                          "#f0f921"
                        ]
                      ],
                      "diverging": [
                        [
                          0,
                          "#8e0152"
                        ],
                        [
                          0.1,
                          "#c51b7d"
                        ],
                        [
                          0.2,
                          "#de77ae"
                        ],
                        [
                          0.3,
                          "#f1b6da"
                        ],
                        [
                          0.4,
                          "#fde0ef"
                        ],
                        [
                          0.5,
                          "#f7f7f7"
                        ],
                        [
                          0.6,
                          "#e6f5d0"
                        ],
                        [
                          0.7,
                          "#b8e186"
                        ],
                        [
                          0.8,
                          "#7fbc41"
                        ],
                        [
                          0.9,
                          "#4d9221"
                        ],
                        [
                          1,
                          "#276419"
                        ]
                      ]
                    },
                    "xaxis": {
                      "gridcolor": "white",
                      "linecolor": "white",
                      "ticks": "",
                      "title": {
                        "standoff": 15
                      },
                      "zerolinecolor": "white",
                      "automargin": true,
                      "zerolinewidth": 2
                    },
                    "yaxis": {
                      "gridcolor": "white",
                      "linecolor": "white",
                      "ticks": "",
                      "title": {
                        "standoff": 15
                      },
                      "zerolinecolor": "white",
                      "automargin": true,
                      "zerolinewidth": 2
                    },
                    "scene": {
                      "xaxis": {
                        "backgroundcolor": "#E5ECF6",
                        "gridcolor": "white",
                        "linecolor": "white",
                        "showbackground": true,
                        "ticks": "",
                        "zerolinecolor": "white",
                        "gridwidth": 2
                      },
                      "yaxis": {
                        "backgroundcolor": "#E5ECF6",
                        "gridcolor": "white",
                        "linecolor": "white",
                        "showbackground": true,
                        "ticks": "",
                        "zerolinecolor": "white",
                        "gridwidth": 2
                      },
                      "zaxis": {
                        "backgroundcolor": "#E5ECF6",
                        "gridcolor": "white",
                        "linecolor": "white",
                        "showbackground": true,
                        "ticks": "",
                        "zerolinecolor": "white",
                        "gridwidth": 2
                      }
                    },
                    "shapedefaults": {
                      "line": {
                        "color": "#2a3f5f"
                      }
                    },
                    "annotationdefaults": {
                      "arrowcolor": "#2a3f5f",
                      "arrowhead": 0,
                      "arrowwidth": 1
                    },
                    "geo": {
                      "bgcolor": "white",
                      "landcolor": "#E5ECF6",
                      "subunitcolor": "white",
                      "showland": true,
                      "showlakes": true,
                      "lakecolor": "white"
                    },
                    "title": {
                      "x": 0.05
                    },
                    "mapbox": {
                      "style": "light"
                    }
                  }
                },
                "xaxis": {
                  "anchor": "y",
                  "domain": [
                    0,
                    1
                  ],
                  "title": {}
                },
                "yaxis": {
                  "anchor": "x",
                  "domain": [
                    0,
                    1
                  ],
                  "title": {}
                },
                "legend": {
                  "title": {
                    "text": "variable"
                  },
                  "tracegroupgap": 0
                },
                "title": {
                  "text": "???"
                },
                "barmode": "relative"
              },
              "config": {
                "plotlyServerURL": "https://plot.ly"
              }
            },
            "text/html": [
              "<html>\n",
              "<head><meta charset=\"utf-8\" /></head>\n",
              "<body>\n",
              "    <div>            <script src=\"https://cdnjs.cloudflare.com/ajax/libs/mathjax/2.7.5/MathJax.js?config=TeX-AMS-MML_SVG\"></script><script type=\"text/javascript\">if (window.MathJax && window.MathJax.Hub && window.MathJax.Hub.Config) {window.MathJax.Hub.Config({SVG: {font: \"STIX-Web\"}});}</script>                <script type=\"text/javascript\">window.PlotlyConfig = {MathJaxConfig: 'local'};</script>\n",
              "        <script src=\"https://cdn.plot.ly/plotly-2.18.0.min.js\"></script>                <div id=\"2d321ccd-3df1-4939-9d7f-d3ff316cf024\" class=\"plotly-graph-div\" style=\"height:525px; width:100%;\"></div>            <script type=\"text/javascript\">                                    window.PLOTLYENV=window.PLOTLYENV || {};                                    if (document.getElementById(\"2d321ccd-3df1-4939-9d7f-d3ff316cf024\")) {                    Plotly.newPlot(                        \"2d321ccd-3df1-4939-9d7f-d3ff316cf024\",                        [{\"alignmentgroup\":\"True\",\"hovertemplate\":\"variable=lex<br>index=%{x}<br>value=%{y}<extra></extra>\",\"legendgroup\":\"lex\",\"marker\":{\"color\":\"#636efa\",\"pattern\":{\"shape\":\"\"}},\"name\":\"lex\",\"offsetgroup\":\"lex\",\"orientation\":\"v\",\"showlegend\":true,\"textposition\":\"auto\",\"x\":[\"\\u043f\\u044c\\u0435\\u0440\",\"\\u0430\\u043d\\u0434\\u0440\\u0435\\u0439\",\"\\u043d\\u0430\\u0442\\u0430\\u0448\\u0430\",\"\\u043c\\u0430\\u0440\\u044c\\u044f\",\"\\u043d\\u0438\\u043a\\u043e\\u043b\\u0430\\u0439\",\"\\u0441\\u043e\\u043d\\u044f\",\"\\u0431\\u043e\\u0440\\u0438\\u0441\",\"\\u0430\\u043d\\u043d\\u0430\",\"\\u0430\\u043d\\u0430\\u0442\\u043e\\u043b\\u044c\",\"\\u0432\\u0430\\u0441\\u0438\\u043b\\u0438\\u0439\",\"\\u044d\\u043b\\u0435\\u043d\",\"\\u043d\\u0430\\u043f\\u043e\\u043b\\u0435\\u043e\\u043d\",\"\\u0438\\u043b\\u044c\\u044f\",\"\\u0436\\u044e\\u043b\\u0438\",\"\\u043f\\u0435\\u0442\\u044f\",\"\\u0438\\u043f\\u043f\\u043e\\u043b\\u0438\\u0442\",\"\\u0430\\u043b\\u0435\\u043a\\u0441\\u0430\\u043d\\u0434\\u0440\",\"\\u0432\\u0435\\u0440\\u0430\",\"\\u0442\\u0438\\u0445\\u043e\\u043d\",\"\\u043d\\u0438\\u043a\\u043e\\u043b\\u0435\\u043d\\u044c\\u043a\\u0430\",\"\\u043b\\u0438\\u0437\\u0430\",\"\\u043d\\u0438\\u043a\\u043e\\u043b\\u0443\\u0448\\u043a\\u0430\",\"\\u043c\\u0438\\u0442\\u0435\\u043d\\u044c\\u043a\\u0430\",\"\\u0434\\u0430\\u043d\\u0438\\u043b\\u043e\",\"\\u0444\\u0440\\u0430\\u043d\\u0446\",\"\\u0434\\u0430\\u043d\\u0438\\u043b\\u0430\",\"\\u043f\\u0435\\u0442\\u0440\",\"\\u043c\\u0438\\u0445\\u0430\\u0438\\u043b\",\"\\u0440\\u0435\\u0434\",\"\\u0430\\u043d\\u0438\\u0441\\u044c\\u044f\",\"\\u0441\\u0435\\u0440\\u0433\\u0435\\u0439\",\"\\u0438\\u043e\\u0441\\u0438\\u0444\",\"\\u043c\\u0430\\u0440\\u0438\",\"\\u0441\\u0435\\u043c\\u0435\\u043d\",\"\\u0432\\u0430\\u0441\\u044c\\u043a\\u0430\"],\"xaxis\":\"x\",\"y\":[940,845,752,364,326,314,265,255,215,166,108,88,57,54,51,49,48,39,27,26,24,24,24,19,18,18,17,17,16,15,14,14,13,12,11],\"yaxis\":\"y\",\"type\":\"bar\"}],                        {\"template\":{\"data\":{\"histogram2dcontour\":[{\"type\":\"histogram2dcontour\",\"colorbar\":{\"outlinewidth\":0,\"ticks\":\"\"},\"colorscale\":[[0.0,\"#0d0887\"],[0.1111111111111111,\"#46039f\"],[0.2222222222222222,\"#7201a8\"],[0.3333333333333333,\"#9c179e\"],[0.4444444444444444,\"#bd3786\"],[0.5555555555555556,\"#d8576b\"],[0.6666666666666666,\"#ed7953\"],[0.7777777777777778,\"#fb9f3a\"],[0.8888888888888888,\"#fdca26\"],[1.0,\"#f0f921\"]]}],\"choropleth\":[{\"type\":\"choropleth\",\"colorbar\":{\"outlinewidth\":0,\"ticks\":\"\"}}],\"histogram2d\":[{\"type\":\"histogram2d\",\"colorbar\":{\"outlinewidth\":0,\"ticks\":\"\"},\"colorscale\":[[0.0,\"#0d0887\"],[0.1111111111111111,\"#46039f\"],[0.2222222222222222,\"#7201a8\"],[0.3333333333333333,\"#9c179e\"],[0.4444444444444444,\"#bd3786\"],[0.5555555555555556,\"#d8576b\"],[0.6666666666666666,\"#ed7953\"],[0.7777777777777778,\"#fb9f3a\"],[0.8888888888888888,\"#fdca26\"],[1.0,\"#f0f921\"]]}],\"heatmap\":[{\"type\":\"heatmap\",\"colorbar\":{\"outlinewidth\":0,\"ticks\":\"\"},\"colorscale\":[[0.0,\"#0d0887\"],[0.1111111111111111,\"#46039f\"],[0.2222222222222222,\"#7201a8\"],[0.3333333333333333,\"#9c179e\"],[0.4444444444444444,\"#bd3786\"],[0.5555555555555556,\"#d8576b\"],[0.6666666666666666,\"#ed7953\"],[0.7777777777777778,\"#fb9f3a\"],[0.8888888888888888,\"#fdca26\"],[1.0,\"#f0f921\"]]}],\"heatmapgl\":[{\"type\":\"heatmapgl\",\"colorbar\":{\"outlinewidth\":0,\"ticks\":\"\"},\"colorscale\":[[0.0,\"#0d0887\"],[0.1111111111111111,\"#46039f\"],[0.2222222222222222,\"#7201a8\"],[0.3333333333333333,\"#9c179e\"],[0.4444444444444444,\"#bd3786\"],[0.5555555555555556,\"#d8576b\"],[0.6666666666666666,\"#ed7953\"],[0.7777777777777778,\"#fb9f3a\"],[0.8888888888888888,\"#fdca26\"],[1.0,\"#f0f921\"]]}],\"contourcarpet\":[{\"type\":\"contourcarpet\",\"colorbar\":{\"outlinewidth\":0,\"ticks\":\"\"}}],\"contour\":[{\"type\":\"contour\",\"colorbar\":{\"outlinewidth\":0,\"ticks\":\"\"},\"colorscale\":[[0.0,\"#0d0887\"],[0.1111111111111111,\"#46039f\"],[0.2222222222222222,\"#7201a8\"],[0.3333333333333333,\"#9c179e\"],[0.4444444444444444,\"#bd3786\"],[0.5555555555555556,\"#d8576b\"],[0.6666666666666666,\"#ed7953\"],[0.7777777777777778,\"#fb9f3a\"],[0.8888888888888888,\"#fdca26\"],[1.0,\"#f0f921\"]]}],\"surface\":[{\"type\":\"surface\",\"colorbar\":{\"outlinewidth\":0,\"ticks\":\"\"},\"colorscale\":[[0.0,\"#0d0887\"],[0.1111111111111111,\"#46039f\"],[0.2222222222222222,\"#7201a8\"],[0.3333333333333333,\"#9c179e\"],[0.4444444444444444,\"#bd3786\"],[0.5555555555555556,\"#d8576b\"],[0.6666666666666666,\"#ed7953\"],[0.7777777777777778,\"#fb9f3a\"],[0.8888888888888888,\"#fdca26\"],[1.0,\"#f0f921\"]]}],\"mesh3d\":[{\"type\":\"mesh3d\",\"colorbar\":{\"outlinewidth\":0,\"ticks\":\"\"}}],\"scatter\":[{\"fillpattern\":{\"fillmode\":\"overlay\",\"size\":10,\"solidity\":0.2},\"type\":\"scatter\"}],\"parcoords\":[{\"type\":\"parcoords\",\"line\":{\"colorbar\":{\"outlinewidth\":0,\"ticks\":\"\"}}}],\"scatterpolargl\":[{\"type\":\"scatterpolargl\",\"marker\":{\"colorbar\":{\"outlinewidth\":0,\"ticks\":\"\"}}}],\"bar\":[{\"error_x\":{\"color\":\"#2a3f5f\"},\"error_y\":{\"color\":\"#2a3f5f\"},\"marker\":{\"line\":{\"color\":\"#E5ECF6\",\"width\":0.5},\"pattern\":{\"fillmode\":\"overlay\",\"size\":10,\"solidity\":0.2}},\"type\":\"bar\"}],\"scattergeo\":[{\"type\":\"scattergeo\",\"marker\":{\"colorbar\":{\"outlinewidth\":0,\"ticks\":\"\"}}}],\"scatterpolar\":[{\"type\":\"scatterpolar\",\"marker\":{\"colorbar\":{\"outlinewidth\":0,\"ticks\":\"\"}}}],\"histogram\":[{\"marker\":{\"pattern\":{\"fillmode\":\"overlay\",\"size\":10,\"solidity\":0.2}},\"type\":\"histogram\"}],\"scattergl\":[{\"type\":\"scattergl\",\"marker\":{\"colorbar\":{\"outlinewidth\":0,\"ticks\":\"\"}}}],\"scatter3d\":[{\"type\":\"scatter3d\",\"line\":{\"colorbar\":{\"outlinewidth\":0,\"ticks\":\"\"}},\"marker\":{\"colorbar\":{\"outlinewidth\":0,\"ticks\":\"\"}}}],\"scattermapbox\":[{\"type\":\"scattermapbox\",\"marker\":{\"colorbar\":{\"outlinewidth\":0,\"ticks\":\"\"}}}],\"scatterternary\":[{\"type\":\"scatterternary\",\"marker\":{\"colorbar\":{\"outlinewidth\":0,\"ticks\":\"\"}}}],\"scattercarpet\":[{\"type\":\"scattercarpet\",\"marker\":{\"colorbar\":{\"outlinewidth\":0,\"ticks\":\"\"}}}],\"carpet\":[{\"aaxis\":{\"endlinecolor\":\"#2a3f5f\",\"gridcolor\":\"white\",\"linecolor\":\"white\",\"minorgridcolor\":\"white\",\"startlinecolor\":\"#2a3f5f\"},\"baxis\":{\"endlinecolor\":\"#2a3f5f\",\"gridcolor\":\"white\",\"linecolor\":\"white\",\"minorgridcolor\":\"white\",\"startlinecolor\":\"#2a3f5f\"},\"type\":\"carpet\"}],\"table\":[{\"cells\":{\"fill\":{\"color\":\"#EBF0F8\"},\"line\":{\"color\":\"white\"}},\"header\":{\"fill\":{\"color\":\"#C8D4E3\"},\"line\":{\"color\":\"white\"}},\"type\":\"table\"}],\"barpolar\":[{\"marker\":{\"line\":{\"color\":\"#E5ECF6\",\"width\":0.5},\"pattern\":{\"fillmode\":\"overlay\",\"size\":10,\"solidity\":0.2}},\"type\":\"barpolar\"}],\"pie\":[{\"automargin\":true,\"type\":\"pie\"}]},\"layout\":{\"autotypenumbers\":\"strict\",\"colorway\":[\"#636efa\",\"#EF553B\",\"#00cc96\",\"#ab63fa\",\"#FFA15A\",\"#19d3f3\",\"#FF6692\",\"#B6E880\",\"#FF97FF\",\"#FECB52\"],\"font\":{\"color\":\"#2a3f5f\"},\"hovermode\":\"closest\",\"hoverlabel\":{\"align\":\"left\"},\"paper_bgcolor\":\"white\",\"plot_bgcolor\":\"#E5ECF6\",\"polar\":{\"bgcolor\":\"#E5ECF6\",\"angularaxis\":{\"gridcolor\":\"white\",\"linecolor\":\"white\",\"ticks\":\"\"},\"radialaxis\":{\"gridcolor\":\"white\",\"linecolor\":\"white\",\"ticks\":\"\"}},\"ternary\":{\"bgcolor\":\"#E5ECF6\",\"aaxis\":{\"gridcolor\":\"white\",\"linecolor\":\"white\",\"ticks\":\"\"},\"baxis\":{\"gridcolor\":\"white\",\"linecolor\":\"white\",\"ticks\":\"\"},\"caxis\":{\"gridcolor\":\"white\",\"linecolor\":\"white\",\"ticks\":\"\"}},\"coloraxis\":{\"colorbar\":{\"outlinewidth\":0,\"ticks\":\"\"}},\"colorscale\":{\"sequential\":[[0.0,\"#0d0887\"],[0.1111111111111111,\"#46039f\"],[0.2222222222222222,\"#7201a8\"],[0.3333333333333333,\"#9c179e\"],[0.4444444444444444,\"#bd3786\"],[0.5555555555555556,\"#d8576b\"],[0.6666666666666666,\"#ed7953\"],[0.7777777777777778,\"#fb9f3a\"],[0.8888888888888888,\"#fdca26\"],[1.0,\"#f0f921\"]],\"sequentialminus\":[[0.0,\"#0d0887\"],[0.1111111111111111,\"#46039f\"],[0.2222222222222222,\"#7201a8\"],[0.3333333333333333,\"#9c179e\"],[0.4444444444444444,\"#bd3786\"],[0.5555555555555556,\"#d8576b\"],[0.6666666666666666,\"#ed7953\"],[0.7777777777777778,\"#fb9f3a\"],[0.8888888888888888,\"#fdca26\"],[1.0,\"#f0f921\"]],\"diverging\":[[0,\"#8e0152\"],[0.1,\"#c51b7d\"],[0.2,\"#de77ae\"],[0.3,\"#f1b6da\"],[0.4,\"#fde0ef\"],[0.5,\"#f7f7f7\"],[0.6,\"#e6f5d0\"],[0.7,\"#b8e186\"],[0.8,\"#7fbc41\"],[0.9,\"#4d9221\"],[1,\"#276419\"]]},\"xaxis\":{\"gridcolor\":\"white\",\"linecolor\":\"white\",\"ticks\":\"\",\"title\":{\"standoff\":15},\"zerolinecolor\":\"white\",\"automargin\":true,\"zerolinewidth\":2},\"yaxis\":{\"gridcolor\":\"white\",\"linecolor\":\"white\",\"ticks\":\"\",\"title\":{\"standoff\":15},\"zerolinecolor\":\"white\",\"automargin\":true,\"zerolinewidth\":2},\"scene\":{\"xaxis\":{\"backgroundcolor\":\"#E5ECF6\",\"gridcolor\":\"white\",\"linecolor\":\"white\",\"showbackground\":true,\"ticks\":\"\",\"zerolinecolor\":\"white\",\"gridwidth\":2},\"yaxis\":{\"backgroundcolor\":\"#E5ECF6\",\"gridcolor\":\"white\",\"linecolor\":\"white\",\"showbackground\":true,\"ticks\":\"\",\"zerolinecolor\":\"white\",\"gridwidth\":2},\"zaxis\":{\"backgroundcolor\":\"#E5ECF6\",\"gridcolor\":\"white\",\"linecolor\":\"white\",\"showbackground\":true,\"ticks\":\"\",\"zerolinecolor\":\"white\",\"gridwidth\":2}},\"shapedefaults\":{\"line\":{\"color\":\"#2a3f5f\"}},\"annotationdefaults\":{\"arrowcolor\":\"#2a3f5f\",\"arrowhead\":0,\"arrowwidth\":1},\"geo\":{\"bgcolor\":\"white\",\"landcolor\":\"#E5ECF6\",\"subunitcolor\":\"white\",\"showland\":true,\"showlakes\":true,\"lakecolor\":\"white\"},\"title\":{\"x\":0.05},\"mapbox\":{\"style\":\"light\"}}},\"xaxis\":{\"anchor\":\"y\",\"domain\":[0.0,1.0],\"title\":{}},\"yaxis\":{\"anchor\":\"x\",\"domain\":[0.0,1.0],\"title\":{}},\"legend\":{\"title\":{\"text\":\"variable\"},\"tracegroupgap\":0},\"title\":{\"text\":\"???\"},\"barmode\":\"relative\"},                        {\"responsive\": true}                    ).then(function(){\n",
              "                            \n",
              "var gd = document.getElementById('2d321ccd-3df1-4939-9d7f-d3ff316cf024');\n",
              "var x = new MutationObserver(function (mutations, observer) {{\n",
              "        var display = window.getComputedStyle(gd).display;\n",
              "        if (!display || display === 'none') {{\n",
              "            console.log([gd, 'removed!']);\n",
              "            Plotly.purge(gd);\n",
              "            observer.disconnect();\n",
              "        }}\n",
              "}});\n",
              "\n",
              "// Listen for the removal of the full notebook cells\n",
              "var notebookContainer = gd.closest('#notebook-container');\n",
              "if (notebookContainer) {{\n",
              "    x.observe(notebookContainer, {childList: true});\n",
              "}}\n",
              "\n",
              "// Listen for the clearing of the current output cell\n",
              "var outputEl = gd.closest('.output');\n",
              "if (outputEl) {{\n",
              "    x.observe(outputEl, {childList: true});\n",
              "}}\n",
              "\n",
              "                        })                };                            </script>        </div>\n",
              "</body>\n",
              "</html>"
            ]
          },
          "metadata": {}
        }
      ]
    },
    {
      "cell_type": "markdown",
      "source": [
        "### 1.2 Distribution plot"
      ],
      "metadata": {
        "id": "Wk5XeUONtczd"
      }
    },
    {
      "cell_type": "markdown",
      "source": [
        "распределение упоминаний трёх главных героев по тексту."
      ],
      "metadata": {
        "id": "aZp1F7tgbDA3"
      }
    },
    {
      "cell_type": "code",
      "source": [
        "import plotly.figure_factory as ff  "
      ],
      "metadata": {
        "id": "wqFc6f-4fYh8"
      },
      "execution_count": 14,
      "outputs": []
    },
    {
      "cell_type": "code",
      "source": [
        "main_characters = ['пьер', 'андрей', 'наташа']\n",
        "\n",
        "main_characters_df_list = [list(tolstoy_df[tolstoy_df['lex'] == character].index) for character in main_characters]"
      ],
      "metadata": {
        "id": "ds_o3JQLcyMq"
      },
      "execution_count": 15,
      "outputs": []
    },
    {
      "cell_type": "code",
      "source": [
        "fig4 = ff.create_distplot(main_characters_df_list, group_labels=main_characters, bin_size=1000, show_hist=True)\n",
        "fig4.show()"
      ],
      "metadata": {
        "colab": {
          "base_uri": "https://localhost:8080/",
          "height": 542
        },
        "id": "UzRM9vHAhHLN",
        "outputId": "807ab46e-2f03-4976-f9d4-0688b7b8c32f"
      },
      "execution_count": 26,
      "outputs": [
        {
          "output_type": "display_data",
          "data": {
            "text/html": [
              "<html>\n",
              "<head><meta charset=\"utf-8\" /></head>\n",
              "<body>\n",
              "    <div>            <script src=\"https://cdnjs.cloudflare.com/ajax/libs/mathjax/2.7.5/MathJax.js?config=TeX-AMS-MML_SVG\"></script><script type=\"text/javascript\">if (window.MathJax && window.MathJax.Hub && window.MathJax.Hub.Config) {window.MathJax.Hub.Config({SVG: {font: \"STIX-Web\"}});}</script>                <script type=\"text/javascript\">window.PlotlyConfig = {MathJaxConfig: 'local'};</script>\n",
              "        <script src=\"https://cdn.plot.ly/plotly-2.18.0.min.js\"></script>                <div id=\"c4c1beaa-86a0-44b0-91c9-a8c47ce73c2e\" class=\"plotly-graph-div\" style=\"height:525px; width:100%;\"></div>            <script type=\"text/javascript\">                                    window.PLOTLYENV=window.PLOTLYENV || {};                                    if (document.getElementById(\"c4c1beaa-86a0-44b0-91c9-a8c47ce73c2e\")) {                    Plotly.newPlot(                        \"c4c1beaa-86a0-44b0-91c9-a8c47ce73c2e\",                        [{\"autobinx\":false,\"histnorm\":\"probability density\",\"legendgroup\":\"\\u043f\\u044c\\u0435\\u0440\",\"marker\":{\"color\":\"rgb(31, 119, 180)\"},\"name\":\"\\u043f\\u044c\\u0435\\u0440\",\"opacity\":0.7,\"x\":[1677,1699,1743,1772,1833,1979,2006,2966,3040,3052,3113,3265,3309,3325,3332,3360,3450,3471,3477,4309,4400,4417,4464,4488,4543,4598,4697,4846,4857,4875,4945,5047,5089,5276,5301,5417,5785,5827,5883,5960,5991,6050,6068,6159,6206,6231,6286,6356,6373,6393,6492,6537,6564,6651,6714,6745,6821,6883,7001,7077,7209,7360,7525,7572,7573,7596,7606,7641,7654,7712,7825,7839,7867,7919,7930,7967,7991,8123,8179,8297,8335,8364,8368,8430,8439,8462,8677,8678,8710,9030,9178,9198,9252,9305,9377,9437,9496,10047,10344,10396,10434,10469,14747,14795,14821,14941,15004,15020,15050,15076,15095,15142,15159,15180,15260,15315,15325,15363,15370,15425,15544,15577,15612,15615,15659,15721,15791,15845,15962,15988,16012,16149,17452,17782,17806,18020,18143,18155,18269,18796,18953,19075,19927,20064,20080,20099,20115,20140,21646,21748,21758,21763,21858,21974,21978,22094,22668,22720,22773,22815,22837,22904,22950,22970,22989,22997,23037,23071,23105,23172,23243,23281,23329,23361,23482,23491,23523,23604,23623,23787,23818,23842,23939,23941,23978,24056,24328,24376,24522,24602,24673,24695,24729,24846,24891,24895,24937,24977,25009,25037,25059,25079,25123,25152,25171,25206,25256,25289,25318,25349,25378,25404,25414,25422,25435,25485,25503,25591,25623,25891,26019,26097,26167,26204,26212,26236,26248,26287,26291,26294,26310,26323,26356,26357,26359,26374,26466,28651,62514,62573,62638,62700,62808,62904,62970,62992,63050,63077,63085,63193,63210,63259,63382,63535,63565,63612,63666,63675,63761,63862,63887,63918,63949,63980,64014,64039,64095,64096,64180,64222,64241,64253,64286,64311,64374,64517,64581,64668,64720,64775,64799,65191,65239,65281,65314,65403,65426,65472,65484,65612,65654,65717,65759,65879,65912,66208,66306,66356,66513,66526,66634,66805,66839,66860,66904,66914,66970,67034,67170,67171,67210,67257,67269,67296,67305,67320,67348,67391,67442,67493,67501,67518,67550,67578,67607,67625,67688,67733,67750,75910,100084,100100,100792,101711,102075,102212,102244,102268,102294,102318,102327,102335,102382,102510,102543,102566,102593,102608,102611,102625,102646,102673,102731,102769,102780,102801,102821,102884,102911,102932,102994,103121,103136,103216,103302,103373,103443,103623,103748,103762,103810,103832,103952,103972,104047,104099,104307,104640,104870,104887,104925,105034,105242,105325,105394,105413,105508,105555,105587,105656,105704,105741,105754,109306,109998,115230,115247,115282,115386,115564,115730,115840,115880,115927,115952,116001,116052,116113,116155,116162,116186,116208,116209,116243,116299,116333,116344,116348,116392,116423,116462,116505,116520,116637,116656,116716,116726,116781,116914,116936,117117,117245,117341,117425,117483,117663,117704,117732,117767,117784,117827,117888,117993,118012,118094,118125,118163,118199,118269,118284,118289,118329,118345,118376,118396,118459,118475,118498,118560,118585,118590,118710,118730,118777,118873,118946,118986,119021,119041,119067,119089,119125,119158,119203,119220,119249,119464,119531,119669,119712,119762,119778,119801,119892,119929,119948,119967,119994,120021,120071,120109,120124,120153,120168,120212,120236,120256,120320,120378,120476,120489,120529,120582,120619,120643,120714,120749,120788,121005,121010,121036,121066,121091,121215,121219,121293,121325,121355,121409,121416,121479,121605,121630,121651,121815,121891,121933,121960,121967,122043,122123,122136,125443,125474,125578,125620,125647,125777,125791,125841,125854,125860,125924,125935,126008,126024,126036,126063,126079,126135,126227,126267,126299,126384,126409,126430,126582,126626,126683,126706,126734,126829,126862,126997,127011,127073,127093,127116,127189,127248,127263,127278,127283,127309,127367,127407,127436,127448,127474,127501,127513,127534,127535,127658,127680,127691,127760,127821,127867,127925,127969,128000,128107,128153,128160,128169,128292,128336,128691,128736,129148,129314,129375,129380,129393,129416,129427,129446,129459,129499,129613,129688,129697,129708,129723,129786,129855,129872,129930,130178,130280,130326,130358,130370,130398,130422,130449,130514,130543,130562,130645,130683,130710,130737,130806,130880,130907,131188,131224,131342,131351,131468,131492,131510,131595,131618,131784,131799,131820,131837,131838,131875,131942,131989,131992,132030,132086,132115,132136,140538,140579,140674,140827,142311,142362,142654,145995,146097,146220,146301,146387,146405,146422,146510,146542,146594,146609,146677,146697,146734,147157,147166,147167,147187,147195,147244,147293,147310,147322,147396,147412,147430,147465,147496,147540,147591,147605,147624,148482,148569,148677,148722,148864,148873,148885,148886,148970,148986,148997,149025,149075,150889,150911,155328,155365,155376,155385,156211,156252,156531,157132,157183,157207,159207,159247,159422,159463,159849,159903,159929,160175,160192,160247,160280,160362,160364,160374,160406,160431,160452,160528,160651,160706,160776,160802,160810,160885,160905,161001,161459,161503,161519,161544,161647,161687,161729,161767,161854,161912,161918,161946,161979,162116,162150,162430,164599,164609,164657,184834,184944,184982,185110,185114,185294,185654,185758,185932,186004,186336,186348,186380,186426,188170,188644,188676,189286,189339,189423,189470,189493,189501,189529,189553,189643,189710,189806,189829,189836,189907,189958,189962,194363,195316,195363,195391,197302,197303,198754,198758,202345,205529,205572,205597,205657,205666,205673,205738,205769,205776,205792,205820,205843,205876,205892,205927,205943,206076,206114,206181,206245,206246,206269,206355,206456,206460,206485,206529,206543,206577,206629,206659,206704,206723,206762,206785,206817,206895,206916,206998,207019,207020,207036,207061,207104,207147,207179,207219,207232,207249,207264,207273,207308,207339,207430,207454,207471,207493,207528,207552,207558,207584,207602,207700,207712,207754,207824,207837,207889,207896,207945,207965,208028,208046,208155,208177,208203,208206,208224,208240,208302,208338,208401,208421,208459,208479,208490,208555,208587,208613,208635,208649,208680,208709,208735,208750,208822,208826,208843,208925,208950,208955,208971,209054,209113,209128,209181,209192,209211,209253,209275,209344,209363,209457,209461,209496,209543,209573,209605,209654,209668,209724,210101,210404,210419,210931,211588,211656,212092,212168,215558],\"xaxis\":\"x\",\"xbins\":{\"end\":215558.0,\"size\":1000,\"start\":1677.0},\"yaxis\":\"y\",\"type\":\"histogram\"},{\"autobinx\":false,\"histnorm\":\"probability density\",\"legendgroup\":\"\\u0430\\u043d\\u0434\\u0440\\u0435\\u0439\",\"marker\":{\"color\":\"rgb(255, 127, 14)\"},\"name\":\"\\u0430\\u043d\\u0434\\u0440\\u0435\\u0439\",\"opacity\":0.7,\"x\":[3138,3261,3270,3289,3354,3468,4168,4374,4426,4840,5026,5057,5083,5466,5697,5775,5794,5837,5877,5896,5928,5956,6067,6093,6152,6184,6208,6270,6307,6496,6615,6669,6689,6706,6767,6818,6876,6912,6983,7005,7007,7058,7229,7272,7451,7521,7576,7584,7611,7644,7686,7759,7831,7863,8007,8061,26504,27872,27915,28019,28070,28095,28110,28144,28191,28201,28229,28271,28344,28473,28518,28622,28743,28780,28848,28959,29134,29333,29378,29444,29728,29888,29954,30103,30251,30383,30407,30439,30467,30507,30689,30734,30800,30878,30906,30987,31082,31118,31204,31234,31364,31509,31528,31556,31564,31646,31676,31747,31769,31915,31980,32076,32241,32278,32331,32410,32430,32538,32557,34573,34634,35843,36216,36281,36344,36398,36500,36538,36556,36582,36592,36605,36623,36652,36675,36714,36957,37077,37118,37128,37304,37449,37482,45410,45480,45501,45555,45730,45747,45796,45834,45949,45969,45997,46155,46219,46301,46385,46425,46446,46470,46490,46569,46584,46592,46989,47087,47150,47445,47547,47597,47647,47717,47734,48016,48131,48176,48233,48460,48500,48522,48711,48862,48873,48917,48930,48973,49163,49174,49467,49523,49550,49589,49602,49745,49797,49832,49910,50135,50182,50250,50278,50328,50381,50419,50535,50563,50700,50711,50748,50771,50780,50828,50918,50928,50950,50987,51061,51227,51312,51327,52097,52214,52247,52289,52363,52505,52531,52578,52599,52706,52742,52752,52785,52807,53010,53120,53231,53291,53577,53754,53816,53855,54025,54158,54259,54334,54417,54526,54538,54551,54579,54617,54631,54656,54691,54961,55332,55508,55572,55869,56096,56775,56793,59098,59979,60109,60116,60155,60164,61229,61645,61669,61854,61869,61944,61993,62005,62016,63606,70986,73812,75914,77493,77499,77562,77624,77704,77727,77876,77931,78057,79615,79758,79892,79937,79973,80039,80079,80098,80146,80217,80233,80274,80288,80304,80426,80541,80711,80750,81073,81133,81159,81306,81316,81323,83364,83408,83513,83601,83729,83773,83801,83824,83846,83921,83939,84217,85131,85198,85205,85502,85572,85733,89026,89039,89126,89158,89192,89438,89476,89514,89528,89611,89647,89995,90113,90648,90732,90765,90799,90913,91038,91218,91246,91267,91318,91326,91370,91444,91469,91530,91652,95318,95536,95558,95779,96015,96084,96182,96264,96290,96318,96565,105790,106517,106613,106671,106987,107038,107787,107825,107958,108017,108091,108100,108126,108149,108166,108210,108232,108284,108306,108402,108449,108477,108583,123473,123703,123730,123746,123773,123806,123824,123837,123895,123920,123953,123998,124070,124125,124146,124255,124283,124304,124361,124506,124577,124669,124924,125182,125242,125314,125332,125352,125415,126851,126994,127092,127115,127135,127146,127158,127267,127295,127315,127402,127415,127443,127451,127497,127554,127636,127656,127690,127723,127765,127782,127834,127900,127996,128123,128365,128418,128602,128693,128796,128920,128968,129058,129094,129131,129307,129324,129378,129390,129433,129471,129522,129575,129690,129718,129732,129765,129802,129870,129893,130100,130135,130172,130250,130282,130350,130390,130404,130436,130491,130518,130541,130557,130615,130647,130681,130707,130824,130872,130879,130890,130999,131069,131071,131359,131499,131602,131665,131782,131824,131885,132010,138073,140522,140571,140645,140742,140768,140942,141132,141178,141211,141262,141277,141306,141386,141461,141497,141512,141612,141708,141721,141752,141833,141952,141993,142062,142071,142190,142197,142274,142343,142414,142561,142631,142719,142794,142916,142941,142969,142981,143013,143060,143080,143089,143143,143157,143239,143287,143328,143364,143377,143435,143529,143556,143597,143616,143637,143647,143782,143942,143969,144002,144152,144190,144238,144303,144374,144398,144452,144458,144570,144600,144657,144708,144723,144771,144817,144839,144877,144902,144989,145064,145221,145223,145275,145323,145336,145344,145446,145483,145522,145558,145581,145598,145602,145640,145711,145735,145780,145788,145829,145864,145924,145955,155454,155877,156112,156148,156197,156215,156261,156307,156383,156392,156489,156593,156703,156756,156758,156817,156852,156898,156978,156995,157048,157084,157269,157324,157399,157494,157581,157592,157620,157647,157670,157688,157715,157732,157801,157833,157874,157897,157906,158083,158103,158105,158217,158243,158343,158370,158393,158443,158454,158606,158644,158674,158687,158701,158726,158773,158837,158845,158859,159031,160309,160359,160451,160472,160495,160519,160542,160617,160691,160727,160761,160767,160837,160877,160889,161006,161032,161072,161122,161146,161312,161415,161456,161588,161616,161682,161718,161780,161906,161923,161959,161961,162074,162165,162184,162265,162352,162401,162441,162945,162983,163078,163127,163142,163202,163284,163302,163424,163541,163627,163711,163756,163793,163857,163874,163948,163971,164042,164047,164071,164136,164150,164234,164250,164264,164272,164279,164335,164365,164432,164473,164546,164595,164630,164679,164736,164771,165025,165164,165196,165218,165530,165859,166041,166106,166111,166160,166173,166627,166723,166747,168207,168393,168447,177259,178222,178993,179321,180505,183479,183695,183752,184270,184793,184838,184884,186977,187275,189693,189789,189834,191311,192060,192114,192139,193061,193842,195781,196864,197072,197133,197182,198037,198167,199752,199754,200430,200445,200518,200539,200864,201081,201427,201702,202349,205592,205650,205911,206010,206200,207774,207829,207842,207885,207900,207926,207955,208051,208111,208253,208334,208361,208405,208424,208462,208497,208518,208539,208557,208595,208620,208656,208682,208783,208796,208857,210526,210551,212836,212912,212937,212988,214369],\"xaxis\":\"x\",\"xbins\":{\"end\":214369.0,\"size\":1000,\"start\":3138.0},\"yaxis\":\"y\",\"type\":\"histogram\"},{\"autobinx\":false,\"histnorm\":\"probability density\",\"legendgroup\":\"\\u043d\\u0430\\u0442\\u0430\\u0448\\u0430\",\"marker\":{\"color\":\"rgb(44, 160, 44)\"},\"name\":\"\\u043d\\u0430\\u0442\\u0430\\u0448\\u0430\",\"opacity\":0.7,\"x\":[10797,10843,10881,10890,11118,11119,11186,11357,12110,12163,12190,12213,12240,12335,12392,12609,12625,12645,12886,12898,13012,13031,13069,13138,16971,17738,17743,17773,18151,18234,18932,18939,19007,19046,19071,19089,19152,19265,19272,19305,19333,19342,19391,19420,19454,19636,19726,19735,19820,19904,19936,19942,19969,20091,20146,20218,20219,20351,20608,20700,62149,74060,74103,74190,74228,74241,74264,74340,74437,74459,74522,74580,74607,74732,74772,74976,75015,75112,75542,86163,97138,97189,97216,97433,97455,97471,97480,97691,97707,97781,97806,97842,97875,97930,98110,98201,98243,98292,98444,98467,98491,98563,98585,98614,98655,98761,98848,109172,109284,109324,109423,109528,109580,109865,109935,110023,110033,110138,110184,110239,110695,110724,110799,110911,110935,111008,111021,111055,111071,111100,111235,111317,111381,112097,112124,113289,113292,113406,113414,113445,113462,113523,113604,113704,113804,113849,113914,114139,114240,114580,114611,114623,114643,114684,114850,114864,115017,115078,122737,133209,141535,151838,151968,152059,152088,152149,152172,152199,152213,152225,152243,152249,152295,152340,152358,152381,152415,152466,152494,152545,152677,152698,152764,152809,152828,152853,152901,152928,152952,152981,153027,153064,153099,153135,153145,153148,153272,153296,153340,153362,153406,153482,153527,153975,154097,154137,154161,154173,154205,154224,154233,154357,154402,154440,154445,154527,154683,154924,154954,155008,155045,155076,155358,155422,155450,155684,155843,155899,155924,156094,156256,156322,156347,156400,156463,156524,156595,156614,156707,156735,156781,156840,156863,156945,157022,157056,157100,157173,157229,157238,158657,158751,158776,158833,158881,158976,160199,160211,160386,160434,160474,160751,160827,160880,161042,161047,161077,161095,161105,161151,161170,161178,161301,161419,161428,161441,161467,161585,161613,161782,162413,162435,162454,162537,162538,162597,162820,162874,162912,162958,162967,163031,163054,163113,163120,163287,163323,163326,163366,163381,163500,163645,163731,163803,163839,163864,163894,163966,164003,164034,164059,164073,164144,164218,164261,164343,164358,164377,164391,164407,164479,164573,164618,164779,167504,167532,167576,167595,168147,168169,168199,168200,168222,168244,168283,168295,168484,168566,169763,169782,169820,169840,169873,169881,169978,170279,170317,170339,170375,170407,170418,170473,172881,173186,173502,173532,173848,174055,174178,174661,174921,174955,175036,175072,175226,175243,175279,175309,175543,175645,175650,175701,175728,175971,176053,176096,176167,176207,176331,176395,176473,176513,176517,176696,176697,176763,176872,176910,176944,176952,176992,177018,177042,177123,177241,177248,177282,177322,177345,177387,178263,178441,178480,178574,178581,178610,178675,178699,178714,178759,178851,178961,179046,179083,179088,179131,179149,179162,179180,179192,179338,179344,179407,179430,179450,179533,179586,179631,179725,179913,179956,180002,180015,180030,180074,180156,180230,180283,180297,180317,180338,180357,180485,180502,180555,180564,180581,180715,180925,181034,181197,181662,181878,181936,182068,182298,182931,183065,183070,183084,183099,183140,183178,183403,183410,183418,183427,183437,183567,183586,183603,183611,183634,183644,183669,183687,183763,183825,184357,184469,184616,184807,184825,184840,184886,191290,191656,191728,191952,191996,192031,192093,192104,192225,192238,192281,192363,192477,192649,192708,192782,192796,192837,192947,192948,192977,192990,193026,193076,193092,193133,193145,193178,193196,193228,193252,193266,193279,193293,193319,193356,193382,193490,193587,193679,193751,193762,193813,193839,193863,193972,193991,194036,194090,194319,194338,194423,194437,194440,194501,194663,194766,194774,194824,194935,195043,195065,195070,195138,195176,195190,195239,195279,195340,195365,195385,195392,195562,195660,195666,195755,195798,195817,196090,196110,196137,196142,196207,196312,196313,196445,196511,196522,196577,196704,196781,196821,196828,196849,197023,197055,197150,197883,198011,198016,198202,198392,198405,198465,198492,198596,198606,198620,198652,198675,198686,198698,198711,198734,198760,198797,198803,198884,198906,198981,198988,199019,199045,199057,199132,199200,199223,199250,199258,199299,199344,199371,199460,199659,199725,199737,199866,199909,199995,200142,200172,200189,200224,200260,200322,200393,200571,200629,200734,200762,200776,200809,200939,200945,200950,200977,200992,201002,201033,201050,201058,201063,201099,201128,201145,201180,201253,201299,201337,201350,201377,201393,201440,201448,201493,201519,201547,201592,201593,201632,201652,201664,201765,201781,201790,201812,201832,201859,201878,201996,202004,202012,202030,202041,202042,202065,202092,202103,202107,202169,202201,202237,202258,202269,202322,202378,202461,202473,204559,204571,204589,204662,204722,204797,204825,204856,204870,204945,204963,205007,205078,205122,205143,205161,205176,205207,205225,205242,205309,205323,205408,205445,205549,205599,205794,205857,205880,205918,205954,206032,206049,206258,206320,206382,206438,206445,206472,206473,206547,206556,207625,207711,207804,207856,207883,207910,208409,208834,208868,208937,209120,209203,209234,209280,209356,209442,215965],\"xaxis\":\"x\",\"xbins\":{\"end\":215965.0,\"size\":1000,\"start\":10797.0},\"yaxis\":\"y\",\"type\":\"histogram\"},{\"legendgroup\":\"\\u043f\\u044c\\u0435\\u0440\",\"marker\":{\"color\":\"rgb(31, 119, 180)\"},\"mode\":\"lines\",\"name\":\"\\u043f\\u044c\\u0435\\u0440\",\"showlegend\":false,\"x\":[1677.0,2104.762,2532.524,2960.286,3388.048,3815.81,4243.572,4671.334,5099.096,5526.858,5954.62,6382.382,6810.144,7237.906,7665.668,8093.43,8521.192,8948.954,9376.716,9804.478,10232.24,10660.002,11087.764,11515.526,11943.288,12371.05,12798.812,13226.574,13654.336,14082.098,14509.86,14937.622,15365.384,15793.146,16220.908,16648.67,17076.432,17504.194,17931.956,18359.718,18787.48,19215.242,19643.004,20070.766,20498.528,20926.29,21354.052,21781.814,22209.576,22637.338,23065.1,23492.862,23920.624,24348.386,24776.148,25203.91,25631.672,26059.434,26487.196,26914.958,27342.72,27770.482,28198.244,28626.006,29053.768,29481.53,29909.292,30337.054,30764.816,31192.578,31620.34,32048.102,32475.864,32903.626000000004,33331.388,33759.15,34186.912,34614.674,35042.436,35470.198,35897.96,36325.722,36753.484,37181.246,37609.008,38036.77,38464.532,38892.294,39320.056,39747.818,40175.58,40603.342,41031.104,41458.866,41886.628,42314.39,42742.152,43169.914,43597.676,44025.438,44453.2,44880.962,45308.724,45736.486,46164.248,46592.01,47019.772,47447.534,47875.296,48303.058,48730.82,49158.582,49586.344,50014.106,50441.868,50869.63,51297.392,51725.154,52152.916,52580.678,53008.44,53436.202,53863.964,54291.726,54719.488,55147.25,55575.012,56002.774,56430.536,56858.298,57286.06,57713.822,58141.584,58569.346,58997.108,59424.87,59852.632,60280.394,60708.156,61135.918,61563.68,61991.442,62419.204,62846.966,63274.728,63702.49,64130.252,64558.014,64985.776,65413.538,65841.3,66269.062,66696.824,67124.58600000001,67552.348,67980.11,68407.872,68835.634,69263.396,69691.158,70118.92,70546.682,70974.444,71402.206,71829.968,72257.73,72685.492,73113.254,73541.016,73968.778,74396.54,74824.302,75252.064,75679.826,76107.588,76535.35,76963.112,77390.874,77818.636,78246.398,78674.16,79101.922,79529.684,79957.446,80385.208,80812.97,81240.732,81668.494,82096.256,82524.018,82951.78,83379.542,83807.304,84235.066,84662.828,85090.59,85518.352,85946.114,86373.876,86801.638,87229.4,87657.162,88084.924,88512.686,88940.448,89368.21,89795.972,90223.734,90651.496,91079.258,91507.02,91934.782,92362.544,92790.306,93218.068,93645.83,94073.592,94501.354,94929.116,95356.878,95784.64,96212.402,96640.164,97067.926,97495.688,97923.45,98351.212,98778.974,99206.736,99634.498,100062.26,100490.022,100917.784,101345.546,101773.308,102201.07,102628.832,103056.594,103484.356,103912.118,104339.88,104767.642,105195.404,105623.166,106050.928,106478.69,106906.452,107334.214,107761.976,108189.738,108617.5,109045.262,109473.024,109900.786,110328.548,110756.31,111184.072,111611.834,112039.596,112467.358,112895.12,113322.882,113750.644,114178.406,114606.168,115033.93,115461.692,115889.454,116317.216,116744.978,117172.74,117600.502,118028.264,118456.026,118883.788,119311.55,119739.312,120167.074,120594.836,121022.598,121450.36,121878.122,122305.884,122733.646,123161.408,123589.17,124016.932,124444.694,124872.456,125300.218,125727.98,126155.742,126583.504,127011.266,127439.028,127866.79,128294.552,128722.314,129150.076,129577.838,130005.6,130433.362,130861.124,131288.886,131716.648,132144.41,132572.17200000002,132999.934,133427.696,133855.458,134283.22,134710.982,135138.744,135566.506,135994.268,136422.03,136849.792,137277.554,137705.316,138133.078,138560.84,138988.602,139416.364,139844.126,140271.888,140699.65,141127.412,141555.174,141982.936,142410.698,142838.46,143266.222,143693.984,144121.746,144549.508,144977.27,145405.032,145832.794,146260.556,146688.318,147116.08,147543.842,147971.604,148399.366,148827.128,149254.89,149682.652,150110.414,150538.176,150965.938,151393.7,151821.462,152249.224,152676.986,153104.748,153532.51,153960.272,154388.034,154815.796,155243.558,155671.32,156099.082,156526.844,156954.606,157382.368,157810.13,158237.892,158665.654,159093.416,159521.178,159948.94,160376.702,160804.464,161232.226,161659.988,162087.75,162515.512,162943.274,163371.036,163798.798,164226.56,164654.322,165082.084,165509.846,165937.608,166365.37,166793.132,167220.894,167648.656,168076.418,168504.18,168931.942,169359.704,169787.466,170215.228,170642.99,171070.752,171498.514,171926.276,172354.038,172781.8,173209.562,173637.324,174065.086,174492.848,174920.61,175348.372,175776.134,176203.896,176631.658,177059.42,177487.182,177914.944,178342.706,178770.468,179198.23,179625.992,180053.754,180481.516,180909.278,181337.04,181764.802,182192.564,182620.326,183048.088,183475.85,183903.612,184331.374,184759.136,185186.898,185614.66,186042.422,186470.184,186897.946,187325.708,187753.47,188181.232,188608.994,189036.756,189464.518,189892.28,190320.042,190747.804,191175.566,191603.328,192031.09,192458.852,192886.614,193314.376,193742.138,194169.9,194597.662,195025.424,195453.186,195880.948,196308.71,196736.472,197164.234,197591.996,198019.758,198447.52,198875.282,199303.044,199730.806,200158.568,200586.33,201014.092,201441.854,201869.616,202297.378,202725.14,203152.902,203580.664,204008.426,204436.188,204863.95,205291.712,205719.474,206147.236,206574.998,207002.76,207430.522,207858.284,208286.046,208713.808,209141.57,209569.332,209997.094,210424.856,210852.618,211280.38,211708.142,212135.904,212563.666,212991.428,213419.19,213846.952,214274.714,214702.476,215130.238],\"xaxis\":\"x\",\"y\":[4.146342454817734e-06,4.211298050647163e-06,4.275121192737287e-06,4.3377348392807455e-06,4.399062822617359e-06,4.45903000896859e-06,4.517562457766616e-06,4.574587580177235e-06,4.630034296415228e-06,4.683833191453294e-06,4.735916668727723e-06,4.78621910144765e-06,4.834676981119443e-06,4.8812290629029885e-06,4.9258165074237166e-06,4.968383018670475e-06,5.008874977618489e-06,5.047241571225072e-06,5.083434916455321e-06,5.117410179005766e-06,5.149125686404999e-06,5.178543035181605e-06,5.2056271918028625e-06,5.230346587099751e-06,5.252673203908359e-06,5.272582657670726e-06,5.290054269753652e-06,5.305071133258666e-06,5.317620171112032e-06,5.327692186239282e-06,5.3352819036459495e-06,5.340388004242232e-06,5.3430131502670025e-06,5.343164002184302e-06,5.340851226942897e-06,5.336089497508664e-06,5.32889748359753e-06,5.31929783355612e-06,5.30731714735691e-06,5.292985940693491e-06,5.2763386001825195e-06,5.257413329698576e-06,5.236252087888599e-06,5.2129005169337135e-06,5.187407862646839e-06,5.159826886015646e-06,5.130213766321565e-06,5.0986279959873175e-06,5.065132267326251e-06,5.029792351388813e-06,4.99267696912247e-06,4.953857655083133e-06,4.913408613957229e-06,4.8714065701748e-06,4.827930610914782e-06,4.78306202282429e-06,4.73688412279424e-06,4.689482083152991e-06,4.640942751659562e-06,4.591354466696409e-06,4.540806868080235e-06,4.4893907039266596e-06,4.437197634021054e-06,4.384320030163939e-06,4.330850773974328e-06,4.276883052647746e-06,4.222510153179066e-06,4.167825255571219e-06,4.112921225561918e-06,4.0578904074089e-06,4.002824417282073e-06,3.9478139378172536e-06,3.892948514390652e-06,3.8383163536761064e-06,3.784004125049167e-06,3.7300967654008538e-06,3.6766772879228138e-06,3.6238265954211867e-06,3.5716232987112403e-06,3.520143540636987e-06,3.4694608262511914e-06,3.41964585967947e-06,3.370766388179393e-06,3.3228870538905217e-06,3.2760692537543023e-06,3.2303710080642325e-06,3.185846838086071e-06,3.1425476531655098e-06,3.1005206477167693e-06,3.059809208459535e-06,3.020452832244422e-06,2.9824870547779e-06,2.945943390527156e-06,2.910849284053323e-06,2.877228072988046e-06,2.8450989628338666e-06,2.81447701373307e-06,2.7853731393127853e-06,2.7577941176765488e-06,2.73174261457373e-06,2.7072172187394446e-06,2.684212489357338e-06,2.662719015558088e-06,2.642723487825557e-06,2.624208781142457e-06,2.6071540496669566e-06,2.5915348326912604e-06,2.5773231715936928e-06,2.564487737456455e-06,2.552993968982624e-06,2.542804220308346e-06,2.533877918269674e-06,2.5261717286476782e-06,2.5196397308818836e-06,2.5142336007089898e-06,2.5099028001532586e-06,2.506594774265747e-06,2.5042551539823017e-06,2.5028279644454354e-06,2.502255838112093e-06,2.502480231949035e-06,2.503441647999619e-06,2.505079856590094e-06,2.5073341214310323e-06,2.5101434258593532e-06,2.5134466994594133e-06,2.517183044297088e-06,2.5212919599997886e-06,2.525713566916743e-06,2.530388826598689e-06,2.535259758843659e-06,2.5402696545663646e-06,2.545363283762273e-06,2.5504870978539812e-06,2.5555894257271314e-06,2.5606206627854078e-06,2.5655334523792023e-06,2.5702828589902802e-06,2.5748265325850673e-06,2.5791248635819786e-06,2.5831411279130597e-06,2.586841621697416e-06,2.5901957850830563e-06,2.593176314854631e-06,2.595759265447105e-06,2.5979241380493526e-06,2.5996539575268444e-06,2.600935336938773e-06,2.601758529472101e-06,2.602117467662266e-06,2.602009789818594e-06,2.601436853620262e-06,2.6004037368967264e-06,2.598919225654071e-06,2.596995789455882e-06,2.5946495443135664e-06,2.591900203286233e-06,2.5887710150343596e-06,2.585288690614368e-06,2.5814833188418745e-06,2.5773882705910423e-06,2.5730400924345473e-06,2.56847839006392e-06,2.5637457019626896e-06,2.5588873638354953e-06,2.553951364323899e-06,2.5489881925650434e-06,2.544050678171628e-06,2.539193824231389e-06,2.5344746339410958e-06,2.529951931503579e-06,2.525686177927615e-06,2.5217392823781053e-06,2.5181744097291545e-06,2.515055784974519e-06,2.512448495149489e-06,2.5104182894143087e-06,2.5090313779432324e-06,2.5083542302542786e-06,2.5084533736032983e-06,2.5093951920524944e-06,2.5112457268069563e-06,2.514070478395159e-06,2.5179342112490503e-06,2.5229007612174267e-06,2.5290328465230837e-06,2.536391882649225e-06,2.545037801614624e-06,2.5550288760696827e-06,2.566421548618036e-06,2.579270266739199e-06,2.593627323659225e-06,2.6095427054865476e-06,2.6270639449012514e-06,2.6462359816562737e-06,2.6671010301205785e-06,2.689698454065182e-06,2.7140646488656614e-06,2.7402329312670006e-06,2.76823343683095e-06,2.7980930251603467e-06,2.829835192971237e-06,2.8634799950605096e-06,2.899043973195465e-06,2.9365400929316557e-06,2.9759776883466515e-06,3.0173624146605006e-06,3.0606962086979606e-06,3.1059772571336745e-06,3.1531999724490325e-06,3.2023549765185453e-06,3.2534290917342812e-06,3.306405339568582e-06,3.3612629464693384e-06,3.4179773569761895e-06,3.4765202539425352e-06,3.536859585744922e-06,3.5989596003598634e-06,3.662780886186873e-06,3.728280419496651e-06,3.7954116183833363e-06,3.864124403101409e-06,3.934365262668511e-06,4.00607732761746e-06,4.07920044878246e-06,4.153671282005822e-06,4.2294233786532085e-06,4.306387281826802e-06,4.3844906281657275e-06,4.463658255124131e-06,4.543812313615749e-06,4.624872385913499e-06,4.706755608689019e-06,4.78937680107509e-06,4.872648597628673e-06,4.956481586067079e-06,5.040784449643418e-06,5.12546411401902e-06,5.210425898482203e-06,5.295573671351927e-06,5.380810009393686e-06,5.466036361062207e-06,5.55115321337189e-06,5.6360602621810255e-06,5.7206565856599484e-06,5.804840820696768e-06,5.8885113419767094e-06,5.971566443453115e-06,6.053904521909369e-06,6.135424262292178e-06,6.21602482447741e-06,6.295606031110351e-06,6.374068556143284e-06,6.451314113674588e-06,6.527245646674979e-06,6.601767515169472e-06,6.674785683426571e-06,6.746207905690948e-06,6.815943909981404e-06,6.883905579463464e-06,6.950007130894434e-06,7.014165289629916e-06,7.076299460673372e-06,7.1363318952450805e-06,7.194187852344556e-06,7.249795754779769e-06,7.303087339138962e-06,7.353997799186019e-06,7.402465922167568e-06,7.448434217531238e-06,7.491849037567145e-06,7.532660689501762e-06,7.570823538591644e-06,7.606296101787625e-06,7.639041131564044e-06,7.66902568953606e-06,7.696221209517779e-06,7.720603549707832e-06,7.742153033723538e-06,7.760854480243374e-06,7.776697221056973e-06,7.789675107363961e-06,7.799786504206599e-06,7.80703427296636e-06,7.811425741901301e-06,7.81297266474831e-06,7.811691167463246e-06,7.807601683220352e-06,7.800728875841945e-06,7.79110155187821e-06,7.778752561606049e-06,7.763718689263858e-06,7.746040532886543e-06,7.725762374151203e-06,7.702932038688534e-06,7.67760074735788e-06,7.649822959024307e-06,7.619656205415602e-06,7.587160918672094e-06,7.5524002522356475e-06,7.515439895755275e-06,7.476347884712484e-06,7.435194405494671e-06,7.392051596663774e-06,7.346993347184865e-06,7.300095092391521e-06,7.25143360847412e-06,7.201086806281733e-06,7.149133525229653e-06,7.095653328101265e-06,7.040726297526141e-06,6.984432834905035e-06,6.92685346253801e-06,6.868068629692632e-06,6.808158523327318e-06,6.747202884158591e-06,6.685280828731753e-06,6.62247067812173e-06,6.558849793855316e-06,6.494494421606894e-06,6.429479543179348e-06,6.363878737237639e-06,6.297764049216779e-06,6.231205870779062e-06,6.164272829145176e-06,6.097031686574528e-06,6.029547250217537e-06,5.961882292511645e-06,5.894097482239073e-06,5.826251326312675e-06,5.75840012230319e-06,5.690597921669277e-06,5.622896503600883e-06,5.555345359335587e-06,5.4879916867595915e-06,5.420880395056945e-06,5.3540541191256415e-06,5.287553243435696e-06,5.221415934963086e-06,5.15567818479488e-06,5.090373857964766e-06,5.025534751045217e-06,4.961190656992091e-06,4.8973694367102875e-06,4.834097096785398e-06,4.771397872805419e-06,4.709294317679166e-06,4.647807394344211e-06,4.58695657224664e-06,4.5267599269674346e-06,4.46723424236688e-06,4.408395114617474e-06,4.350257057499009e-06,4.292833608335122e-06,4.236137433959938e-06,4.1801804361152295e-06,4.124973855693639e-06,4.070528375260911e-06,4.016854219310403e-06,3.9639612517255445e-06,3.911859069950716e-06,3.860557095397874e-06,3.8100646596445815e-06,3.760391086009713e-06,3.711545766124396e-06,3.6635382311487217e-06,3.6163782173188243e-06,3.5700757255432063e-06,3.5246410748028333e-06,3.4800849491448984e-06,3.4364184380961052e-06,3.3936530703571138e-06,3.35180084067539e-06,3.3108742298289775e-06,3.2708862176883445e-06,3.231850289357457e-06,3.193780434428407e-06,3.1566911394157538e-06,3.120597373468087e-06,3.0855145674835694e-06,3.0514585867848843e-06,3.018445697535734e-06,2.986492527106275e-06,2.9556160186188063e-06,2.925833379926963e-06,2.897162027302029e-06,2.869619524118696e-06,2.843223514849512e-06,2.8179916546923672e-06,2.7939415351687777e-06,2.771090606042685e-06,2.7494560939191108e-06,2.729054917890768e-06,2.709903602607313e-06,2.692018189147167e-06,2.675414144075658e-06,2.6601062670754284e-06,2.6461085975361152e-06,2.6334343204899247e-06,2.6220956722782743e-06,2.6121038463318634e-06,2.603468899443051e-06,2.596199658904574e-06,2.5903036308831024e-06,2.5857869103898385e-06,2.5826540932030864e-06,2.5809081900900227e-06,2.580550543666359e-06,2.581580748223676e-06,2.5839965728446392e-06,2.5877938881163487e-06,2.592966596741735e-06,2.599506568338036e-06,2.60740357870035e-06,2.6166452537967084e-06,2.6272170187493295e-06,2.6391020520445888e-06,2.6522812452017464e-06,2.666733168117811e-06,2.6824340402926225e-06,2.699357708125011e-06,2.717475628456814e-06,2.7367568585275827e-06,2.757168052487885e-06,2.7786734646043496e-06,2.801234959273761e-06,2.82481202794767e-06,2.8493618130523683e-06,2.8748391389718787e-06,2.9011965501440653e-06,2.928384356301557e-06,2.956350684870401e-06,2.9850415405197963e-06,3.0144008718362233e-06,3.0443706450744857e-06,3.074890924916973e-06,3.105899962150541e-06,3.137334288147928e-06,3.1691288160178277e-06,3.2012169482643035e-06,3.233530690772453e-06,3.2660007729132807e-06,3.2985567735362962e-06,3.3311272525939526e-06,3.3636398881176628e-06,3.396021618240473e-06,3.4281987879374393e-06,3.460097300130705e-06,3.4916427707828415e-06,3.5227606875790323e-06,3.553376571776626e-06,3.5834161427791523e-06,3.6128054849717555e-06,3.6414712163358257e-06,3.6693406583429442e-06,3.696342006611969e-06,3.72240450179858e-06,3.747458600173682e-06,3.7714361433363737e-06,3.794270526498235e-06,3.815896864769266e-06,3.83625215687147e-06,3.8552754457041825e-06,3.872907975186096e-06,3.889093342801992e-06,3.9037776472883695e-06,3.916909630900557e-06,3.9284408157155445e-06,3.938325633438718e-06,3.946521548199741e-06,3.95298917184238e-06,3.957692371235477e-06,3.960598367157169e-06,3.961677824332075e-06,3.960904932231059e-06,3.958257476275552e-06,3.953716899122931e-06,3.947268351745992e-06,3.938900734058054e-06,3.928606724875331e-06,3.916382801049903e-06,3.902229245649516e-06,3.886150145104402e-06,3.868153375286233e-06,3.84825057652958e-06,3.826457117652092e-06,3.8027920490753682e-06,3.777278045194139e-06,3.7499413361865483e-06,3.7208116295028464e-06,3.6899220213133198e-06,3.657308898238621e-06,3.6230118297265327e-06,3.5870734514784464e-06,3.5495393403659386e-06,3.510457881313282e-06,3.4698801266541586e-06,3.427859648501413e-06,3.3844523846962035e-06,3.3397164789275407e-06],\"yaxis\":\"y\",\"type\":\"scatter\"},{\"legendgroup\":\"\\u0430\\u043d\\u0434\\u0440\\u0435\\u0439\",\"marker\":{\"color\":\"rgb(255, 127, 14)\"},\"mode\":\"lines\",\"name\":\"\\u0430\\u043d\\u0434\\u0440\\u0435\\u0439\",\"showlegend\":false,\"x\":[3138.0,3560.462,3982.924,4405.386,4827.848,5250.3099999999995,5672.772,6095.234,6517.696,6940.157999999999,7362.62,7785.082,8207.544,8630.006000000001,9052.468,9474.93,9897.392,10319.854,10742.315999999999,11164.778,11587.24,12009.702,12432.164,12854.626,13277.088,13699.55,14122.012,14544.474,14966.936,15389.398,15811.86,16234.322,16656.784,17079.246,17501.708,17924.17,18346.631999999998,18769.093999999997,19191.556,19614.018,20036.48,20458.942,20881.404,21303.866,21726.328,22148.79,22571.252,22993.714,23416.176,23838.638,24261.1,24683.562,25106.024,25528.486,25950.948,26373.41,26795.872,27218.334,27640.796,28063.258,28485.72,28908.182,29330.644,29753.106,30175.568,30598.03,31020.492,31442.954,31865.416,32287.878,32710.34,33132.801999999996,33555.263999999996,33977.725999999995,34400.187999999995,34822.65,35245.112,35667.574,36090.036,36512.498,36934.96,37357.422,37779.884,38202.346,38624.808,39047.27,39469.732,39892.194,40314.656,40737.118,41159.58,41582.042,42004.504,42426.966,42849.428,43271.89,43694.352,44116.814,44539.276,44961.738,45384.2,45806.662,46229.124,46651.586,47074.048,47496.51,47918.972,48341.434,48763.896,49186.358,49608.82,50031.282,50453.744,50876.206,51298.668,51721.13,52143.592,52566.054,52988.516,53410.978,53833.44,54255.902,54678.364,55100.826,55523.288,55945.75,56368.212,56790.674,57213.136,57635.598,58058.06,58480.522,58902.984,59325.446,59747.908,60170.37,60592.832,61015.294,61437.756,61860.218,62282.68,62705.142,63127.604,63550.066,63972.528,64394.99,64817.452,65239.914,65662.37599999999,66084.838,66507.3,66929.762,67352.224,67774.686,68197.148,68619.61,69042.072,69464.534,69886.996,70309.458,70731.92,71154.382,71576.844,71999.306,72421.768,72844.23,73266.692,73689.154,74111.616,74534.078,74956.54,75379.002,75801.464,76223.926,76646.388,77068.85,77491.312,77913.774,78336.236,78758.698,79181.16,79603.622,80026.084,80448.546,80871.008,81293.47,81715.932,82138.394,82560.856,82983.318,83405.78,83828.242,84250.704,84673.166,85095.628,85518.09,85940.552,86363.014,86785.476,87207.938,87630.4,88052.862,88475.324,88897.786,89320.248,89742.71,90165.172,90587.634,91010.096,91432.558,91855.02,92277.482,92699.944,93122.406,93544.868,93967.33,94389.792,94812.254,95234.716,95657.178,96079.64,96502.102,96924.564,97347.026,97769.488,98191.95,98614.412,99036.874,99459.336,99881.798,100304.26,100726.722,101149.184,101571.646,101994.108,102416.57,102839.032,103261.494,103683.956,104106.418,104528.88,104951.342,105373.804,105796.266,106218.728,106641.19,107063.652,107486.114,107908.576,108331.038,108753.5,109175.962,109598.424,110020.886,110443.348,110865.81,111288.272,111710.734,112133.196,112555.658,112978.12,113400.582,113823.044,114245.506,114667.968,115090.43,115512.892,115935.354,116357.816,116780.278,117202.74,117625.202,118047.664,118470.126,118892.588,119315.05,119737.512,120159.974,120582.436,121004.898,121427.36,121849.822,122272.284,122694.746,123117.208,123539.67,123962.132,124384.594,124807.056,125229.518,125651.98,126074.442,126496.904,126919.366,127341.828,127764.29,128186.752,128609.214,129031.676,129454.138,129876.6,130299.062,130721.524,131143.986,131566.448,131988.91,132411.372,132833.834,133256.296,133678.758,134101.22,134523.682,134946.144,135368.606,135791.068,136213.53,136635.992,137058.454,137480.916,137903.378,138325.84,138748.302,139170.764,139593.226,140015.688,140438.15,140860.612,141283.074,141705.536,142127.998,142550.46,142972.922,143395.384,143817.846,144240.308,144662.77,145085.232,145507.694,145930.156,146352.618,146775.08,147197.542,147620.004,148042.466,148464.928,148887.39,149309.852,149732.314,150154.776,150577.238,150999.7,151422.162,151844.624,152267.086,152689.548,153112.01,153534.472,153956.934,154379.396,154801.858,155224.32,155646.782,156069.244,156491.706,156914.168,157336.63,157759.092,158181.554,158604.016,159026.478,159448.94,159871.402,160293.864,160716.326,161138.788,161561.25,161983.712,162406.174,162828.636,163251.098,163673.56,164096.022,164518.484,164940.946,165363.408,165785.87,166208.332,166630.794,167053.256,167475.718,167898.18,168320.642,168743.104,169165.566,169588.028,170010.49,170432.952,170855.414,171277.876,171700.338,172122.8,172545.262,172967.724,173390.186,173812.648,174235.11,174657.572,175080.034,175502.496,175924.958,176347.42,176769.882,177192.344,177614.806,178037.268,178459.73,178882.192,179304.654,179727.116,180149.578,180572.04,180994.502,181416.964,181839.426,182261.888,182684.35,183106.812,183529.274,183951.736,184374.198,184796.66,185219.122,185641.584,186064.046,186486.508,186908.97,187331.432,187753.894,188176.356,188598.818,189021.28,189443.742,189866.204,190288.666,190711.128,191133.59,191556.052,191978.514,192400.976,192823.438,193245.9,193668.362,194090.824,194513.286,194935.748,195358.21,195780.672,196203.134,196625.596,197048.058,197470.52,197892.982,198315.444,198737.906,199160.368,199582.83,200005.292,200427.754,200850.216,201272.678,201695.14,202117.602,202540.064,202962.526,203384.988,203807.45,204229.912,204652.374,205074.836,205497.298,205919.76,206342.222,206764.684,207187.146,207609.608,208032.07,208454.532,208876.994,209299.456,209721.918,210144.38,210566.842,210989.304,211411.766,211834.228,212256.69,212679.152,213101.614,213524.076,213946.538],\"xaxis\":\"x\",\"y\":[2.2094652970250184e-06,2.245583027627208e-06,2.2815195609146443e-06,2.3172786075444967e-06,2.3528658315450723e-06,2.388288818587623e-06,2.423557033134817e-06,2.4586817645910035e-06,2.4936760626493614e-06,2.5285546620998507e-06,2.563333897429702e-06,2.598031607613525e-06,2.6326670315530907e-06,2.6672606946870413e-06,2.701834287346798e-06,2.7364105354876995e-06,2.7710130644722244e-06,2.805666256625453e-06,2.8403951033209637e-06,2.875225052388106e-06,2.91018185165846e-06,2.9452913894906934e-06,2.980579533127865e-06,3.016071965750588e-06,3.051794023092376e-06,3.087770530480246e-06,3.1240256411549403e-06,3.1605826767098404e-06,3.197463970467445e-06,3.2346907145861033e-06,3.272282811658777e-06,3.3102587315299015e-06,3.3486353740159676e-06,3.3874279381717417e-06,3.4266497986960603e-06,3.4663123900207053e-06,3.506425098572784e-06,3.546995163645696e-06,3.588027587257397e-06,3.629525053317039e-06,3.6714878563632347e-06,3.7139138400792797e-06,3.7567983457338325e-06,3.800134170639324e-06,3.84391153666607e-06,3.888118068798053e-06,3.932738783666088e-06,3.977756087947531e-06,4.0231497864777e-06,4.068897099877862e-06,4.114972691468055e-06,4.161348703200275e-06,4.207994800318622e-06,4.254878224428548e-06,4.301963854636797e-06,4.3492142764066575e-06,4.396589857761595e-06,4.444048832460848e-06,4.491547389765973e-06,4.539039770416438e-06,4.586478368433214e-06,4.633813838374776e-06,4.680995207677124e-06,4.727969993718636e-06,4.774684325262495e-06,4.821083067941834e-06,4.867109953466992e-06,4.9127077122486554e-06,4.957818209145299e-06,5.002382582058339e-06,5.046341383111994e-06,5.089634722167914e-06,5.132202412436743e-06,5.173984117958459e-06,5.214919502731732e-06,5.254948381278345e-06,5.294010870432832e-06,5.3320475421476385e-06,5.368999577103427e-06,5.40480891890907e-06,5.4394184286691835e-06,5.472772039686732e-06,5.50481491205606e-06,5.535493586886238e-06,5.564756139877562e-06,5.59255233395401e-06,5.618833770633315e-06,5.643554039793385e-06,5.666668867469347e-06,5.688136261290607e-06,5.707916653142329e-06,5.72597303860951e-06,5.7422711127380514e-06,5.756779401622342e-06,5.769469389307067e-06,5.780315639470013e-06,5.789295911334608e-06,5.796391269245226e-06,5.801586185326796e-06,5.8048686346404785e-06,5.8062301822443885e-06,5.8056660615666445e-06,5.803175243503692e-06,5.798760495665932e-06,5.792428431207321e-06,5.784189546696086e-06,5.774058248508578e-06,5.762052867259542e-06,5.74819565981865e-06,5.732512798504434e-06,5.715034347094393e-06,5.695794223341804e-06,5.67483014774708e-06,5.652183578392856e-06,5.627899631717929e-06,5.6020269891744145e-06,5.574617789785733e-06,5.545727508698408e-06,5.515414821898665e-06,5.483741457344702e-06,5.450772032846047e-06,5.416573881103051e-06,5.381216862400201e-06,5.344773165528196e-06,5.307317097587471e-06,5.268924863403721e-06,5.229674335359706e-06,5.189644814517696e-06,5.148916783974751e-06,5.107571655454116e-06,5.065691510193534e-06,5.023358835242421e-06,4.980656256325034e-06,4.937666268465317e-06,4.894470965601183e-06,4.851151770439448e-06,4.8077891658209735e-06,4.764462428873062e-06,4.72124936922861e-06,4.678226072584296e-06,4.6354666508550135e-06,4.593043000159663e-06,4.551024567842262e-06,4.5094781296942345e-06,4.46846757849789e-06,4.428053724958284e-06,4.388294112030267e-06,4.349242843582016e-06,4.310950428263109e-06,4.273463639367931e-06,4.236825391401915e-06,4.201074633970749e-06,4.166246263521528e-06,4.132371053370128e-06,4.099475602351873e-06,4.067582302333608e-06,4.036709324724718e-06,4.006870626023316e-06,3.978075972333297e-06,3.950330982686907e-06,3.923637190909068e-06,3.897992125662148e-06,3.8733894082154705e-06,3.849818867392973e-06,3.827266671064125e-06,3.8057154734604432e-06,3.785144577521122e-06,3.765530111398025e-06,3.7468452181822313e-06,3.729060257852836e-06,3.7121430203927795e-06,3.696058948967658e-06,3.680771372021051e-06,3.666241743104461e-06,3.652429887231619e-06,3.6392942525255775e-06,3.6267921659126573e-06,3.614880091610407e-06,3.603513891156049e-06,3.5926490837290726e-06,3.582241105534234e-06,3.572245567031639e-06,3.56261850682578e-06,3.553316641057749e-06,3.5442976071818715e-06,3.5355202010507154e-06,3.5269446062799112e-06,3.5185326149158677e-06,3.5102478384857674e-06,3.5020559085683134e-06,3.4939246660865977e-06,3.485824338589898e-06,3.477727704858437e-06,3.4696102462351316e-06,3.46145028415866e-06,3.453229103443932e-06,3.4449310609285707e-06,3.436543679175725e-06,3.42805772499583e-06,3.4194672726208564e-06,3.410769751434967e-06,3.4019659782338068e-06,3.3930601740519137e-06,3.3840599656627227e-06,3.374976371917932e-06,3.3658237751536734e-06,3.356619877947997e-06,3.347385645569013e-06,3.3381452345044965e-06,3.3289259075122335e-06,3.319757935675593e-06,3.3106744879907298e-06,3.3017115090504033e-06,3.292907585424707e-06,3.284303801370847e-06,3.2759435845329192e-06,3.267872542317755e-06,3.2601382896554525e-06,3.2527902688721338e-06,3.245879562418481e-06,3.2394586992111643e-06,3.2335814553543783e-06,3.228302650016552e-06,3.2236779372426216e-06,3.219763594484833e-06,3.216616308635564e-06,3.214292960344046e-06,3.21285040739478e-06,3.212345267919903e-06,3.2128337042098946e-06,3.2143712078776616e-06,3.2170123871198992e-06,3.2208107568066606e-06,3.2258185321159317e-06,3.2320864264140115e-06,3.23966345406512e-06,3.2485967388348775e-06,3.2589313285321916e-06,3.2707100165120994e-06,3.283973170639498e-06,3.298758570288846e-06,3.315101251929262e-06,3.333033363816854e-06,3.3525840302876767e-06,3.373779226114063e-06,3.3966416613555942e-06,3.4211906771027183e-06,3.4474421524761785e-06,3.4754084232091815e-06,3.5050982121017778e-06,3.5365165715974517e-06,3.569664838691341e-06,3.6045406023377612e-06,3.6411376834810725e-06,3.679446127789556e-06,3.719452211126173e-06,3.7611384577432425e-06,3.8044836711406074e-06,3.849462977478142e-06,3.896047881384591e-06,3.944206333955288e-06,3.993902812681534e-06,4.045098413004801e-06,4.097750951139724e-06,4.151815077760444e-06,4.207242402097394e-06,4.263981625943951e-06,4.3219786870265525e-06,4.381176911148339e-06,4.441517172472862e-06,4.502938061275521e-06,4.56537605845156e-06,4.628765716035296e-06,4.693039842952686e-06,4.75812969520137e-06,4.823965169626453e-06,4.8904750004396406e-06,4.957586957611692e-06,5.025228046255137e-06,5.093324706105634e-06,5.161803010206049e-06,5.23058886189786e-06,5.299608189230115e-06,5.368787135905949e-06,5.438052247901804e-06,5.507330654914705e-06,5.576550245817297e-06,5.645639837330344e-06,5.7145293351563406e-06,5.783149886857143e-06,5.851434025801269e-06,5.919315805554646e-06,5.986730924139661e-06,6.053616837642636e-06,6.119912862708846e-06,6.185560267525661e-06,6.250502350959317e-06,6.314684509577869e-06,6.37805429236199e-06,6.440561442976259e-06,6.502157929545693e-06,6.56279796195514e-06,6.6224379967628435e-06,6.681036729892416e-06,6.73855507734078e-06,6.794956144211373e-06,6.850205182452417e-06,6.904269537749137e-06,6.957118586085028e-06,7.008723660551296e-06,7.059057969044399e-06,7.108096503548699e-06,7.155815941754944e-06,7.202194541814244e-06,7.247212031071865e-06,7.290849489665126e-06,7.333089229903863e-06,7.373914672381316e-06,7.413310219786859e-06,7.451261129409039e-06,7.487753385329689e-06,7.522773571314554e-06,7.5563087454055075e-06,7.588346317211821e-06,7.618873928884597e-06,7.647879340738501e-06,7.675350322458476e-06,7.701274550797078e-06,7.725639514629268e-06,7.748432428186977e-06,7.76964015324606e-06,7.789249130982116e-06,7.807245324151225e-06,7.82361417018598e-06,7.838340545726869e-06,7.851408743034685e-06,7.862802458652255e-06,7.872504794601556e-06,7.880498272319147e-06,7.886764859445914e-06,7.891286009499337e-06,7.894042714367185e-06,7.8950155694716e-06,7.8941848513623e-06,7.891530607408688e-06,7.88703275717181e-06,7.880671204950741e-06,7.872425962913584e-06,7.862277284142011e-06,7.850205804839934e-06,7.83619269488368e-06,7.820219815821198e-06,7.80226988536397e-06,7.782326647356781e-06,7.760375046158052e-06,7.736401404317498e-06,7.71039360239893e-06,7.682341259764403e-06,7.652235915111425e-06,7.620071205539008e-06,7.585843042909691e-06,7.549549786274328e-06,7.511192409134928e-06,7.4707746603364835e-06,7.42830321740361e-06,7.3837878311700376e-06,7.337241460589893e-06,7.2886803966674635e-06,7.238124374498149e-06,7.18559667247586e-06,7.13112419779173e-06,7.0747375574245795e-06,7.01647111390515e-06,6.9563630252227595e-06,6.894455268334225e-06,6.830793645830414e-06,6.765427775414053e-06,6.6984110619440245e-06,6.6298006519042335e-06,6.5596573702596675e-06,6.488045639767158e-06,6.415033382912623e-06,6.340691906750541e-06,6.265095771022817e-06,6.1883226400336734e-06,6.1104531188535184e-06,6.031570574516917e-06,5.95176094296773e-06,5.871112522587537e-06,5.789715755220376e-06,5.707662995678365e-06,5.625048270777064e-06,5.541967029007209e-06,5.458515881999798e-06,5.374792338984042e-06,5.290894535472949e-06,5.206920957438007e-06,5.122970162253612e-06,5.039140497702523e-06,4.9555298203365884e-06,4.8722352144820394e-06,4.789352713165334e-06,4.706977022215668e-06,4.625201248772081e-06,4.544116635388768e-06,4.463812300890719e-06,4.3843749890845836e-06,4.3058888263764685e-06,4.228435089289977e-06,4.1520919828148825e-06,4.0769344304496005e-06,4.003033876729752e-06,3.930458102961367e-06,3.859271056801123e-06,3.7895326962475173e-06,3.7212988485279793e-06,3.654621084286342e-06,3.5895466073950366e-06,3.526118160636438e-06,3.4643739474186666e-06,3.404347569613557e-06,3.3460679815287487e-06,3.2895594599520966e-06,3.234841590136032e-06,3.1819292675211255e-06,3.1308327149340406e-06,3.0815575149335545e-06,3.034104656921544e-06,2.988470598582322e-06,2.944647341164858e-06,2.902622518077537e-06,2.8623794962246476e-06,2.82389748947767e-06,2.7871516836426358e-06,2.7521133722573228e-06,2.7187501025287757e-06,2.6870258307024852e-06,2.6569010861392965e-06,2.6283331433649085e-06,2.601276201348919e-06,2.5756815692662535e-06,2.5514978579928063e-06,2.5286711765890768e-06,2.5071453330305386e-06,2.4868620384508595e-06,2.467761114173903e-06,2.449780700822384e-06,2.4328574688049057e-06,2.416926829498579e-06,2.4019231464615607e-06,2.3877799460280467e-06,2.3744301266577765e-06,2.361806166432404e-06,2.349840328112311e-06,2.3384648611891654e-06,2.327612200391918e-06,2.3172151601266483e-06,2.307207124353704e-06,2.2975222314290386e-06,2.2880955534599825e-06,2.27886326974956e-06,2.2697628339271424e-06,2.260733134387182e-06,2.2517146476817902e-06,2.2426495845369967e-06,2.2334820281867974e-06,2.224158064743384e-06,2.2146259053464964e-06,2.2048359998594685e-06,2.1947411419044063e-06,2.184296565054028e-06,2.1734600300229504e-06,2.162191902726871e-06,2.1504552231038245e-06,2.1382157646178874e-06,2.125442084391992e-06,2.1121055639432093e-06,2.098180440520694e-06,2.0836438290735236e-06,2.068475734902936e-06,2.052659057080759e-06,2.0361795827432214e-06,2.019025972396655e-06,2.0011897363988446e-06,1.982665202806765e-06,1.9634494768081686e-06,1.9435423919807128e-06,1.9229464536480667e-06,1.9016667746275082e-06,1.879711003687675e-06,1.8570892470585645e-06,1.8338139833580359e-06,1.8098999723201492e-06,1.7853641577303959e-06,1.7602255649910759e-06,1.7345051937567875e-06,1.7082259060949092e-06,1.6814123106390727e-06,1.6540906432148925e-06,1.6262886444263056e-06],\"yaxis\":\"y\",\"type\":\"scatter\"},{\"legendgroup\":\"\\u043d\\u0430\\u0442\\u0430\\u0448\\u0430\",\"marker\":{\"color\":\"rgb(44, 160, 44)\"},\"mode\":\"lines\",\"name\":\"\\u043d\\u0430\\u0442\\u0430\\u0448\\u0430\",\"showlegend\":false,\"x\":[10797.0,11207.336,11617.672,12028.008,12438.344000000001,12848.68,13259.016,13669.351999999999,14079.688,14490.024,14900.36,15310.696,15721.032,16131.368,16541.703999999998,16952.04,17362.376,17772.712,18183.048,18593.384,19003.72,19414.056,19824.392,20234.728,20645.064,21055.4,21465.736,21876.072,22286.408,22696.744,23107.08,23517.415999999997,23927.752,24338.088,24748.424,25158.760000000002,25569.095999999998,25979.432,26389.768,26800.104,27210.44,27620.776,28031.112,28441.448,28851.784,29262.12,29672.456,30082.792,30493.128,30903.464,31313.8,31724.136,32134.472,32544.808,32955.144,33365.479999999996,33775.816,34186.152,34596.488,35006.824,35417.16,35827.496,36237.831999999995,36648.168000000005,37058.504,37468.84,37879.176,38289.512,38699.848,39110.184,39520.520000000004,39930.856,40341.191999999995,40751.528,41161.864,41572.2,41982.536,42392.872,42803.208,43213.544,43623.88,44034.216,44444.552,44854.888,45265.224,45675.56,46085.896,46496.232,46906.568,47316.904,47727.24,48137.576,48547.912,48958.248,49368.584,49778.92,50189.256,50599.592,51009.928,51420.264,51830.6,52240.936,52651.272,53061.608,53471.944,53882.28,54292.616,54702.952,55113.288,55523.624,55933.96,56344.296,56754.632,57164.968,57575.304,57985.64,58395.976,58806.312,59216.648,59626.984,60037.32,60447.656,60857.992,61268.328,61678.664,62089.0,62499.336,62909.672,63320.008,63730.344,64140.68,64551.016,64961.352,65371.688,65782.024,66192.36,66602.696,67013.032,67423.368,67833.704,68244.04000000001,68654.37599999999,69064.712,69475.04800000001,69885.38399999999,70295.72,70706.056,71116.39199999999,71526.728,71937.064,72347.4,72757.736,73168.072,73578.408,73988.744,74399.08,74809.416,75219.75200000001,75630.088,76040.424,76450.76,76861.096,77271.432,77681.768,78092.104,78502.44,78912.776,79323.112,79733.448,80143.784,80554.12,80964.456,81374.792,81785.128,82195.464,82605.8,83016.136,83426.472,83836.808,84247.144,84657.48,85067.816,85478.152,85888.488,86298.824,86709.16,87119.496,87529.832,87940.168,88350.504,88760.84,89171.176,89581.512,89991.848,90402.184,90812.52,91222.856,91633.192,92043.528,92453.864,92864.2,93274.536,93684.872,94095.208,94505.544,94915.88,95326.216,95736.552,96146.888,96557.224,96967.56,97377.896,97788.232,98198.568,98608.904,99019.24,99429.576,99839.912,100250.248,100660.584,101070.92,101481.256,101891.592,102301.928,102712.264,103122.6,103532.936,103943.272,104353.608,104763.944,105174.28,105584.616,105994.952,106405.288,106815.624,107225.96,107636.296,108046.632,108456.968,108867.304,109277.64,109687.976,110098.312,110508.648,110918.984,111329.32,111739.656,112149.992,112560.328,112970.664,113381.0,113791.336,114201.672,114612.008,115022.344,115432.68,115843.016,116253.352,116663.688,117074.024,117484.36,117894.696,118305.032,118715.368,119125.704,119536.04,119946.376,120356.712,120767.048,121177.384,121587.72,121998.056,122408.392,122818.728,123229.064,123639.4,124049.736,124460.072,124870.408,125280.744,125691.08,126101.416,126511.752,126922.088,127332.424,127742.76,128153.096,128563.432,128973.768,129384.104,129794.44,130204.776,130615.112,131025.448,131435.78399999999,131846.12,132256.456,132666.79200000002,133077.128,133487.464,133897.8,134308.136,134718.472,135128.80800000002,135539.144,135949.47999999998,136359.816,136770.152,137180.488,137590.824,138001.16,138411.49599999998,138821.832,139232.168,139642.50400000002,140052.84,140463.176,140873.512,141283.848,141694.184,142104.52,142514.856,142925.192,143335.528,143745.864,144156.2,144566.536,144976.872,145387.208,145797.544,146207.88,146618.216,147028.552,147438.888,147849.224,148259.56,148669.896,149080.232,149490.568,149900.904,150311.24,150721.576,151131.912,151542.248,151952.584,152362.92,152773.256,153183.592,153593.928,154004.264,154414.6,154824.936,155235.272,155645.608,156055.944,156466.28,156876.616,157286.952,157697.288,158107.624,158517.96,158928.296,159338.632,159748.968,160159.304,160569.64,160979.976,161390.312,161800.648,162210.984,162621.32,163031.656,163441.992,163852.328,164262.664,164673.0,165083.336,165493.672,165904.008,166314.344,166724.68,167135.016,167545.352,167955.688,168366.024,168776.36,169186.696,169597.032,170007.368,170417.704,170828.04,171238.376,171648.712,172059.048,172469.384,172879.72,173290.056,173700.392,174110.728,174521.064,174931.4,175341.736,175752.072,176162.408,176572.744,176983.08,177393.416,177803.752,178214.088,178624.424,179034.76,179445.096,179855.432,180265.768,180676.104,181086.44,181496.776,181907.112,182317.448,182727.784,183138.12,183548.456,183958.792,184369.128,184779.464,185189.8,185600.136,186010.472,186420.808,186831.144,187241.48,187651.816,188062.152,188472.488,188882.824,189293.16,189703.496,190113.832,190524.168,190934.504,191344.84,191755.176,192165.512,192575.848,192986.184,193396.52,193806.856,194217.192,194627.528,195037.864,195448.2,195858.536,196268.872,196679.208,197089.544,197499.88,197910.216,198320.552,198730.888,199141.224,199551.56,199961.896,200372.232,200782.568,201192.904,201603.24,202013.576,202423.912,202834.248,203244.584,203654.92,204065.256,204475.592,204885.928,205296.264,205706.6,206116.936,206527.272,206937.608,207347.944,207758.28,208168.616,208578.952,208989.288,209399.624,209809.96,210220.296,210630.632,211040.968,211451.304,211861.64,212271.976,212682.312,213092.648,213502.984,213913.32,214323.656,214733.992,215144.328,215554.664],\"xaxis\":\"x\",\"y\":[2.034598724984043e-06,2.0563928585557227e-06,2.076762964335991e-06,2.0956621661409343e-06,2.1130466728402383e-06,2.128875948573086e-06,2.1431128716531455e-06,2.15572388131119e-06,2.166679111484325e-06,2.1759525109272757e-06,2.183521948992199e-06,2.1893693064997164e-06,2.1934805512037115e-06,2.195845797436225e-06,2.1964593496054133e-06,2.1953197293084956e-06,2.1924296859125983e-06,2.1877961905481565e-06,2.1814304135521034e-06,2.1733476854901874e-06,2.1635674419791416e-06,2.1521131526193386e-06,2.139012234436234e-06,2.1242959503137724e-06,2.1079992929846614e-06,2.0901608552198304e-06,2.0708226869326926e-06,2.0500301399817773e-06,2.0278317015181334e-06,2.0042788167805466e-06,1.9794257022923067e-06,1.953329150457034e-06,1.9260483265884614e-06,1.8976445594390153e-06,1.8681811263150314e-06,1.8377230338821126e-06,1.8063367957724605e-06,1.7740902081070524e-06,1.7410521240394462e-06,1.7072922284147202e-06,1.6728808136169732e-06,1.6378885576521285e-06,1.6023863054796386e-06,1.5664448545676713e-06,1.5301347456016332e-06,1.4935260592259648e-06,1.4566882196445185e-06,1.4196898058458623e-06,1.3825983711571583e-06,1.3454802717643987e-06,1.308400504768035e-06,1.2714225562724396e-06,1.2346082599351923e-06,1.1980176663289005e-06,1.1617089233944595e-06,1.1257381681909916e-06,1.090159430074591e-06,1.0550245453661891e-06,1.0203830834985333e-06,9.862822845642212e-07,9.527670081211991e-07,9.198796930495919e-07,8.876603281946164e-07,8.561464334749112e-07,8.253730510842636e-07,7.9537274636763e-07,7.661756179098997e-07,7.378093163380054e-07,7.102990713041442e-07,6.836677260899525e-07,6.579357792486092e-07,6.331214326840843e-07,6.092406455539885e-07,5.86307193374816e-07,5.643327317055066e-07,5.433268637872488e-07,5.232972115240472e-07,5.042494891995637e-07,4.861875793409979e-07,4.6911361015992047e-07,4.530280340228675e-07,4.3792970643071726e-07,4.238159650152368e-07,4.1068270809323313e-07,3.9852447235324976e-07,3.8733450928628106e-07,3.771048600102111e-07,3.67826428177288e-07,3.59489050694449e-07,3.520815660275143e-07,3.4559187990162925e-07,3.400070282516609e-07,3.353132373170914e-07,3.314959808160012e-07,3.285400341716955e-07,3.264295258030606e-07,3.251479855255525e-07,3.246783901435847e-07,3.250032063466709e-07,3.2610443105086403e-07,3.2796362935348317e-07,3.305619702927769e-07,3.338802606247533e-07,3.3789897684690745e-07,3.4259829571276326e-07,3.4795812349204644e-07,3.5395812423879e-07,3.605777473337568e-07,3.6779625456825086e-07,3.7559274703367994e-07,3.83946192075224e-07,3.928354505587144e-07,4.022393046874307e-07,4.1213648659021303e-07,4.225057078840465e-07,4.3332569039349457e-07,4.4457519818606913e-07,4.562330710571721e-07,4.6827825957081645e-07,4.806898617331893e-07,4.934471613455942e-07,5.065296680516085e-07,5.199171590608073e-07,5.335897224983778e-07,5.475278022967074e-07,5.617122445119919e-07,5.761243449161745e-07,5.907458976827215e-07,6.055592449538627e-07,6.205473270475844e-07,6.356937330348784e-07,6.509827513920267e-07,6.663994204092118e-07,6.819295780157602e-07,6.975599106640649e-07,7.132780008989351e-07,7.290723732270211e-07,7.449325378920428e-07,7.608490321562493e-07,7.768134586865948e-07,7.928185206459682e-07,8.088580530951994e-07,8.249270503207359e-07,8.41021688715599e-07,8.571393448576843e-07,8.732786084493067e-07,8.894392898052235e-07,9.056224216028856e-07,9.218302546382921e-07,9.380662473633061e-07,9.543350490153553e-07,9.70642476187921e-07,9.86995482729738e-07,1.003402122902021e-06,1.019871507765705e-06,1.0364137548147003e-06,1.0530399309158558e-06,1.0697619886613738e-06,1.0865926962847726e-06,1.1035455613363205e-06,1.1206347483582422e-06,1.137874990843294e-06,1.1552814978023732e-06,1.1728698553070988e-06,1.1906559234118418e-06,1.2086557288957654e-06,1.2268853542990825e-06,1.2453608237587002e-06,1.2640979861761303e-06,1.2831123962754686e-06,1.3024191941303482e-06,1.3220329837567264e-06,1.3419677113826e-06,1.3622365440161665e-06,1.3828517489409e-06,1.4038245747689416e-06,1.425165134683639e-06,1.4468822924976577e-06,1.468983552145074e-06,1.4914749512145167e-06,1.514360959115385e-06,1.5376443804511435e-06,1.5613262641525053e-06,1.5854058188991827e-06,1.6098803353320902e-06,1.634745115528746e-06,1.6599934101829771e-06,1.685616363896595e-06,1.7116029689553856e-06,1.7379400279248623e-06,1.7646121253631894e-06,1.7916016089093458e-06,1.818888579964573e-06,1.846450894144582e-06,1.8742641716388034e-06,1.9023018175717598e-06,1.9305350524204236e-06,1.9589329525004212e-06,1.987462500493023e-06,2.01608864594493e-06,2.0447743756332852e-06,2.0734807936493594e-06,2.1021672110168307e-06,2.130791244623393e-06,2.1593089252090133e-06,2.1876748141190176e-06,2.215842128497353e-06,2.2437628745628308e-06,2.271387988580493e-06,2.298667485111026e-06,2.325550612092684e-06,2.351986012284271e-06,2.377921890572011e-06,2.403306186620122e-06,2.42808675232258e-06,2.4522115334931856e-06,2.475628755212456e-06,2.4982871102324296e-06,2.520135949825157e-06,2.5411254764470612e-06,2.561206937579166e-06,2.5803328200935185e-06,2.5984570444874994e-06,2.615535158322081e-06,2.631524528195422e-06,2.6463845295815286e-06,2.660076733863423e-06,2.6725650918928927e-06,2.683816113413143e-06,2.69379904168759e-06,2.702486022687377e-06,2.709852268201545e-06,2.7158762122478827e-06,2.720539660178753e-06,2.7238279298952834e-06,2.725729984603967e-06,2.7262385565738135e-06,2.725350261377681e-06,2.7230657021296317e-06,2.719389563260306e-06,2.7143306934046834e-06,2.7079021770107274e-06,2.7001213943133337e-06,2.6910100693555083e-06,2.680594305778031e-06,2.668904610138525e-06,2.6559759025626854e-06,2.641847514572139e-06,2.626563173976171e-06,2.610170976757658e-06,2.5927233459265876e-06,2.57427697735746e-06,2.554892772669774e-06,2.5346357592524883e-06,2.513574997574716e-06,2.4917834759651935e-06,2.4693379930815247e-06,2.446319028328133e-06,2.422810600517224e-06,2.3989001151014366e-06,2.37467820033886e-06,2.3502385327811274e-06,2.3256776525036605e-06,2.3010947685226155e-06,2.2765915548674875e-06,2.2522719377991216e-06,2.228241874683159e-06,2.2046091250458766e-06,2.181483014355034e-06,2.1589741910817527e-06,2.137194377611449e-06,2.1162561155819816e-06,2.096272506235807e-06,2.0773569463806817e-06,2.059622860559691e-06,2.043183430037033e-06,2.0281513192107655e-06,2.0146384000680715e-06,2.0027554753026534e-06,1.9926120007177174e-06,1.984315807541962e-06,1.9779728252898834e-06,1.9736868058021395e-06,1.9715590491065566e-06,1.971688131745133e-06,1.974169638218421e-06,1.97909589620437e-06,1.986555716215579e-06,1.996634136365593e-06,2.0094121729220816e-06,2.0249665773321672e-06,2.043369600412175e-06,2.064688764401358e-06,2.088986643585325e-06,2.1163206542007728e-06,2.146742854337757e-06,2.1802997545585376e-06,2.2170321399540538e-06,2.2569749043578267e-06,2.3001568974341114e-06,2.346600785351139e-06,2.3963229257407293e-06,2.4493332576328834e-06,2.5056352070369227e-06,2.5652256088198052e-06,2.628094645506208e-06,2.6942258035948065e-06,2.7635958479491436e-06,2.836174814780858e-06,2.9119260236966576e-06,2.9908061092284624e-06,3.0727650722091184e-06,3.157746351293259e-06,3.245686914854509e-06,3.33651737341742e-06,3.430162112703692e-06,3.526539447289923e-06,3.625561794786289e-06,3.727135870355316e-06,3.831162901294597e-06,3.937538861311295e-06,4.046154724016072e-06,4.156896735063669e-06,4.269646702266378e-06,4.384282302904077e-06,4.50067740735507e-06,4.618702418071672e-06,4.738224622828932e-06,4.859108561080575e-06,4.981216402167651e-06,5.104408334040876e-06,5.228542961078564e-06,5.353477709511021e-06,5.479069238896344e-06,5.605173858036399e-06,5.731647943673367e-06,5.858348360267534e-06,5.985132879128398e-06,6.111860595150648e-06,6.23839233939839e-06,6.364591085781597e-06,6.490322350082058e-06,6.615454579607957e-06,6.739859531791333e-06,6.863412640086055e-06,6.985993365579287e-06,7.107485532794651e-06,7.227777648238406e-06,7.346763200324992e-06,7.464340939408898e-06,7.580415136750252e-06,7.694895821347193e-06,7.807698993681709e-06,7.918746815542427e-06,8.02796777521063e-06,8.135296827420635e-06,8.240675507633836e-06,8.344052020293684e-06,8.445381300858771e-06,8.544625051539503e-06,8.641751750789156e-06,8.736736636725651e-06,8.82956166477889e-06,8.920215439974836e-06,9.00869312437778e-06,9.094996320315625e-06,9.17913293011131e-06,9.2611169931326e-06,9.340968501055738e-06,9.418713192311494e-06,9.494382326748795e-06,9.568012441607434e-06,9.63964508994008e-06,9.709326562663419e-06,9.777107595449684e-06,9.843043061692137e-06,9.907191652794109e-06,9.969615547037304e-06,1.0030380068286897e-05,1.00895533357838e-05,1.0147205906263197e-05,1.0203410409621525e-05,1.0258241179332284e-05,1.0311773878786244e-05,1.0364085124703936e-05,1.041525210873792e-05,1.0465352218351726e-05,1.0514462658029582e-05,1.0562660071840632e-05,1.061002016834974e-05,1.0656617348838426e-05,1.0702524339771983e-05,1.0747811830424567e-05,1.0792548116552953e-05,1.0836798750990394e-05,1.088062620201928e-05,1.0924089520368299e-05,1.0967244015674624e-05,1.101014094324653e-05,1.1052827201963025e-05,1.1095345044149327e-05,1.1137731798273064e-05,1.1180019605314467e-05,1.1222235169673603e-05,1.1264399525487759e-05,1.130652781924482e-05,1.1348629109587748e-05,1.1390706185215135e-05,1.1432755401790397e-05,1.1474766538775732e-05,1.1516722677107011e-05,1.1558600098621293e-05,1.160036820813757e-05,1.1641989479074179e-05,1.1683419423461345e-05,1.17246065871741e-05,1.176549257116951e-05,1.1806012079459534e-05,1.1846092994490482e-05,1.1885656480528139e-05,1.19246171155647e-05,1.1962883052171807e-05,1.2000356207619813e-05,1.203693248346988e-05,1.2072502014721338e-05,1.2106949448463097e-05,1.214015425183541e-05,1.2171991048957503e-05,1.2202329986317918e-05,1.223103712596034e-05,1.2257974865627649e-05,1.2283002384853812e-05,1.2305976115816248e-05,1.2326750237585303e-05,1.2345177192229991e-05,1.236110822106466e-05,1.2374393919151152e-05,1.2384884806004506e-05,1.239243191029291e-05,1.2396887366172386e-05,1.2398105018757419e-05,1.2395941036101803e-05,1.2390254524949557e-05,1.238090814741678e-05,1.2367768735682727e-05,1.2350707901702242e-05,1.2329602638904653e-05,1.2304335912816867e-05,1.2274797237539506e-05,1.22408832350187e-05,1.220249817408952e-05,1.2159554486321804e-05,1.211197325577612e-05,1.2059684679873908e-05,1.2002628498705106e-05,1.1940754390233173e-05,1.1874022329016494e-05,1.1802402906239538e-05,1.172587760904149e-05,1.164443905733868e-05,1.1558091196560847e-05,1.1466849444958534e-05,1.1370740794386567e-05,1.1269803863726366e-05,1.1164088904374817e-05,1.1053657757498576e-05,1.0938583763026453e-05,1.0818951620628921e-05,1.0694857203208698e-05,1.0566407323698755e-05,1.0433719456232735e-05,1.0296921413012539e-05,1.0156150978451396e-05,1.0011555502411944e-05,9.8632914545878e-06,9.711523942293367e-06,9.556426194125391e-06,9.398179012143114e-06,9.236970195377825e-06,9.072993937628168e-06,8.906450202621814e-06,8.7375440797285e-06,8.566485123491235e-06,8.393486680302567e-06,8.218765205591626e-06,8.042539574902574e-06,7.865030392239823e-06,7.686459299027146e-06,7.5070482869791975e-06,7.327019018114247e-06,7.146592155048586e-06,6.965986704604777e-06,6.785419377640979e-06,6.6051039678677295e-06,6.425250752260916e-06,6.2460659155110035e-06,6.067751000765689e-06,5.890502388730993e-06,5.714510806994848e-06,5.539960871227771e-06],\"yaxis\":\"y\",\"type\":\"scatter\"},{\"legendgroup\":\"\\u043f\\u044c\\u0435\\u0440\",\"marker\":{\"color\":\"rgb(31, 119, 180)\",\"symbol\":\"line-ns-open\"},\"mode\":\"markers\",\"name\":\"\\u043f\\u044c\\u0435\\u0440\",\"showlegend\":false,\"x\":[1677,1699,1743,1772,1833,1979,2006,2966,3040,3052,3113,3265,3309,3325,3332,3360,3450,3471,3477,4309,4400,4417,4464,4488,4543,4598,4697,4846,4857,4875,4945,5047,5089,5276,5301,5417,5785,5827,5883,5960,5991,6050,6068,6159,6206,6231,6286,6356,6373,6393,6492,6537,6564,6651,6714,6745,6821,6883,7001,7077,7209,7360,7525,7572,7573,7596,7606,7641,7654,7712,7825,7839,7867,7919,7930,7967,7991,8123,8179,8297,8335,8364,8368,8430,8439,8462,8677,8678,8710,9030,9178,9198,9252,9305,9377,9437,9496,10047,10344,10396,10434,10469,14747,14795,14821,14941,15004,15020,15050,15076,15095,15142,15159,15180,15260,15315,15325,15363,15370,15425,15544,15577,15612,15615,15659,15721,15791,15845,15962,15988,16012,16149,17452,17782,17806,18020,18143,18155,18269,18796,18953,19075,19927,20064,20080,20099,20115,20140,21646,21748,21758,21763,21858,21974,21978,22094,22668,22720,22773,22815,22837,22904,22950,22970,22989,22997,23037,23071,23105,23172,23243,23281,23329,23361,23482,23491,23523,23604,23623,23787,23818,23842,23939,23941,23978,24056,24328,24376,24522,24602,24673,24695,24729,24846,24891,24895,24937,24977,25009,25037,25059,25079,25123,25152,25171,25206,25256,25289,25318,25349,25378,25404,25414,25422,25435,25485,25503,25591,25623,25891,26019,26097,26167,26204,26212,26236,26248,26287,26291,26294,26310,26323,26356,26357,26359,26374,26466,28651,62514,62573,62638,62700,62808,62904,62970,62992,63050,63077,63085,63193,63210,63259,63382,63535,63565,63612,63666,63675,63761,63862,63887,63918,63949,63980,64014,64039,64095,64096,64180,64222,64241,64253,64286,64311,64374,64517,64581,64668,64720,64775,64799,65191,65239,65281,65314,65403,65426,65472,65484,65612,65654,65717,65759,65879,65912,66208,66306,66356,66513,66526,66634,66805,66839,66860,66904,66914,66970,67034,67170,67171,67210,67257,67269,67296,67305,67320,67348,67391,67442,67493,67501,67518,67550,67578,67607,67625,67688,67733,67750,75910,100084,100100,100792,101711,102075,102212,102244,102268,102294,102318,102327,102335,102382,102510,102543,102566,102593,102608,102611,102625,102646,102673,102731,102769,102780,102801,102821,102884,102911,102932,102994,103121,103136,103216,103302,103373,103443,103623,103748,103762,103810,103832,103952,103972,104047,104099,104307,104640,104870,104887,104925,105034,105242,105325,105394,105413,105508,105555,105587,105656,105704,105741,105754,109306,109998,115230,115247,115282,115386,115564,115730,115840,115880,115927,115952,116001,116052,116113,116155,116162,116186,116208,116209,116243,116299,116333,116344,116348,116392,116423,116462,116505,116520,116637,116656,116716,116726,116781,116914,116936,117117,117245,117341,117425,117483,117663,117704,117732,117767,117784,117827,117888,117993,118012,118094,118125,118163,118199,118269,118284,118289,118329,118345,118376,118396,118459,118475,118498,118560,118585,118590,118710,118730,118777,118873,118946,118986,119021,119041,119067,119089,119125,119158,119203,119220,119249,119464,119531,119669,119712,119762,119778,119801,119892,119929,119948,119967,119994,120021,120071,120109,120124,120153,120168,120212,120236,120256,120320,120378,120476,120489,120529,120582,120619,120643,120714,120749,120788,121005,121010,121036,121066,121091,121215,121219,121293,121325,121355,121409,121416,121479,121605,121630,121651,121815,121891,121933,121960,121967,122043,122123,122136,125443,125474,125578,125620,125647,125777,125791,125841,125854,125860,125924,125935,126008,126024,126036,126063,126079,126135,126227,126267,126299,126384,126409,126430,126582,126626,126683,126706,126734,126829,126862,126997,127011,127073,127093,127116,127189,127248,127263,127278,127283,127309,127367,127407,127436,127448,127474,127501,127513,127534,127535,127658,127680,127691,127760,127821,127867,127925,127969,128000,128107,128153,128160,128169,128292,128336,128691,128736,129148,129314,129375,129380,129393,129416,129427,129446,129459,129499,129613,129688,129697,129708,129723,129786,129855,129872,129930,130178,130280,130326,130358,130370,130398,130422,130449,130514,130543,130562,130645,130683,130710,130737,130806,130880,130907,131188,131224,131342,131351,131468,131492,131510,131595,131618,131784,131799,131820,131837,131838,131875,131942,131989,131992,132030,132086,132115,132136,140538,140579,140674,140827,142311,142362,142654,145995,146097,146220,146301,146387,146405,146422,146510,146542,146594,146609,146677,146697,146734,147157,147166,147167,147187,147195,147244,147293,147310,147322,147396,147412,147430,147465,147496,147540,147591,147605,147624,148482,148569,148677,148722,148864,148873,148885,148886,148970,148986,148997,149025,149075,150889,150911,155328,155365,155376,155385,156211,156252,156531,157132,157183,157207,159207,159247,159422,159463,159849,159903,159929,160175,160192,160247,160280,160362,160364,160374,160406,160431,160452,160528,160651,160706,160776,160802,160810,160885,160905,161001,161459,161503,161519,161544,161647,161687,161729,161767,161854,161912,161918,161946,161979,162116,162150,162430,164599,164609,164657,184834,184944,184982,185110,185114,185294,185654,185758,185932,186004,186336,186348,186380,186426,188170,188644,188676,189286,189339,189423,189470,189493,189501,189529,189553,189643,189710,189806,189829,189836,189907,189958,189962,194363,195316,195363,195391,197302,197303,198754,198758,202345,205529,205572,205597,205657,205666,205673,205738,205769,205776,205792,205820,205843,205876,205892,205927,205943,206076,206114,206181,206245,206246,206269,206355,206456,206460,206485,206529,206543,206577,206629,206659,206704,206723,206762,206785,206817,206895,206916,206998,207019,207020,207036,207061,207104,207147,207179,207219,207232,207249,207264,207273,207308,207339,207430,207454,207471,207493,207528,207552,207558,207584,207602,207700,207712,207754,207824,207837,207889,207896,207945,207965,208028,208046,208155,208177,208203,208206,208224,208240,208302,208338,208401,208421,208459,208479,208490,208555,208587,208613,208635,208649,208680,208709,208735,208750,208822,208826,208843,208925,208950,208955,208971,209054,209113,209128,209181,209192,209211,209253,209275,209344,209363,209457,209461,209496,209543,209573,209605,209654,209668,209724,210101,210404,210419,210931,211588,211656,212092,212168,215558],\"xaxis\":\"x\",\"y\":[\"\\u043f\\u044c\\u0435\\u0440\",\"\\u043f\\u044c\\u0435\\u0440\",\"\\u043f\\u044c\\u0435\\u0440\",\"\\u043f\\u044c\\u0435\\u0440\",\"\\u043f\\u044c\\u0435\\u0440\",\"\\u043f\\u044c\\u0435\\u0440\",\"\\u043f\\u044c\\u0435\\u0440\",\"\\u043f\\u044c\\u0435\\u0440\",\"\\u043f\\u044c\\u0435\\u0440\",\"\\u043f\\u044c\\u0435\\u0440\",\"\\u043f\\u044c\\u0435\\u0440\",\"\\u043f\\u044c\\u0435\\u0440\",\"\\u043f\\u044c\\u0435\\u0440\",\"\\u043f\\u044c\\u0435\\u0440\",\"\\u043f\\u044c\\u0435\\u0440\",\"\\u043f\\u044c\\u0435\\u0440\",\"\\u043f\\u044c\\u0435\\u0440\",\"\\u043f\\u044c\\u0435\\u0440\",\"\\u043f\\u044c\\u0435\\u0440\",\"\\u043f\\u044c\\u0435\\u0440\",\"\\u043f\\u044c\\u0435\\u0440\",\"\\u043f\\u044c\\u0435\\u0440\",\"\\u043f\\u044c\\u0435\\u0440\",\"\\u043f\\u044c\\u0435\\u0440\",\"\\u043f\\u044c\\u0435\\u0440\",\"\\u043f\\u044c\\u0435\\u0440\",\"\\u043f\\u044c\\u0435\\u0440\",\"\\u043f\\u044c\\u0435\\u0440\",\"\\u043f\\u044c\\u0435\\u0440\",\"\\u043f\\u044c\\u0435\\u0440\",\"\\u043f\\u044c\\u0435\\u0440\",\"\\u043f\\u044c\\u0435\\u0440\",\"\\u043f\\u044c\\u0435\\u0440\",\"\\u043f\\u044c\\u0435\\u0440\",\"\\u043f\\u044c\\u0435\\u0440\",\"\\u043f\\u044c\\u0435\\u0440\",\"\\u043f\\u044c\\u0435\\u0440\",\"\\u043f\\u044c\\u0435\\u0440\",\"\\u043f\\u044c\\u0435\\u0440\",\"\\u043f\\u044c\\u0435\\u0440\",\"\\u043f\\u044c\\u0435\\u0440\",\"\\u043f\\u044c\\u0435\\u0440\",\"\\u043f\\u044c\\u0435\\u0440\",\"\\u043f\\u044c\\u0435\\u0440\",\"\\u043f\\u044c\\u0435\\u0440\",\"\\u043f\\u044c\\u0435\\u0440\",\"\\u043f\\u044c\\u0435\\u0440\",\"\\u043f\\u044c\\u0435\\u0440\",\"\\u043f\\u044c\\u0435\\u0440\",\"\\u043f\\u044c\\u0435\\u0440\",\"\\u043f\\u044c\\u0435\\u0440\",\"\\u043f\\u044c\\u0435\\u0440\",\"\\u043f\\u044c\\u0435\\u0440\",\"\\u043f\\u044c\\u0435\\u0440\",\"\\u043f\\u044c\\u0435\\u0440\",\"\\u043f\\u044c\\u0435\\u0440\",\"\\u043f\\u044c\\u0435\\u0440\",\"\\u043f\\u044c\\u0435\\u0440\",\"\\u043f\\u044c\\u0435\\u0440\",\"\\u043f\\u044c\\u0435\\u0440\",\"\\u043f\\u044c\\u0435\\u0440\",\"\\u043f\\u044c\\u0435\\u0440\",\"\\u043f\\u044c\\u0435\\u0440\",\"\\u043f\\u044c\\u0435\\u0440\",\"\\u043f\\u044c\\u0435\\u0440\",\"\\u043f\\u044c\\u0435\\u0440\",\"\\u043f\\u044c\\u0435\\u0440\",\"\\u043f\\u044c\\u0435\\u0440\",\"\\u043f\\u044c\\u0435\\u0440\",\"\\u043f\\u044c\\u0435\\u0440\",\"\\u043f\\u044c\\u0435\\u0440\",\"\\u043f\\u044c\\u0435\\u0440\",\"\\u043f\\u044c\\u0435\\u0440\",\"\\u043f\\u044c\\u0435\\u0440\",\"\\u043f\\u044c\\u0435\\u0440\",\"\\u043f\\u044c\\u0435\\u0440\",\"\\u043f\\u044c\\u0435\\u0440\",\"\\u043f\\u044c\\u0435\\u0440\",\"\\u043f\\u044c\\u0435\\u0440\",\"\\u043f\\u044c\\u0435\\u0440\",\"\\u043f\\u044c\\u0435\\u0440\",\"\\u043f\\u044c\\u0435\\u0440\",\"\\u043f\\u044c\\u0435\\u0440\",\"\\u043f\\u044c\\u0435\\u0440\",\"\\u043f\\u044c\\u0435\\u0440\",\"\\u043f\\u044c\\u0435\\u0440\",\"\\u043f\\u044c\\u0435\\u0440\",\"\\u043f\\u044c\\u0435\\u0440\",\"\\u043f\\u044c\\u0435\\u0440\",\"\\u043f\\u044c\\u0435\\u0440\",\"\\u043f\\u044c\\u0435\\u0440\",\"\\u043f\\u044c\\u0435\\u0440\",\"\\u043f\\u044c\\u0435\\u0440\",\"\\u043f\\u044c\\u0435\\u0440\",\"\\u043f\\u044c\\u0435\\u0440\",\"\\u043f\\u044c\\u0435\\u0440\",\"\\u043f\\u044c\\u0435\\u0440\",\"\\u043f\\u044c\\u0435\\u0440\",\"\\u043f\\u044c\\u0435\\u0440\",\"\\u043f\\u044c\\u0435\\u0440\",\"\\u043f\\u044c\\u0435\\u0440\",\"\\u043f\\u044c\\u0435\\u0440\",\"\\u043f\\u044c\\u0435\\u0440\",\"\\u043f\\u044c\\u0435\\u0440\",\"\\u043f\\u044c\\u0435\\u0440\",\"\\u043f\\u044c\\u0435\\u0440\",\"\\u043f\\u044c\\u0435\\u0440\",\"\\u043f\\u044c\\u0435\\u0440\",\"\\u043f\\u044c\\u0435\\u0440\",\"\\u043f\\u044c\\u0435\\u0440\",\"\\u043f\\u044c\\u0435\\u0440\",\"\\u043f\\u044c\\u0435\\u0440\",\"\\u043f\\u044c\\u0435\\u0440\",\"\\u043f\\u044c\\u0435\\u0440\",\"\\u043f\\u044c\\u0435\\u0440\",\"\\u043f\\u044c\\u0435\\u0440\",\"\\u043f\\u044c\\u0435\\u0440\",\"\\u043f\\u044c\\u0435\\u0440\",\"\\u043f\\u044c\\u0435\\u0440\",\"\\u043f\\u044c\\u0435\\u0440\",\"\\u043f\\u044c\\u0435\\u0440\",\"\\u043f\\u044c\\u0435\\u0440\",\"\\u043f\\u044c\\u0435\\u0440\",\"\\u043f\\u044c\\u0435\\u0440\",\"\\u043f\\u044c\\u0435\\u0440\",\"\\u043f\\u044c\\u0435\\u0440\",\"\\u043f\\u044c\\u0435\\u0440\",\"\\u043f\\u044c\\u0435\\u0440\",\"\\u043f\\u044c\\u0435\\u0440\",\"\\u043f\\u044c\\u0435\\u0440\",\"\\u043f\\u044c\\u0435\\u0440\",\"\\u043f\\u044c\\u0435\\u0440\",\"\\u043f\\u044c\\u0435\\u0440\",\"\\u043f\\u044c\\u0435\\u0440\",\"\\u043f\\u044c\\u0435\\u0440\",\"\\u043f\\u044c\\u0435\\u0440\",\"\\u043f\\u044c\\u0435\\u0440\",\"\\u043f\\u044c\\u0435\\u0440\",\"\\u043f\\u044c\\u0435\\u0440\",\"\\u043f\\u044c\\u0435\\u0440\",\"\\u043f\\u044c\\u0435\\u0440\",\"\\u043f\\u044c\\u0435\\u0440\",\"\\u043f\\u044c\\u0435\\u0440\",\"\\u043f\\u044c\\u0435\\u0440\",\"\\u043f\\u044c\\u0435\\u0440\",\"\\u043f\\u044c\\u0435\\u0440\",\"\\u043f\\u044c\\u0435\\u0440\",\"\\u043f\\u044c\\u0435\\u0440\",\"\\u043f\\u044c\\u0435\\u0440\",\"\\u043f\\u044c\\u0435\\u0440\",\"\\u043f\\u044c\\u0435\\u0440\",\"\\u043f\\u044c\\u0435\\u0440\",\"\\u043f\\u044c\\u0435\\u0440\",\"\\u043f\\u044c\\u0435\\u0440\",\"\\u043f\\u044c\\u0435\\u0440\",\"\\u043f\\u044c\\u0435\\u0440\",\"\\u043f\\u044c\\u0435\\u0440\",\"\\u043f\\u044c\\u0435\\u0440\",\"\\u043f\\u044c\\u0435\\u0440\",\"\\u043f\\u044c\\u0435\\u0440\",\"\\u043f\\u044c\\u0435\\u0440\",\"\\u043f\\u044c\\u0435\\u0440\",\"\\u043f\\u044c\\u0435\\u0440\",\"\\u043f\\u044c\\u0435\\u0440\",\"\\u043f\\u044c\\u0435\\u0440\",\"\\u043f\\u044c\\u0435\\u0440\",\"\\u043f\\u044c\\u0435\\u0440\",\"\\u043f\\u044c\\u0435\\u0440\",\"\\u043f\\u044c\\u0435\\u0440\",\"\\u043f\\u044c\\u0435\\u0440\",\"\\u043f\\u044c\\u0435\\u0440\",\"\\u043f\\u044c\\u0435\\u0440\",\"\\u043f\\u044c\\u0435\\u0440\",\"\\u043f\\u044c\\u0435\\u0440\",\"\\u043f\\u044c\\u0435\\u0440\",\"\\u043f\\u044c\\u0435\\u0440\",\"\\u043f\\u044c\\u0435\\u0440\",\"\\u043f\\u044c\\u0435\\u0440\",\"\\u043f\\u044c\\u0435\\u0440\",\"\\u043f\\u044c\\u0435\\u0440\",\"\\u043f\\u044c\\u0435\\u0440\",\"\\u043f\\u044c\\u0435\\u0440\",\"\\u043f\\u044c\\u0435\\u0440\",\"\\u043f\\u044c\\u0435\\u0440\",\"\\u043f\\u044c\\u0435\\u0440\",\"\\u043f\\u044c\\u0435\\u0440\",\"\\u043f\\u044c\\u0435\\u0440\",\"\\u043f\\u044c\\u0435\\u0440\",\"\\u043f\\u044c\\u0435\\u0440\",\"\\u043f\\u044c\\u0435\\u0440\",\"\\u043f\\u044c\\u0435\\u0440\",\"\\u043f\\u044c\\u0435\\u0440\",\"\\u043f\\u044c\\u0435\\u0440\",\"\\u043f\\u044c\\u0435\\u0440\",\"\\u043f\\u044c\\u0435\\u0440\",\"\\u043f\\u044c\\u0435\\u0440\",\"\\u043f\\u044c\\u0435\\u0440\",\"\\u043f\\u044c\\u0435\\u0440\",\"\\u043f\\u044c\\u0435\\u0440\",\"\\u043f\\u044c\\u0435\\u0440\",\"\\u043f\\u044c\\u0435\\u0440\",\"\\u043f\\u044c\\u0435\\u0440\",\"\\u043f\\u044c\\u0435\\u0440\",\"\\u043f\\u044c\\u0435\\u0440\",\"\\u043f\\u044c\\u0435\\u0440\",\"\\u043f\\u044c\\u0435\\u0440\",\"\\u043f\\u044c\\u0435\\u0440\",\"\\u043f\\u044c\\u0435\\u0440\",\"\\u043f\\u044c\\u0435\\u0440\",\"\\u043f\\u044c\\u0435\\u0440\",\"\\u043f\\u044c\\u0435\\u0440\",\"\\u043f\\u044c\\u0435\\u0440\",\"\\u043f\\u044c\\u0435\\u0440\",\"\\u043f\\u044c\\u0435\\u0440\",\"\\u043f\\u044c\\u0435\\u0440\",\"\\u043f\\u044c\\u0435\\u0440\",\"\\u043f\\u044c\\u0435\\u0440\",\"\\u043f\\u044c\\u0435\\u0440\",\"\\u043f\\u044c\\u0435\\u0440\",\"\\u043f\\u044c\\u0435\\u0440\",\"\\u043f\\u044c\\u0435\\u0440\",\"\\u043f\\u044c\\u0435\\u0440\",\"\\u043f\\u044c\\u0435\\u0440\",\"\\u043f\\u044c\\u0435\\u0440\",\"\\u043f\\u044c\\u0435\\u0440\",\"\\u043f\\u044c\\u0435\\u0440\",\"\\u043f\\u044c\\u0435\\u0440\",\"\\u043f\\u044c\\u0435\\u0440\",\"\\u043f\\u044c\\u0435\\u0440\",\"\\u043f\\u044c\\u0435\\u0440\",\"\\u043f\\u044c\\u0435\\u0440\",\"\\u043f\\u044c\\u0435\\u0440\",\"\\u043f\\u044c\\u0435\\u0440\",\"\\u043f\\u044c\\u0435\\u0440\",\"\\u043f\\u044c\\u0435\\u0440\",\"\\u043f\\u044c\\u0435\\u0440\",\"\\u043f\\u044c\\u0435\\u0440\",\"\\u043f\\u044c\\u0435\\u0440\",\"\\u043f\\u044c\\u0435\\u0440\",\"\\u043f\\u044c\\u0435\\u0440\",\"\\u043f\\u044c\\u0435\\u0440\",\"\\u043f\\u044c\\u0435\\u0440\",\"\\u043f\\u044c\\u0435\\u0440\",\"\\u043f\\u044c\\u0435\\u0440\",\"\\u043f\\u044c\\u0435\\u0440\",\"\\u043f\\u044c\\u0435\\u0440\",\"\\u043f\\u044c\\u0435\\u0440\",\"\\u043f\\u044c\\u0435\\u0440\",\"\\u043f\\u044c\\u0435\\u0440\",\"\\u043f\\u044c\\u0435\\u0440\",\"\\u043f\\u044c\\u0435\\u0440\",\"\\u043f\\u044c\\u0435\\u0440\",\"\\u043f\\u044c\\u0435\\u0440\",\"\\u043f\\u044c\\u0435\\u0440\",\"\\u043f\\u044c\\u0435\\u0440\",\"\\u043f\\u044c\\u0435\\u0440\",\"\\u043f\\u044c\\u0435\\u0440\",\"\\u043f\\u044c\\u0435\\u0440\",\"\\u043f\\u044c\\u0435\\u0440\",\"\\u043f\\u044c\\u0435\\u0440\",\"\\u043f\\u044c\\u0435\\u0440\",\"\\u043f\\u044c\\u0435\\u0440\",\"\\u043f\\u044c\\u0435\\u0440\",\"\\u043f\\u044c\\u0435\\u0440\",\"\\u043f\\u044c\\u0435\\u0440\",\"\\u043f\\u044c\\u0435\\u0440\",\"\\u043f\\u044c\\u0435\\u0440\",\"\\u043f\\u044c\\u0435\\u0440\",\"\\u043f\\u044c\\u0435\\u0440\",\"\\u043f\\u044c\\u0435\\u0440\",\"\\u043f\\u044c\\u0435\\u0440\",\"\\u043f\\u044c\\u0435\\u0440\",\"\\u043f\\u044c\\u0435\\u0440\",\"\\u043f\\u044c\\u0435\\u0440\",\"\\u043f\\u044c\\u0435\\u0440\",\"\\u043f\\u044c\\u0435\\u0440\",\"\\u043f\\u044c\\u0435\\u0440\",\"\\u043f\\u044c\\u0435\\u0440\",\"\\u043f\\u044c\\u0435\\u0440\",\"\\u043f\\u044c\\u0435\\u0440\",\"\\u043f\\u044c\\u0435\\u0440\",\"\\u043f\\u044c\\u0435\\u0440\",\"\\u043f\\u044c\\u0435\\u0440\",\"\\u043f\\u044c\\u0435\\u0440\",\"\\u043f\\u044c\\u0435\\u0440\",\"\\u043f\\u044c\\u0435\\u0440\",\"\\u043f\\u044c\\u0435\\u0440\",\"\\u043f\\u044c\\u0435\\u0440\",\"\\u043f\\u044c\\u0435\\u0440\",\"\\u043f\\u044c\\u0435\\u0440\",\"\\u043f\\u044c\\u0435\\u0440\",\"\\u043f\\u044c\\u0435\\u0440\",\"\\u043f\\u044c\\u0435\\u0440\",\"\\u043f\\u044c\\u0435\\u0440\",\"\\u043f\\u044c\\u0435\\u0440\",\"\\u043f\\u044c\\u0435\\u0440\",\"\\u043f\\u044c\\u0435\\u0440\",\"\\u043f\\u044c\\u0435\\u0440\",\"\\u043f\\u044c\\u0435\\u0440\",\"\\u043f\\u044c\\u0435\\u0440\",\"\\u043f\\u044c\\u0435\\u0440\",\"\\u043f\\u044c\\u0435\\u0440\",\"\\u043f\\u044c\\u0435\\u0440\",\"\\u043f\\u044c\\u0435\\u0440\",\"\\u043f\\u044c\\u0435\\u0440\",\"\\u043f\\u044c\\u0435\\u0440\",\"\\u043f\\u044c\\u0435\\u0440\",\"\\u043f\\u044c\\u0435\\u0440\",\"\\u043f\\u044c\\u0435\\u0440\",\"\\u043f\\u044c\\u0435\\u0440\",\"\\u043f\\u044c\\u0435\\u0440\",\"\\u043f\\u044c\\u0435\\u0440\",\"\\u043f\\u044c\\u0435\\u0440\",\"\\u043f\\u044c\\u0435\\u0440\",\"\\u043f\\u044c\\u0435\\u0440\",\"\\u043f\\u044c\\u0435\\u0440\",\"\\u043f\\u044c\\u0435\\u0440\",\"\\u043f\\u044c\\u0435\\u0440\",\"\\u043f\\u044c\\u0435\\u0440\",\"\\u043f\\u044c\\u0435\\u0440\",\"\\u043f\\u044c\\u0435\\u0440\",\"\\u043f\\u044c\\u0435\\u0440\",\"\\u043f\\u044c\\u0435\\u0440\",\"\\u043f\\u044c\\u0435\\u0440\",\"\\u043f\\u044c\\u0435\\u0440\",\"\\u043f\\u044c\\u0435\\u0440\",\"\\u043f\\u044c\\u0435\\u0440\",\"\\u043f\\u044c\\u0435\\u0440\",\"\\u043f\\u044c\\u0435\\u0440\",\"\\u043f\\u044c\\u0435\\u0440\",\"\\u043f\\u044c\\u0435\\u0440\",\"\\u043f\\u044c\\u0435\\u0440\",\"\\u043f\\u044c\\u0435\\u0440\",\"\\u043f\\u044c\\u0435\\u0440\",\"\\u043f\\u044c\\u0435\\u0440\",\"\\u043f\\u044c\\u0435\\u0440\",\"\\u043f\\u044c\\u0435\\u0440\",\"\\u043f\\u044c\\u0435\\u0440\",\"\\u043f\\u044c\\u0435\\u0440\",\"\\u043f\\u044c\\u0435\\u0440\",\"\\u043f\\u044c\\u0435\\u0440\",\"\\u043f\\u044c\\u0435\\u0440\",\"\\u043f\\u044c\\u0435\\u0440\",\"\\u043f\\u044c\\u0435\\u0440\",\"\\u043f\\u044c\\u0435\\u0440\",\"\\u043f\\u044c\\u0435\\u0440\",\"\\u043f\\u044c\\u0435\\u0440\",\"\\u043f\\u044c\\u0435\\u0440\",\"\\u043f\\u044c\\u0435\\u0440\",\"\\u043f\\u044c\\u0435\\u0440\",\"\\u043f\\u044c\\u0435\\u0440\",\"\\u043f\\u044c\\u0435\\u0440\",\"\\u043f\\u044c\\u0435\\u0440\",\"\\u043f\\u044c\\u0435\\u0440\",\"\\u043f\\u044c\\u0435\\u0440\",\"\\u043f\\u044c\\u0435\\u0440\",\"\\u043f\\u044c\\u0435\\u0440\",\"\\u043f\\u044c\\u0435\\u0440\",\"\\u043f\\u044c\\u0435\\u0440\",\"\\u043f\\u044c\\u0435\\u0440\",\"\\u043f\\u044c\\u0435\\u0440\",\"\\u043f\\u044c\\u0435\\u0440\",\"\\u043f\\u044c\\u0435\\u0440\",\"\\u043f\\u044c\\u0435\\u0440\",\"\\u043f\\u044c\\u0435\\u0440\",\"\\u043f\\u044c\\u0435\\u0440\",\"\\u043f\\u044c\\u0435\\u0440\",\"\\u043f\\u044c\\u0435\\u0440\",\"\\u043f\\u044c\\u0435\\u0440\",\"\\u043f\\u044c\\u0435\\u0440\",\"\\u043f\\u044c\\u0435\\u0440\",\"\\u043f\\u044c\\u0435\\u0440\",\"\\u043f\\u044c\\u0435\\u0440\",\"\\u043f\\u044c\\u0435\\u0440\",\"\\u043f\\u044c\\u0435\\u0440\",\"\\u043f\\u044c\\u0435\\u0440\",\"\\u043f\\u044c\\u0435\\u0440\",\"\\u043f\\u044c\\u0435\\u0440\",\"\\u043f\\u044c\\u0435\\u0440\",\"\\u043f\\u044c\\u0435\\u0440\",\"\\u043f\\u044c\\u0435\\u0440\",\"\\u043f\\u044c\\u0435\\u0440\",\"\\u043f\\u044c\\u0435\\u0440\",\"\\u043f\\u044c\\u0435\\u0440\",\"\\u043f\\u044c\\u0435\\u0440\",\"\\u043f\\u044c\\u0435\\u0440\",\"\\u043f\\u044c\\u0435\\u0440\",\"\\u043f\\u044c\\u0435\\u0440\",\"\\u043f\\u044c\\u0435\\u0440\",\"\\u043f\\u044c\\u0435\\u0440\",\"\\u043f\\u044c\\u0435\\u0440\",\"\\u043f\\u044c\\u0435\\u0440\",\"\\u043f\\u044c\\u0435\\u0440\",\"\\u043f\\u044c\\u0435\\u0440\",\"\\u043f\\u044c\\u0435\\u0440\",\"\\u043f\\u044c\\u0435\\u0440\",\"\\u043f\\u044c\\u0435\\u0440\",\"\\u043f\\u044c\\u0435\\u0440\",\"\\u043f\\u044c\\u0435\\u0440\",\"\\u043f\\u044c\\u0435\\u0440\",\"\\u043f\\u044c\\u0435\\u0440\",\"\\u043f\\u044c\\u0435\\u0440\",\"\\u043f\\u044c\\u0435\\u0440\",\"\\u043f\\u044c\\u0435\\u0440\",\"\\u043f\\u044c\\u0435\\u0440\",\"\\u043f\\u044c\\u0435\\u0440\",\"\\u043f\\u044c\\u0435\\u0440\",\"\\u043f\\u044c\\u0435\\u0440\",\"\\u043f\\u044c\\u0435\\u0440\",\"\\u043f\\u044c\\u0435\\u0440\",\"\\u043f\\u044c\\u0435\\u0440\",\"\\u043f\\u044c\\u0435\\u0440\",\"\\u043f\\u044c\\u0435\\u0440\",\"\\u043f\\u044c\\u0435\\u0440\",\"\\u043f\\u044c\\u0435\\u0440\",\"\\u043f\\u044c\\u0435\\u0440\",\"\\u043f\\u044c\\u0435\\u0440\",\"\\u043f\\u044c\\u0435\\u0440\",\"\\u043f\\u044c\\u0435\\u0440\",\"\\u043f\\u044c\\u0435\\u0440\",\"\\u043f\\u044c\\u0435\\u0440\",\"\\u043f\\u044c\\u0435\\u0440\",\"\\u043f\\u044c\\u0435\\u0440\",\"\\u043f\\u044c\\u0435\\u0440\",\"\\u043f\\u044c\\u0435\\u0440\",\"\\u043f\\u044c\\u0435\\u0440\",\"\\u043f\\u044c\\u0435\\u0440\",\"\\u043f\\u044c\\u0435\\u0440\",\"\\u043f\\u044c\\u0435\\u0440\",\"\\u043f\\u044c\\u0435\\u0440\",\"\\u043f\\u044c\\u0435\\u0440\",\"\\u043f\\u044c\\u0435\\u0440\",\"\\u043f\\u044c\\u0435\\u0440\",\"\\u043f\\u044c\\u0435\\u0440\",\"\\u043f\\u044c\\u0435\\u0440\",\"\\u043f\\u044c\\u0435\\u0440\",\"\\u043f\\u044c\\u0435\\u0440\",\"\\u043f\\u044c\\u0435\\u0440\",\"\\u043f\\u044c\\u0435\\u0440\",\"\\u043f\\u044c\\u0435\\u0440\",\"\\u043f\\u044c\\u0435\\u0440\",\"\\u043f\\u044c\\u0435\\u0440\",\"\\u043f\\u044c\\u0435\\u0440\",\"\\u043f\\u044c\\u0435\\u0440\",\"\\u043f\\u044c\\u0435\\u0440\",\"\\u043f\\u044c\\u0435\\u0440\",\"\\u043f\\u044c\\u0435\\u0440\",\"\\u043f\\u044c\\u0435\\u0440\",\"\\u043f\\u044c\\u0435\\u0440\",\"\\u043f\\u044c\\u0435\\u0440\",\"\\u043f\\u044c\\u0435\\u0440\",\"\\u043f\\u044c\\u0435\\u0440\",\"\\u043f\\u044c\\u0435\\u0440\",\"\\u043f\\u044c\\u0435\\u0440\",\"\\u043f\\u044c\\u0435\\u0440\",\"\\u043f\\u044c\\u0435\\u0440\",\"\\u043f\\u044c\\u0435\\u0440\",\"\\u043f\\u044c\\u0435\\u0440\",\"\\u043f\\u044c\\u0435\\u0440\",\"\\u043f\\u044c\\u0435\\u0440\",\"\\u043f\\u044c\\u0435\\u0440\",\"\\u043f\\u044c\\u0435\\u0440\",\"\\u043f\\u044c\\u0435\\u0440\",\"\\u043f\\u044c\\u0435\\u0440\",\"\\u043f\\u044c\\u0435\\u0440\",\"\\u043f\\u044c\\u0435\\u0440\",\"\\u043f\\u044c\\u0435\\u0440\",\"\\u043f\\u044c\\u0435\\u0440\",\"\\u043f\\u044c\\u0435\\u0440\",\"\\u043f\\u044c\\u0435\\u0440\",\"\\u043f\\u044c\\u0435\\u0440\",\"\\u043f\\u044c\\u0435\\u0440\",\"\\u043f\\u044c\\u0435\\u0440\",\"\\u043f\\u044c\\u0435\\u0440\",\"\\u043f\\u044c\\u0435\\u0440\",\"\\u043f\\u044c\\u0435\\u0440\",\"\\u043f\\u044c\\u0435\\u0440\",\"\\u043f\\u044c\\u0435\\u0440\",\"\\u043f\\u044c\\u0435\\u0440\",\"\\u043f\\u044c\\u0435\\u0440\",\"\\u043f\\u044c\\u0435\\u0440\",\"\\u043f\\u044c\\u0435\\u0440\",\"\\u043f\\u044c\\u0435\\u0440\",\"\\u043f\\u044c\\u0435\\u0440\",\"\\u043f\\u044c\\u0435\\u0440\",\"\\u043f\\u044c\\u0435\\u0440\",\"\\u043f\\u044c\\u0435\\u0440\",\"\\u043f\\u044c\\u0435\\u0440\",\"\\u043f\\u044c\\u0435\\u0440\",\"\\u043f\\u044c\\u0435\\u0440\",\"\\u043f\\u044c\\u0435\\u0440\",\"\\u043f\\u044c\\u0435\\u0440\",\"\\u043f\\u044c\\u0435\\u0440\",\"\\u043f\\u044c\\u0435\\u0440\",\"\\u043f\\u044c\\u0435\\u0440\",\"\\u043f\\u044c\\u0435\\u0440\",\"\\u043f\\u044c\\u0435\\u0440\",\"\\u043f\\u044c\\u0435\\u0440\",\"\\u043f\\u044c\\u0435\\u0440\",\"\\u043f\\u044c\\u0435\\u0440\",\"\\u043f\\u044c\\u0435\\u0440\",\"\\u043f\\u044c\\u0435\\u0440\",\"\\u043f\\u044c\\u0435\\u0440\",\"\\u043f\\u044c\\u0435\\u0440\",\"\\u043f\\u044c\\u0435\\u0440\",\"\\u043f\\u044c\\u0435\\u0440\",\"\\u043f\\u044c\\u0435\\u0440\",\"\\u043f\\u044c\\u0435\\u0440\",\"\\u043f\\u044c\\u0435\\u0440\",\"\\u043f\\u044c\\u0435\\u0440\",\"\\u043f\\u044c\\u0435\\u0440\",\"\\u043f\\u044c\\u0435\\u0440\",\"\\u043f\\u044c\\u0435\\u0440\",\"\\u043f\\u044c\\u0435\\u0440\",\"\\u043f\\u044c\\u0435\\u0440\",\"\\u043f\\u044c\\u0435\\u0440\",\"\\u043f\\u044c\\u0435\\u0440\",\"\\u043f\\u044c\\u0435\\u0440\",\"\\u043f\\u044c\\u0435\\u0440\",\"\\u043f\\u044c\\u0435\\u0440\",\"\\u043f\\u044c\\u0435\\u0440\",\"\\u043f\\u044c\\u0435\\u0440\",\"\\u043f\\u044c\\u0435\\u0440\",\"\\u043f\\u044c\\u0435\\u0440\",\"\\u043f\\u044c\\u0435\\u0440\",\"\\u043f\\u044c\\u0435\\u0440\",\"\\u043f\\u044c\\u0435\\u0440\",\"\\u043f\\u044c\\u0435\\u0440\",\"\\u043f\\u044c\\u0435\\u0440\",\"\\u043f\\u044c\\u0435\\u0440\",\"\\u043f\\u044c\\u0435\\u0440\",\"\\u043f\\u044c\\u0435\\u0440\",\"\\u043f\\u044c\\u0435\\u0440\",\"\\u043f\\u044c\\u0435\\u0440\",\"\\u043f\\u044c\\u0435\\u0440\",\"\\u043f\\u044c\\u0435\\u0440\",\"\\u043f\\u044c\\u0435\\u0440\",\"\\u043f\\u044c\\u0435\\u0440\",\"\\u043f\\u044c\\u0435\\u0440\",\"\\u043f\\u044c\\u0435\\u0440\",\"\\u043f\\u044c\\u0435\\u0440\",\"\\u043f\\u044c\\u0435\\u0440\",\"\\u043f\\u044c\\u0435\\u0440\",\"\\u043f\\u044c\\u0435\\u0440\",\"\\u043f\\u044c\\u0435\\u0440\",\"\\u043f\\u044c\\u0435\\u0440\",\"\\u043f\\u044c\\u0435\\u0440\",\"\\u043f\\u044c\\u0435\\u0440\",\"\\u043f\\u044c\\u0435\\u0440\",\"\\u043f\\u044c\\u0435\\u0440\",\"\\u043f\\u044c\\u0435\\u0440\",\"\\u043f\\u044c\\u0435\\u0440\",\"\\u043f\\u044c\\u0435\\u0440\",\"\\u043f\\u044c\\u0435\\u0440\",\"\\u043f\\u044c\\u0435\\u0440\",\"\\u043f\\u044c\\u0435\\u0440\",\"\\u043f\\u044c\\u0435\\u0440\",\"\\u043f\\u044c\\u0435\\u0440\",\"\\u043f\\u044c\\u0435\\u0440\",\"\\u043f\\u044c\\u0435\\u0440\",\"\\u043f\\u044c\\u0435\\u0440\",\"\\u043f\\u044c\\u0435\\u0440\",\"\\u043f\\u044c\\u0435\\u0440\",\"\\u043f\\u044c\\u0435\\u0440\",\"\\u043f\\u044c\\u0435\\u0440\",\"\\u043f\\u044c\\u0435\\u0440\",\"\\u043f\\u044c\\u0435\\u0440\",\"\\u043f\\u044c\\u0435\\u0440\",\"\\u043f\\u044c\\u0435\\u0440\",\"\\u043f\\u044c\\u0435\\u0440\",\"\\u043f\\u044c\\u0435\\u0440\",\"\\u043f\\u044c\\u0435\\u0440\",\"\\u043f\\u044c\\u0435\\u0440\",\"\\u043f\\u044c\\u0435\\u0440\",\"\\u043f\\u044c\\u0435\\u0440\",\"\\u043f\\u044c\\u0435\\u0440\",\"\\u043f\\u044c\\u0435\\u0440\",\"\\u043f\\u044c\\u0435\\u0440\",\"\\u043f\\u044c\\u0435\\u0440\",\"\\u043f\\u044c\\u0435\\u0440\",\"\\u043f\\u044c\\u0435\\u0440\",\"\\u043f\\u044c\\u0435\\u0440\",\"\\u043f\\u044c\\u0435\\u0440\",\"\\u043f\\u044c\\u0435\\u0440\",\"\\u043f\\u044c\\u0435\\u0440\",\"\\u043f\\u044c\\u0435\\u0440\",\"\\u043f\\u044c\\u0435\\u0440\",\"\\u043f\\u044c\\u0435\\u0440\",\"\\u043f\\u044c\\u0435\\u0440\",\"\\u043f\\u044c\\u0435\\u0440\",\"\\u043f\\u044c\\u0435\\u0440\",\"\\u043f\\u044c\\u0435\\u0440\",\"\\u043f\\u044c\\u0435\\u0440\",\"\\u043f\\u044c\\u0435\\u0440\",\"\\u043f\\u044c\\u0435\\u0440\",\"\\u043f\\u044c\\u0435\\u0440\",\"\\u043f\\u044c\\u0435\\u0440\",\"\\u043f\\u044c\\u0435\\u0440\",\"\\u043f\\u044c\\u0435\\u0440\",\"\\u043f\\u044c\\u0435\\u0440\",\"\\u043f\\u044c\\u0435\\u0440\",\"\\u043f\\u044c\\u0435\\u0440\",\"\\u043f\\u044c\\u0435\\u0440\",\"\\u043f\\u044c\\u0435\\u0440\",\"\\u043f\\u044c\\u0435\\u0440\",\"\\u043f\\u044c\\u0435\\u0440\",\"\\u043f\\u044c\\u0435\\u0440\",\"\\u043f\\u044c\\u0435\\u0440\",\"\\u043f\\u044c\\u0435\\u0440\",\"\\u043f\\u044c\\u0435\\u0440\",\"\\u043f\\u044c\\u0435\\u0440\",\"\\u043f\\u044c\\u0435\\u0440\",\"\\u043f\\u044c\\u0435\\u0440\",\"\\u043f\\u044c\\u0435\\u0440\",\"\\u043f\\u044c\\u0435\\u0440\",\"\\u043f\\u044c\\u0435\\u0440\",\"\\u043f\\u044c\\u0435\\u0440\",\"\\u043f\\u044c\\u0435\\u0440\",\"\\u043f\\u044c\\u0435\\u0440\",\"\\u043f\\u044c\\u0435\\u0440\",\"\\u043f\\u044c\\u0435\\u0440\",\"\\u043f\\u044c\\u0435\\u0440\",\"\\u043f\\u044c\\u0435\\u0440\",\"\\u043f\\u044c\\u0435\\u0440\",\"\\u043f\\u044c\\u0435\\u0440\",\"\\u043f\\u044c\\u0435\\u0440\",\"\\u043f\\u044c\\u0435\\u0440\",\"\\u043f\\u044c\\u0435\\u0440\",\"\\u043f\\u044c\\u0435\\u0440\",\"\\u043f\\u044c\\u0435\\u0440\",\"\\u043f\\u044c\\u0435\\u0440\",\"\\u043f\\u044c\\u0435\\u0440\",\"\\u043f\\u044c\\u0435\\u0440\",\"\\u043f\\u044c\\u0435\\u0440\",\"\\u043f\\u044c\\u0435\\u0440\",\"\\u043f\\u044c\\u0435\\u0440\",\"\\u043f\\u044c\\u0435\\u0440\",\"\\u043f\\u044c\\u0435\\u0440\",\"\\u043f\\u044c\\u0435\\u0440\",\"\\u043f\\u044c\\u0435\\u0440\",\"\\u043f\\u044c\\u0435\\u0440\",\"\\u043f\\u044c\\u0435\\u0440\",\"\\u043f\\u044c\\u0435\\u0440\",\"\\u043f\\u044c\\u0435\\u0440\",\"\\u043f\\u044c\\u0435\\u0440\",\"\\u043f\\u044c\\u0435\\u0440\",\"\\u043f\\u044c\\u0435\\u0440\",\"\\u043f\\u044c\\u0435\\u0440\",\"\\u043f\\u044c\\u0435\\u0440\",\"\\u043f\\u044c\\u0435\\u0440\",\"\\u043f\\u044c\\u0435\\u0440\",\"\\u043f\\u044c\\u0435\\u0440\",\"\\u043f\\u044c\\u0435\\u0440\",\"\\u043f\\u044c\\u0435\\u0440\",\"\\u043f\\u044c\\u0435\\u0440\",\"\\u043f\\u044c\\u0435\\u0440\",\"\\u043f\\u044c\\u0435\\u0440\",\"\\u043f\\u044c\\u0435\\u0440\",\"\\u043f\\u044c\\u0435\\u0440\",\"\\u043f\\u044c\\u0435\\u0440\",\"\\u043f\\u044c\\u0435\\u0440\",\"\\u043f\\u044c\\u0435\\u0440\",\"\\u043f\\u044c\\u0435\\u0440\",\"\\u043f\\u044c\\u0435\\u0440\",\"\\u043f\\u044c\\u0435\\u0440\",\"\\u043f\\u044c\\u0435\\u0440\",\"\\u043f\\u044c\\u0435\\u0440\",\"\\u043f\\u044c\\u0435\\u0440\",\"\\u043f\\u044c\\u0435\\u0440\",\"\\u043f\\u044c\\u0435\\u0440\",\"\\u043f\\u044c\\u0435\\u0440\",\"\\u043f\\u044c\\u0435\\u0440\",\"\\u043f\\u044c\\u0435\\u0440\",\"\\u043f\\u044c\\u0435\\u0440\",\"\\u043f\\u044c\\u0435\\u0440\",\"\\u043f\\u044c\\u0435\\u0440\",\"\\u043f\\u044c\\u0435\\u0440\",\"\\u043f\\u044c\\u0435\\u0440\",\"\\u043f\\u044c\\u0435\\u0440\",\"\\u043f\\u044c\\u0435\\u0440\",\"\\u043f\\u044c\\u0435\\u0440\",\"\\u043f\\u044c\\u0435\\u0440\",\"\\u043f\\u044c\\u0435\\u0440\",\"\\u043f\\u044c\\u0435\\u0440\",\"\\u043f\\u044c\\u0435\\u0440\",\"\\u043f\\u044c\\u0435\\u0440\",\"\\u043f\\u044c\\u0435\\u0440\",\"\\u043f\\u044c\\u0435\\u0440\",\"\\u043f\\u044c\\u0435\\u0440\",\"\\u043f\\u044c\\u0435\\u0440\",\"\\u043f\\u044c\\u0435\\u0440\",\"\\u043f\\u044c\\u0435\\u0440\",\"\\u043f\\u044c\\u0435\\u0440\",\"\\u043f\\u044c\\u0435\\u0440\",\"\\u043f\\u044c\\u0435\\u0440\",\"\\u043f\\u044c\\u0435\\u0440\",\"\\u043f\\u044c\\u0435\\u0440\",\"\\u043f\\u044c\\u0435\\u0440\",\"\\u043f\\u044c\\u0435\\u0440\",\"\\u043f\\u044c\\u0435\\u0440\",\"\\u043f\\u044c\\u0435\\u0440\",\"\\u043f\\u044c\\u0435\\u0440\",\"\\u043f\\u044c\\u0435\\u0440\",\"\\u043f\\u044c\\u0435\\u0440\",\"\\u043f\\u044c\\u0435\\u0440\",\"\\u043f\\u044c\\u0435\\u0440\",\"\\u043f\\u044c\\u0435\\u0440\",\"\\u043f\\u044c\\u0435\\u0440\",\"\\u043f\\u044c\\u0435\\u0440\",\"\\u043f\\u044c\\u0435\\u0440\",\"\\u043f\\u044c\\u0435\\u0440\",\"\\u043f\\u044c\\u0435\\u0440\",\"\\u043f\\u044c\\u0435\\u0440\",\"\\u043f\\u044c\\u0435\\u0440\",\"\\u043f\\u044c\\u0435\\u0440\",\"\\u043f\\u044c\\u0435\\u0440\",\"\\u043f\\u044c\\u0435\\u0440\",\"\\u043f\\u044c\\u0435\\u0440\",\"\\u043f\\u044c\\u0435\\u0440\",\"\\u043f\\u044c\\u0435\\u0440\",\"\\u043f\\u044c\\u0435\\u0440\",\"\\u043f\\u044c\\u0435\\u0440\",\"\\u043f\\u044c\\u0435\\u0440\",\"\\u043f\\u044c\\u0435\\u0440\",\"\\u043f\\u044c\\u0435\\u0440\",\"\\u043f\\u044c\\u0435\\u0440\",\"\\u043f\\u044c\\u0435\\u0440\",\"\\u043f\\u044c\\u0435\\u0440\",\"\\u043f\\u044c\\u0435\\u0440\",\"\\u043f\\u044c\\u0435\\u0440\",\"\\u043f\\u044c\\u0435\\u0440\",\"\\u043f\\u044c\\u0435\\u0440\",\"\\u043f\\u044c\\u0435\\u0440\",\"\\u043f\\u044c\\u0435\\u0440\",\"\\u043f\\u044c\\u0435\\u0440\",\"\\u043f\\u044c\\u0435\\u0440\",\"\\u043f\\u044c\\u0435\\u0440\",\"\\u043f\\u044c\\u0435\\u0440\",\"\\u043f\\u044c\\u0435\\u0440\",\"\\u043f\\u044c\\u0435\\u0440\",\"\\u043f\\u044c\\u0435\\u0440\",\"\\u043f\\u044c\\u0435\\u0440\",\"\\u043f\\u044c\\u0435\\u0440\",\"\\u043f\\u044c\\u0435\\u0440\",\"\\u043f\\u044c\\u0435\\u0440\",\"\\u043f\\u044c\\u0435\\u0440\",\"\\u043f\\u044c\\u0435\\u0440\",\"\\u043f\\u044c\\u0435\\u0440\",\"\\u043f\\u044c\\u0435\\u0440\",\"\\u043f\\u044c\\u0435\\u0440\",\"\\u043f\\u044c\\u0435\\u0440\",\"\\u043f\\u044c\\u0435\\u0440\",\"\\u043f\\u044c\\u0435\\u0440\",\"\\u043f\\u044c\\u0435\\u0440\",\"\\u043f\\u044c\\u0435\\u0440\",\"\\u043f\\u044c\\u0435\\u0440\",\"\\u043f\\u044c\\u0435\\u0440\",\"\\u043f\\u044c\\u0435\\u0440\",\"\\u043f\\u044c\\u0435\\u0440\",\"\\u043f\\u044c\\u0435\\u0440\",\"\\u043f\\u044c\\u0435\\u0440\",\"\\u043f\\u044c\\u0435\\u0440\",\"\\u043f\\u044c\\u0435\\u0440\",\"\\u043f\\u044c\\u0435\\u0440\",\"\\u043f\\u044c\\u0435\\u0440\",\"\\u043f\\u044c\\u0435\\u0440\",\"\\u043f\\u044c\\u0435\\u0440\",\"\\u043f\\u044c\\u0435\\u0440\",\"\\u043f\\u044c\\u0435\\u0440\",\"\\u043f\\u044c\\u0435\\u0440\",\"\\u043f\\u044c\\u0435\\u0440\",\"\\u043f\\u044c\\u0435\\u0440\",\"\\u043f\\u044c\\u0435\\u0440\",\"\\u043f\\u044c\\u0435\\u0440\",\"\\u043f\\u044c\\u0435\\u0440\",\"\\u043f\\u044c\\u0435\\u0440\",\"\\u043f\\u044c\\u0435\\u0440\",\"\\u043f\\u044c\\u0435\\u0440\",\"\\u043f\\u044c\\u0435\\u0440\",\"\\u043f\\u044c\\u0435\\u0440\",\"\\u043f\\u044c\\u0435\\u0440\",\"\\u043f\\u044c\\u0435\\u0440\",\"\\u043f\\u044c\\u0435\\u0440\",\"\\u043f\\u044c\\u0435\\u0440\",\"\\u043f\\u044c\\u0435\\u0440\",\"\\u043f\\u044c\\u0435\\u0440\",\"\\u043f\\u044c\\u0435\\u0440\",\"\\u043f\\u044c\\u0435\\u0440\",\"\\u043f\\u044c\\u0435\\u0440\",\"\\u043f\\u044c\\u0435\\u0440\",\"\\u043f\\u044c\\u0435\\u0440\",\"\\u043f\\u044c\\u0435\\u0440\",\"\\u043f\\u044c\\u0435\\u0440\",\"\\u043f\\u044c\\u0435\\u0440\",\"\\u043f\\u044c\\u0435\\u0440\",\"\\u043f\\u044c\\u0435\\u0440\",\"\\u043f\\u044c\\u0435\\u0440\",\"\\u043f\\u044c\\u0435\\u0440\",\"\\u043f\\u044c\\u0435\\u0440\",\"\\u043f\\u044c\\u0435\\u0440\",\"\\u043f\\u044c\\u0435\\u0440\",\"\\u043f\\u044c\\u0435\\u0440\",\"\\u043f\\u044c\\u0435\\u0440\",\"\\u043f\\u044c\\u0435\\u0440\",\"\\u043f\\u044c\\u0435\\u0440\",\"\\u043f\\u044c\\u0435\\u0440\",\"\\u043f\\u044c\\u0435\\u0440\",\"\\u043f\\u044c\\u0435\\u0440\",\"\\u043f\\u044c\\u0435\\u0440\",\"\\u043f\\u044c\\u0435\\u0440\",\"\\u043f\\u044c\\u0435\\u0440\",\"\\u043f\\u044c\\u0435\\u0440\",\"\\u043f\\u044c\\u0435\\u0440\",\"\\u043f\\u044c\\u0435\\u0440\",\"\\u043f\\u044c\\u0435\\u0440\",\"\\u043f\\u044c\\u0435\\u0440\",\"\\u043f\\u044c\\u0435\\u0440\",\"\\u043f\\u044c\\u0435\\u0440\",\"\\u043f\\u044c\\u0435\\u0440\",\"\\u043f\\u044c\\u0435\\u0440\",\"\\u043f\\u044c\\u0435\\u0440\",\"\\u043f\\u044c\\u0435\\u0440\",\"\\u043f\\u044c\\u0435\\u0440\",\"\\u043f\\u044c\\u0435\\u0440\",\"\\u043f\\u044c\\u0435\\u0440\",\"\\u043f\\u044c\\u0435\\u0440\",\"\\u043f\\u044c\\u0435\\u0440\",\"\\u043f\\u044c\\u0435\\u0440\",\"\\u043f\\u044c\\u0435\\u0440\",\"\\u043f\\u044c\\u0435\\u0440\",\"\\u043f\\u044c\\u0435\\u0440\",\"\\u043f\\u044c\\u0435\\u0440\",\"\\u043f\\u044c\\u0435\\u0440\",\"\\u043f\\u044c\\u0435\\u0440\",\"\\u043f\\u044c\\u0435\\u0440\",\"\\u043f\\u044c\\u0435\\u0440\",\"\\u043f\\u044c\\u0435\\u0440\",\"\\u043f\\u044c\\u0435\\u0440\",\"\\u043f\\u044c\\u0435\\u0440\",\"\\u043f\\u044c\\u0435\\u0440\",\"\\u043f\\u044c\\u0435\\u0440\",\"\\u043f\\u044c\\u0435\\u0440\",\"\\u043f\\u044c\\u0435\\u0440\",\"\\u043f\\u044c\\u0435\\u0440\",\"\\u043f\\u044c\\u0435\\u0440\",\"\\u043f\\u044c\\u0435\\u0440\",\"\\u043f\\u044c\\u0435\\u0440\",\"\\u043f\\u044c\\u0435\\u0440\",\"\\u043f\\u044c\\u0435\\u0440\",\"\\u043f\\u044c\\u0435\\u0440\",\"\\u043f\\u044c\\u0435\\u0440\",\"\\u043f\\u044c\\u0435\\u0440\",\"\\u043f\\u044c\\u0435\\u0440\",\"\\u043f\\u044c\\u0435\\u0440\",\"\\u043f\\u044c\\u0435\\u0440\",\"\\u043f\\u044c\\u0435\\u0440\",\"\\u043f\\u044c\\u0435\\u0440\",\"\\u043f\\u044c\\u0435\\u0440\",\"\\u043f\\u044c\\u0435\\u0440\",\"\\u043f\\u044c\\u0435\\u0440\",\"\\u043f\\u044c\\u0435\\u0440\",\"\\u043f\\u044c\\u0435\\u0440\",\"\\u043f\\u044c\\u0435\\u0440\",\"\\u043f\\u044c\\u0435\\u0440\",\"\\u043f\\u044c\\u0435\\u0440\",\"\\u043f\\u044c\\u0435\\u0440\",\"\\u043f\\u044c\\u0435\\u0440\",\"\\u043f\\u044c\\u0435\\u0440\",\"\\u043f\\u044c\\u0435\\u0440\",\"\\u043f\\u044c\\u0435\\u0440\",\"\\u043f\\u044c\\u0435\\u0440\",\"\\u043f\\u044c\\u0435\\u0440\",\"\\u043f\\u044c\\u0435\\u0440\",\"\\u043f\\u044c\\u0435\\u0440\",\"\\u043f\\u044c\\u0435\\u0440\",\"\\u043f\\u044c\\u0435\\u0440\",\"\\u043f\\u044c\\u0435\\u0440\",\"\\u043f\\u044c\\u0435\\u0440\",\"\\u043f\\u044c\\u0435\\u0440\",\"\\u043f\\u044c\\u0435\\u0440\",\"\\u043f\\u044c\\u0435\\u0440\",\"\\u043f\\u044c\\u0435\\u0440\",\"\\u043f\\u044c\\u0435\\u0440\",\"\\u043f\\u044c\\u0435\\u0440\",\"\\u043f\\u044c\\u0435\\u0440\",\"\\u043f\\u044c\\u0435\\u0440\",\"\\u043f\\u044c\\u0435\\u0440\",\"\\u043f\\u044c\\u0435\\u0440\",\"\\u043f\\u044c\\u0435\\u0440\",\"\\u043f\\u044c\\u0435\\u0440\",\"\\u043f\\u044c\\u0435\\u0440\",\"\\u043f\\u044c\\u0435\\u0440\",\"\\u043f\\u044c\\u0435\\u0440\",\"\\u043f\\u044c\\u0435\\u0440\",\"\\u043f\\u044c\\u0435\\u0440\",\"\\u043f\\u044c\\u0435\\u0440\",\"\\u043f\\u044c\\u0435\\u0440\",\"\\u043f\\u044c\\u0435\\u0440\",\"\\u043f\\u044c\\u0435\\u0440\",\"\\u043f\\u044c\\u0435\\u0440\",\"\\u043f\\u044c\\u0435\\u0440\",\"\\u043f\\u044c\\u0435\\u0440\",\"\\u043f\\u044c\\u0435\\u0440\",\"\\u043f\\u044c\\u0435\\u0440\",\"\\u043f\\u044c\\u0435\\u0440\",\"\\u043f\\u044c\\u0435\\u0440\",\"\\u043f\\u044c\\u0435\\u0440\",\"\\u043f\\u044c\\u0435\\u0440\",\"\\u043f\\u044c\\u0435\\u0440\",\"\\u043f\\u044c\\u0435\\u0440\",\"\\u043f\\u044c\\u0435\\u0440\",\"\\u043f\\u044c\\u0435\\u0440\",\"\\u043f\\u044c\\u0435\\u0440\",\"\\u043f\\u044c\\u0435\\u0440\",\"\\u043f\\u044c\\u0435\\u0440\",\"\\u043f\\u044c\\u0435\\u0440\",\"\\u043f\\u044c\\u0435\\u0440\",\"\\u043f\\u044c\\u0435\\u0440\",\"\\u043f\\u044c\\u0435\\u0440\",\"\\u043f\\u044c\\u0435\\u0440\",\"\\u043f\\u044c\\u0435\\u0440\",\"\\u043f\\u044c\\u0435\\u0440\",\"\\u043f\\u044c\\u0435\\u0440\",\"\\u043f\\u044c\\u0435\\u0440\",\"\\u043f\\u044c\\u0435\\u0440\",\"\\u043f\\u044c\\u0435\\u0440\",\"\\u043f\\u044c\\u0435\\u0440\",\"\\u043f\\u044c\\u0435\\u0440\",\"\\u043f\\u044c\\u0435\\u0440\",\"\\u043f\\u044c\\u0435\\u0440\",\"\\u043f\\u044c\\u0435\\u0440\",\"\\u043f\\u044c\\u0435\\u0440\",\"\\u043f\\u044c\\u0435\\u0440\",\"\\u043f\\u044c\\u0435\\u0440\",\"\\u043f\\u044c\\u0435\\u0440\",\"\\u043f\\u044c\\u0435\\u0440\",\"\\u043f\\u044c\\u0435\\u0440\",\"\\u043f\\u044c\\u0435\\u0440\",\"\\u043f\\u044c\\u0435\\u0440\",\"\\u043f\\u044c\\u0435\\u0440\"],\"yaxis\":\"y2\",\"type\":\"scatter\"},{\"legendgroup\":\"\\u0430\\u043d\\u0434\\u0440\\u0435\\u0439\",\"marker\":{\"color\":\"rgb(255, 127, 14)\",\"symbol\":\"line-ns-open\"},\"mode\":\"markers\",\"name\":\"\\u0430\\u043d\\u0434\\u0440\\u0435\\u0439\",\"showlegend\":false,\"x\":[3138,3261,3270,3289,3354,3468,4168,4374,4426,4840,5026,5057,5083,5466,5697,5775,5794,5837,5877,5896,5928,5956,6067,6093,6152,6184,6208,6270,6307,6496,6615,6669,6689,6706,6767,6818,6876,6912,6983,7005,7007,7058,7229,7272,7451,7521,7576,7584,7611,7644,7686,7759,7831,7863,8007,8061,26504,27872,27915,28019,28070,28095,28110,28144,28191,28201,28229,28271,28344,28473,28518,28622,28743,28780,28848,28959,29134,29333,29378,29444,29728,29888,29954,30103,30251,30383,30407,30439,30467,30507,30689,30734,30800,30878,30906,30987,31082,31118,31204,31234,31364,31509,31528,31556,31564,31646,31676,31747,31769,31915,31980,32076,32241,32278,32331,32410,32430,32538,32557,34573,34634,35843,36216,36281,36344,36398,36500,36538,36556,36582,36592,36605,36623,36652,36675,36714,36957,37077,37118,37128,37304,37449,37482,45410,45480,45501,45555,45730,45747,45796,45834,45949,45969,45997,46155,46219,46301,46385,46425,46446,46470,46490,46569,46584,46592,46989,47087,47150,47445,47547,47597,47647,47717,47734,48016,48131,48176,48233,48460,48500,48522,48711,48862,48873,48917,48930,48973,49163,49174,49467,49523,49550,49589,49602,49745,49797,49832,49910,50135,50182,50250,50278,50328,50381,50419,50535,50563,50700,50711,50748,50771,50780,50828,50918,50928,50950,50987,51061,51227,51312,51327,52097,52214,52247,52289,52363,52505,52531,52578,52599,52706,52742,52752,52785,52807,53010,53120,53231,53291,53577,53754,53816,53855,54025,54158,54259,54334,54417,54526,54538,54551,54579,54617,54631,54656,54691,54961,55332,55508,55572,55869,56096,56775,56793,59098,59979,60109,60116,60155,60164,61229,61645,61669,61854,61869,61944,61993,62005,62016,63606,70986,73812,75914,77493,77499,77562,77624,77704,77727,77876,77931,78057,79615,79758,79892,79937,79973,80039,80079,80098,80146,80217,80233,80274,80288,80304,80426,80541,80711,80750,81073,81133,81159,81306,81316,81323,83364,83408,83513,83601,83729,83773,83801,83824,83846,83921,83939,84217,85131,85198,85205,85502,85572,85733,89026,89039,89126,89158,89192,89438,89476,89514,89528,89611,89647,89995,90113,90648,90732,90765,90799,90913,91038,91218,91246,91267,91318,91326,91370,91444,91469,91530,91652,95318,95536,95558,95779,96015,96084,96182,96264,96290,96318,96565,105790,106517,106613,106671,106987,107038,107787,107825,107958,108017,108091,108100,108126,108149,108166,108210,108232,108284,108306,108402,108449,108477,108583,123473,123703,123730,123746,123773,123806,123824,123837,123895,123920,123953,123998,124070,124125,124146,124255,124283,124304,124361,124506,124577,124669,124924,125182,125242,125314,125332,125352,125415,126851,126994,127092,127115,127135,127146,127158,127267,127295,127315,127402,127415,127443,127451,127497,127554,127636,127656,127690,127723,127765,127782,127834,127900,127996,128123,128365,128418,128602,128693,128796,128920,128968,129058,129094,129131,129307,129324,129378,129390,129433,129471,129522,129575,129690,129718,129732,129765,129802,129870,129893,130100,130135,130172,130250,130282,130350,130390,130404,130436,130491,130518,130541,130557,130615,130647,130681,130707,130824,130872,130879,130890,130999,131069,131071,131359,131499,131602,131665,131782,131824,131885,132010,138073,140522,140571,140645,140742,140768,140942,141132,141178,141211,141262,141277,141306,141386,141461,141497,141512,141612,141708,141721,141752,141833,141952,141993,142062,142071,142190,142197,142274,142343,142414,142561,142631,142719,142794,142916,142941,142969,142981,143013,143060,143080,143089,143143,143157,143239,143287,143328,143364,143377,143435,143529,143556,143597,143616,143637,143647,143782,143942,143969,144002,144152,144190,144238,144303,144374,144398,144452,144458,144570,144600,144657,144708,144723,144771,144817,144839,144877,144902,144989,145064,145221,145223,145275,145323,145336,145344,145446,145483,145522,145558,145581,145598,145602,145640,145711,145735,145780,145788,145829,145864,145924,145955,155454,155877,156112,156148,156197,156215,156261,156307,156383,156392,156489,156593,156703,156756,156758,156817,156852,156898,156978,156995,157048,157084,157269,157324,157399,157494,157581,157592,157620,157647,157670,157688,157715,157732,157801,157833,157874,157897,157906,158083,158103,158105,158217,158243,158343,158370,158393,158443,158454,158606,158644,158674,158687,158701,158726,158773,158837,158845,158859,159031,160309,160359,160451,160472,160495,160519,160542,160617,160691,160727,160761,160767,160837,160877,160889,161006,161032,161072,161122,161146,161312,161415,161456,161588,161616,161682,161718,161780,161906,161923,161959,161961,162074,162165,162184,162265,162352,162401,162441,162945,162983,163078,163127,163142,163202,163284,163302,163424,163541,163627,163711,163756,163793,163857,163874,163948,163971,164042,164047,164071,164136,164150,164234,164250,164264,164272,164279,164335,164365,164432,164473,164546,164595,164630,164679,164736,164771,165025,165164,165196,165218,165530,165859,166041,166106,166111,166160,166173,166627,166723,166747,168207,168393,168447,177259,178222,178993,179321,180505,183479,183695,183752,184270,184793,184838,184884,186977,187275,189693,189789,189834,191311,192060,192114,192139,193061,193842,195781,196864,197072,197133,197182,198037,198167,199752,199754,200430,200445,200518,200539,200864,201081,201427,201702,202349,205592,205650,205911,206010,206200,207774,207829,207842,207885,207900,207926,207955,208051,208111,208253,208334,208361,208405,208424,208462,208497,208518,208539,208557,208595,208620,208656,208682,208783,208796,208857,210526,210551,212836,212912,212937,212988,214369],\"xaxis\":\"x\",\"y\":[\"\\u0430\\u043d\\u0434\\u0440\\u0435\\u0439\",\"\\u0430\\u043d\\u0434\\u0440\\u0435\\u0439\",\"\\u0430\\u043d\\u0434\\u0440\\u0435\\u0439\",\"\\u0430\\u043d\\u0434\\u0440\\u0435\\u0439\",\"\\u0430\\u043d\\u0434\\u0440\\u0435\\u0439\",\"\\u0430\\u043d\\u0434\\u0440\\u0435\\u0439\",\"\\u0430\\u043d\\u0434\\u0440\\u0435\\u0439\",\"\\u0430\\u043d\\u0434\\u0440\\u0435\\u0439\",\"\\u0430\\u043d\\u0434\\u0440\\u0435\\u0439\",\"\\u0430\\u043d\\u0434\\u0440\\u0435\\u0439\",\"\\u0430\\u043d\\u0434\\u0440\\u0435\\u0439\",\"\\u0430\\u043d\\u0434\\u0440\\u0435\\u0439\",\"\\u0430\\u043d\\u0434\\u0440\\u0435\\u0439\",\"\\u0430\\u043d\\u0434\\u0440\\u0435\\u0439\",\"\\u0430\\u043d\\u0434\\u0440\\u0435\\u0439\",\"\\u0430\\u043d\\u0434\\u0440\\u0435\\u0439\",\"\\u0430\\u043d\\u0434\\u0440\\u0435\\u0439\",\"\\u0430\\u043d\\u0434\\u0440\\u0435\\u0439\",\"\\u0430\\u043d\\u0434\\u0440\\u0435\\u0439\",\"\\u0430\\u043d\\u0434\\u0440\\u0435\\u0439\",\"\\u0430\\u043d\\u0434\\u0440\\u0435\\u0439\",\"\\u0430\\u043d\\u0434\\u0440\\u0435\\u0439\",\"\\u0430\\u043d\\u0434\\u0440\\u0435\\u0439\",\"\\u0430\\u043d\\u0434\\u0440\\u0435\\u0439\",\"\\u0430\\u043d\\u0434\\u0440\\u0435\\u0439\",\"\\u0430\\u043d\\u0434\\u0440\\u0435\\u0439\",\"\\u0430\\u043d\\u0434\\u0440\\u0435\\u0439\",\"\\u0430\\u043d\\u0434\\u0440\\u0435\\u0439\",\"\\u0430\\u043d\\u0434\\u0440\\u0435\\u0439\",\"\\u0430\\u043d\\u0434\\u0440\\u0435\\u0439\",\"\\u0430\\u043d\\u0434\\u0440\\u0435\\u0439\",\"\\u0430\\u043d\\u0434\\u0440\\u0435\\u0439\",\"\\u0430\\u043d\\u0434\\u0440\\u0435\\u0439\",\"\\u0430\\u043d\\u0434\\u0440\\u0435\\u0439\",\"\\u0430\\u043d\\u0434\\u0440\\u0435\\u0439\",\"\\u0430\\u043d\\u0434\\u0440\\u0435\\u0439\",\"\\u0430\\u043d\\u0434\\u0440\\u0435\\u0439\",\"\\u0430\\u043d\\u0434\\u0440\\u0435\\u0439\",\"\\u0430\\u043d\\u0434\\u0440\\u0435\\u0439\",\"\\u0430\\u043d\\u0434\\u0440\\u0435\\u0439\",\"\\u0430\\u043d\\u0434\\u0440\\u0435\\u0439\",\"\\u0430\\u043d\\u0434\\u0440\\u0435\\u0439\",\"\\u0430\\u043d\\u0434\\u0440\\u0435\\u0439\",\"\\u0430\\u043d\\u0434\\u0440\\u0435\\u0439\",\"\\u0430\\u043d\\u0434\\u0440\\u0435\\u0439\",\"\\u0430\\u043d\\u0434\\u0440\\u0435\\u0439\",\"\\u0430\\u043d\\u0434\\u0440\\u0435\\u0439\",\"\\u0430\\u043d\\u0434\\u0440\\u0435\\u0439\",\"\\u0430\\u043d\\u0434\\u0440\\u0435\\u0439\",\"\\u0430\\u043d\\u0434\\u0440\\u0435\\u0439\",\"\\u0430\\u043d\\u0434\\u0440\\u0435\\u0439\",\"\\u0430\\u043d\\u0434\\u0440\\u0435\\u0439\",\"\\u0430\\u043d\\u0434\\u0440\\u0435\\u0439\",\"\\u0430\\u043d\\u0434\\u0440\\u0435\\u0439\",\"\\u0430\\u043d\\u0434\\u0440\\u0435\\u0439\",\"\\u0430\\u043d\\u0434\\u0440\\u0435\\u0439\",\"\\u0430\\u043d\\u0434\\u0440\\u0435\\u0439\",\"\\u0430\\u043d\\u0434\\u0440\\u0435\\u0439\",\"\\u0430\\u043d\\u0434\\u0440\\u0435\\u0439\",\"\\u0430\\u043d\\u0434\\u0440\\u0435\\u0439\",\"\\u0430\\u043d\\u0434\\u0440\\u0435\\u0439\",\"\\u0430\\u043d\\u0434\\u0440\\u0435\\u0439\",\"\\u0430\\u043d\\u0434\\u0440\\u0435\\u0439\",\"\\u0430\\u043d\\u0434\\u0440\\u0435\\u0439\",\"\\u0430\\u043d\\u0434\\u0440\\u0435\\u0439\",\"\\u0430\\u043d\\u0434\\u0440\\u0435\\u0439\",\"\\u0430\\u043d\\u0434\\u0440\\u0435\\u0439\",\"\\u0430\\u043d\\u0434\\u0440\\u0435\\u0439\",\"\\u0430\\u043d\\u0434\\u0440\\u0435\\u0439\",\"\\u0430\\u043d\\u0434\\u0440\\u0435\\u0439\",\"\\u0430\\u043d\\u0434\\u0440\\u0435\\u0439\",\"\\u0430\\u043d\\u0434\\u0440\\u0435\\u0439\",\"\\u0430\\u043d\\u0434\\u0440\\u0435\\u0439\",\"\\u0430\\u043d\\u0434\\u0440\\u0435\\u0439\",\"\\u0430\\u043d\\u0434\\u0440\\u0435\\u0439\",\"\\u0430\\u043d\\u0434\\u0440\\u0435\\u0439\",\"\\u0430\\u043d\\u0434\\u0440\\u0435\\u0439\",\"\\u0430\\u043d\\u0434\\u0440\\u0435\\u0439\",\"\\u0430\\u043d\\u0434\\u0440\\u0435\\u0439\",\"\\u0430\\u043d\\u0434\\u0440\\u0435\\u0439\",\"\\u0430\\u043d\\u0434\\u0440\\u0435\\u0439\",\"\\u0430\\u043d\\u0434\\u0440\\u0435\\u0439\",\"\\u0430\\u043d\\u0434\\u0440\\u0435\\u0439\",\"\\u0430\\u043d\\u0434\\u0440\\u0435\\u0439\",\"\\u0430\\u043d\\u0434\\u0440\\u0435\\u0439\",\"\\u0430\\u043d\\u0434\\u0440\\u0435\\u0439\",\"\\u0430\\u043d\\u0434\\u0440\\u0435\\u0439\",\"\\u0430\\u043d\\u0434\\u0440\\u0435\\u0439\",\"\\u0430\\u043d\\u0434\\u0440\\u0435\\u0439\",\"\\u0430\\u043d\\u0434\\u0440\\u0435\\u0439\",\"\\u0430\\u043d\\u0434\\u0440\\u0435\\u0439\",\"\\u0430\\u043d\\u0434\\u0440\\u0435\\u0439\",\"\\u0430\\u043d\\u0434\\u0440\\u0435\\u0439\",\"\\u0430\\u043d\\u0434\\u0440\\u0435\\u0439\",\"\\u0430\\u043d\\u0434\\u0440\\u0435\\u0439\",\"\\u0430\\u043d\\u0434\\u0440\\u0435\\u0439\",\"\\u0430\\u043d\\u0434\\u0440\\u0435\\u0439\",\"\\u0430\\u043d\\u0434\\u0440\\u0435\\u0439\",\"\\u0430\\u043d\\u0434\\u0440\\u0435\\u0439\",\"\\u0430\\u043d\\u0434\\u0440\\u0435\\u0439\",\"\\u0430\\u043d\\u0434\\u0440\\u0435\\u0439\",\"\\u0430\\u043d\\u0434\\u0440\\u0435\\u0439\",\"\\u0430\\u043d\\u0434\\u0440\\u0435\\u0439\",\"\\u0430\\u043d\\u0434\\u0440\\u0435\\u0439\",\"\\u0430\\u043d\\u0434\\u0440\\u0435\\u0439\",\"\\u0430\\u043d\\u0434\\u0440\\u0435\\u0439\",\"\\u0430\\u043d\\u0434\\u0440\\u0435\\u0439\",\"\\u0430\\u043d\\u0434\\u0440\\u0435\\u0439\",\"\\u0430\\u043d\\u0434\\u0440\\u0435\\u0439\",\"\\u0430\\u043d\\u0434\\u0440\\u0435\\u0439\",\"\\u0430\\u043d\\u0434\\u0440\\u0435\\u0439\",\"\\u0430\\u043d\\u0434\\u0440\\u0435\\u0439\",\"\\u0430\\u043d\\u0434\\u0440\\u0435\\u0439\",\"\\u0430\\u043d\\u0434\\u0440\\u0435\\u0439\",\"\\u0430\\u043d\\u0434\\u0440\\u0435\\u0439\",\"\\u0430\\u043d\\u0434\\u0440\\u0435\\u0439\",\"\\u0430\\u043d\\u0434\\u0440\\u0435\\u0439\",\"\\u0430\\u043d\\u0434\\u0440\\u0435\\u0439\",\"\\u0430\\u043d\\u0434\\u0440\\u0435\\u0439\",\"\\u0430\\u043d\\u0434\\u0440\\u0435\\u0439\",\"\\u0430\\u043d\\u0434\\u0440\\u0435\\u0439\",\"\\u0430\\u043d\\u0434\\u0440\\u0435\\u0439\",\"\\u0430\\u043d\\u0434\\u0440\\u0435\\u0439\",\"\\u0430\\u043d\\u0434\\u0440\\u0435\\u0439\",\"\\u0430\\u043d\\u0434\\u0440\\u0435\\u0439\",\"\\u0430\\u043d\\u0434\\u0440\\u0435\\u0439\",\"\\u0430\\u043d\\u0434\\u0440\\u0435\\u0439\",\"\\u0430\\u043d\\u0434\\u0440\\u0435\\u0439\",\"\\u0430\\u043d\\u0434\\u0440\\u0435\\u0439\",\"\\u0430\\u043d\\u0434\\u0440\\u0435\\u0439\",\"\\u0430\\u043d\\u0434\\u0440\\u0435\\u0439\",\"\\u0430\\u043d\\u0434\\u0440\\u0435\\u0439\",\"\\u0430\\u043d\\u0434\\u0440\\u0435\\u0439\",\"\\u0430\\u043d\\u0434\\u0440\\u0435\\u0439\",\"\\u0430\\u043d\\u0434\\u0440\\u0435\\u0439\",\"\\u0430\\u043d\\u0434\\u0440\\u0435\\u0439\",\"\\u0430\\u043d\\u0434\\u0440\\u0435\\u0439\",\"\\u0430\\u043d\\u0434\\u0440\\u0435\\u0439\",\"\\u0430\\u043d\\u0434\\u0440\\u0435\\u0439\",\"\\u0430\\u043d\\u0434\\u0440\\u0435\\u0439\",\"\\u0430\\u043d\\u0434\\u0440\\u0435\\u0439\",\"\\u0430\\u043d\\u0434\\u0440\\u0435\\u0439\",\"\\u0430\\u043d\\u0434\\u0440\\u0435\\u0439\",\"\\u0430\\u043d\\u0434\\u0440\\u0435\\u0439\",\"\\u0430\\u043d\\u0434\\u0440\\u0435\\u0439\",\"\\u0430\\u043d\\u0434\\u0440\\u0435\\u0439\",\"\\u0430\\u043d\\u0434\\u0440\\u0435\\u0439\",\"\\u0430\\u043d\\u0434\\u0440\\u0435\\u0439\",\"\\u0430\\u043d\\u0434\\u0440\\u0435\\u0439\",\"\\u0430\\u043d\\u0434\\u0440\\u0435\\u0439\",\"\\u0430\\u043d\\u0434\\u0440\\u0435\\u0439\",\"\\u0430\\u043d\\u0434\\u0440\\u0435\\u0439\",\"\\u0430\\u043d\\u0434\\u0440\\u0435\\u0439\",\"\\u0430\\u043d\\u0434\\u0440\\u0435\\u0439\",\"\\u0430\\u043d\\u0434\\u0440\\u0435\\u0439\",\"\\u0430\\u043d\\u0434\\u0440\\u0435\\u0439\",\"\\u0430\\u043d\\u0434\\u0440\\u0435\\u0439\",\"\\u0430\\u043d\\u0434\\u0440\\u0435\\u0439\",\"\\u0430\\u043d\\u0434\\u0440\\u0435\\u0439\",\"\\u0430\\u043d\\u0434\\u0440\\u0435\\u0439\",\"\\u0430\\u043d\\u0434\\u0440\\u0435\\u0439\",\"\\u0430\\u043d\\u0434\\u0440\\u0435\\u0439\",\"\\u0430\\u043d\\u0434\\u0440\\u0435\\u0439\",\"\\u0430\\u043d\\u0434\\u0440\\u0435\\u0439\",\"\\u0430\\u043d\\u0434\\u0440\\u0435\\u0439\",\"\\u0430\\u043d\\u0434\\u0440\\u0435\\u0439\",\"\\u0430\\u043d\\u0434\\u0440\\u0435\\u0439\",\"\\u0430\\u043d\\u0434\\u0440\\u0435\\u0439\",\"\\u0430\\u043d\\u0434\\u0440\\u0435\\u0439\",\"\\u0430\\u043d\\u0434\\u0440\\u0435\\u0439\",\"\\u0430\\u043d\\u0434\\u0440\\u0435\\u0439\",\"\\u0430\\u043d\\u0434\\u0440\\u0435\\u0439\",\"\\u0430\\u043d\\u0434\\u0440\\u0435\\u0439\",\"\\u0430\\u043d\\u0434\\u0440\\u0435\\u0439\",\"\\u0430\\u043d\\u0434\\u0440\\u0435\\u0439\",\"\\u0430\\u043d\\u0434\\u0440\\u0435\\u0439\",\"\\u0430\\u043d\\u0434\\u0440\\u0435\\u0439\",\"\\u0430\\u043d\\u0434\\u0440\\u0435\\u0439\",\"\\u0430\\u043d\\u0434\\u0440\\u0435\\u0439\",\"\\u0430\\u043d\\u0434\\u0440\\u0435\\u0439\",\"\\u0430\\u043d\\u0434\\u0440\\u0435\\u0439\",\"\\u0430\\u043d\\u0434\\u0440\\u0435\\u0439\",\"\\u0430\\u043d\\u0434\\u0440\\u0435\\u0439\",\"\\u0430\\u043d\\u0434\\u0440\\u0435\\u0439\",\"\\u0430\\u043d\\u0434\\u0440\\u0435\\u0439\",\"\\u0430\\u043d\\u0434\\u0440\\u0435\\u0439\",\"\\u0430\\u043d\\u0434\\u0440\\u0435\\u0439\",\"\\u0430\\u043d\\u0434\\u0440\\u0435\\u0439\",\"\\u0430\\u043d\\u0434\\u0440\\u0435\\u0439\",\"\\u0430\\u043d\\u0434\\u0440\\u0435\\u0439\",\"\\u0430\\u043d\\u0434\\u0440\\u0435\\u0439\",\"\\u0430\\u043d\\u0434\\u0440\\u0435\\u0439\",\"\\u0430\\u043d\\u0434\\u0440\\u0435\\u0439\",\"\\u0430\\u043d\\u0434\\u0440\\u0435\\u0439\",\"\\u0430\\u043d\\u0434\\u0440\\u0435\\u0439\",\"\\u0430\\u043d\\u0434\\u0440\\u0435\\u0439\",\"\\u0430\\u043d\\u0434\\u0440\\u0435\\u0439\",\"\\u0430\\u043d\\u0434\\u0440\\u0435\\u0439\",\"\\u0430\\u043d\\u0434\\u0440\\u0435\\u0439\",\"\\u0430\\u043d\\u0434\\u0440\\u0435\\u0439\",\"\\u0430\\u043d\\u0434\\u0440\\u0435\\u0439\",\"\\u0430\\u043d\\u0434\\u0440\\u0435\\u0439\",\"\\u0430\\u043d\\u0434\\u0440\\u0435\\u0439\",\"\\u0430\\u043d\\u0434\\u0440\\u0435\\u0439\",\"\\u0430\\u043d\\u0434\\u0440\\u0435\\u0439\",\"\\u0430\\u043d\\u0434\\u0440\\u0435\\u0439\",\"\\u0430\\u043d\\u0434\\u0440\\u0435\\u0439\",\"\\u0430\\u043d\\u0434\\u0440\\u0435\\u0439\",\"\\u0430\\u043d\\u0434\\u0440\\u0435\\u0439\",\"\\u0430\\u043d\\u0434\\u0440\\u0435\\u0439\",\"\\u0430\\u043d\\u0434\\u0440\\u0435\\u0439\",\"\\u0430\\u043d\\u0434\\u0440\\u0435\\u0439\",\"\\u0430\\u043d\\u0434\\u0440\\u0435\\u0439\",\"\\u0430\\u043d\\u0434\\u0440\\u0435\\u0439\",\"\\u0430\\u043d\\u0434\\u0440\\u0435\\u0439\",\"\\u0430\\u043d\\u0434\\u0440\\u0435\\u0439\",\"\\u0430\\u043d\\u0434\\u0440\\u0435\\u0439\",\"\\u0430\\u043d\\u0434\\u0440\\u0435\\u0439\",\"\\u0430\\u043d\\u0434\\u0440\\u0435\\u0439\",\"\\u0430\\u043d\\u0434\\u0440\\u0435\\u0439\",\"\\u0430\\u043d\\u0434\\u0440\\u0435\\u0439\",\"\\u0430\\u043d\\u0434\\u0440\\u0435\\u0439\",\"\\u0430\\u043d\\u0434\\u0440\\u0435\\u0439\",\"\\u0430\\u043d\\u0434\\u0440\\u0435\\u0439\",\"\\u0430\\u043d\\u0434\\u0440\\u0435\\u0439\",\"\\u0430\\u043d\\u0434\\u0440\\u0435\\u0439\",\"\\u0430\\u043d\\u0434\\u0440\\u0435\\u0439\",\"\\u0430\\u043d\\u0434\\u0440\\u0435\\u0439\",\"\\u0430\\u043d\\u0434\\u0440\\u0435\\u0439\",\"\\u0430\\u043d\\u0434\\u0440\\u0435\\u0439\",\"\\u0430\\u043d\\u0434\\u0440\\u0435\\u0439\",\"\\u0430\\u043d\\u0434\\u0440\\u0435\\u0439\",\"\\u0430\\u043d\\u0434\\u0440\\u0435\\u0439\",\"\\u0430\\u043d\\u0434\\u0440\\u0435\\u0439\",\"\\u0430\\u043d\\u0434\\u0440\\u0435\\u0439\",\"\\u0430\\u043d\\u0434\\u0440\\u0435\\u0439\",\"\\u0430\\u043d\\u0434\\u0440\\u0435\\u0439\",\"\\u0430\\u043d\\u0434\\u0440\\u0435\\u0439\",\"\\u0430\\u043d\\u0434\\u0440\\u0435\\u0439\",\"\\u0430\\u043d\\u0434\\u0440\\u0435\\u0439\",\"\\u0430\\u043d\\u0434\\u0440\\u0435\\u0439\",\"\\u0430\\u043d\\u0434\\u0440\\u0435\\u0439\",\"\\u0430\\u043d\\u0434\\u0440\\u0435\\u0439\",\"\\u0430\\u043d\\u0434\\u0440\\u0435\\u0439\",\"\\u0430\\u043d\\u0434\\u0440\\u0435\\u0439\",\"\\u0430\\u043d\\u0434\\u0440\\u0435\\u0439\",\"\\u0430\\u043d\\u0434\\u0440\\u0435\\u0439\",\"\\u0430\\u043d\\u0434\\u0440\\u0435\\u0439\",\"\\u0430\\u043d\\u0434\\u0440\\u0435\\u0439\",\"\\u0430\\u043d\\u0434\\u0440\\u0435\\u0439\",\"\\u0430\\u043d\\u0434\\u0440\\u0435\\u0439\",\"\\u0430\\u043d\\u0434\\u0440\\u0435\\u0439\",\"\\u0430\\u043d\\u0434\\u0440\\u0435\\u0439\",\"\\u0430\\u043d\\u0434\\u0440\\u0435\\u0439\",\"\\u0430\\u043d\\u0434\\u0440\\u0435\\u0439\",\"\\u0430\\u043d\\u0434\\u0440\\u0435\\u0439\",\"\\u0430\\u043d\\u0434\\u0440\\u0435\\u0439\",\"\\u0430\\u043d\\u0434\\u0440\\u0435\\u0439\",\"\\u0430\\u043d\\u0434\\u0440\\u0435\\u0439\",\"\\u0430\\u043d\\u0434\\u0440\\u0435\\u0439\",\"\\u0430\\u043d\\u0434\\u0440\\u0435\\u0439\",\"\\u0430\\u043d\\u0434\\u0440\\u0435\\u0439\",\"\\u0430\\u043d\\u0434\\u0440\\u0435\\u0439\",\"\\u0430\\u043d\\u0434\\u0440\\u0435\\u0439\",\"\\u0430\\u043d\\u0434\\u0440\\u0435\\u0439\",\"\\u0430\\u043d\\u0434\\u0440\\u0435\\u0439\",\"\\u0430\\u043d\\u0434\\u0440\\u0435\\u0439\",\"\\u0430\\u043d\\u0434\\u0440\\u0435\\u0439\",\"\\u0430\\u043d\\u0434\\u0440\\u0435\\u0439\",\"\\u0430\\u043d\\u0434\\u0440\\u0435\\u0439\",\"\\u0430\\u043d\\u0434\\u0440\\u0435\\u0439\",\"\\u0430\\u043d\\u0434\\u0440\\u0435\\u0439\",\"\\u0430\\u043d\\u0434\\u0440\\u0435\\u0439\",\"\\u0430\\u043d\\u0434\\u0440\\u0435\\u0439\",\"\\u0430\\u043d\\u0434\\u0440\\u0435\\u0439\",\"\\u0430\\u043d\\u0434\\u0440\\u0435\\u0439\",\"\\u0430\\u043d\\u0434\\u0440\\u0435\\u0439\",\"\\u0430\\u043d\\u0434\\u0440\\u0435\\u0439\",\"\\u0430\\u043d\\u0434\\u0440\\u0435\\u0439\",\"\\u0430\\u043d\\u0434\\u0440\\u0435\\u0439\",\"\\u0430\\u043d\\u0434\\u0440\\u0435\\u0439\",\"\\u0430\\u043d\\u0434\\u0440\\u0435\\u0439\",\"\\u0430\\u043d\\u0434\\u0440\\u0435\\u0439\",\"\\u0430\\u043d\\u0434\\u0440\\u0435\\u0439\",\"\\u0430\\u043d\\u0434\\u0440\\u0435\\u0439\",\"\\u0430\\u043d\\u0434\\u0440\\u0435\\u0439\",\"\\u0430\\u043d\\u0434\\u0440\\u0435\\u0439\",\"\\u0430\\u043d\\u0434\\u0440\\u0435\\u0439\",\"\\u0430\\u043d\\u0434\\u0440\\u0435\\u0439\",\"\\u0430\\u043d\\u0434\\u0440\\u0435\\u0439\",\"\\u0430\\u043d\\u0434\\u0440\\u0435\\u0439\",\"\\u0430\\u043d\\u0434\\u0440\\u0435\\u0439\",\"\\u0430\\u043d\\u0434\\u0440\\u0435\\u0439\",\"\\u0430\\u043d\\u0434\\u0440\\u0435\\u0439\",\"\\u0430\\u043d\\u0434\\u0440\\u0435\\u0439\",\"\\u0430\\u043d\\u0434\\u0440\\u0435\\u0439\",\"\\u0430\\u043d\\u0434\\u0440\\u0435\\u0439\",\"\\u0430\\u043d\\u0434\\u0440\\u0435\\u0439\",\"\\u0430\\u043d\\u0434\\u0440\\u0435\\u0439\",\"\\u0430\\u043d\\u0434\\u0440\\u0435\\u0439\",\"\\u0430\\u043d\\u0434\\u0440\\u0435\\u0439\",\"\\u0430\\u043d\\u0434\\u0440\\u0435\\u0439\",\"\\u0430\\u043d\\u0434\\u0440\\u0435\\u0439\",\"\\u0430\\u043d\\u0434\\u0440\\u0435\\u0439\",\"\\u0430\\u043d\\u0434\\u0440\\u0435\\u0439\",\"\\u0430\\u043d\\u0434\\u0440\\u0435\\u0439\",\"\\u0430\\u043d\\u0434\\u0440\\u0435\\u0439\",\"\\u0430\\u043d\\u0434\\u0440\\u0435\\u0439\",\"\\u0430\\u043d\\u0434\\u0440\\u0435\\u0439\",\"\\u0430\\u043d\\u0434\\u0440\\u0435\\u0439\",\"\\u0430\\u043d\\u0434\\u0440\\u0435\\u0439\",\"\\u0430\\u043d\\u0434\\u0440\\u0435\\u0439\",\"\\u0430\\u043d\\u0434\\u0440\\u0435\\u0439\",\"\\u0430\\u043d\\u0434\\u0440\\u0435\\u0439\",\"\\u0430\\u043d\\u0434\\u0440\\u0435\\u0439\",\"\\u0430\\u043d\\u0434\\u0440\\u0435\\u0439\",\"\\u0430\\u043d\\u0434\\u0440\\u0435\\u0439\",\"\\u0430\\u043d\\u0434\\u0440\\u0435\\u0439\",\"\\u0430\\u043d\\u0434\\u0440\\u0435\\u0439\",\"\\u0430\\u043d\\u0434\\u0440\\u0435\\u0439\",\"\\u0430\\u043d\\u0434\\u0440\\u0435\\u0439\",\"\\u0430\\u043d\\u0434\\u0440\\u0435\\u0439\",\"\\u0430\\u043d\\u0434\\u0440\\u0435\\u0439\",\"\\u0430\\u043d\\u0434\\u0440\\u0435\\u0439\",\"\\u0430\\u043d\\u0434\\u0440\\u0435\\u0439\",\"\\u0430\\u043d\\u0434\\u0440\\u0435\\u0439\",\"\\u0430\\u043d\\u0434\\u0440\\u0435\\u0439\",\"\\u0430\\u043d\\u0434\\u0440\\u0435\\u0439\",\"\\u0430\\u043d\\u0434\\u0440\\u0435\\u0439\",\"\\u0430\\u043d\\u0434\\u0440\\u0435\\u0439\",\"\\u0430\\u043d\\u0434\\u0440\\u0435\\u0439\",\"\\u0430\\u043d\\u0434\\u0440\\u0435\\u0439\",\"\\u0430\\u043d\\u0434\\u0440\\u0435\\u0439\",\"\\u0430\\u043d\\u0434\\u0440\\u0435\\u0439\",\"\\u0430\\u043d\\u0434\\u0440\\u0435\\u0439\",\"\\u0430\\u043d\\u0434\\u0440\\u0435\\u0439\",\"\\u0430\\u043d\\u0434\\u0440\\u0435\\u0439\",\"\\u0430\\u043d\\u0434\\u0440\\u0435\\u0439\",\"\\u0430\\u043d\\u0434\\u0440\\u0435\\u0439\",\"\\u0430\\u043d\\u0434\\u0440\\u0435\\u0439\",\"\\u0430\\u043d\\u0434\\u0440\\u0435\\u0439\",\"\\u0430\\u043d\\u0434\\u0440\\u0435\\u0439\",\"\\u0430\\u043d\\u0434\\u0440\\u0435\\u0439\",\"\\u0430\\u043d\\u0434\\u0440\\u0435\\u0439\",\"\\u0430\\u043d\\u0434\\u0440\\u0435\\u0439\",\"\\u0430\\u043d\\u0434\\u0440\\u0435\\u0439\",\"\\u0430\\u043d\\u0434\\u0440\\u0435\\u0439\",\"\\u0430\\u043d\\u0434\\u0440\\u0435\\u0439\",\"\\u0430\\u043d\\u0434\\u0440\\u0435\\u0439\",\"\\u0430\\u043d\\u0434\\u0440\\u0435\\u0439\",\"\\u0430\\u043d\\u0434\\u0440\\u0435\\u0439\",\"\\u0430\\u043d\\u0434\\u0440\\u0435\\u0439\",\"\\u0430\\u043d\\u0434\\u0440\\u0435\\u0439\",\"\\u0430\\u043d\\u0434\\u0440\\u0435\\u0439\",\"\\u0430\\u043d\\u0434\\u0440\\u0435\\u0439\",\"\\u0430\\u043d\\u0434\\u0440\\u0435\\u0439\",\"\\u0430\\u043d\\u0434\\u0440\\u0435\\u0439\",\"\\u0430\\u043d\\u0434\\u0440\\u0435\\u0439\",\"\\u0430\\u043d\\u0434\\u0440\\u0435\\u0439\",\"\\u0430\\u043d\\u0434\\u0440\\u0435\\u0439\",\"\\u0430\\u043d\\u0434\\u0440\\u0435\\u0439\",\"\\u0430\\u043d\\u0434\\u0440\\u0435\\u0439\",\"\\u0430\\u043d\\u0434\\u0440\\u0435\\u0439\",\"\\u0430\\u043d\\u0434\\u0440\\u0435\\u0439\",\"\\u0430\\u043d\\u0434\\u0440\\u0435\\u0439\",\"\\u0430\\u043d\\u0434\\u0440\\u0435\\u0439\",\"\\u0430\\u043d\\u0434\\u0440\\u0435\\u0439\",\"\\u0430\\u043d\\u0434\\u0440\\u0435\\u0439\",\"\\u0430\\u043d\\u0434\\u0440\\u0435\\u0439\",\"\\u0430\\u043d\\u0434\\u0440\\u0435\\u0439\",\"\\u0430\\u043d\\u0434\\u0440\\u0435\\u0439\",\"\\u0430\\u043d\\u0434\\u0440\\u0435\\u0439\",\"\\u0430\\u043d\\u0434\\u0440\\u0435\\u0439\",\"\\u0430\\u043d\\u0434\\u0440\\u0435\\u0439\",\"\\u0430\\u043d\\u0434\\u0440\\u0435\\u0439\",\"\\u0430\\u043d\\u0434\\u0440\\u0435\\u0439\",\"\\u0430\\u043d\\u0434\\u0440\\u0435\\u0439\",\"\\u0430\\u043d\\u0434\\u0440\\u0435\\u0439\",\"\\u0430\\u043d\\u0434\\u0440\\u0435\\u0439\",\"\\u0430\\u043d\\u0434\\u0440\\u0435\\u0439\",\"\\u0430\\u043d\\u0434\\u0440\\u0435\\u0439\",\"\\u0430\\u043d\\u0434\\u0440\\u0435\\u0439\",\"\\u0430\\u043d\\u0434\\u0440\\u0435\\u0439\",\"\\u0430\\u043d\\u0434\\u0440\\u0435\\u0439\",\"\\u0430\\u043d\\u0434\\u0440\\u0435\\u0439\",\"\\u0430\\u043d\\u0434\\u0440\\u0435\\u0439\",\"\\u0430\\u043d\\u0434\\u0440\\u0435\\u0439\",\"\\u0430\\u043d\\u0434\\u0440\\u0435\\u0439\",\"\\u0430\\u043d\\u0434\\u0440\\u0435\\u0439\",\"\\u0430\\u043d\\u0434\\u0440\\u0435\\u0439\",\"\\u0430\\u043d\\u0434\\u0440\\u0435\\u0439\",\"\\u0430\\u043d\\u0434\\u0440\\u0435\\u0439\",\"\\u0430\\u043d\\u0434\\u0440\\u0435\\u0439\",\"\\u0430\\u043d\\u0434\\u0440\\u0435\\u0439\",\"\\u0430\\u043d\\u0434\\u0440\\u0435\\u0439\",\"\\u0430\\u043d\\u0434\\u0440\\u0435\\u0439\",\"\\u0430\\u043d\\u0434\\u0440\\u0435\\u0439\",\"\\u0430\\u043d\\u0434\\u0440\\u0435\\u0439\",\"\\u0430\\u043d\\u0434\\u0440\\u0435\\u0439\",\"\\u0430\\u043d\\u0434\\u0440\\u0435\\u0439\",\"\\u0430\\u043d\\u0434\\u0440\\u0435\\u0439\",\"\\u0430\\u043d\\u0434\\u0440\\u0435\\u0439\",\"\\u0430\\u043d\\u0434\\u0440\\u0435\\u0439\",\"\\u0430\\u043d\\u0434\\u0440\\u0435\\u0439\",\"\\u0430\\u043d\\u0434\\u0440\\u0435\\u0439\",\"\\u0430\\u043d\\u0434\\u0440\\u0435\\u0439\",\"\\u0430\\u043d\\u0434\\u0440\\u0435\\u0439\",\"\\u0430\\u043d\\u0434\\u0440\\u0435\\u0439\",\"\\u0430\\u043d\\u0434\\u0440\\u0435\\u0439\",\"\\u0430\\u043d\\u0434\\u0440\\u0435\\u0439\",\"\\u0430\\u043d\\u0434\\u0440\\u0435\\u0439\",\"\\u0430\\u043d\\u0434\\u0440\\u0435\\u0439\",\"\\u0430\\u043d\\u0434\\u0440\\u0435\\u0439\",\"\\u0430\\u043d\\u0434\\u0440\\u0435\\u0439\",\"\\u0430\\u043d\\u0434\\u0440\\u0435\\u0439\",\"\\u0430\\u043d\\u0434\\u0440\\u0435\\u0439\",\"\\u0430\\u043d\\u0434\\u0440\\u0435\\u0439\",\"\\u0430\\u043d\\u0434\\u0440\\u0435\\u0439\",\"\\u0430\\u043d\\u0434\\u0440\\u0435\\u0439\",\"\\u0430\\u043d\\u0434\\u0440\\u0435\\u0439\",\"\\u0430\\u043d\\u0434\\u0440\\u0435\\u0439\",\"\\u0430\\u043d\\u0434\\u0440\\u0435\\u0439\",\"\\u0430\\u043d\\u0434\\u0440\\u0435\\u0439\",\"\\u0430\\u043d\\u0434\\u0440\\u0435\\u0439\",\"\\u0430\\u043d\\u0434\\u0440\\u0435\\u0439\",\"\\u0430\\u043d\\u0434\\u0440\\u0435\\u0439\",\"\\u0430\\u043d\\u0434\\u0440\\u0435\\u0439\",\"\\u0430\\u043d\\u0434\\u0440\\u0435\\u0439\",\"\\u0430\\u043d\\u0434\\u0440\\u0435\\u0439\",\"\\u0430\\u043d\\u0434\\u0440\\u0435\\u0439\",\"\\u0430\\u043d\\u0434\\u0440\\u0435\\u0439\",\"\\u0430\\u043d\\u0434\\u0440\\u0435\\u0439\",\"\\u0430\\u043d\\u0434\\u0440\\u0435\\u0439\",\"\\u0430\\u043d\\u0434\\u0440\\u0435\\u0439\",\"\\u0430\\u043d\\u0434\\u0440\\u0435\\u0439\",\"\\u0430\\u043d\\u0434\\u0440\\u0435\\u0439\",\"\\u0430\\u043d\\u0434\\u0440\\u0435\\u0439\",\"\\u0430\\u043d\\u0434\\u0440\\u0435\\u0439\",\"\\u0430\\u043d\\u0434\\u0440\\u0435\\u0439\",\"\\u0430\\u043d\\u0434\\u0440\\u0435\\u0439\",\"\\u0430\\u043d\\u0434\\u0440\\u0435\\u0439\",\"\\u0430\\u043d\\u0434\\u0440\\u0435\\u0439\",\"\\u0430\\u043d\\u0434\\u0440\\u0435\\u0439\",\"\\u0430\\u043d\\u0434\\u0440\\u0435\\u0439\",\"\\u0430\\u043d\\u0434\\u0440\\u0435\\u0439\",\"\\u0430\\u043d\\u0434\\u0440\\u0435\\u0439\",\"\\u0430\\u043d\\u0434\\u0440\\u0435\\u0439\",\"\\u0430\\u043d\\u0434\\u0440\\u0435\\u0439\",\"\\u0430\\u043d\\u0434\\u0440\\u0435\\u0439\",\"\\u0430\\u043d\\u0434\\u0440\\u0435\\u0439\",\"\\u0430\\u043d\\u0434\\u0440\\u0435\\u0439\",\"\\u0430\\u043d\\u0434\\u0440\\u0435\\u0439\",\"\\u0430\\u043d\\u0434\\u0440\\u0435\\u0439\",\"\\u0430\\u043d\\u0434\\u0440\\u0435\\u0439\",\"\\u0430\\u043d\\u0434\\u0440\\u0435\\u0439\",\"\\u0430\\u043d\\u0434\\u0440\\u0435\\u0439\",\"\\u0430\\u043d\\u0434\\u0440\\u0435\\u0439\",\"\\u0430\\u043d\\u0434\\u0440\\u0435\\u0439\",\"\\u0430\\u043d\\u0434\\u0440\\u0435\\u0439\",\"\\u0430\\u043d\\u0434\\u0440\\u0435\\u0439\",\"\\u0430\\u043d\\u0434\\u0440\\u0435\\u0439\",\"\\u0430\\u043d\\u0434\\u0440\\u0435\\u0439\",\"\\u0430\\u043d\\u0434\\u0440\\u0435\\u0439\",\"\\u0430\\u043d\\u0434\\u0440\\u0435\\u0439\",\"\\u0430\\u043d\\u0434\\u0440\\u0435\\u0439\",\"\\u0430\\u043d\\u0434\\u0440\\u0435\\u0439\",\"\\u0430\\u043d\\u0434\\u0440\\u0435\\u0439\",\"\\u0430\\u043d\\u0434\\u0440\\u0435\\u0439\",\"\\u0430\\u043d\\u0434\\u0440\\u0435\\u0439\",\"\\u0430\\u043d\\u0434\\u0440\\u0435\\u0439\",\"\\u0430\\u043d\\u0434\\u0440\\u0435\\u0439\",\"\\u0430\\u043d\\u0434\\u0440\\u0435\\u0439\",\"\\u0430\\u043d\\u0434\\u0440\\u0435\\u0439\",\"\\u0430\\u043d\\u0434\\u0440\\u0435\\u0439\",\"\\u0430\\u043d\\u0434\\u0440\\u0435\\u0439\",\"\\u0430\\u043d\\u0434\\u0440\\u0435\\u0439\",\"\\u0430\\u043d\\u0434\\u0440\\u0435\\u0439\",\"\\u0430\\u043d\\u0434\\u0440\\u0435\\u0439\",\"\\u0430\\u043d\\u0434\\u0440\\u0435\\u0439\",\"\\u0430\\u043d\\u0434\\u0440\\u0435\\u0439\",\"\\u0430\\u043d\\u0434\\u0440\\u0435\\u0439\",\"\\u0430\\u043d\\u0434\\u0440\\u0435\\u0439\",\"\\u0430\\u043d\\u0434\\u0440\\u0435\\u0439\",\"\\u0430\\u043d\\u0434\\u0440\\u0435\\u0439\",\"\\u0430\\u043d\\u0434\\u0440\\u0435\\u0439\",\"\\u0430\\u043d\\u0434\\u0440\\u0435\\u0439\",\"\\u0430\\u043d\\u0434\\u0440\\u0435\\u0439\",\"\\u0430\\u043d\\u0434\\u0440\\u0435\\u0439\",\"\\u0430\\u043d\\u0434\\u0440\\u0435\\u0439\",\"\\u0430\\u043d\\u0434\\u0440\\u0435\\u0439\",\"\\u0430\\u043d\\u0434\\u0440\\u0435\\u0439\",\"\\u0430\\u043d\\u0434\\u0440\\u0435\\u0439\",\"\\u0430\\u043d\\u0434\\u0440\\u0435\\u0439\",\"\\u0430\\u043d\\u0434\\u0440\\u0435\\u0439\",\"\\u0430\\u043d\\u0434\\u0440\\u0435\\u0439\",\"\\u0430\\u043d\\u0434\\u0440\\u0435\\u0439\",\"\\u0430\\u043d\\u0434\\u0440\\u0435\\u0439\",\"\\u0430\\u043d\\u0434\\u0440\\u0435\\u0439\",\"\\u0430\\u043d\\u0434\\u0440\\u0435\\u0439\",\"\\u0430\\u043d\\u0434\\u0440\\u0435\\u0439\",\"\\u0430\\u043d\\u0434\\u0440\\u0435\\u0439\",\"\\u0430\\u043d\\u0434\\u0440\\u0435\\u0439\",\"\\u0430\\u043d\\u0434\\u0440\\u0435\\u0439\",\"\\u0430\\u043d\\u0434\\u0440\\u0435\\u0439\",\"\\u0430\\u043d\\u0434\\u0440\\u0435\\u0439\",\"\\u0430\\u043d\\u0434\\u0440\\u0435\\u0439\",\"\\u0430\\u043d\\u0434\\u0440\\u0435\\u0439\",\"\\u0430\\u043d\\u0434\\u0440\\u0435\\u0439\",\"\\u0430\\u043d\\u0434\\u0440\\u0435\\u0439\",\"\\u0430\\u043d\\u0434\\u0440\\u0435\\u0439\",\"\\u0430\\u043d\\u0434\\u0440\\u0435\\u0439\",\"\\u0430\\u043d\\u0434\\u0440\\u0435\\u0439\",\"\\u0430\\u043d\\u0434\\u0440\\u0435\\u0439\",\"\\u0430\\u043d\\u0434\\u0440\\u0435\\u0439\",\"\\u0430\\u043d\\u0434\\u0440\\u0435\\u0439\",\"\\u0430\\u043d\\u0434\\u0440\\u0435\\u0439\",\"\\u0430\\u043d\\u0434\\u0440\\u0435\\u0439\",\"\\u0430\\u043d\\u0434\\u0440\\u0435\\u0439\",\"\\u0430\\u043d\\u0434\\u0440\\u0435\\u0439\",\"\\u0430\\u043d\\u0434\\u0440\\u0435\\u0439\",\"\\u0430\\u043d\\u0434\\u0440\\u0435\\u0439\",\"\\u0430\\u043d\\u0434\\u0440\\u0435\\u0439\",\"\\u0430\\u043d\\u0434\\u0440\\u0435\\u0439\",\"\\u0430\\u043d\\u0434\\u0440\\u0435\\u0439\",\"\\u0430\\u043d\\u0434\\u0440\\u0435\\u0439\",\"\\u0430\\u043d\\u0434\\u0440\\u0435\\u0439\",\"\\u0430\\u043d\\u0434\\u0440\\u0435\\u0439\",\"\\u0430\\u043d\\u0434\\u0440\\u0435\\u0439\",\"\\u0430\\u043d\\u0434\\u0440\\u0435\\u0439\",\"\\u0430\\u043d\\u0434\\u0440\\u0435\\u0439\",\"\\u0430\\u043d\\u0434\\u0440\\u0435\\u0439\",\"\\u0430\\u043d\\u0434\\u0440\\u0435\\u0439\",\"\\u0430\\u043d\\u0434\\u0440\\u0435\\u0439\",\"\\u0430\\u043d\\u0434\\u0440\\u0435\\u0439\",\"\\u0430\\u043d\\u0434\\u0440\\u0435\\u0439\",\"\\u0430\\u043d\\u0434\\u0440\\u0435\\u0439\",\"\\u0430\\u043d\\u0434\\u0440\\u0435\\u0439\",\"\\u0430\\u043d\\u0434\\u0440\\u0435\\u0439\",\"\\u0430\\u043d\\u0434\\u0440\\u0435\\u0439\",\"\\u0430\\u043d\\u0434\\u0440\\u0435\\u0439\",\"\\u0430\\u043d\\u0434\\u0440\\u0435\\u0439\",\"\\u0430\\u043d\\u0434\\u0440\\u0435\\u0439\",\"\\u0430\\u043d\\u0434\\u0440\\u0435\\u0439\",\"\\u0430\\u043d\\u0434\\u0440\\u0435\\u0439\",\"\\u0430\\u043d\\u0434\\u0440\\u0435\\u0439\",\"\\u0430\\u043d\\u0434\\u0440\\u0435\\u0439\",\"\\u0430\\u043d\\u0434\\u0440\\u0435\\u0439\",\"\\u0430\\u043d\\u0434\\u0440\\u0435\\u0439\",\"\\u0430\\u043d\\u0434\\u0440\\u0435\\u0439\",\"\\u0430\\u043d\\u0434\\u0440\\u0435\\u0439\",\"\\u0430\\u043d\\u0434\\u0440\\u0435\\u0439\",\"\\u0430\\u043d\\u0434\\u0440\\u0435\\u0439\",\"\\u0430\\u043d\\u0434\\u0440\\u0435\\u0439\",\"\\u0430\\u043d\\u0434\\u0440\\u0435\\u0439\",\"\\u0430\\u043d\\u0434\\u0440\\u0435\\u0439\",\"\\u0430\\u043d\\u0434\\u0440\\u0435\\u0439\",\"\\u0430\\u043d\\u0434\\u0440\\u0435\\u0439\",\"\\u0430\\u043d\\u0434\\u0440\\u0435\\u0439\",\"\\u0430\\u043d\\u0434\\u0440\\u0435\\u0439\",\"\\u0430\\u043d\\u0434\\u0440\\u0435\\u0439\",\"\\u0430\\u043d\\u0434\\u0440\\u0435\\u0439\",\"\\u0430\\u043d\\u0434\\u0440\\u0435\\u0439\",\"\\u0430\\u043d\\u0434\\u0440\\u0435\\u0439\",\"\\u0430\\u043d\\u0434\\u0440\\u0435\\u0439\",\"\\u0430\\u043d\\u0434\\u0440\\u0435\\u0439\",\"\\u0430\\u043d\\u0434\\u0440\\u0435\\u0439\",\"\\u0430\\u043d\\u0434\\u0440\\u0435\\u0439\",\"\\u0430\\u043d\\u0434\\u0440\\u0435\\u0439\",\"\\u0430\\u043d\\u0434\\u0440\\u0435\\u0439\",\"\\u0430\\u043d\\u0434\\u0440\\u0435\\u0439\",\"\\u0430\\u043d\\u0434\\u0440\\u0435\\u0439\",\"\\u0430\\u043d\\u0434\\u0440\\u0435\\u0439\",\"\\u0430\\u043d\\u0434\\u0440\\u0435\\u0439\",\"\\u0430\\u043d\\u0434\\u0440\\u0435\\u0439\",\"\\u0430\\u043d\\u0434\\u0440\\u0435\\u0439\",\"\\u0430\\u043d\\u0434\\u0440\\u0435\\u0439\",\"\\u0430\\u043d\\u0434\\u0440\\u0435\\u0439\",\"\\u0430\\u043d\\u0434\\u0440\\u0435\\u0439\",\"\\u0430\\u043d\\u0434\\u0440\\u0435\\u0439\",\"\\u0430\\u043d\\u0434\\u0440\\u0435\\u0439\",\"\\u0430\\u043d\\u0434\\u0440\\u0435\\u0439\",\"\\u0430\\u043d\\u0434\\u0440\\u0435\\u0439\",\"\\u0430\\u043d\\u0434\\u0440\\u0435\\u0439\",\"\\u0430\\u043d\\u0434\\u0440\\u0435\\u0439\",\"\\u0430\\u043d\\u0434\\u0440\\u0435\\u0439\",\"\\u0430\\u043d\\u0434\\u0440\\u0435\\u0439\",\"\\u0430\\u043d\\u0434\\u0440\\u0435\\u0439\",\"\\u0430\\u043d\\u0434\\u0440\\u0435\\u0439\",\"\\u0430\\u043d\\u0434\\u0440\\u0435\\u0439\",\"\\u0430\\u043d\\u0434\\u0440\\u0435\\u0439\",\"\\u0430\\u043d\\u0434\\u0440\\u0435\\u0439\",\"\\u0430\\u043d\\u0434\\u0440\\u0435\\u0439\",\"\\u0430\\u043d\\u0434\\u0440\\u0435\\u0439\",\"\\u0430\\u043d\\u0434\\u0440\\u0435\\u0439\",\"\\u0430\\u043d\\u0434\\u0440\\u0435\\u0439\",\"\\u0430\\u043d\\u0434\\u0440\\u0435\\u0439\",\"\\u0430\\u043d\\u0434\\u0440\\u0435\\u0439\",\"\\u0430\\u043d\\u0434\\u0440\\u0435\\u0439\",\"\\u0430\\u043d\\u0434\\u0440\\u0435\\u0439\",\"\\u0430\\u043d\\u0434\\u0440\\u0435\\u0439\",\"\\u0430\\u043d\\u0434\\u0440\\u0435\\u0439\",\"\\u0430\\u043d\\u0434\\u0440\\u0435\\u0439\",\"\\u0430\\u043d\\u0434\\u0440\\u0435\\u0439\",\"\\u0430\\u043d\\u0434\\u0440\\u0435\\u0439\",\"\\u0430\\u043d\\u0434\\u0440\\u0435\\u0439\",\"\\u0430\\u043d\\u0434\\u0440\\u0435\\u0439\",\"\\u0430\\u043d\\u0434\\u0440\\u0435\\u0439\",\"\\u0430\\u043d\\u0434\\u0440\\u0435\\u0439\",\"\\u0430\\u043d\\u0434\\u0440\\u0435\\u0439\",\"\\u0430\\u043d\\u0434\\u0440\\u0435\\u0439\",\"\\u0430\\u043d\\u0434\\u0440\\u0435\\u0439\",\"\\u0430\\u043d\\u0434\\u0440\\u0435\\u0439\",\"\\u0430\\u043d\\u0434\\u0440\\u0435\\u0439\",\"\\u0430\\u043d\\u0434\\u0440\\u0435\\u0439\",\"\\u0430\\u043d\\u0434\\u0440\\u0435\\u0439\",\"\\u0430\\u043d\\u0434\\u0440\\u0435\\u0439\",\"\\u0430\\u043d\\u0434\\u0440\\u0435\\u0439\",\"\\u0430\\u043d\\u0434\\u0440\\u0435\\u0439\",\"\\u0430\\u043d\\u0434\\u0440\\u0435\\u0439\",\"\\u0430\\u043d\\u0434\\u0440\\u0435\\u0439\",\"\\u0430\\u043d\\u0434\\u0440\\u0435\\u0439\",\"\\u0430\\u043d\\u0434\\u0440\\u0435\\u0439\",\"\\u0430\\u043d\\u0434\\u0440\\u0435\\u0439\",\"\\u0430\\u043d\\u0434\\u0440\\u0435\\u0439\",\"\\u0430\\u043d\\u0434\\u0440\\u0435\\u0439\",\"\\u0430\\u043d\\u0434\\u0440\\u0435\\u0439\",\"\\u0430\\u043d\\u0434\\u0440\\u0435\\u0439\",\"\\u0430\\u043d\\u0434\\u0440\\u0435\\u0439\",\"\\u0430\\u043d\\u0434\\u0440\\u0435\\u0439\",\"\\u0430\\u043d\\u0434\\u0440\\u0435\\u0439\",\"\\u0430\\u043d\\u0434\\u0440\\u0435\\u0439\",\"\\u0430\\u043d\\u0434\\u0440\\u0435\\u0439\",\"\\u0430\\u043d\\u0434\\u0440\\u0435\\u0439\",\"\\u0430\\u043d\\u0434\\u0440\\u0435\\u0439\",\"\\u0430\\u043d\\u0434\\u0440\\u0435\\u0439\",\"\\u0430\\u043d\\u0434\\u0440\\u0435\\u0439\",\"\\u0430\\u043d\\u0434\\u0440\\u0435\\u0439\",\"\\u0430\\u043d\\u0434\\u0440\\u0435\\u0439\",\"\\u0430\\u043d\\u0434\\u0440\\u0435\\u0439\",\"\\u0430\\u043d\\u0434\\u0440\\u0435\\u0439\",\"\\u0430\\u043d\\u0434\\u0440\\u0435\\u0439\",\"\\u0430\\u043d\\u0434\\u0440\\u0435\\u0439\",\"\\u0430\\u043d\\u0434\\u0440\\u0435\\u0439\",\"\\u0430\\u043d\\u0434\\u0440\\u0435\\u0439\",\"\\u0430\\u043d\\u0434\\u0440\\u0435\\u0439\",\"\\u0430\\u043d\\u0434\\u0440\\u0435\\u0439\",\"\\u0430\\u043d\\u0434\\u0440\\u0435\\u0439\",\"\\u0430\\u043d\\u0434\\u0440\\u0435\\u0439\",\"\\u0430\\u043d\\u0434\\u0440\\u0435\\u0439\",\"\\u0430\\u043d\\u0434\\u0440\\u0435\\u0439\",\"\\u0430\\u043d\\u0434\\u0440\\u0435\\u0439\",\"\\u0430\\u043d\\u0434\\u0440\\u0435\\u0439\",\"\\u0430\\u043d\\u0434\\u0440\\u0435\\u0439\",\"\\u0430\\u043d\\u0434\\u0440\\u0435\\u0439\",\"\\u0430\\u043d\\u0434\\u0440\\u0435\\u0439\",\"\\u0430\\u043d\\u0434\\u0440\\u0435\\u0439\",\"\\u0430\\u043d\\u0434\\u0440\\u0435\\u0439\",\"\\u0430\\u043d\\u0434\\u0440\\u0435\\u0439\",\"\\u0430\\u043d\\u0434\\u0440\\u0435\\u0439\",\"\\u0430\\u043d\\u0434\\u0440\\u0435\\u0439\",\"\\u0430\\u043d\\u0434\\u0440\\u0435\\u0439\",\"\\u0430\\u043d\\u0434\\u0440\\u0435\\u0439\",\"\\u0430\\u043d\\u0434\\u0440\\u0435\\u0439\",\"\\u0430\\u043d\\u0434\\u0440\\u0435\\u0439\",\"\\u0430\\u043d\\u0434\\u0440\\u0435\\u0439\",\"\\u0430\\u043d\\u0434\\u0440\\u0435\\u0439\",\"\\u0430\\u043d\\u0434\\u0440\\u0435\\u0439\",\"\\u0430\\u043d\\u0434\\u0440\\u0435\\u0439\",\"\\u0430\\u043d\\u0434\\u0440\\u0435\\u0439\",\"\\u0430\\u043d\\u0434\\u0440\\u0435\\u0439\",\"\\u0430\\u043d\\u0434\\u0440\\u0435\\u0439\",\"\\u0430\\u043d\\u0434\\u0440\\u0435\\u0439\",\"\\u0430\\u043d\\u0434\\u0440\\u0435\\u0439\",\"\\u0430\\u043d\\u0434\\u0440\\u0435\\u0439\",\"\\u0430\\u043d\\u0434\\u0440\\u0435\\u0439\",\"\\u0430\\u043d\\u0434\\u0440\\u0435\\u0439\",\"\\u0430\\u043d\\u0434\\u0440\\u0435\\u0439\",\"\\u0430\\u043d\\u0434\\u0440\\u0435\\u0439\",\"\\u0430\\u043d\\u0434\\u0440\\u0435\\u0439\",\"\\u0430\\u043d\\u0434\\u0440\\u0435\\u0439\",\"\\u0430\\u043d\\u0434\\u0440\\u0435\\u0439\",\"\\u0430\\u043d\\u0434\\u0440\\u0435\\u0439\",\"\\u0430\\u043d\\u0434\\u0440\\u0435\\u0439\",\"\\u0430\\u043d\\u0434\\u0440\\u0435\\u0439\",\"\\u0430\\u043d\\u0434\\u0440\\u0435\\u0439\",\"\\u0430\\u043d\\u0434\\u0440\\u0435\\u0439\",\"\\u0430\\u043d\\u0434\\u0440\\u0435\\u0439\",\"\\u0430\\u043d\\u0434\\u0440\\u0435\\u0439\",\"\\u0430\\u043d\\u0434\\u0440\\u0435\\u0439\",\"\\u0430\\u043d\\u0434\\u0440\\u0435\\u0439\",\"\\u0430\\u043d\\u0434\\u0440\\u0435\\u0439\",\"\\u0430\\u043d\\u0434\\u0440\\u0435\\u0439\",\"\\u0430\\u043d\\u0434\\u0440\\u0435\\u0439\",\"\\u0430\\u043d\\u0434\\u0440\\u0435\\u0439\",\"\\u0430\\u043d\\u0434\\u0440\\u0435\\u0439\",\"\\u0430\\u043d\\u0434\\u0440\\u0435\\u0439\",\"\\u0430\\u043d\\u0434\\u0440\\u0435\\u0439\",\"\\u0430\\u043d\\u0434\\u0440\\u0435\\u0439\",\"\\u0430\\u043d\\u0434\\u0440\\u0435\\u0439\",\"\\u0430\\u043d\\u0434\\u0440\\u0435\\u0439\",\"\\u0430\\u043d\\u0434\\u0440\\u0435\\u0439\",\"\\u0430\\u043d\\u0434\\u0440\\u0435\\u0439\",\"\\u0430\\u043d\\u0434\\u0440\\u0435\\u0439\",\"\\u0430\\u043d\\u0434\\u0440\\u0435\\u0439\",\"\\u0430\\u043d\\u0434\\u0440\\u0435\\u0439\",\"\\u0430\\u043d\\u0434\\u0440\\u0435\\u0439\",\"\\u0430\\u043d\\u0434\\u0440\\u0435\\u0439\",\"\\u0430\\u043d\\u0434\\u0440\\u0435\\u0439\",\"\\u0430\\u043d\\u0434\\u0440\\u0435\\u0439\",\"\\u0430\\u043d\\u0434\\u0440\\u0435\\u0439\",\"\\u0430\\u043d\\u0434\\u0440\\u0435\\u0439\",\"\\u0430\\u043d\\u0434\\u0440\\u0435\\u0439\",\"\\u0430\\u043d\\u0434\\u0440\\u0435\\u0439\",\"\\u0430\\u043d\\u0434\\u0440\\u0435\\u0439\",\"\\u0430\\u043d\\u0434\\u0440\\u0435\\u0439\",\"\\u0430\\u043d\\u0434\\u0440\\u0435\\u0439\",\"\\u0430\\u043d\\u0434\\u0440\\u0435\\u0439\",\"\\u0430\\u043d\\u0434\\u0440\\u0435\\u0439\",\"\\u0430\\u043d\\u0434\\u0440\\u0435\\u0439\",\"\\u0430\\u043d\\u0434\\u0440\\u0435\\u0439\",\"\\u0430\\u043d\\u0434\\u0440\\u0435\\u0439\",\"\\u0430\\u043d\\u0434\\u0440\\u0435\\u0439\",\"\\u0430\\u043d\\u0434\\u0440\\u0435\\u0439\",\"\\u0430\\u043d\\u0434\\u0440\\u0435\\u0439\",\"\\u0430\\u043d\\u0434\\u0440\\u0435\\u0439\",\"\\u0430\\u043d\\u0434\\u0440\\u0435\\u0439\",\"\\u0430\\u043d\\u0434\\u0440\\u0435\\u0439\",\"\\u0430\\u043d\\u0434\\u0440\\u0435\\u0439\",\"\\u0430\\u043d\\u0434\\u0440\\u0435\\u0439\",\"\\u0430\\u043d\\u0434\\u0440\\u0435\\u0439\",\"\\u0430\\u043d\\u0434\\u0440\\u0435\\u0439\",\"\\u0430\\u043d\\u0434\\u0440\\u0435\\u0439\",\"\\u0430\\u043d\\u0434\\u0440\\u0435\\u0439\",\"\\u0430\\u043d\\u0434\\u0440\\u0435\\u0439\",\"\\u0430\\u043d\\u0434\\u0440\\u0435\\u0439\",\"\\u0430\\u043d\\u0434\\u0440\\u0435\\u0439\",\"\\u0430\\u043d\\u0434\\u0440\\u0435\\u0439\",\"\\u0430\\u043d\\u0434\\u0440\\u0435\\u0439\",\"\\u0430\\u043d\\u0434\\u0440\\u0435\\u0439\",\"\\u0430\\u043d\\u0434\\u0440\\u0435\\u0439\",\"\\u0430\\u043d\\u0434\\u0440\\u0435\\u0439\",\"\\u0430\\u043d\\u0434\\u0440\\u0435\\u0439\",\"\\u0430\\u043d\\u0434\\u0440\\u0435\\u0439\",\"\\u0430\\u043d\\u0434\\u0440\\u0435\\u0439\",\"\\u0430\\u043d\\u0434\\u0440\\u0435\\u0439\",\"\\u0430\\u043d\\u0434\\u0440\\u0435\\u0439\",\"\\u0430\\u043d\\u0434\\u0440\\u0435\\u0439\",\"\\u0430\\u043d\\u0434\\u0440\\u0435\\u0439\",\"\\u0430\\u043d\\u0434\\u0440\\u0435\\u0439\",\"\\u0430\\u043d\\u0434\\u0440\\u0435\\u0439\",\"\\u0430\\u043d\\u0434\\u0440\\u0435\\u0439\",\"\\u0430\\u043d\\u0434\\u0440\\u0435\\u0439\",\"\\u0430\\u043d\\u0434\\u0440\\u0435\\u0439\",\"\\u0430\\u043d\\u0434\\u0440\\u0435\\u0439\",\"\\u0430\\u043d\\u0434\\u0440\\u0435\\u0439\",\"\\u0430\\u043d\\u0434\\u0440\\u0435\\u0439\",\"\\u0430\\u043d\\u0434\\u0440\\u0435\\u0439\",\"\\u0430\\u043d\\u0434\\u0440\\u0435\\u0439\",\"\\u0430\\u043d\\u0434\\u0440\\u0435\\u0439\",\"\\u0430\\u043d\\u0434\\u0440\\u0435\\u0439\",\"\\u0430\\u043d\\u0434\\u0440\\u0435\\u0439\",\"\\u0430\\u043d\\u0434\\u0440\\u0435\\u0439\",\"\\u0430\\u043d\\u0434\\u0440\\u0435\\u0439\",\"\\u0430\\u043d\\u0434\\u0440\\u0435\\u0439\",\"\\u0430\\u043d\\u0434\\u0440\\u0435\\u0439\",\"\\u0430\\u043d\\u0434\\u0440\\u0435\\u0439\",\"\\u0430\\u043d\\u0434\\u0440\\u0435\\u0439\",\"\\u0430\\u043d\\u0434\\u0440\\u0435\\u0439\",\"\\u0430\\u043d\\u0434\\u0440\\u0435\\u0439\",\"\\u0430\\u043d\\u0434\\u0440\\u0435\\u0439\",\"\\u0430\\u043d\\u0434\\u0440\\u0435\\u0439\",\"\\u0430\\u043d\\u0434\\u0440\\u0435\\u0439\",\"\\u0430\\u043d\\u0434\\u0440\\u0435\\u0439\",\"\\u0430\\u043d\\u0434\\u0440\\u0435\\u0439\",\"\\u0430\\u043d\\u0434\\u0440\\u0435\\u0439\",\"\\u0430\\u043d\\u0434\\u0440\\u0435\\u0439\",\"\\u0430\\u043d\\u0434\\u0440\\u0435\\u0439\",\"\\u0430\\u043d\\u0434\\u0440\\u0435\\u0439\",\"\\u0430\\u043d\\u0434\\u0440\\u0435\\u0439\",\"\\u0430\\u043d\\u0434\\u0440\\u0435\\u0439\",\"\\u0430\\u043d\\u0434\\u0440\\u0435\\u0439\",\"\\u0430\\u043d\\u0434\\u0440\\u0435\\u0439\",\"\\u0430\\u043d\\u0434\\u0440\\u0435\\u0439\",\"\\u0430\\u043d\\u0434\\u0440\\u0435\\u0439\",\"\\u0430\\u043d\\u0434\\u0440\\u0435\\u0439\",\"\\u0430\\u043d\\u0434\\u0440\\u0435\\u0439\",\"\\u0430\\u043d\\u0434\\u0440\\u0435\\u0439\",\"\\u0430\\u043d\\u0434\\u0440\\u0435\\u0439\",\"\\u0430\\u043d\\u0434\\u0440\\u0435\\u0439\",\"\\u0430\\u043d\\u0434\\u0440\\u0435\\u0439\",\"\\u0430\\u043d\\u0434\\u0440\\u0435\\u0439\",\"\\u0430\\u043d\\u0434\\u0440\\u0435\\u0439\",\"\\u0430\\u043d\\u0434\\u0440\\u0435\\u0439\",\"\\u0430\\u043d\\u0434\\u0440\\u0435\\u0439\",\"\\u0430\\u043d\\u0434\\u0440\\u0435\\u0439\",\"\\u0430\\u043d\\u0434\\u0440\\u0435\\u0439\",\"\\u0430\\u043d\\u0434\\u0440\\u0435\\u0439\",\"\\u0430\\u043d\\u0434\\u0440\\u0435\\u0439\",\"\\u0430\\u043d\\u0434\\u0440\\u0435\\u0439\",\"\\u0430\\u043d\\u0434\\u0440\\u0435\\u0439\",\"\\u0430\\u043d\\u0434\\u0440\\u0435\\u0439\",\"\\u0430\\u043d\\u0434\\u0440\\u0435\\u0439\",\"\\u0430\\u043d\\u0434\\u0440\\u0435\\u0439\",\"\\u0430\\u043d\\u0434\\u0440\\u0435\\u0439\",\"\\u0430\\u043d\\u0434\\u0440\\u0435\\u0439\",\"\\u0430\\u043d\\u0434\\u0440\\u0435\\u0439\",\"\\u0430\\u043d\\u0434\\u0440\\u0435\\u0439\",\"\\u0430\\u043d\\u0434\\u0440\\u0435\\u0439\",\"\\u0430\\u043d\\u0434\\u0440\\u0435\\u0439\",\"\\u0430\\u043d\\u0434\\u0440\\u0435\\u0439\",\"\\u0430\\u043d\\u0434\\u0440\\u0435\\u0439\",\"\\u0430\\u043d\\u0434\\u0440\\u0435\\u0439\",\"\\u0430\\u043d\\u0434\\u0440\\u0435\\u0439\",\"\\u0430\\u043d\\u0434\\u0440\\u0435\\u0439\",\"\\u0430\\u043d\\u0434\\u0440\\u0435\\u0439\",\"\\u0430\\u043d\\u0434\\u0440\\u0435\\u0439\",\"\\u0430\\u043d\\u0434\\u0440\\u0435\\u0439\",\"\\u0430\\u043d\\u0434\\u0440\\u0435\\u0439\",\"\\u0430\\u043d\\u0434\\u0440\\u0435\\u0439\",\"\\u0430\\u043d\\u0434\\u0440\\u0435\\u0439\",\"\\u0430\\u043d\\u0434\\u0440\\u0435\\u0439\",\"\\u0430\\u043d\\u0434\\u0440\\u0435\\u0439\",\"\\u0430\\u043d\\u0434\\u0440\\u0435\\u0439\",\"\\u0430\\u043d\\u0434\\u0440\\u0435\\u0439\",\"\\u0430\\u043d\\u0434\\u0440\\u0435\\u0439\",\"\\u0430\\u043d\\u0434\\u0440\\u0435\\u0439\",\"\\u0430\\u043d\\u0434\\u0440\\u0435\\u0439\",\"\\u0430\\u043d\\u0434\\u0440\\u0435\\u0439\",\"\\u0430\\u043d\\u0434\\u0440\\u0435\\u0439\",\"\\u0430\\u043d\\u0434\\u0440\\u0435\\u0439\",\"\\u0430\\u043d\\u0434\\u0440\\u0435\\u0439\",\"\\u0430\\u043d\\u0434\\u0440\\u0435\\u0439\",\"\\u0430\\u043d\\u0434\\u0440\\u0435\\u0439\",\"\\u0430\\u043d\\u0434\\u0440\\u0435\\u0439\",\"\\u0430\\u043d\\u0434\\u0440\\u0435\\u0439\",\"\\u0430\\u043d\\u0434\\u0440\\u0435\\u0439\",\"\\u0430\\u043d\\u0434\\u0440\\u0435\\u0439\",\"\\u0430\\u043d\\u0434\\u0440\\u0435\\u0439\",\"\\u0430\\u043d\\u0434\\u0440\\u0435\\u0439\",\"\\u0430\\u043d\\u0434\\u0440\\u0435\\u0439\",\"\\u0430\\u043d\\u0434\\u0440\\u0435\\u0439\",\"\\u0430\\u043d\\u0434\\u0440\\u0435\\u0439\",\"\\u0430\\u043d\\u0434\\u0440\\u0435\\u0439\",\"\\u0430\\u043d\\u0434\\u0440\\u0435\\u0439\",\"\\u0430\\u043d\\u0434\\u0440\\u0435\\u0439\"],\"yaxis\":\"y2\",\"type\":\"scatter\"},{\"legendgroup\":\"\\u043d\\u0430\\u0442\\u0430\\u0448\\u0430\",\"marker\":{\"color\":\"rgb(44, 160, 44)\",\"symbol\":\"line-ns-open\"},\"mode\":\"markers\",\"name\":\"\\u043d\\u0430\\u0442\\u0430\\u0448\\u0430\",\"showlegend\":false,\"x\":[10797,10843,10881,10890,11118,11119,11186,11357,12110,12163,12190,12213,12240,12335,12392,12609,12625,12645,12886,12898,13012,13031,13069,13138,16971,17738,17743,17773,18151,18234,18932,18939,19007,19046,19071,19089,19152,19265,19272,19305,19333,19342,19391,19420,19454,19636,19726,19735,19820,19904,19936,19942,19969,20091,20146,20218,20219,20351,20608,20700,62149,74060,74103,74190,74228,74241,74264,74340,74437,74459,74522,74580,74607,74732,74772,74976,75015,75112,75542,86163,97138,97189,97216,97433,97455,97471,97480,97691,97707,97781,97806,97842,97875,97930,98110,98201,98243,98292,98444,98467,98491,98563,98585,98614,98655,98761,98848,109172,109284,109324,109423,109528,109580,109865,109935,110023,110033,110138,110184,110239,110695,110724,110799,110911,110935,111008,111021,111055,111071,111100,111235,111317,111381,112097,112124,113289,113292,113406,113414,113445,113462,113523,113604,113704,113804,113849,113914,114139,114240,114580,114611,114623,114643,114684,114850,114864,115017,115078,122737,133209,141535,151838,151968,152059,152088,152149,152172,152199,152213,152225,152243,152249,152295,152340,152358,152381,152415,152466,152494,152545,152677,152698,152764,152809,152828,152853,152901,152928,152952,152981,153027,153064,153099,153135,153145,153148,153272,153296,153340,153362,153406,153482,153527,153975,154097,154137,154161,154173,154205,154224,154233,154357,154402,154440,154445,154527,154683,154924,154954,155008,155045,155076,155358,155422,155450,155684,155843,155899,155924,156094,156256,156322,156347,156400,156463,156524,156595,156614,156707,156735,156781,156840,156863,156945,157022,157056,157100,157173,157229,157238,158657,158751,158776,158833,158881,158976,160199,160211,160386,160434,160474,160751,160827,160880,161042,161047,161077,161095,161105,161151,161170,161178,161301,161419,161428,161441,161467,161585,161613,161782,162413,162435,162454,162537,162538,162597,162820,162874,162912,162958,162967,163031,163054,163113,163120,163287,163323,163326,163366,163381,163500,163645,163731,163803,163839,163864,163894,163966,164003,164034,164059,164073,164144,164218,164261,164343,164358,164377,164391,164407,164479,164573,164618,164779,167504,167532,167576,167595,168147,168169,168199,168200,168222,168244,168283,168295,168484,168566,169763,169782,169820,169840,169873,169881,169978,170279,170317,170339,170375,170407,170418,170473,172881,173186,173502,173532,173848,174055,174178,174661,174921,174955,175036,175072,175226,175243,175279,175309,175543,175645,175650,175701,175728,175971,176053,176096,176167,176207,176331,176395,176473,176513,176517,176696,176697,176763,176872,176910,176944,176952,176992,177018,177042,177123,177241,177248,177282,177322,177345,177387,178263,178441,178480,178574,178581,178610,178675,178699,178714,178759,178851,178961,179046,179083,179088,179131,179149,179162,179180,179192,179338,179344,179407,179430,179450,179533,179586,179631,179725,179913,179956,180002,180015,180030,180074,180156,180230,180283,180297,180317,180338,180357,180485,180502,180555,180564,180581,180715,180925,181034,181197,181662,181878,181936,182068,182298,182931,183065,183070,183084,183099,183140,183178,183403,183410,183418,183427,183437,183567,183586,183603,183611,183634,183644,183669,183687,183763,183825,184357,184469,184616,184807,184825,184840,184886,191290,191656,191728,191952,191996,192031,192093,192104,192225,192238,192281,192363,192477,192649,192708,192782,192796,192837,192947,192948,192977,192990,193026,193076,193092,193133,193145,193178,193196,193228,193252,193266,193279,193293,193319,193356,193382,193490,193587,193679,193751,193762,193813,193839,193863,193972,193991,194036,194090,194319,194338,194423,194437,194440,194501,194663,194766,194774,194824,194935,195043,195065,195070,195138,195176,195190,195239,195279,195340,195365,195385,195392,195562,195660,195666,195755,195798,195817,196090,196110,196137,196142,196207,196312,196313,196445,196511,196522,196577,196704,196781,196821,196828,196849,197023,197055,197150,197883,198011,198016,198202,198392,198405,198465,198492,198596,198606,198620,198652,198675,198686,198698,198711,198734,198760,198797,198803,198884,198906,198981,198988,199019,199045,199057,199132,199200,199223,199250,199258,199299,199344,199371,199460,199659,199725,199737,199866,199909,199995,200142,200172,200189,200224,200260,200322,200393,200571,200629,200734,200762,200776,200809,200939,200945,200950,200977,200992,201002,201033,201050,201058,201063,201099,201128,201145,201180,201253,201299,201337,201350,201377,201393,201440,201448,201493,201519,201547,201592,201593,201632,201652,201664,201765,201781,201790,201812,201832,201859,201878,201996,202004,202012,202030,202041,202042,202065,202092,202103,202107,202169,202201,202237,202258,202269,202322,202378,202461,202473,204559,204571,204589,204662,204722,204797,204825,204856,204870,204945,204963,205007,205078,205122,205143,205161,205176,205207,205225,205242,205309,205323,205408,205445,205549,205599,205794,205857,205880,205918,205954,206032,206049,206258,206320,206382,206438,206445,206472,206473,206547,206556,207625,207711,207804,207856,207883,207910,208409,208834,208868,208937,209120,209203,209234,209280,209356,209442,215965],\"xaxis\":\"x\",\"y\":[\"\\u043d\\u0430\\u0442\\u0430\\u0448\\u0430\",\"\\u043d\\u0430\\u0442\\u0430\\u0448\\u0430\",\"\\u043d\\u0430\\u0442\\u0430\\u0448\\u0430\",\"\\u043d\\u0430\\u0442\\u0430\\u0448\\u0430\",\"\\u043d\\u0430\\u0442\\u0430\\u0448\\u0430\",\"\\u043d\\u0430\\u0442\\u0430\\u0448\\u0430\",\"\\u043d\\u0430\\u0442\\u0430\\u0448\\u0430\",\"\\u043d\\u0430\\u0442\\u0430\\u0448\\u0430\",\"\\u043d\\u0430\\u0442\\u0430\\u0448\\u0430\",\"\\u043d\\u0430\\u0442\\u0430\\u0448\\u0430\",\"\\u043d\\u0430\\u0442\\u0430\\u0448\\u0430\",\"\\u043d\\u0430\\u0442\\u0430\\u0448\\u0430\",\"\\u043d\\u0430\\u0442\\u0430\\u0448\\u0430\",\"\\u043d\\u0430\\u0442\\u0430\\u0448\\u0430\",\"\\u043d\\u0430\\u0442\\u0430\\u0448\\u0430\",\"\\u043d\\u0430\\u0442\\u0430\\u0448\\u0430\",\"\\u043d\\u0430\\u0442\\u0430\\u0448\\u0430\",\"\\u043d\\u0430\\u0442\\u0430\\u0448\\u0430\",\"\\u043d\\u0430\\u0442\\u0430\\u0448\\u0430\",\"\\u043d\\u0430\\u0442\\u0430\\u0448\\u0430\",\"\\u043d\\u0430\\u0442\\u0430\\u0448\\u0430\",\"\\u043d\\u0430\\u0442\\u0430\\u0448\\u0430\",\"\\u043d\\u0430\\u0442\\u0430\\u0448\\u0430\",\"\\u043d\\u0430\\u0442\\u0430\\u0448\\u0430\",\"\\u043d\\u0430\\u0442\\u0430\\u0448\\u0430\",\"\\u043d\\u0430\\u0442\\u0430\\u0448\\u0430\",\"\\u043d\\u0430\\u0442\\u0430\\u0448\\u0430\",\"\\u043d\\u0430\\u0442\\u0430\\u0448\\u0430\",\"\\u043d\\u0430\\u0442\\u0430\\u0448\\u0430\",\"\\u043d\\u0430\\u0442\\u0430\\u0448\\u0430\",\"\\u043d\\u0430\\u0442\\u0430\\u0448\\u0430\",\"\\u043d\\u0430\\u0442\\u0430\\u0448\\u0430\",\"\\u043d\\u0430\\u0442\\u0430\\u0448\\u0430\",\"\\u043d\\u0430\\u0442\\u0430\\u0448\\u0430\",\"\\u043d\\u0430\\u0442\\u0430\\u0448\\u0430\",\"\\u043d\\u0430\\u0442\\u0430\\u0448\\u0430\",\"\\u043d\\u0430\\u0442\\u0430\\u0448\\u0430\",\"\\u043d\\u0430\\u0442\\u0430\\u0448\\u0430\",\"\\u043d\\u0430\\u0442\\u0430\\u0448\\u0430\",\"\\u043d\\u0430\\u0442\\u0430\\u0448\\u0430\",\"\\u043d\\u0430\\u0442\\u0430\\u0448\\u0430\",\"\\u043d\\u0430\\u0442\\u0430\\u0448\\u0430\",\"\\u043d\\u0430\\u0442\\u0430\\u0448\\u0430\",\"\\u043d\\u0430\\u0442\\u0430\\u0448\\u0430\",\"\\u043d\\u0430\\u0442\\u0430\\u0448\\u0430\",\"\\u043d\\u0430\\u0442\\u0430\\u0448\\u0430\",\"\\u043d\\u0430\\u0442\\u0430\\u0448\\u0430\",\"\\u043d\\u0430\\u0442\\u0430\\u0448\\u0430\",\"\\u043d\\u0430\\u0442\\u0430\\u0448\\u0430\",\"\\u043d\\u0430\\u0442\\u0430\\u0448\\u0430\",\"\\u043d\\u0430\\u0442\\u0430\\u0448\\u0430\",\"\\u043d\\u0430\\u0442\\u0430\\u0448\\u0430\",\"\\u043d\\u0430\\u0442\\u0430\\u0448\\u0430\",\"\\u043d\\u0430\\u0442\\u0430\\u0448\\u0430\",\"\\u043d\\u0430\\u0442\\u0430\\u0448\\u0430\",\"\\u043d\\u0430\\u0442\\u0430\\u0448\\u0430\",\"\\u043d\\u0430\\u0442\\u0430\\u0448\\u0430\",\"\\u043d\\u0430\\u0442\\u0430\\u0448\\u0430\",\"\\u043d\\u0430\\u0442\\u0430\\u0448\\u0430\",\"\\u043d\\u0430\\u0442\\u0430\\u0448\\u0430\",\"\\u043d\\u0430\\u0442\\u0430\\u0448\\u0430\",\"\\u043d\\u0430\\u0442\\u0430\\u0448\\u0430\",\"\\u043d\\u0430\\u0442\\u0430\\u0448\\u0430\",\"\\u043d\\u0430\\u0442\\u0430\\u0448\\u0430\",\"\\u043d\\u0430\\u0442\\u0430\\u0448\\u0430\",\"\\u043d\\u0430\\u0442\\u0430\\u0448\\u0430\",\"\\u043d\\u0430\\u0442\\u0430\\u0448\\u0430\",\"\\u043d\\u0430\\u0442\\u0430\\u0448\\u0430\",\"\\u043d\\u0430\\u0442\\u0430\\u0448\\u0430\",\"\\u043d\\u0430\\u0442\\u0430\\u0448\\u0430\",\"\\u043d\\u0430\\u0442\\u0430\\u0448\\u0430\",\"\\u043d\\u0430\\u0442\\u0430\\u0448\\u0430\",\"\\u043d\\u0430\\u0442\\u0430\\u0448\\u0430\",\"\\u043d\\u0430\\u0442\\u0430\\u0448\\u0430\",\"\\u043d\\u0430\\u0442\\u0430\\u0448\\u0430\",\"\\u043d\\u0430\\u0442\\u0430\\u0448\\u0430\",\"\\u043d\\u0430\\u0442\\u0430\\u0448\\u0430\",\"\\u043d\\u0430\\u0442\\u0430\\u0448\\u0430\",\"\\u043d\\u0430\\u0442\\u0430\\u0448\\u0430\",\"\\u043d\\u0430\\u0442\\u0430\\u0448\\u0430\",\"\\u043d\\u0430\\u0442\\u0430\\u0448\\u0430\",\"\\u043d\\u0430\\u0442\\u0430\\u0448\\u0430\",\"\\u043d\\u0430\\u0442\\u0430\\u0448\\u0430\",\"\\u043d\\u0430\\u0442\\u0430\\u0448\\u0430\",\"\\u043d\\u0430\\u0442\\u0430\\u0448\\u0430\",\"\\u043d\\u0430\\u0442\\u0430\\u0448\\u0430\",\"\\u043d\\u0430\\u0442\\u0430\\u0448\\u0430\",\"\\u043d\\u0430\\u0442\\u0430\\u0448\\u0430\",\"\\u043d\\u0430\\u0442\\u0430\\u0448\\u0430\",\"\\u043d\\u0430\\u0442\\u0430\\u0448\\u0430\",\"\\u043d\\u0430\\u0442\\u0430\\u0448\\u0430\",\"\\u043d\\u0430\\u0442\\u0430\\u0448\\u0430\",\"\\u043d\\u0430\\u0442\\u0430\\u0448\\u0430\",\"\\u043d\\u0430\\u0442\\u0430\\u0448\\u0430\",\"\\u043d\\u0430\\u0442\\u0430\\u0448\\u0430\",\"\\u043d\\u0430\\u0442\\u0430\\u0448\\u0430\",\"\\u043d\\u0430\\u0442\\u0430\\u0448\\u0430\",\"\\u043d\\u0430\\u0442\\u0430\\u0448\\u0430\",\"\\u043d\\u0430\\u0442\\u0430\\u0448\\u0430\",\"\\u043d\\u0430\\u0442\\u0430\\u0448\\u0430\",\"\\u043d\\u0430\\u0442\\u0430\\u0448\\u0430\",\"\\u043d\\u0430\\u0442\\u0430\\u0448\\u0430\",\"\\u043d\\u0430\\u0442\\u0430\\u0448\\u0430\",\"\\u043d\\u0430\\u0442\\u0430\\u0448\\u0430\",\"\\u043d\\u0430\\u0442\\u0430\\u0448\\u0430\",\"\\u043d\\u0430\\u0442\\u0430\\u0448\\u0430\",\"\\u043d\\u0430\\u0442\\u0430\\u0448\\u0430\",\"\\u043d\\u0430\\u0442\\u0430\\u0448\\u0430\",\"\\u043d\\u0430\\u0442\\u0430\\u0448\\u0430\",\"\\u043d\\u0430\\u0442\\u0430\\u0448\\u0430\",\"\\u043d\\u0430\\u0442\\u0430\\u0448\\u0430\",\"\\u043d\\u0430\\u0442\\u0430\\u0448\\u0430\",\"\\u043d\\u0430\\u0442\\u0430\\u0448\\u0430\",\"\\u043d\\u0430\\u0442\\u0430\\u0448\\u0430\",\"\\u043d\\u0430\\u0442\\u0430\\u0448\\u0430\",\"\\u043d\\u0430\\u0442\\u0430\\u0448\\u0430\",\"\\u043d\\u0430\\u0442\\u0430\\u0448\\u0430\",\"\\u043d\\u0430\\u0442\\u0430\\u0448\\u0430\",\"\\u043d\\u0430\\u0442\\u0430\\u0448\\u0430\",\"\\u043d\\u0430\\u0442\\u0430\\u0448\\u0430\",\"\\u043d\\u0430\\u0442\\u0430\\u0448\\u0430\",\"\\u043d\\u0430\\u0442\\u0430\\u0448\\u0430\",\"\\u043d\\u0430\\u0442\\u0430\\u0448\\u0430\",\"\\u043d\\u0430\\u0442\\u0430\\u0448\\u0430\",\"\\u043d\\u0430\\u0442\\u0430\\u0448\\u0430\",\"\\u043d\\u0430\\u0442\\u0430\\u0448\\u0430\",\"\\u043d\\u0430\\u0442\\u0430\\u0448\\u0430\",\"\\u043d\\u0430\\u0442\\u0430\\u0448\\u0430\",\"\\u043d\\u0430\\u0442\\u0430\\u0448\\u0430\",\"\\u043d\\u0430\\u0442\\u0430\\u0448\\u0430\",\"\\u043d\\u0430\\u0442\\u0430\\u0448\\u0430\",\"\\u043d\\u0430\\u0442\\u0430\\u0448\\u0430\",\"\\u043d\\u0430\\u0442\\u0430\\u0448\\u0430\",\"\\u043d\\u0430\\u0442\\u0430\\u0448\\u0430\",\"\\u043d\\u0430\\u0442\\u0430\\u0448\\u0430\",\"\\u043d\\u0430\\u0442\\u0430\\u0448\\u0430\",\"\\u043d\\u0430\\u0442\\u0430\\u0448\\u0430\",\"\\u043d\\u0430\\u0442\\u0430\\u0448\\u0430\",\"\\u043d\\u0430\\u0442\\u0430\\u0448\\u0430\",\"\\u043d\\u0430\\u0442\\u0430\\u0448\\u0430\",\"\\u043d\\u0430\\u0442\\u0430\\u0448\\u0430\",\"\\u043d\\u0430\\u0442\\u0430\\u0448\\u0430\",\"\\u043d\\u0430\\u0442\\u0430\\u0448\\u0430\",\"\\u043d\\u0430\\u0442\\u0430\\u0448\\u0430\",\"\\u043d\\u0430\\u0442\\u0430\\u0448\\u0430\",\"\\u043d\\u0430\\u0442\\u0430\\u0448\\u0430\",\"\\u043d\\u0430\\u0442\\u0430\\u0448\\u0430\",\"\\u043d\\u0430\\u0442\\u0430\\u0448\\u0430\",\"\\u043d\\u0430\\u0442\\u0430\\u0448\\u0430\",\"\\u043d\\u0430\\u0442\\u0430\\u0448\\u0430\",\"\\u043d\\u0430\\u0442\\u0430\\u0448\\u0430\",\"\\u043d\\u0430\\u0442\\u0430\\u0448\\u0430\",\"\\u043d\\u0430\\u0442\\u0430\\u0448\\u0430\",\"\\u043d\\u0430\\u0442\\u0430\\u0448\\u0430\",\"\\u043d\\u0430\\u0442\\u0430\\u0448\\u0430\",\"\\u043d\\u0430\\u0442\\u0430\\u0448\\u0430\",\"\\u043d\\u0430\\u0442\\u0430\\u0448\\u0430\",\"\\u043d\\u0430\\u0442\\u0430\\u0448\\u0430\",\"\\u043d\\u0430\\u0442\\u0430\\u0448\\u0430\",\"\\u043d\\u0430\\u0442\\u0430\\u0448\\u0430\",\"\\u043d\\u0430\\u0442\\u0430\\u0448\\u0430\",\"\\u043d\\u0430\\u0442\\u0430\\u0448\\u0430\",\"\\u043d\\u0430\\u0442\\u0430\\u0448\\u0430\",\"\\u043d\\u0430\\u0442\\u0430\\u0448\\u0430\",\"\\u043d\\u0430\\u0442\\u0430\\u0448\\u0430\",\"\\u043d\\u0430\\u0442\\u0430\\u0448\\u0430\",\"\\u043d\\u0430\\u0442\\u0430\\u0448\\u0430\",\"\\u043d\\u0430\\u0442\\u0430\\u0448\\u0430\",\"\\u043d\\u0430\\u0442\\u0430\\u0448\\u0430\",\"\\u043d\\u0430\\u0442\\u0430\\u0448\\u0430\",\"\\u043d\\u0430\\u0442\\u0430\\u0448\\u0430\",\"\\u043d\\u0430\\u0442\\u0430\\u0448\\u0430\",\"\\u043d\\u0430\\u0442\\u0430\\u0448\\u0430\",\"\\u043d\\u0430\\u0442\\u0430\\u0448\\u0430\",\"\\u043d\\u0430\\u0442\\u0430\\u0448\\u0430\",\"\\u043d\\u0430\\u0442\\u0430\\u0448\\u0430\",\"\\u043d\\u0430\\u0442\\u0430\\u0448\\u0430\",\"\\u043d\\u0430\\u0442\\u0430\\u0448\\u0430\",\"\\u043d\\u0430\\u0442\\u0430\\u0448\\u0430\",\"\\u043d\\u0430\\u0442\\u0430\\u0448\\u0430\",\"\\u043d\\u0430\\u0442\\u0430\\u0448\\u0430\",\"\\u043d\\u0430\\u0442\\u0430\\u0448\\u0430\",\"\\u043d\\u0430\\u0442\\u0430\\u0448\\u0430\",\"\\u043d\\u0430\\u0442\\u0430\\u0448\\u0430\",\"\\u043d\\u0430\\u0442\\u0430\\u0448\\u0430\",\"\\u043d\\u0430\\u0442\\u0430\\u0448\\u0430\",\"\\u043d\\u0430\\u0442\\u0430\\u0448\\u0430\",\"\\u043d\\u0430\\u0442\\u0430\\u0448\\u0430\",\"\\u043d\\u0430\\u0442\\u0430\\u0448\\u0430\",\"\\u043d\\u0430\\u0442\\u0430\\u0448\\u0430\",\"\\u043d\\u0430\\u0442\\u0430\\u0448\\u0430\",\"\\u043d\\u0430\\u0442\\u0430\\u0448\\u0430\",\"\\u043d\\u0430\\u0442\\u0430\\u0448\\u0430\",\"\\u043d\\u0430\\u0442\\u0430\\u0448\\u0430\",\"\\u043d\\u0430\\u0442\\u0430\\u0448\\u0430\",\"\\u043d\\u0430\\u0442\\u0430\\u0448\\u0430\",\"\\u043d\\u0430\\u0442\\u0430\\u0448\\u0430\",\"\\u043d\\u0430\\u0442\\u0430\\u0448\\u0430\",\"\\u043d\\u0430\\u0442\\u0430\\u0448\\u0430\",\"\\u043d\\u0430\\u0442\\u0430\\u0448\\u0430\",\"\\u043d\\u0430\\u0442\\u0430\\u0448\\u0430\",\"\\u043d\\u0430\\u0442\\u0430\\u0448\\u0430\",\"\\u043d\\u0430\\u0442\\u0430\\u0448\\u0430\",\"\\u043d\\u0430\\u0442\\u0430\\u0448\\u0430\",\"\\u043d\\u0430\\u0442\\u0430\\u0448\\u0430\",\"\\u043d\\u0430\\u0442\\u0430\\u0448\\u0430\",\"\\u043d\\u0430\\u0442\\u0430\\u0448\\u0430\",\"\\u043d\\u0430\\u0442\\u0430\\u0448\\u0430\",\"\\u043d\\u0430\\u0442\\u0430\\u0448\\u0430\",\"\\u043d\\u0430\\u0442\\u0430\\u0448\\u0430\",\"\\u043d\\u0430\\u0442\\u0430\\u0448\\u0430\",\"\\u043d\\u0430\\u0442\\u0430\\u0448\\u0430\",\"\\u043d\\u0430\\u0442\\u0430\\u0448\\u0430\",\"\\u043d\\u0430\\u0442\\u0430\\u0448\\u0430\",\"\\u043d\\u0430\\u0442\\u0430\\u0448\\u0430\",\"\\u043d\\u0430\\u0442\\u0430\\u0448\\u0430\",\"\\u043d\\u0430\\u0442\\u0430\\u0448\\u0430\",\"\\u043d\\u0430\\u0442\\u0430\\u0448\\u0430\",\"\\u043d\\u0430\\u0442\\u0430\\u0448\\u0430\",\"\\u043d\\u0430\\u0442\\u0430\\u0448\\u0430\",\"\\u043d\\u0430\\u0442\\u0430\\u0448\\u0430\",\"\\u043d\\u0430\\u0442\\u0430\\u0448\\u0430\",\"\\u043d\\u0430\\u0442\\u0430\\u0448\\u0430\",\"\\u043d\\u0430\\u0442\\u0430\\u0448\\u0430\",\"\\u043d\\u0430\\u0442\\u0430\\u0448\\u0430\",\"\\u043d\\u0430\\u0442\\u0430\\u0448\\u0430\",\"\\u043d\\u0430\\u0442\\u0430\\u0448\\u0430\",\"\\u043d\\u0430\\u0442\\u0430\\u0448\\u0430\",\"\\u043d\\u0430\\u0442\\u0430\\u0448\\u0430\",\"\\u043d\\u0430\\u0442\\u0430\\u0448\\u0430\",\"\\u043d\\u0430\\u0442\\u0430\\u0448\\u0430\",\"\\u043d\\u0430\\u0442\\u0430\\u0448\\u0430\",\"\\u043d\\u0430\\u0442\\u0430\\u0448\\u0430\",\"\\u043d\\u0430\\u0442\\u0430\\u0448\\u0430\",\"\\u043d\\u0430\\u0442\\u0430\\u0448\\u0430\",\"\\u043d\\u0430\\u0442\\u0430\\u0448\\u0430\",\"\\u043d\\u0430\\u0442\\u0430\\u0448\\u0430\",\"\\u043d\\u0430\\u0442\\u0430\\u0448\\u0430\",\"\\u043d\\u0430\\u0442\\u0430\\u0448\\u0430\",\"\\u043d\\u0430\\u0442\\u0430\\u0448\\u0430\",\"\\u043d\\u0430\\u0442\\u0430\\u0448\\u0430\",\"\\u043d\\u0430\\u0442\\u0430\\u0448\\u0430\",\"\\u043d\\u0430\\u0442\\u0430\\u0448\\u0430\",\"\\u043d\\u0430\\u0442\\u0430\\u0448\\u0430\",\"\\u043d\\u0430\\u0442\\u0430\\u0448\\u0430\",\"\\u043d\\u0430\\u0442\\u0430\\u0448\\u0430\",\"\\u043d\\u0430\\u0442\\u0430\\u0448\\u0430\",\"\\u043d\\u0430\\u0442\\u0430\\u0448\\u0430\",\"\\u043d\\u0430\\u0442\\u0430\\u0448\\u0430\",\"\\u043d\\u0430\\u0442\\u0430\\u0448\\u0430\",\"\\u043d\\u0430\\u0442\\u0430\\u0448\\u0430\",\"\\u043d\\u0430\\u0442\\u0430\\u0448\\u0430\",\"\\u043d\\u0430\\u0442\\u0430\\u0448\\u0430\",\"\\u043d\\u0430\\u0442\\u0430\\u0448\\u0430\",\"\\u043d\\u0430\\u0442\\u0430\\u0448\\u0430\",\"\\u043d\\u0430\\u0442\\u0430\\u0448\\u0430\",\"\\u043d\\u0430\\u0442\\u0430\\u0448\\u0430\",\"\\u043d\\u0430\\u0442\\u0430\\u0448\\u0430\",\"\\u043d\\u0430\\u0442\\u0430\\u0448\\u0430\",\"\\u043d\\u0430\\u0442\\u0430\\u0448\\u0430\",\"\\u043d\\u0430\\u0442\\u0430\\u0448\\u0430\",\"\\u043d\\u0430\\u0442\\u0430\\u0448\\u0430\",\"\\u043d\\u0430\\u0442\\u0430\\u0448\\u0430\",\"\\u043d\\u0430\\u0442\\u0430\\u0448\\u0430\",\"\\u043d\\u0430\\u0442\\u0430\\u0448\\u0430\",\"\\u043d\\u0430\\u0442\\u0430\\u0448\\u0430\",\"\\u043d\\u0430\\u0442\\u0430\\u0448\\u0430\",\"\\u043d\\u0430\\u0442\\u0430\\u0448\\u0430\",\"\\u043d\\u0430\\u0442\\u0430\\u0448\\u0430\",\"\\u043d\\u0430\\u0442\\u0430\\u0448\\u0430\",\"\\u043d\\u0430\\u0442\\u0430\\u0448\\u0430\",\"\\u043d\\u0430\\u0442\\u0430\\u0448\\u0430\",\"\\u043d\\u0430\\u0442\\u0430\\u0448\\u0430\",\"\\u043d\\u0430\\u0442\\u0430\\u0448\\u0430\",\"\\u043d\\u0430\\u0442\\u0430\\u0448\\u0430\",\"\\u043d\\u0430\\u0442\\u0430\\u0448\\u0430\",\"\\u043d\\u0430\\u0442\\u0430\\u0448\\u0430\",\"\\u043d\\u0430\\u0442\\u0430\\u0448\\u0430\",\"\\u043d\\u0430\\u0442\\u0430\\u0448\\u0430\",\"\\u043d\\u0430\\u0442\\u0430\\u0448\\u0430\",\"\\u043d\\u0430\\u0442\\u0430\\u0448\\u0430\",\"\\u043d\\u0430\\u0442\\u0430\\u0448\\u0430\",\"\\u043d\\u0430\\u0442\\u0430\\u0448\\u0430\",\"\\u043d\\u0430\\u0442\\u0430\\u0448\\u0430\",\"\\u043d\\u0430\\u0442\\u0430\\u0448\\u0430\",\"\\u043d\\u0430\\u0442\\u0430\\u0448\\u0430\",\"\\u043d\\u0430\\u0442\\u0430\\u0448\\u0430\",\"\\u043d\\u0430\\u0442\\u0430\\u0448\\u0430\",\"\\u043d\\u0430\\u0442\\u0430\\u0448\\u0430\",\"\\u043d\\u0430\\u0442\\u0430\\u0448\\u0430\",\"\\u043d\\u0430\\u0442\\u0430\\u0448\\u0430\",\"\\u043d\\u0430\\u0442\\u0430\\u0448\\u0430\",\"\\u043d\\u0430\\u0442\\u0430\\u0448\\u0430\",\"\\u043d\\u0430\\u0442\\u0430\\u0448\\u0430\",\"\\u043d\\u0430\\u0442\\u0430\\u0448\\u0430\",\"\\u043d\\u0430\\u0442\\u0430\\u0448\\u0430\",\"\\u043d\\u0430\\u0442\\u0430\\u0448\\u0430\",\"\\u043d\\u0430\\u0442\\u0430\\u0448\\u0430\",\"\\u043d\\u0430\\u0442\\u0430\\u0448\\u0430\",\"\\u043d\\u0430\\u0442\\u0430\\u0448\\u0430\",\"\\u043d\\u0430\\u0442\\u0430\\u0448\\u0430\",\"\\u043d\\u0430\\u0442\\u0430\\u0448\\u0430\",\"\\u043d\\u0430\\u0442\\u0430\\u0448\\u0430\",\"\\u043d\\u0430\\u0442\\u0430\\u0448\\u0430\",\"\\u043d\\u0430\\u0442\\u0430\\u0448\\u0430\",\"\\u043d\\u0430\\u0442\\u0430\\u0448\\u0430\",\"\\u043d\\u0430\\u0442\\u0430\\u0448\\u0430\",\"\\u043d\\u0430\\u0442\\u0430\\u0448\\u0430\",\"\\u043d\\u0430\\u0442\\u0430\\u0448\\u0430\",\"\\u043d\\u0430\\u0442\\u0430\\u0448\\u0430\",\"\\u043d\\u0430\\u0442\\u0430\\u0448\\u0430\",\"\\u043d\\u0430\\u0442\\u0430\\u0448\\u0430\",\"\\u043d\\u0430\\u0442\\u0430\\u0448\\u0430\",\"\\u043d\\u0430\\u0442\\u0430\\u0448\\u0430\",\"\\u043d\\u0430\\u0442\\u0430\\u0448\\u0430\",\"\\u043d\\u0430\\u0442\\u0430\\u0448\\u0430\",\"\\u043d\\u0430\\u0442\\u0430\\u0448\\u0430\",\"\\u043d\\u0430\\u0442\\u0430\\u0448\\u0430\",\"\\u043d\\u0430\\u0442\\u0430\\u0448\\u0430\",\"\\u043d\\u0430\\u0442\\u0430\\u0448\\u0430\",\"\\u043d\\u0430\\u0442\\u0430\\u0448\\u0430\",\"\\u043d\\u0430\\u0442\\u0430\\u0448\\u0430\",\"\\u043d\\u0430\\u0442\\u0430\\u0448\\u0430\",\"\\u043d\\u0430\\u0442\\u0430\\u0448\\u0430\",\"\\u043d\\u0430\\u0442\\u0430\\u0448\\u0430\",\"\\u043d\\u0430\\u0442\\u0430\\u0448\\u0430\",\"\\u043d\\u0430\\u0442\\u0430\\u0448\\u0430\",\"\\u043d\\u0430\\u0442\\u0430\\u0448\\u0430\",\"\\u043d\\u0430\\u0442\\u0430\\u0448\\u0430\",\"\\u043d\\u0430\\u0442\\u0430\\u0448\\u0430\",\"\\u043d\\u0430\\u0442\\u0430\\u0448\\u0430\",\"\\u043d\\u0430\\u0442\\u0430\\u0448\\u0430\",\"\\u043d\\u0430\\u0442\\u0430\\u0448\\u0430\",\"\\u043d\\u0430\\u0442\\u0430\\u0448\\u0430\",\"\\u043d\\u0430\\u0442\\u0430\\u0448\\u0430\",\"\\u043d\\u0430\\u0442\\u0430\\u0448\\u0430\",\"\\u043d\\u0430\\u0442\\u0430\\u0448\\u0430\",\"\\u043d\\u0430\\u0442\\u0430\\u0448\\u0430\",\"\\u043d\\u0430\\u0442\\u0430\\u0448\\u0430\",\"\\u043d\\u0430\\u0442\\u0430\\u0448\\u0430\",\"\\u043d\\u0430\\u0442\\u0430\\u0448\\u0430\",\"\\u043d\\u0430\\u0442\\u0430\\u0448\\u0430\",\"\\u043d\\u0430\\u0442\\u0430\\u0448\\u0430\",\"\\u043d\\u0430\\u0442\\u0430\\u0448\\u0430\",\"\\u043d\\u0430\\u0442\\u0430\\u0448\\u0430\",\"\\u043d\\u0430\\u0442\\u0430\\u0448\\u0430\",\"\\u043d\\u0430\\u0442\\u0430\\u0448\\u0430\",\"\\u043d\\u0430\\u0442\\u0430\\u0448\\u0430\",\"\\u043d\\u0430\\u0442\\u0430\\u0448\\u0430\",\"\\u043d\\u0430\\u0442\\u0430\\u0448\\u0430\",\"\\u043d\\u0430\\u0442\\u0430\\u0448\\u0430\",\"\\u043d\\u0430\\u0442\\u0430\\u0448\\u0430\",\"\\u043d\\u0430\\u0442\\u0430\\u0448\\u0430\",\"\\u043d\\u0430\\u0442\\u0430\\u0448\\u0430\",\"\\u043d\\u0430\\u0442\\u0430\\u0448\\u0430\",\"\\u043d\\u0430\\u0442\\u0430\\u0448\\u0430\",\"\\u043d\\u0430\\u0442\\u0430\\u0448\\u0430\",\"\\u043d\\u0430\\u0442\\u0430\\u0448\\u0430\",\"\\u043d\\u0430\\u0442\\u0430\\u0448\\u0430\",\"\\u043d\\u0430\\u0442\\u0430\\u0448\\u0430\",\"\\u043d\\u0430\\u0442\\u0430\\u0448\\u0430\",\"\\u043d\\u0430\\u0442\\u0430\\u0448\\u0430\",\"\\u043d\\u0430\\u0442\\u0430\\u0448\\u0430\",\"\\u043d\\u0430\\u0442\\u0430\\u0448\\u0430\",\"\\u043d\\u0430\\u0442\\u0430\\u0448\\u0430\",\"\\u043d\\u0430\\u0442\\u0430\\u0448\\u0430\",\"\\u043d\\u0430\\u0442\\u0430\\u0448\\u0430\",\"\\u043d\\u0430\\u0442\\u0430\\u0448\\u0430\",\"\\u043d\\u0430\\u0442\\u0430\\u0448\\u0430\",\"\\u043d\\u0430\\u0442\\u0430\\u0448\\u0430\",\"\\u043d\\u0430\\u0442\\u0430\\u0448\\u0430\",\"\\u043d\\u0430\\u0442\\u0430\\u0448\\u0430\",\"\\u043d\\u0430\\u0442\\u0430\\u0448\\u0430\",\"\\u043d\\u0430\\u0442\\u0430\\u0448\\u0430\",\"\\u043d\\u0430\\u0442\\u0430\\u0448\\u0430\",\"\\u043d\\u0430\\u0442\\u0430\\u0448\\u0430\",\"\\u043d\\u0430\\u0442\\u0430\\u0448\\u0430\",\"\\u043d\\u0430\\u0442\\u0430\\u0448\\u0430\",\"\\u043d\\u0430\\u0442\\u0430\\u0448\\u0430\",\"\\u043d\\u0430\\u0442\\u0430\\u0448\\u0430\",\"\\u043d\\u0430\\u0442\\u0430\\u0448\\u0430\",\"\\u043d\\u0430\\u0442\\u0430\\u0448\\u0430\",\"\\u043d\\u0430\\u0442\\u0430\\u0448\\u0430\",\"\\u043d\\u0430\\u0442\\u0430\\u0448\\u0430\",\"\\u043d\\u0430\\u0442\\u0430\\u0448\\u0430\",\"\\u043d\\u0430\\u0442\\u0430\\u0448\\u0430\",\"\\u043d\\u0430\\u0442\\u0430\\u0448\\u0430\",\"\\u043d\\u0430\\u0442\\u0430\\u0448\\u0430\",\"\\u043d\\u0430\\u0442\\u0430\\u0448\\u0430\",\"\\u043d\\u0430\\u0442\\u0430\\u0448\\u0430\",\"\\u043d\\u0430\\u0442\\u0430\\u0448\\u0430\",\"\\u043d\\u0430\\u0442\\u0430\\u0448\\u0430\",\"\\u043d\\u0430\\u0442\\u0430\\u0448\\u0430\",\"\\u043d\\u0430\\u0442\\u0430\\u0448\\u0430\",\"\\u043d\\u0430\\u0442\\u0430\\u0448\\u0430\",\"\\u043d\\u0430\\u0442\\u0430\\u0448\\u0430\",\"\\u043d\\u0430\\u0442\\u0430\\u0448\\u0430\",\"\\u043d\\u0430\\u0442\\u0430\\u0448\\u0430\",\"\\u043d\\u0430\\u0442\\u0430\\u0448\\u0430\",\"\\u043d\\u0430\\u0442\\u0430\\u0448\\u0430\",\"\\u043d\\u0430\\u0442\\u0430\\u0448\\u0430\",\"\\u043d\\u0430\\u0442\\u0430\\u0448\\u0430\",\"\\u043d\\u0430\\u0442\\u0430\\u0448\\u0430\",\"\\u043d\\u0430\\u0442\\u0430\\u0448\\u0430\",\"\\u043d\\u0430\\u0442\\u0430\\u0448\\u0430\",\"\\u043d\\u0430\\u0442\\u0430\\u0448\\u0430\",\"\\u043d\\u0430\\u0442\\u0430\\u0448\\u0430\",\"\\u043d\\u0430\\u0442\\u0430\\u0448\\u0430\",\"\\u043d\\u0430\\u0442\\u0430\\u0448\\u0430\",\"\\u043d\\u0430\\u0442\\u0430\\u0448\\u0430\",\"\\u043d\\u0430\\u0442\\u0430\\u0448\\u0430\",\"\\u043d\\u0430\\u0442\\u0430\\u0448\\u0430\",\"\\u043d\\u0430\\u0442\\u0430\\u0448\\u0430\",\"\\u043d\\u0430\\u0442\\u0430\\u0448\\u0430\",\"\\u043d\\u0430\\u0442\\u0430\\u0448\\u0430\",\"\\u043d\\u0430\\u0442\\u0430\\u0448\\u0430\",\"\\u043d\\u0430\\u0442\\u0430\\u0448\\u0430\",\"\\u043d\\u0430\\u0442\\u0430\\u0448\\u0430\",\"\\u043d\\u0430\\u0442\\u0430\\u0448\\u0430\",\"\\u043d\\u0430\\u0442\\u0430\\u0448\\u0430\",\"\\u043d\\u0430\\u0442\\u0430\\u0448\\u0430\",\"\\u043d\\u0430\\u0442\\u0430\\u0448\\u0430\",\"\\u043d\\u0430\\u0442\\u0430\\u0448\\u0430\",\"\\u043d\\u0430\\u0442\\u0430\\u0448\\u0430\",\"\\u043d\\u0430\\u0442\\u0430\\u0448\\u0430\",\"\\u043d\\u0430\\u0442\\u0430\\u0448\\u0430\",\"\\u043d\\u0430\\u0442\\u0430\\u0448\\u0430\",\"\\u043d\\u0430\\u0442\\u0430\\u0448\\u0430\",\"\\u043d\\u0430\\u0442\\u0430\\u0448\\u0430\",\"\\u043d\\u0430\\u0442\\u0430\\u0448\\u0430\",\"\\u043d\\u0430\\u0442\\u0430\\u0448\\u0430\",\"\\u043d\\u0430\\u0442\\u0430\\u0448\\u0430\",\"\\u043d\\u0430\\u0442\\u0430\\u0448\\u0430\",\"\\u043d\\u0430\\u0442\\u0430\\u0448\\u0430\",\"\\u043d\\u0430\\u0442\\u0430\\u0448\\u0430\",\"\\u043d\\u0430\\u0442\\u0430\\u0448\\u0430\",\"\\u043d\\u0430\\u0442\\u0430\\u0448\\u0430\",\"\\u043d\\u0430\\u0442\\u0430\\u0448\\u0430\",\"\\u043d\\u0430\\u0442\\u0430\\u0448\\u0430\",\"\\u043d\\u0430\\u0442\\u0430\\u0448\\u0430\",\"\\u043d\\u0430\\u0442\\u0430\\u0448\\u0430\",\"\\u043d\\u0430\\u0442\\u0430\\u0448\\u0430\",\"\\u043d\\u0430\\u0442\\u0430\\u0448\\u0430\",\"\\u043d\\u0430\\u0442\\u0430\\u0448\\u0430\",\"\\u043d\\u0430\\u0442\\u0430\\u0448\\u0430\",\"\\u043d\\u0430\\u0442\\u0430\\u0448\\u0430\",\"\\u043d\\u0430\\u0442\\u0430\\u0448\\u0430\",\"\\u043d\\u0430\\u0442\\u0430\\u0448\\u0430\",\"\\u043d\\u0430\\u0442\\u0430\\u0448\\u0430\",\"\\u043d\\u0430\\u0442\\u0430\\u0448\\u0430\",\"\\u043d\\u0430\\u0442\\u0430\\u0448\\u0430\",\"\\u043d\\u0430\\u0442\\u0430\\u0448\\u0430\",\"\\u043d\\u0430\\u0442\\u0430\\u0448\\u0430\",\"\\u043d\\u0430\\u0442\\u0430\\u0448\\u0430\",\"\\u043d\\u0430\\u0442\\u0430\\u0448\\u0430\",\"\\u043d\\u0430\\u0442\\u0430\\u0448\\u0430\",\"\\u043d\\u0430\\u0442\\u0430\\u0448\\u0430\",\"\\u043d\\u0430\\u0442\\u0430\\u0448\\u0430\",\"\\u043d\\u0430\\u0442\\u0430\\u0448\\u0430\",\"\\u043d\\u0430\\u0442\\u0430\\u0448\\u0430\",\"\\u043d\\u0430\\u0442\\u0430\\u0448\\u0430\",\"\\u043d\\u0430\\u0442\\u0430\\u0448\\u0430\",\"\\u043d\\u0430\\u0442\\u0430\\u0448\\u0430\",\"\\u043d\\u0430\\u0442\\u0430\\u0448\\u0430\",\"\\u043d\\u0430\\u0442\\u0430\\u0448\\u0430\",\"\\u043d\\u0430\\u0442\\u0430\\u0448\\u0430\",\"\\u043d\\u0430\\u0442\\u0430\\u0448\\u0430\",\"\\u043d\\u0430\\u0442\\u0430\\u0448\\u0430\",\"\\u043d\\u0430\\u0442\\u0430\\u0448\\u0430\",\"\\u043d\\u0430\\u0442\\u0430\\u0448\\u0430\",\"\\u043d\\u0430\\u0442\\u0430\\u0448\\u0430\",\"\\u043d\\u0430\\u0442\\u0430\\u0448\\u0430\",\"\\u043d\\u0430\\u0442\\u0430\\u0448\\u0430\",\"\\u043d\\u0430\\u0442\\u0430\\u0448\\u0430\",\"\\u043d\\u0430\\u0442\\u0430\\u0448\\u0430\",\"\\u043d\\u0430\\u0442\\u0430\\u0448\\u0430\",\"\\u043d\\u0430\\u0442\\u0430\\u0448\\u0430\",\"\\u043d\\u0430\\u0442\\u0430\\u0448\\u0430\",\"\\u043d\\u0430\\u0442\\u0430\\u0448\\u0430\",\"\\u043d\\u0430\\u0442\\u0430\\u0448\\u0430\",\"\\u043d\\u0430\\u0442\\u0430\\u0448\\u0430\",\"\\u043d\\u0430\\u0442\\u0430\\u0448\\u0430\",\"\\u043d\\u0430\\u0442\\u0430\\u0448\\u0430\",\"\\u043d\\u0430\\u0442\\u0430\\u0448\\u0430\",\"\\u043d\\u0430\\u0442\\u0430\\u0448\\u0430\",\"\\u043d\\u0430\\u0442\\u0430\\u0448\\u0430\",\"\\u043d\\u0430\\u0442\\u0430\\u0448\\u0430\",\"\\u043d\\u0430\\u0442\\u0430\\u0448\\u0430\",\"\\u043d\\u0430\\u0442\\u0430\\u0448\\u0430\",\"\\u043d\\u0430\\u0442\\u0430\\u0448\\u0430\",\"\\u043d\\u0430\\u0442\\u0430\\u0448\\u0430\",\"\\u043d\\u0430\\u0442\\u0430\\u0448\\u0430\",\"\\u043d\\u0430\\u0442\\u0430\\u0448\\u0430\",\"\\u043d\\u0430\\u0442\\u0430\\u0448\\u0430\",\"\\u043d\\u0430\\u0442\\u0430\\u0448\\u0430\",\"\\u043d\\u0430\\u0442\\u0430\\u0448\\u0430\",\"\\u043d\\u0430\\u0442\\u0430\\u0448\\u0430\",\"\\u043d\\u0430\\u0442\\u0430\\u0448\\u0430\",\"\\u043d\\u0430\\u0442\\u0430\\u0448\\u0430\",\"\\u043d\\u0430\\u0442\\u0430\\u0448\\u0430\",\"\\u043d\\u0430\\u0442\\u0430\\u0448\\u0430\",\"\\u043d\\u0430\\u0442\\u0430\\u0448\\u0430\",\"\\u043d\\u0430\\u0442\\u0430\\u0448\\u0430\",\"\\u043d\\u0430\\u0442\\u0430\\u0448\\u0430\",\"\\u043d\\u0430\\u0442\\u0430\\u0448\\u0430\",\"\\u043d\\u0430\\u0442\\u0430\\u0448\\u0430\",\"\\u043d\\u0430\\u0442\\u0430\\u0448\\u0430\",\"\\u043d\\u0430\\u0442\\u0430\\u0448\\u0430\",\"\\u043d\\u0430\\u0442\\u0430\\u0448\\u0430\",\"\\u043d\\u0430\\u0442\\u0430\\u0448\\u0430\",\"\\u043d\\u0430\\u0442\\u0430\\u0448\\u0430\",\"\\u043d\\u0430\\u0442\\u0430\\u0448\\u0430\",\"\\u043d\\u0430\\u0442\\u0430\\u0448\\u0430\",\"\\u043d\\u0430\\u0442\\u0430\\u0448\\u0430\",\"\\u043d\\u0430\\u0442\\u0430\\u0448\\u0430\",\"\\u043d\\u0430\\u0442\\u0430\\u0448\\u0430\",\"\\u043d\\u0430\\u0442\\u0430\\u0448\\u0430\",\"\\u043d\\u0430\\u0442\\u0430\\u0448\\u0430\",\"\\u043d\\u0430\\u0442\\u0430\\u0448\\u0430\",\"\\u043d\\u0430\\u0442\\u0430\\u0448\\u0430\",\"\\u043d\\u0430\\u0442\\u0430\\u0448\\u0430\",\"\\u043d\\u0430\\u0442\\u0430\\u0448\\u0430\",\"\\u043d\\u0430\\u0442\\u0430\\u0448\\u0430\",\"\\u043d\\u0430\\u0442\\u0430\\u0448\\u0430\",\"\\u043d\\u0430\\u0442\\u0430\\u0448\\u0430\",\"\\u043d\\u0430\\u0442\\u0430\\u0448\\u0430\",\"\\u043d\\u0430\\u0442\\u0430\\u0448\\u0430\",\"\\u043d\\u0430\\u0442\\u0430\\u0448\\u0430\",\"\\u043d\\u0430\\u0442\\u0430\\u0448\\u0430\",\"\\u043d\\u0430\\u0442\\u0430\\u0448\\u0430\",\"\\u043d\\u0430\\u0442\\u0430\\u0448\\u0430\",\"\\u043d\\u0430\\u0442\\u0430\\u0448\\u0430\",\"\\u043d\\u0430\\u0442\\u0430\\u0448\\u0430\",\"\\u043d\\u0430\\u0442\\u0430\\u0448\\u0430\",\"\\u043d\\u0430\\u0442\\u0430\\u0448\\u0430\",\"\\u043d\\u0430\\u0442\\u0430\\u0448\\u0430\",\"\\u043d\\u0430\\u0442\\u0430\\u0448\\u0430\",\"\\u043d\\u0430\\u0442\\u0430\\u0448\\u0430\",\"\\u043d\\u0430\\u0442\\u0430\\u0448\\u0430\",\"\\u043d\\u0430\\u0442\\u0430\\u0448\\u0430\",\"\\u043d\\u0430\\u0442\\u0430\\u0448\\u0430\",\"\\u043d\\u0430\\u0442\\u0430\\u0448\\u0430\",\"\\u043d\\u0430\\u0442\\u0430\\u0448\\u0430\",\"\\u043d\\u0430\\u0442\\u0430\\u0448\\u0430\",\"\\u043d\\u0430\\u0442\\u0430\\u0448\\u0430\",\"\\u043d\\u0430\\u0442\\u0430\\u0448\\u0430\",\"\\u043d\\u0430\\u0442\\u0430\\u0448\\u0430\",\"\\u043d\\u0430\\u0442\\u0430\\u0448\\u0430\",\"\\u043d\\u0430\\u0442\\u0430\\u0448\\u0430\",\"\\u043d\\u0430\\u0442\\u0430\\u0448\\u0430\",\"\\u043d\\u0430\\u0442\\u0430\\u0448\\u0430\",\"\\u043d\\u0430\\u0442\\u0430\\u0448\\u0430\",\"\\u043d\\u0430\\u0442\\u0430\\u0448\\u0430\",\"\\u043d\\u0430\\u0442\\u0430\\u0448\\u0430\",\"\\u043d\\u0430\\u0442\\u0430\\u0448\\u0430\",\"\\u043d\\u0430\\u0442\\u0430\\u0448\\u0430\",\"\\u043d\\u0430\\u0442\\u0430\\u0448\\u0430\",\"\\u043d\\u0430\\u0442\\u0430\\u0448\\u0430\",\"\\u043d\\u0430\\u0442\\u0430\\u0448\\u0430\",\"\\u043d\\u0430\\u0442\\u0430\\u0448\\u0430\",\"\\u043d\\u0430\\u0442\\u0430\\u0448\\u0430\",\"\\u043d\\u0430\\u0442\\u0430\\u0448\\u0430\",\"\\u043d\\u0430\\u0442\\u0430\\u0448\\u0430\",\"\\u043d\\u0430\\u0442\\u0430\\u0448\\u0430\",\"\\u043d\\u0430\\u0442\\u0430\\u0448\\u0430\",\"\\u043d\\u0430\\u0442\\u0430\\u0448\\u0430\",\"\\u043d\\u0430\\u0442\\u0430\\u0448\\u0430\",\"\\u043d\\u0430\\u0442\\u0430\\u0448\\u0430\",\"\\u043d\\u0430\\u0442\\u0430\\u0448\\u0430\",\"\\u043d\\u0430\\u0442\\u0430\\u0448\\u0430\",\"\\u043d\\u0430\\u0442\\u0430\\u0448\\u0430\",\"\\u043d\\u0430\\u0442\\u0430\\u0448\\u0430\",\"\\u043d\\u0430\\u0442\\u0430\\u0448\\u0430\",\"\\u043d\\u0430\\u0442\\u0430\\u0448\\u0430\",\"\\u043d\\u0430\\u0442\\u0430\\u0448\\u0430\",\"\\u043d\\u0430\\u0442\\u0430\\u0448\\u0430\",\"\\u043d\\u0430\\u0442\\u0430\\u0448\\u0430\",\"\\u043d\\u0430\\u0442\\u0430\\u0448\\u0430\",\"\\u043d\\u0430\\u0442\\u0430\\u0448\\u0430\",\"\\u043d\\u0430\\u0442\\u0430\\u0448\\u0430\",\"\\u043d\\u0430\\u0442\\u0430\\u0448\\u0430\",\"\\u043d\\u0430\\u0442\\u0430\\u0448\\u0430\",\"\\u043d\\u0430\\u0442\\u0430\\u0448\\u0430\",\"\\u043d\\u0430\\u0442\\u0430\\u0448\\u0430\",\"\\u043d\\u0430\\u0442\\u0430\\u0448\\u0430\",\"\\u043d\\u0430\\u0442\\u0430\\u0448\\u0430\",\"\\u043d\\u0430\\u0442\\u0430\\u0448\\u0430\",\"\\u043d\\u0430\\u0442\\u0430\\u0448\\u0430\",\"\\u043d\\u0430\\u0442\\u0430\\u0448\\u0430\",\"\\u043d\\u0430\\u0442\\u0430\\u0448\\u0430\",\"\\u043d\\u0430\\u0442\\u0430\\u0448\\u0430\",\"\\u043d\\u0430\\u0442\\u0430\\u0448\\u0430\",\"\\u043d\\u0430\\u0442\\u0430\\u0448\\u0430\",\"\\u043d\\u0430\\u0442\\u0430\\u0448\\u0430\",\"\\u043d\\u0430\\u0442\\u0430\\u0448\\u0430\",\"\\u043d\\u0430\\u0442\\u0430\\u0448\\u0430\",\"\\u043d\\u0430\\u0442\\u0430\\u0448\\u0430\",\"\\u043d\\u0430\\u0442\\u0430\\u0448\\u0430\",\"\\u043d\\u0430\\u0442\\u0430\\u0448\\u0430\",\"\\u043d\\u0430\\u0442\\u0430\\u0448\\u0430\",\"\\u043d\\u0430\\u0442\\u0430\\u0448\\u0430\",\"\\u043d\\u0430\\u0442\\u0430\\u0448\\u0430\",\"\\u043d\\u0430\\u0442\\u0430\\u0448\\u0430\",\"\\u043d\\u0430\\u0442\\u0430\\u0448\\u0430\",\"\\u043d\\u0430\\u0442\\u0430\\u0448\\u0430\",\"\\u043d\\u0430\\u0442\\u0430\\u0448\\u0430\",\"\\u043d\\u0430\\u0442\\u0430\\u0448\\u0430\",\"\\u043d\\u0430\\u0442\\u0430\\u0448\\u0430\",\"\\u043d\\u0430\\u0442\\u0430\\u0448\\u0430\",\"\\u043d\\u0430\\u0442\\u0430\\u0448\\u0430\",\"\\u043d\\u0430\\u0442\\u0430\\u0448\\u0430\",\"\\u043d\\u0430\\u0442\\u0430\\u0448\\u0430\",\"\\u043d\\u0430\\u0442\\u0430\\u0448\\u0430\",\"\\u043d\\u0430\\u0442\\u0430\\u0448\\u0430\",\"\\u043d\\u0430\\u0442\\u0430\\u0448\\u0430\",\"\\u043d\\u0430\\u0442\\u0430\\u0448\\u0430\",\"\\u043d\\u0430\\u0442\\u0430\\u0448\\u0430\",\"\\u043d\\u0430\\u0442\\u0430\\u0448\\u0430\",\"\\u043d\\u0430\\u0442\\u0430\\u0448\\u0430\",\"\\u043d\\u0430\\u0442\\u0430\\u0448\\u0430\",\"\\u043d\\u0430\\u0442\\u0430\\u0448\\u0430\",\"\\u043d\\u0430\\u0442\\u0430\\u0448\\u0430\",\"\\u043d\\u0430\\u0442\\u0430\\u0448\\u0430\",\"\\u043d\\u0430\\u0442\\u0430\\u0448\\u0430\",\"\\u043d\\u0430\\u0442\\u0430\\u0448\\u0430\",\"\\u043d\\u0430\\u0442\\u0430\\u0448\\u0430\",\"\\u043d\\u0430\\u0442\\u0430\\u0448\\u0430\",\"\\u043d\\u0430\\u0442\\u0430\\u0448\\u0430\",\"\\u043d\\u0430\\u0442\\u0430\\u0448\\u0430\",\"\\u043d\\u0430\\u0442\\u0430\\u0448\\u0430\",\"\\u043d\\u0430\\u0442\\u0430\\u0448\\u0430\",\"\\u043d\\u0430\\u0442\\u0430\\u0448\\u0430\",\"\\u043d\\u0430\\u0442\\u0430\\u0448\\u0430\",\"\\u043d\\u0430\\u0442\\u0430\\u0448\\u0430\",\"\\u043d\\u0430\\u0442\\u0430\\u0448\\u0430\",\"\\u043d\\u0430\\u0442\\u0430\\u0448\\u0430\",\"\\u043d\\u0430\\u0442\\u0430\\u0448\\u0430\",\"\\u043d\\u0430\\u0442\\u0430\\u0448\\u0430\",\"\\u043d\\u0430\\u0442\\u0430\\u0448\\u0430\",\"\\u043d\\u0430\\u0442\\u0430\\u0448\\u0430\",\"\\u043d\\u0430\\u0442\\u0430\\u0448\\u0430\",\"\\u043d\\u0430\\u0442\\u0430\\u0448\\u0430\",\"\\u043d\\u0430\\u0442\\u0430\\u0448\\u0430\",\"\\u043d\\u0430\\u0442\\u0430\\u0448\\u0430\",\"\\u043d\\u0430\\u0442\\u0430\\u0448\\u0430\",\"\\u043d\\u0430\\u0442\\u0430\\u0448\\u0430\",\"\\u043d\\u0430\\u0442\\u0430\\u0448\\u0430\",\"\\u043d\\u0430\\u0442\\u0430\\u0448\\u0430\",\"\\u043d\\u0430\\u0442\\u0430\\u0448\\u0430\",\"\\u043d\\u0430\\u0442\\u0430\\u0448\\u0430\",\"\\u043d\\u0430\\u0442\\u0430\\u0448\\u0430\",\"\\u043d\\u0430\\u0442\\u0430\\u0448\\u0430\",\"\\u043d\\u0430\\u0442\\u0430\\u0448\\u0430\",\"\\u043d\\u0430\\u0442\\u0430\\u0448\\u0430\",\"\\u043d\\u0430\\u0442\\u0430\\u0448\\u0430\",\"\\u043d\\u0430\\u0442\\u0430\\u0448\\u0430\",\"\\u043d\\u0430\\u0442\\u0430\\u0448\\u0430\",\"\\u043d\\u0430\\u0442\\u0430\\u0448\\u0430\",\"\\u043d\\u0430\\u0442\\u0430\\u0448\\u0430\",\"\\u043d\\u0430\\u0442\\u0430\\u0448\\u0430\",\"\\u043d\\u0430\\u0442\\u0430\\u0448\\u0430\",\"\\u043d\\u0430\\u0442\\u0430\\u0448\\u0430\",\"\\u043d\\u0430\\u0442\\u0430\\u0448\\u0430\",\"\\u043d\\u0430\\u0442\\u0430\\u0448\\u0430\",\"\\u043d\\u0430\\u0442\\u0430\\u0448\\u0430\",\"\\u043d\\u0430\\u0442\\u0430\\u0448\\u0430\",\"\\u043d\\u0430\\u0442\\u0430\\u0448\\u0430\",\"\\u043d\\u0430\\u0442\\u0430\\u0448\\u0430\",\"\\u043d\\u0430\\u0442\\u0430\\u0448\\u0430\",\"\\u043d\\u0430\\u0442\\u0430\\u0448\\u0430\",\"\\u043d\\u0430\\u0442\\u0430\\u0448\\u0430\",\"\\u043d\\u0430\\u0442\\u0430\\u0448\\u0430\",\"\\u043d\\u0430\\u0442\\u0430\\u0448\\u0430\",\"\\u043d\\u0430\\u0442\\u0430\\u0448\\u0430\",\"\\u043d\\u0430\\u0442\\u0430\\u0448\\u0430\",\"\\u043d\\u0430\\u0442\\u0430\\u0448\\u0430\",\"\\u043d\\u0430\\u0442\\u0430\\u0448\\u0430\",\"\\u043d\\u0430\\u0442\\u0430\\u0448\\u0430\",\"\\u043d\\u0430\\u0442\\u0430\\u0448\\u0430\",\"\\u043d\\u0430\\u0442\\u0430\\u0448\\u0430\",\"\\u043d\\u0430\\u0442\\u0430\\u0448\\u0430\",\"\\u043d\\u0430\\u0442\\u0430\\u0448\\u0430\",\"\\u043d\\u0430\\u0442\\u0430\\u0448\\u0430\",\"\\u043d\\u0430\\u0442\\u0430\\u0448\\u0430\",\"\\u043d\\u0430\\u0442\\u0430\\u0448\\u0430\",\"\\u043d\\u0430\\u0442\\u0430\\u0448\\u0430\",\"\\u043d\\u0430\\u0442\\u0430\\u0448\\u0430\",\"\\u043d\\u0430\\u0442\\u0430\\u0448\\u0430\",\"\\u043d\\u0430\\u0442\\u0430\\u0448\\u0430\",\"\\u043d\\u0430\\u0442\\u0430\\u0448\\u0430\",\"\\u043d\\u0430\\u0442\\u0430\\u0448\\u0430\",\"\\u043d\\u0430\\u0442\\u0430\\u0448\\u0430\",\"\\u043d\\u0430\\u0442\\u0430\\u0448\\u0430\",\"\\u043d\\u0430\\u0442\\u0430\\u0448\\u0430\",\"\\u043d\\u0430\\u0442\\u0430\\u0448\\u0430\",\"\\u043d\\u0430\\u0442\\u0430\\u0448\\u0430\",\"\\u043d\\u0430\\u0442\\u0430\\u0448\\u0430\",\"\\u043d\\u0430\\u0442\\u0430\\u0448\\u0430\",\"\\u043d\\u0430\\u0442\\u0430\\u0448\\u0430\",\"\\u043d\\u0430\\u0442\\u0430\\u0448\\u0430\",\"\\u043d\\u0430\\u0442\\u0430\\u0448\\u0430\",\"\\u043d\\u0430\\u0442\\u0430\\u0448\\u0430\",\"\\u043d\\u0430\\u0442\\u0430\\u0448\\u0430\",\"\\u043d\\u0430\\u0442\\u0430\\u0448\\u0430\",\"\\u043d\\u0430\\u0442\\u0430\\u0448\\u0430\",\"\\u043d\\u0430\\u0442\\u0430\\u0448\\u0430\",\"\\u043d\\u0430\\u0442\\u0430\\u0448\\u0430\",\"\\u043d\\u0430\\u0442\\u0430\\u0448\\u0430\",\"\\u043d\\u0430\\u0442\\u0430\\u0448\\u0430\",\"\\u043d\\u0430\\u0442\\u0430\\u0448\\u0430\",\"\\u043d\\u0430\\u0442\\u0430\\u0448\\u0430\",\"\\u043d\\u0430\\u0442\\u0430\\u0448\\u0430\",\"\\u043d\\u0430\\u0442\\u0430\\u0448\\u0430\",\"\\u043d\\u0430\\u0442\\u0430\\u0448\\u0430\",\"\\u043d\\u0430\\u0442\\u0430\\u0448\\u0430\",\"\\u043d\\u0430\\u0442\\u0430\\u0448\\u0430\",\"\\u043d\\u0430\\u0442\\u0430\\u0448\\u0430\",\"\\u043d\\u0430\\u0442\\u0430\\u0448\\u0430\",\"\\u043d\\u0430\\u0442\\u0430\\u0448\\u0430\",\"\\u043d\\u0430\\u0442\\u0430\\u0448\\u0430\",\"\\u043d\\u0430\\u0442\\u0430\\u0448\\u0430\",\"\\u043d\\u0430\\u0442\\u0430\\u0448\\u0430\",\"\\u043d\\u0430\\u0442\\u0430\\u0448\\u0430\",\"\\u043d\\u0430\\u0442\\u0430\\u0448\\u0430\",\"\\u043d\\u0430\\u0442\\u0430\\u0448\\u0430\",\"\\u043d\\u0430\\u0442\\u0430\\u0448\\u0430\",\"\\u043d\\u0430\\u0442\\u0430\\u0448\\u0430\",\"\\u043d\\u0430\\u0442\\u0430\\u0448\\u0430\",\"\\u043d\\u0430\\u0442\\u0430\\u0448\\u0430\",\"\\u043d\\u0430\\u0442\\u0430\\u0448\\u0430\",\"\\u043d\\u0430\\u0442\\u0430\\u0448\\u0430\",\"\\u043d\\u0430\\u0442\\u0430\\u0448\\u0430\",\"\\u043d\\u0430\\u0442\\u0430\\u0448\\u0430\",\"\\u043d\\u0430\\u0442\\u0430\\u0448\\u0430\",\"\\u043d\\u0430\\u0442\\u0430\\u0448\\u0430\",\"\\u043d\\u0430\\u0442\\u0430\\u0448\\u0430\",\"\\u043d\\u0430\\u0442\\u0430\\u0448\\u0430\",\"\\u043d\\u0430\\u0442\\u0430\\u0448\\u0430\",\"\\u043d\\u0430\\u0442\\u0430\\u0448\\u0430\",\"\\u043d\\u0430\\u0442\\u0430\\u0448\\u0430\",\"\\u043d\\u0430\\u0442\\u0430\\u0448\\u0430\",\"\\u043d\\u0430\\u0442\\u0430\\u0448\\u0430\",\"\\u043d\\u0430\\u0442\\u0430\\u0448\\u0430\",\"\\u043d\\u0430\\u0442\\u0430\\u0448\\u0430\",\"\\u043d\\u0430\\u0442\\u0430\\u0448\\u0430\",\"\\u043d\\u0430\\u0442\\u0430\\u0448\\u0430\",\"\\u043d\\u0430\\u0442\\u0430\\u0448\\u0430\",\"\\u043d\\u0430\\u0442\\u0430\\u0448\\u0430\",\"\\u043d\\u0430\\u0442\\u0430\\u0448\\u0430\",\"\\u043d\\u0430\\u0442\\u0430\\u0448\\u0430\",\"\\u043d\\u0430\\u0442\\u0430\\u0448\\u0430\",\"\\u043d\\u0430\\u0442\\u0430\\u0448\\u0430\"],\"yaxis\":\"y2\",\"type\":\"scatter\"}],                        {\"barmode\":\"overlay\",\"hovermode\":\"closest\",\"legend\":{\"traceorder\":\"reversed\"},\"xaxis\":{\"anchor\":\"y2\",\"domain\":[0.0,1.0],\"zeroline\":false},\"yaxis\":{\"anchor\":\"free\",\"domain\":[0.35,1],\"position\":0.0},\"yaxis2\":{\"anchor\":\"x\",\"domain\":[0,0.25],\"dtick\":1,\"showticklabels\":false},\"template\":{\"data\":{\"histogram2dcontour\":[{\"type\":\"histogram2dcontour\",\"colorbar\":{\"outlinewidth\":0,\"ticks\":\"\"},\"colorscale\":[[0.0,\"#0d0887\"],[0.1111111111111111,\"#46039f\"],[0.2222222222222222,\"#7201a8\"],[0.3333333333333333,\"#9c179e\"],[0.4444444444444444,\"#bd3786\"],[0.5555555555555556,\"#d8576b\"],[0.6666666666666666,\"#ed7953\"],[0.7777777777777778,\"#fb9f3a\"],[0.8888888888888888,\"#fdca26\"],[1.0,\"#f0f921\"]]}],\"choropleth\":[{\"type\":\"choropleth\",\"colorbar\":{\"outlinewidth\":0,\"ticks\":\"\"}}],\"histogram2d\":[{\"type\":\"histogram2d\",\"colorbar\":{\"outlinewidth\":0,\"ticks\":\"\"},\"colorscale\":[[0.0,\"#0d0887\"],[0.1111111111111111,\"#46039f\"],[0.2222222222222222,\"#7201a8\"],[0.3333333333333333,\"#9c179e\"],[0.4444444444444444,\"#bd3786\"],[0.5555555555555556,\"#d8576b\"],[0.6666666666666666,\"#ed7953\"],[0.7777777777777778,\"#fb9f3a\"],[0.8888888888888888,\"#fdca26\"],[1.0,\"#f0f921\"]]}],\"heatmap\":[{\"type\":\"heatmap\",\"colorbar\":{\"outlinewidth\":0,\"ticks\":\"\"},\"colorscale\":[[0.0,\"#0d0887\"],[0.1111111111111111,\"#46039f\"],[0.2222222222222222,\"#7201a8\"],[0.3333333333333333,\"#9c179e\"],[0.4444444444444444,\"#bd3786\"],[0.5555555555555556,\"#d8576b\"],[0.6666666666666666,\"#ed7953\"],[0.7777777777777778,\"#fb9f3a\"],[0.8888888888888888,\"#fdca26\"],[1.0,\"#f0f921\"]]}],\"heatmapgl\":[{\"type\":\"heatmapgl\",\"colorbar\":{\"outlinewidth\":0,\"ticks\":\"\"},\"colorscale\":[[0.0,\"#0d0887\"],[0.1111111111111111,\"#46039f\"],[0.2222222222222222,\"#7201a8\"],[0.3333333333333333,\"#9c179e\"],[0.4444444444444444,\"#bd3786\"],[0.5555555555555556,\"#d8576b\"],[0.6666666666666666,\"#ed7953\"],[0.7777777777777778,\"#fb9f3a\"],[0.8888888888888888,\"#fdca26\"],[1.0,\"#f0f921\"]]}],\"contourcarpet\":[{\"type\":\"contourcarpet\",\"colorbar\":{\"outlinewidth\":0,\"ticks\":\"\"}}],\"contour\":[{\"type\":\"contour\",\"colorbar\":{\"outlinewidth\":0,\"ticks\":\"\"},\"colorscale\":[[0.0,\"#0d0887\"],[0.1111111111111111,\"#46039f\"],[0.2222222222222222,\"#7201a8\"],[0.3333333333333333,\"#9c179e\"],[0.4444444444444444,\"#bd3786\"],[0.5555555555555556,\"#d8576b\"],[0.6666666666666666,\"#ed7953\"],[0.7777777777777778,\"#fb9f3a\"],[0.8888888888888888,\"#fdca26\"],[1.0,\"#f0f921\"]]}],\"surface\":[{\"type\":\"surface\",\"colorbar\":{\"outlinewidth\":0,\"ticks\":\"\"},\"colorscale\":[[0.0,\"#0d0887\"],[0.1111111111111111,\"#46039f\"],[0.2222222222222222,\"#7201a8\"],[0.3333333333333333,\"#9c179e\"],[0.4444444444444444,\"#bd3786\"],[0.5555555555555556,\"#d8576b\"],[0.6666666666666666,\"#ed7953\"],[0.7777777777777778,\"#fb9f3a\"],[0.8888888888888888,\"#fdca26\"],[1.0,\"#f0f921\"]]}],\"mesh3d\":[{\"type\":\"mesh3d\",\"colorbar\":{\"outlinewidth\":0,\"ticks\":\"\"}}],\"scatter\":[{\"fillpattern\":{\"fillmode\":\"overlay\",\"size\":10,\"solidity\":0.2},\"type\":\"scatter\"}],\"parcoords\":[{\"type\":\"parcoords\",\"line\":{\"colorbar\":{\"outlinewidth\":0,\"ticks\":\"\"}}}],\"scatterpolargl\":[{\"type\":\"scatterpolargl\",\"marker\":{\"colorbar\":{\"outlinewidth\":0,\"ticks\":\"\"}}}],\"bar\":[{\"error_x\":{\"color\":\"#2a3f5f\"},\"error_y\":{\"color\":\"#2a3f5f\"},\"marker\":{\"line\":{\"color\":\"#E5ECF6\",\"width\":0.5},\"pattern\":{\"fillmode\":\"overlay\",\"size\":10,\"solidity\":0.2}},\"type\":\"bar\"}],\"scattergeo\":[{\"type\":\"scattergeo\",\"marker\":{\"colorbar\":{\"outlinewidth\":0,\"ticks\":\"\"}}}],\"scatterpolar\":[{\"type\":\"scatterpolar\",\"marker\":{\"colorbar\":{\"outlinewidth\":0,\"ticks\":\"\"}}}],\"histogram\":[{\"marker\":{\"pattern\":{\"fillmode\":\"overlay\",\"size\":10,\"solidity\":0.2}},\"type\":\"histogram\"}],\"scattergl\":[{\"type\":\"scattergl\",\"marker\":{\"colorbar\":{\"outlinewidth\":0,\"ticks\":\"\"}}}],\"scatter3d\":[{\"type\":\"scatter3d\",\"line\":{\"colorbar\":{\"outlinewidth\":0,\"ticks\":\"\"}},\"marker\":{\"colorbar\":{\"outlinewidth\":0,\"ticks\":\"\"}}}],\"scattermapbox\":[{\"type\":\"scattermapbox\",\"marker\":{\"colorbar\":{\"outlinewidth\":0,\"ticks\":\"\"}}}],\"scatterternary\":[{\"type\":\"scatterternary\",\"marker\":{\"colorbar\":{\"outlinewidth\":0,\"ticks\":\"\"}}}],\"scattercarpet\":[{\"type\":\"scattercarpet\",\"marker\":{\"colorbar\":{\"outlinewidth\":0,\"ticks\":\"\"}}}],\"carpet\":[{\"aaxis\":{\"endlinecolor\":\"#2a3f5f\",\"gridcolor\":\"white\",\"linecolor\":\"white\",\"minorgridcolor\":\"white\",\"startlinecolor\":\"#2a3f5f\"},\"baxis\":{\"endlinecolor\":\"#2a3f5f\",\"gridcolor\":\"white\",\"linecolor\":\"white\",\"minorgridcolor\":\"white\",\"startlinecolor\":\"#2a3f5f\"},\"type\":\"carpet\"}],\"table\":[{\"cells\":{\"fill\":{\"color\":\"#EBF0F8\"},\"line\":{\"color\":\"white\"}},\"header\":{\"fill\":{\"color\":\"#C8D4E3\"},\"line\":{\"color\":\"white\"}},\"type\":\"table\"}],\"barpolar\":[{\"marker\":{\"line\":{\"color\":\"#E5ECF6\",\"width\":0.5},\"pattern\":{\"fillmode\":\"overlay\",\"size\":10,\"solidity\":0.2}},\"type\":\"barpolar\"}],\"pie\":[{\"automargin\":true,\"type\":\"pie\"}]},\"layout\":{\"autotypenumbers\":\"strict\",\"colorway\":[\"#636efa\",\"#EF553B\",\"#00cc96\",\"#ab63fa\",\"#FFA15A\",\"#19d3f3\",\"#FF6692\",\"#B6E880\",\"#FF97FF\",\"#FECB52\"],\"font\":{\"color\":\"#2a3f5f\"},\"hovermode\":\"closest\",\"hoverlabel\":{\"align\":\"left\"},\"paper_bgcolor\":\"white\",\"plot_bgcolor\":\"#E5ECF6\",\"polar\":{\"bgcolor\":\"#E5ECF6\",\"angularaxis\":{\"gridcolor\":\"white\",\"linecolor\":\"white\",\"ticks\":\"\"},\"radialaxis\":{\"gridcolor\":\"white\",\"linecolor\":\"white\",\"ticks\":\"\"}},\"ternary\":{\"bgcolor\":\"#E5ECF6\",\"aaxis\":{\"gridcolor\":\"white\",\"linecolor\":\"white\",\"ticks\":\"\"},\"baxis\":{\"gridcolor\":\"white\",\"linecolor\":\"white\",\"ticks\":\"\"},\"caxis\":{\"gridcolor\":\"white\",\"linecolor\":\"white\",\"ticks\":\"\"}},\"coloraxis\":{\"colorbar\":{\"outlinewidth\":0,\"ticks\":\"\"}},\"colorscale\":{\"sequential\":[[0.0,\"#0d0887\"],[0.1111111111111111,\"#46039f\"],[0.2222222222222222,\"#7201a8\"],[0.3333333333333333,\"#9c179e\"],[0.4444444444444444,\"#bd3786\"],[0.5555555555555556,\"#d8576b\"],[0.6666666666666666,\"#ed7953\"],[0.7777777777777778,\"#fb9f3a\"],[0.8888888888888888,\"#fdca26\"],[1.0,\"#f0f921\"]],\"sequentialminus\":[[0.0,\"#0d0887\"],[0.1111111111111111,\"#46039f\"],[0.2222222222222222,\"#7201a8\"],[0.3333333333333333,\"#9c179e\"],[0.4444444444444444,\"#bd3786\"],[0.5555555555555556,\"#d8576b\"],[0.6666666666666666,\"#ed7953\"],[0.7777777777777778,\"#fb9f3a\"],[0.8888888888888888,\"#fdca26\"],[1.0,\"#f0f921\"]],\"diverging\":[[0,\"#8e0152\"],[0.1,\"#c51b7d\"],[0.2,\"#de77ae\"],[0.3,\"#f1b6da\"],[0.4,\"#fde0ef\"],[0.5,\"#f7f7f7\"],[0.6,\"#e6f5d0\"],[0.7,\"#b8e186\"],[0.8,\"#7fbc41\"],[0.9,\"#4d9221\"],[1,\"#276419\"]]},\"xaxis\":{\"gridcolor\":\"white\",\"linecolor\":\"white\",\"ticks\":\"\",\"title\":{\"standoff\":15},\"zerolinecolor\":\"white\",\"automargin\":true,\"zerolinewidth\":2},\"yaxis\":{\"gridcolor\":\"white\",\"linecolor\":\"white\",\"ticks\":\"\",\"title\":{\"standoff\":15},\"zerolinecolor\":\"white\",\"automargin\":true,\"zerolinewidth\":2},\"scene\":{\"xaxis\":{\"backgroundcolor\":\"#E5ECF6\",\"gridcolor\":\"white\",\"linecolor\":\"white\",\"showbackground\":true,\"ticks\":\"\",\"zerolinecolor\":\"white\",\"gridwidth\":2},\"yaxis\":{\"backgroundcolor\":\"#E5ECF6\",\"gridcolor\":\"white\",\"linecolor\":\"white\",\"showbackground\":true,\"ticks\":\"\",\"zerolinecolor\":\"white\",\"gridwidth\":2},\"zaxis\":{\"backgroundcolor\":\"#E5ECF6\",\"gridcolor\":\"white\",\"linecolor\":\"white\",\"showbackground\":true,\"ticks\":\"\",\"zerolinecolor\":\"white\",\"gridwidth\":2}},\"shapedefaults\":{\"line\":{\"color\":\"#2a3f5f\"}},\"annotationdefaults\":{\"arrowcolor\":\"#2a3f5f\",\"arrowhead\":0,\"arrowwidth\":1},\"geo\":{\"bgcolor\":\"white\",\"landcolor\":\"#E5ECF6\",\"subunitcolor\":\"white\",\"showland\":true,\"showlakes\":true,\"lakecolor\":\"white\"},\"title\":{\"x\":0.05},\"mapbox\":{\"style\":\"light\"}}}},                        {\"responsive\": true}                    ).then(function(){\n",
              "                            \n",
              "var gd = document.getElementById('c4c1beaa-86a0-44b0-91c9-a8c47ce73c2e');\n",
              "var x = new MutationObserver(function (mutations, observer) {{\n",
              "        var display = window.getComputedStyle(gd).display;\n",
              "        if (!display || display === 'none') {{\n",
              "            console.log([gd, 'removed!']);\n",
              "            Plotly.purge(gd);\n",
              "            observer.disconnect();\n",
              "        }}\n",
              "}});\n",
              "\n",
              "// Listen for the removal of the full notebook cells\n",
              "var notebookContainer = gd.closest('#notebook-container');\n",
              "if (notebookContainer) {{\n",
              "    x.observe(notebookContainer, {childList: true});\n",
              "}}\n",
              "\n",
              "// Listen for the clearing of the current output cell\n",
              "var outputEl = gd.closest('.output');\n",
              "if (outputEl) {{\n",
              "    x.observe(outputEl, {childList: true});\n",
              "}}\n",
              "\n",
              "                        })                };                            </script>        </div>\n",
              "</body>\n",
              "</html>"
            ]
          },
          "metadata": {}
        }
      ]
    },
    {
      "cell_type": "markdown",
      "source": [
        "### 1.3 Pie chart\n",
        "\n"
      ],
      "metadata": {
        "id": "K66je5x4teIp"
      }
    },
    {
      "cell_type": "markdown",
      "source": [
        "Let's show the distribution of different Parts Of Speech in the text:"
      ],
      "metadata": {
        "id": "v2BfJFiss8b-"
      }
    },
    {
      "cell_type": "code",
      "source": [
        "pos_shares = tolstoy_df['POS'].value_counts(normalize=True)\n",
        "pos_shares"
      ],
      "metadata": {
        "colab": {
          "base_uri": "https://localhost:8080/"
        },
        "id": "FxnileMfwdRV",
        "outputId": "bfdd56ee-9103-4f78-b38b-08d2e3aa8594"
      },
      "execution_count": 38,
      "outputs": [
        {
          "output_type": "execute_result",
          "data": {
            "text/plain": [
              "S         0.256952\n",
              "V         0.198913\n",
              "PR        0.102078\n",
              "SPRO      0.099019\n",
              "CONJ      0.093596\n",
              "A         0.064887\n",
              "APRO      0.057747\n",
              "ADV       0.053642\n",
              "PART      0.046344\n",
              "ADVPRO    0.017645\n",
              "NUM       0.005141\n",
              "ANUM      0.002383\n",
              "INTJ      0.001652\n",
              "Name: POS, dtype: float64"
            ]
          },
          "metadata": {},
          "execution_count": 38
        }
      ]
    },
    {
      "cell_type": "code",
      "source": [
        "fig3 = px.pie(values=pos_shares, names=pos_shares.keys(), title='Part of Speech distribution')\n",
        "fig3.show()"
      ],
      "metadata": {
        "colab": {
          "base_uri": "https://localhost:8080/",
          "height": 542
        },
        "id": "tFSj0xbTtdY8",
        "outputId": "885f099b-7ec7-4e7b-95dd-46e73852b24f"
      },
      "execution_count": 40,
      "outputs": [
        {
          "output_type": "display_data",
          "data": {
            "text/html": [
              "<html>\n",
              "<head><meta charset=\"utf-8\" /></head>\n",
              "<body>\n",
              "    <div>            <script src=\"https://cdnjs.cloudflare.com/ajax/libs/mathjax/2.7.5/MathJax.js?config=TeX-AMS-MML_SVG\"></script><script type=\"text/javascript\">if (window.MathJax && window.MathJax.Hub && window.MathJax.Hub.Config) {window.MathJax.Hub.Config({SVG: {font: \"STIX-Web\"}});}</script>                <script type=\"text/javascript\">window.PlotlyConfig = {MathJaxConfig: 'local'};</script>\n",
              "        <script src=\"https://cdn.plot.ly/plotly-2.18.0.min.js\"></script>                <div id=\"87ba1faf-691a-4406-a261-94f9d099745c\" class=\"plotly-graph-div\" style=\"height:525px; width:100%;\"></div>            <script type=\"text/javascript\">                                    window.PLOTLYENV=window.PLOTLYENV || {};                                    if (document.getElementById(\"87ba1faf-691a-4406-a261-94f9d099745c\")) {                    Plotly.newPlot(                        \"87ba1faf-691a-4406-a261-94f9d099745c\",                        [{\"domain\":{\"x\":[0.0,1.0],\"y\":[0.0,1.0]},\"hovertemplate\":\"label=%{label}<br>value=%{value}<extra></extra>\",\"labels\":[\"S\",\"V\",\"PR\",\"SPRO\",\"CONJ\",\"A\",\"APRO\",\"ADV\",\"PART\",\"ADVPRO\",\"NUM\",\"ANUM\",\"INTJ\"],\"legendgroup\":\"\",\"name\":\"\",\"showlegend\":true,\"values\":[0.2569516749267697,0.19891346096002296,0.10207821415184708,0.09901943090898153,0.0935959907264726,0.06488692682520511,0.057746680919393424,0.05364208071300654,0.04634449951179783,0.017644690627906655,0.005141162152531941,0.0023831669743959944,0.0016520206016686796],\"type\":\"pie\"}],                        {\"template\":{\"data\":{\"histogram2dcontour\":[{\"type\":\"histogram2dcontour\",\"colorbar\":{\"outlinewidth\":0,\"ticks\":\"\"},\"colorscale\":[[0.0,\"#0d0887\"],[0.1111111111111111,\"#46039f\"],[0.2222222222222222,\"#7201a8\"],[0.3333333333333333,\"#9c179e\"],[0.4444444444444444,\"#bd3786\"],[0.5555555555555556,\"#d8576b\"],[0.6666666666666666,\"#ed7953\"],[0.7777777777777778,\"#fb9f3a\"],[0.8888888888888888,\"#fdca26\"],[1.0,\"#f0f921\"]]}],\"choropleth\":[{\"type\":\"choropleth\",\"colorbar\":{\"outlinewidth\":0,\"ticks\":\"\"}}],\"histogram2d\":[{\"type\":\"histogram2d\",\"colorbar\":{\"outlinewidth\":0,\"ticks\":\"\"},\"colorscale\":[[0.0,\"#0d0887\"],[0.1111111111111111,\"#46039f\"],[0.2222222222222222,\"#7201a8\"],[0.3333333333333333,\"#9c179e\"],[0.4444444444444444,\"#bd3786\"],[0.5555555555555556,\"#d8576b\"],[0.6666666666666666,\"#ed7953\"],[0.7777777777777778,\"#fb9f3a\"],[0.8888888888888888,\"#fdca26\"],[1.0,\"#f0f921\"]]}],\"heatmap\":[{\"type\":\"heatmap\",\"colorbar\":{\"outlinewidth\":0,\"ticks\":\"\"},\"colorscale\":[[0.0,\"#0d0887\"],[0.1111111111111111,\"#46039f\"],[0.2222222222222222,\"#7201a8\"],[0.3333333333333333,\"#9c179e\"],[0.4444444444444444,\"#bd3786\"],[0.5555555555555556,\"#d8576b\"],[0.6666666666666666,\"#ed7953\"],[0.7777777777777778,\"#fb9f3a\"],[0.8888888888888888,\"#fdca26\"],[1.0,\"#f0f921\"]]}],\"heatmapgl\":[{\"type\":\"heatmapgl\",\"colorbar\":{\"outlinewidth\":0,\"ticks\":\"\"},\"colorscale\":[[0.0,\"#0d0887\"],[0.1111111111111111,\"#46039f\"],[0.2222222222222222,\"#7201a8\"],[0.3333333333333333,\"#9c179e\"],[0.4444444444444444,\"#bd3786\"],[0.5555555555555556,\"#d8576b\"],[0.6666666666666666,\"#ed7953\"],[0.7777777777777778,\"#fb9f3a\"],[0.8888888888888888,\"#fdca26\"],[1.0,\"#f0f921\"]]}],\"contourcarpet\":[{\"type\":\"contourcarpet\",\"colorbar\":{\"outlinewidth\":0,\"ticks\":\"\"}}],\"contour\":[{\"type\":\"contour\",\"colorbar\":{\"outlinewidth\":0,\"ticks\":\"\"},\"colorscale\":[[0.0,\"#0d0887\"],[0.1111111111111111,\"#46039f\"],[0.2222222222222222,\"#7201a8\"],[0.3333333333333333,\"#9c179e\"],[0.4444444444444444,\"#bd3786\"],[0.5555555555555556,\"#d8576b\"],[0.6666666666666666,\"#ed7953\"],[0.7777777777777778,\"#fb9f3a\"],[0.8888888888888888,\"#fdca26\"],[1.0,\"#f0f921\"]]}],\"surface\":[{\"type\":\"surface\",\"colorbar\":{\"outlinewidth\":0,\"ticks\":\"\"},\"colorscale\":[[0.0,\"#0d0887\"],[0.1111111111111111,\"#46039f\"],[0.2222222222222222,\"#7201a8\"],[0.3333333333333333,\"#9c179e\"],[0.4444444444444444,\"#bd3786\"],[0.5555555555555556,\"#d8576b\"],[0.6666666666666666,\"#ed7953\"],[0.7777777777777778,\"#fb9f3a\"],[0.8888888888888888,\"#fdca26\"],[1.0,\"#f0f921\"]]}],\"mesh3d\":[{\"type\":\"mesh3d\",\"colorbar\":{\"outlinewidth\":0,\"ticks\":\"\"}}],\"scatter\":[{\"fillpattern\":{\"fillmode\":\"overlay\",\"size\":10,\"solidity\":0.2},\"type\":\"scatter\"}],\"parcoords\":[{\"type\":\"parcoords\",\"line\":{\"colorbar\":{\"outlinewidth\":0,\"ticks\":\"\"}}}],\"scatterpolargl\":[{\"type\":\"scatterpolargl\",\"marker\":{\"colorbar\":{\"outlinewidth\":0,\"ticks\":\"\"}}}],\"bar\":[{\"error_x\":{\"color\":\"#2a3f5f\"},\"error_y\":{\"color\":\"#2a3f5f\"},\"marker\":{\"line\":{\"color\":\"#E5ECF6\",\"width\":0.5},\"pattern\":{\"fillmode\":\"overlay\",\"size\":10,\"solidity\":0.2}},\"type\":\"bar\"}],\"scattergeo\":[{\"type\":\"scattergeo\",\"marker\":{\"colorbar\":{\"outlinewidth\":0,\"ticks\":\"\"}}}],\"scatterpolar\":[{\"type\":\"scatterpolar\",\"marker\":{\"colorbar\":{\"outlinewidth\":0,\"ticks\":\"\"}}}],\"histogram\":[{\"marker\":{\"pattern\":{\"fillmode\":\"overlay\",\"size\":10,\"solidity\":0.2}},\"type\":\"histogram\"}],\"scattergl\":[{\"type\":\"scattergl\",\"marker\":{\"colorbar\":{\"outlinewidth\":0,\"ticks\":\"\"}}}],\"scatter3d\":[{\"type\":\"scatter3d\",\"line\":{\"colorbar\":{\"outlinewidth\":0,\"ticks\":\"\"}},\"marker\":{\"colorbar\":{\"outlinewidth\":0,\"ticks\":\"\"}}}],\"scattermapbox\":[{\"type\":\"scattermapbox\",\"marker\":{\"colorbar\":{\"outlinewidth\":0,\"ticks\":\"\"}}}],\"scatterternary\":[{\"type\":\"scatterternary\",\"marker\":{\"colorbar\":{\"outlinewidth\":0,\"ticks\":\"\"}}}],\"scattercarpet\":[{\"type\":\"scattercarpet\",\"marker\":{\"colorbar\":{\"outlinewidth\":0,\"ticks\":\"\"}}}],\"carpet\":[{\"aaxis\":{\"endlinecolor\":\"#2a3f5f\",\"gridcolor\":\"white\",\"linecolor\":\"white\",\"minorgridcolor\":\"white\",\"startlinecolor\":\"#2a3f5f\"},\"baxis\":{\"endlinecolor\":\"#2a3f5f\",\"gridcolor\":\"white\",\"linecolor\":\"white\",\"minorgridcolor\":\"white\",\"startlinecolor\":\"#2a3f5f\"},\"type\":\"carpet\"}],\"table\":[{\"cells\":{\"fill\":{\"color\":\"#EBF0F8\"},\"line\":{\"color\":\"white\"}},\"header\":{\"fill\":{\"color\":\"#C8D4E3\"},\"line\":{\"color\":\"white\"}},\"type\":\"table\"}],\"barpolar\":[{\"marker\":{\"line\":{\"color\":\"#E5ECF6\",\"width\":0.5},\"pattern\":{\"fillmode\":\"overlay\",\"size\":10,\"solidity\":0.2}},\"type\":\"barpolar\"}],\"pie\":[{\"automargin\":true,\"type\":\"pie\"}]},\"layout\":{\"autotypenumbers\":\"strict\",\"colorway\":[\"#636efa\",\"#EF553B\",\"#00cc96\",\"#ab63fa\",\"#FFA15A\",\"#19d3f3\",\"#FF6692\",\"#B6E880\",\"#FF97FF\",\"#FECB52\"],\"font\":{\"color\":\"#2a3f5f\"},\"hovermode\":\"closest\",\"hoverlabel\":{\"align\":\"left\"},\"paper_bgcolor\":\"white\",\"plot_bgcolor\":\"#E5ECF6\",\"polar\":{\"bgcolor\":\"#E5ECF6\",\"angularaxis\":{\"gridcolor\":\"white\",\"linecolor\":\"white\",\"ticks\":\"\"},\"radialaxis\":{\"gridcolor\":\"white\",\"linecolor\":\"white\",\"ticks\":\"\"}},\"ternary\":{\"bgcolor\":\"#E5ECF6\",\"aaxis\":{\"gridcolor\":\"white\",\"linecolor\":\"white\",\"ticks\":\"\"},\"baxis\":{\"gridcolor\":\"white\",\"linecolor\":\"white\",\"ticks\":\"\"},\"caxis\":{\"gridcolor\":\"white\",\"linecolor\":\"white\",\"ticks\":\"\"}},\"coloraxis\":{\"colorbar\":{\"outlinewidth\":0,\"ticks\":\"\"}},\"colorscale\":{\"sequential\":[[0.0,\"#0d0887\"],[0.1111111111111111,\"#46039f\"],[0.2222222222222222,\"#7201a8\"],[0.3333333333333333,\"#9c179e\"],[0.4444444444444444,\"#bd3786\"],[0.5555555555555556,\"#d8576b\"],[0.6666666666666666,\"#ed7953\"],[0.7777777777777778,\"#fb9f3a\"],[0.8888888888888888,\"#fdca26\"],[1.0,\"#f0f921\"]],\"sequentialminus\":[[0.0,\"#0d0887\"],[0.1111111111111111,\"#46039f\"],[0.2222222222222222,\"#7201a8\"],[0.3333333333333333,\"#9c179e\"],[0.4444444444444444,\"#bd3786\"],[0.5555555555555556,\"#d8576b\"],[0.6666666666666666,\"#ed7953\"],[0.7777777777777778,\"#fb9f3a\"],[0.8888888888888888,\"#fdca26\"],[1.0,\"#f0f921\"]],\"diverging\":[[0,\"#8e0152\"],[0.1,\"#c51b7d\"],[0.2,\"#de77ae\"],[0.3,\"#f1b6da\"],[0.4,\"#fde0ef\"],[0.5,\"#f7f7f7\"],[0.6,\"#e6f5d0\"],[0.7,\"#b8e186\"],[0.8,\"#7fbc41\"],[0.9,\"#4d9221\"],[1,\"#276419\"]]},\"xaxis\":{\"gridcolor\":\"white\",\"linecolor\":\"white\",\"ticks\":\"\",\"title\":{\"standoff\":15},\"zerolinecolor\":\"white\",\"automargin\":true,\"zerolinewidth\":2},\"yaxis\":{\"gridcolor\":\"white\",\"linecolor\":\"white\",\"ticks\":\"\",\"title\":{\"standoff\":15},\"zerolinecolor\":\"white\",\"automargin\":true,\"zerolinewidth\":2},\"scene\":{\"xaxis\":{\"backgroundcolor\":\"#E5ECF6\",\"gridcolor\":\"white\",\"linecolor\":\"white\",\"showbackground\":true,\"ticks\":\"\",\"zerolinecolor\":\"white\",\"gridwidth\":2},\"yaxis\":{\"backgroundcolor\":\"#E5ECF6\",\"gridcolor\":\"white\",\"linecolor\":\"white\",\"showbackground\":true,\"ticks\":\"\",\"zerolinecolor\":\"white\",\"gridwidth\":2},\"zaxis\":{\"backgroundcolor\":\"#E5ECF6\",\"gridcolor\":\"white\",\"linecolor\":\"white\",\"showbackground\":true,\"ticks\":\"\",\"zerolinecolor\":\"white\",\"gridwidth\":2}},\"shapedefaults\":{\"line\":{\"color\":\"#2a3f5f\"}},\"annotationdefaults\":{\"arrowcolor\":\"#2a3f5f\",\"arrowhead\":0,\"arrowwidth\":1},\"geo\":{\"bgcolor\":\"white\",\"landcolor\":\"#E5ECF6\",\"subunitcolor\":\"white\",\"showland\":true,\"showlakes\":true,\"lakecolor\":\"white\"},\"title\":{\"x\":0.05},\"mapbox\":{\"style\":\"light\"}}},\"legend\":{\"tracegroupgap\":0},\"title\":{\"text\":\"Part of Speech distribution\"}},                        {\"responsive\": true}                    ).then(function(){\n",
              "                            \n",
              "var gd = document.getElementById('87ba1faf-691a-4406-a261-94f9d099745c');\n",
              "var x = new MutationObserver(function (mutations, observer) {{\n",
              "        var display = window.getComputedStyle(gd).display;\n",
              "        if (!display || display === 'none') {{\n",
              "            console.log([gd, 'removed!']);\n",
              "            Plotly.purge(gd);\n",
              "            observer.disconnect();\n",
              "        }}\n",
              "}});\n",
              "\n",
              "// Listen for the removal of the full notebook cells\n",
              "var notebookContainer = gd.closest('#notebook-container');\n",
              "if (notebookContainer) {{\n",
              "    x.observe(notebookContainer, {childList: true});\n",
              "}}\n",
              "\n",
              "// Listen for the clearing of the current output cell\n",
              "var outputEl = gd.closest('.output');\n",
              "if (outputEl) {{\n",
              "    x.observe(outputEl, {childList: true});\n",
              "}}\n",
              "\n",
              "                        })                };                            </script>        </div>\n",
              "</body>\n",
              "</html>"
            ]
          },
          "metadata": {}
        }
      ]
    },
    {
      "cell_type": "markdown",
      "source": [
        "### 1.4 Box plot"
      ],
      "metadata": {
        "id": "zRFEcwq0teO2"
      }
    },
    {
      "cell_type": "markdown",
      "source": [
        "---\n",
        "---\n",
        "---\n",
        "\n",
        "end of finished version.\n",
        "\n",
        "5. maybe line chart also with exact values on hover\n",
        "6. heatmap?\n",
        "7. 3D plot\n",
        "8. manipulatable plot\n",
        "\n",
        "bokeh:\n",
        "\n",
        "1. scatter plot with ability to move around\n",
        "2. maybe line chart also with ability to move around\n",
        "3. smth with linked selection?\n",
        "4. network plot in bokeh\n",
        "5. mb scatterplot grid?\n",
        "6. manipulatable plot\n",
        "7. timeseries plot"
      ],
      "metadata": {
        "id": "WV-y8XmIuRlo"
      }
    },
    {
      "cell_type": "markdown",
      "source": [
        "## 2. Bokeh\n",
        "\n",
        "now let's make some plots with the bokeh library"
      ],
      "metadata": {
        "id": "pCCLeZq3_6jo"
      }
    },
    {
      "cell_type": "code",
      "source": [
        "from bokeh.plotting import figure, show\n",
        "from bokeh.io import output_notebook\n",
        "output_notebook()\n",
        "\n",
        "p = figure(width=400, height=400)\n",
        "\n",
        "# add a circle renderer with a size, color, and alpha\n",
        "p.circle([1, 2, 3, 4, 5], [6, 7, 2, 4, 5], size=20, color=\"navy\", alpha=0.5)\n",
        "\n",
        "# show the results\n",
        "show(p)"
      ],
      "metadata": {
        "colab": {
          "base_uri": "https://localhost:8080/",
          "height": 417
        },
        "id": "lMiBLx7bAEQB",
        "outputId": "7e8939e3-61bf-49d4-82ec-b531e1f82fcb"
      },
      "execution_count": 17,
      "outputs": [
        {
          "output_type": "display_data",
          "data": {
            "application/javascript": [
              "\n",
              "(function(root) {\n",
              "  function now() {\n",
              "    return new Date();\n",
              "  }\n",
              "\n",
              "  var force = true;\n",
              "\n",
              "  if (typeof root._bokeh_onload_callbacks === \"undefined\" || force === true) {\n",
              "    root._bokeh_onload_callbacks = [];\n",
              "    root._bokeh_is_loading = undefined;\n",
              "  }\n",
              "\n",
              "  var JS_MIME_TYPE = 'application/javascript';\n",
              "  var HTML_MIME_TYPE = 'text/html';\n",
              "  var EXEC_MIME_TYPE = 'application/vnd.bokehjs_exec.v0+json';\n",
              "  var CLASS_NAME = 'output_bokeh rendered_html';\n",
              "\n",
              "  /**\n",
              "   * Render data to the DOM node\n",
              "   */\n",
              "  function render(props, node) {\n",
              "    var script = document.createElement(\"script\");\n",
              "    node.appendChild(script);\n",
              "  }\n",
              "\n",
              "  /**\n",
              "   * Handle when an output is cleared or removed\n",
              "   */\n",
              "  function handleClearOutput(event, handle) {\n",
              "    var cell = handle.cell;\n",
              "\n",
              "    var id = cell.output_area._bokeh_element_id;\n",
              "    var server_id = cell.output_area._bokeh_server_id;\n",
              "    // Clean up Bokeh references\n",
              "    if (id != null && id in Bokeh.index) {\n",
              "      Bokeh.index[id].model.document.clear();\n",
              "      delete Bokeh.index[id];\n",
              "    }\n",
              "\n",
              "    if (server_id !== undefined) {\n",
              "      // Clean up Bokeh references\n",
              "      var cmd = \"from bokeh.io.state import curstate; print(curstate().uuid_to_server['\" + server_id + \"'].get_sessions()[0].document.roots[0]._id)\";\n",
              "      cell.notebook.kernel.execute(cmd, {\n",
              "        iopub: {\n",
              "          output: function(msg) {\n",
              "            var id = msg.content.text.trim();\n",
              "            if (id in Bokeh.index) {\n",
              "              Bokeh.index[id].model.document.clear();\n",
              "              delete Bokeh.index[id];\n",
              "            }\n",
              "          }\n",
              "        }\n",
              "      });\n",
              "      // Destroy server and session\n",
              "      var cmd = \"import bokeh.io.notebook as ion; ion.destroy_server('\" + server_id + \"')\";\n",
              "      cell.notebook.kernel.execute(cmd);\n",
              "    }\n",
              "  }\n",
              "\n",
              "  /**\n",
              "   * Handle when a new output is added\n",
              "   */\n",
              "  function handleAddOutput(event, handle) {\n",
              "    var output_area = handle.output_area;\n",
              "    var output = handle.output;\n",
              "\n",
              "    // limit handleAddOutput to display_data with EXEC_MIME_TYPE content only\n",
              "    if ((output.output_type != \"display_data\") || (!Object.prototype.hasOwnProperty.call(output.data, EXEC_MIME_TYPE))) {\n",
              "      return\n",
              "    }\n",
              "\n",
              "    var toinsert = output_area.element.find(\".\" + CLASS_NAME.split(' ')[0]);\n",
              "\n",
              "    if (output.metadata[EXEC_MIME_TYPE][\"id\"] !== undefined) {\n",
              "      toinsert[toinsert.length - 1].firstChild.textContent = output.data[JS_MIME_TYPE];\n",
              "      // store reference to embed id on output_area\n",
              "      output_area._bokeh_element_id = output.metadata[EXEC_MIME_TYPE][\"id\"];\n",
              "    }\n",
              "    if (output.metadata[EXEC_MIME_TYPE][\"server_id\"] !== undefined) {\n",
              "      var bk_div = document.createElement(\"div\");\n",
              "      bk_div.innerHTML = output.data[HTML_MIME_TYPE];\n",
              "      var script_attrs = bk_div.children[0].attributes;\n",
              "      for (var i = 0; i < script_attrs.length; i++) {\n",
              "        toinsert[toinsert.length - 1].firstChild.setAttribute(script_attrs[i].name, script_attrs[i].value);\n",
              "        toinsert[toinsert.length - 1].firstChild.textContent = bk_div.children[0].textContent\n",
              "      }\n",
              "      // store reference to server id on output_area\n",
              "      output_area._bokeh_server_id = output.metadata[EXEC_MIME_TYPE][\"server_id\"];\n",
              "    }\n",
              "  }\n",
              "\n",
              "  function register_renderer(events, OutputArea) {\n",
              "\n",
              "    function append_mime(data, metadata, element) {\n",
              "      // create a DOM node to render to\n",
              "      var toinsert = this.create_output_subarea(\n",
              "        metadata,\n",
              "        CLASS_NAME,\n",
              "        EXEC_MIME_TYPE\n",
              "      );\n",
              "      this.keyboard_manager.register_events(toinsert);\n",
              "      // Render to node\n",
              "      var props = {data: data, metadata: metadata[EXEC_MIME_TYPE]};\n",
              "      render(props, toinsert[toinsert.length - 1]);\n",
              "      element.append(toinsert);\n",
              "      return toinsert\n",
              "    }\n",
              "\n",
              "    /* Handle when an output is cleared or removed */\n",
              "    events.on('clear_output.CodeCell', handleClearOutput);\n",
              "    events.on('delete.Cell', handleClearOutput);\n",
              "\n",
              "    /* Handle when a new output is added */\n",
              "    events.on('output_added.OutputArea', handleAddOutput);\n",
              "\n",
              "    /**\n",
              "     * Register the mime type and append_mime function with output_area\n",
              "     */\n",
              "    OutputArea.prototype.register_mime_type(EXEC_MIME_TYPE, append_mime, {\n",
              "      /* Is output safe? */\n",
              "      safe: true,\n",
              "      /* Index of renderer in `output_area.display_order` */\n",
              "      index: 0\n",
              "    });\n",
              "  }\n",
              "\n",
              "  // register the mime type if in Jupyter Notebook environment and previously unregistered\n",
              "  if (root.Jupyter !== undefined) {\n",
              "    var events = require('base/js/events');\n",
              "    var OutputArea = require('notebook/js/outputarea').OutputArea;\n",
              "\n",
              "    if (OutputArea.prototype.mime_types().indexOf(EXEC_MIME_TYPE) == -1) {\n",
              "      register_renderer(events, OutputArea);\n",
              "    }\n",
              "  }\n",
              "\n",
              "  \n",
              "  if (typeof (root._bokeh_timeout) === \"undefined\" || force === true) {\n",
              "    root._bokeh_timeout = Date.now() + 5000;\n",
              "    root._bokeh_failed_load = false;\n",
              "  }\n",
              "\n",
              "  var NB_LOAD_WARNING = {'data': {'text/html':\n",
              "     \"<div style='background-color: #fdd'>\\n\"+\n",
              "     \"<p>\\n\"+\n",
              "     \"BokehJS does not appear to have successfully loaded. If loading BokehJS from CDN, this \\n\"+\n",
              "     \"may be due to a slow or bad network connection. Possible fixes:\\n\"+\n",
              "     \"</p>\\n\"+\n",
              "     \"<ul>\\n\"+\n",
              "     \"<li>re-rerun `output_notebook()` to attempt to load from CDN again, or</li>\\n\"+\n",
              "     \"<li>use INLINE resources instead, as so:</li>\\n\"+\n",
              "     \"</ul>\\n\"+\n",
              "     \"<code>\\n\"+\n",
              "     \"from bokeh.resources import INLINE\\n\"+\n",
              "     \"output_notebook(resources=INLINE)\\n\"+\n",
              "     \"</code>\\n\"+\n",
              "     \"</div>\"}};\n",
              "\n",
              "  function display_loaded() {\n",
              "    var el = document.getElementById(null);\n",
              "    if (el != null) {\n",
              "      el.textContent = \"BokehJS is loading...\";\n",
              "    }\n",
              "    if (root.Bokeh !== undefined) {\n",
              "      if (el != null) {\n",
              "        el.textContent = \"BokehJS \" + root.Bokeh.version + \" successfully loaded.\";\n",
              "      }\n",
              "    } else if (Date.now() < root._bokeh_timeout) {\n",
              "      setTimeout(display_loaded, 100)\n",
              "    }\n",
              "  }\n",
              "\n",
              "\n",
              "  function run_callbacks() {\n",
              "    try {\n",
              "      root._bokeh_onload_callbacks.forEach(function(callback) {\n",
              "        if (callback != null)\n",
              "          callback();\n",
              "      });\n",
              "    } finally {\n",
              "      delete root._bokeh_onload_callbacks\n",
              "    }\n",
              "    console.debug(\"Bokeh: all callbacks have finished\");\n",
              "  }\n",
              "\n",
              "  function load_libs(css_urls, js_urls, callback) {\n",
              "    if (css_urls == null) css_urls = [];\n",
              "    if (js_urls == null) js_urls = [];\n",
              "\n",
              "    root._bokeh_onload_callbacks.push(callback);\n",
              "    if (root._bokeh_is_loading > 0) {\n",
              "      console.debug(\"Bokeh: BokehJS is being loaded, scheduling callback at\", now());\n",
              "      return null;\n",
              "    }\n",
              "    if (js_urls == null || js_urls.length === 0) {\n",
              "      run_callbacks();\n",
              "      return null;\n",
              "    }\n",
              "    console.debug(\"Bokeh: BokehJS not loaded, scheduling load and callback at\", now());\n",
              "    root._bokeh_is_loading = css_urls.length + js_urls.length;\n",
              "\n",
              "    function on_load() {\n",
              "      root._bokeh_is_loading--;\n",
              "      if (root._bokeh_is_loading === 0) {\n",
              "        console.debug(\"Bokeh: all BokehJS libraries/stylesheets loaded\");\n",
              "        run_callbacks()\n",
              "      }\n",
              "    }\n",
              "\n",
              "    function on_error(url) {\n",
              "      console.error(\"failed to load \" + url);\n",
              "    }\n",
              "\n",
              "    for (let i = 0; i < css_urls.length; i++) {\n",
              "      const url = css_urls[i];\n",
              "      const element = document.createElement(\"link\");\n",
              "      element.onload = on_load;\n",
              "      element.onerror = on_error.bind(null, url);\n",
              "      element.rel = \"stylesheet\";\n",
              "      element.type = \"text/css\";\n",
              "      element.href = url;\n",
              "      console.debug(\"Bokeh: injecting link tag for BokehJS stylesheet: \", url);\n",
              "      document.body.appendChild(element);\n",
              "    }\n",
              "\n",
              "    const hashes = {\"https://cdn.bokeh.org/bokeh/release/bokeh-2.3.3.min.js\": \"dM3QQsP+wXdHg42wTqW85BjZQdLNNIXqlPw/BgKoExPmTG7ZLML4EGqLMfqHT6ON\", \"https://cdn.bokeh.org/bokeh/release/bokeh-tables-2.3.3.min.js\": \"8x57I4YuIfu8XyZfFo0XVr2WAT8EK4rh/uDe3wF7YuW2FNUSNEpJbsPaB1nJ2fz2\", \"https://cdn.bokeh.org/bokeh/release/bokeh-widgets-2.3.3.min.js\": \"3QTqdz9LyAm2i0sG5XTePsHec3UHWwVsrOL68SYRoAXsafvfAyqtQ+h440+qIBhS\"};\n",
              "\n",
              "    for (let i = 0; i < js_urls.length; i++) {\n",
              "      const url = js_urls[i];\n",
              "      const element = document.createElement('script');\n",
              "      element.onload = on_load;\n",
              "      element.onerror = on_error.bind(null, url);\n",
              "      element.async = false;\n",
              "      element.src = url;\n",
              "      if (url in hashes) {\n",
              "        element.crossOrigin = \"anonymous\";\n",
              "        element.integrity = \"sha384-\" + hashes[url];\n",
              "      }\n",
              "      console.debug(\"Bokeh: injecting script tag for BokehJS library: \", url);\n",
              "      document.head.appendChild(element);\n",
              "    }\n",
              "  };\n",
              "\n",
              "  function inject_raw_css(css) {\n",
              "    const element = document.createElement(\"style\");\n",
              "    element.appendChild(document.createTextNode(css));\n",
              "    document.body.appendChild(element);\n",
              "  }\n",
              "\n",
              "  \n",
              "  var js_urls = [\"https://cdn.bokeh.org/bokeh/release/bokeh-2.3.3.min.js\", \"https://cdn.bokeh.org/bokeh/release/bokeh-widgets-2.3.3.min.js\", \"https://cdn.bokeh.org/bokeh/release/bokeh-tables-2.3.3.min.js\"];\n",
              "  var css_urls = [];\n",
              "  \n",
              "\n",
              "  var inline_js = [\n",
              "    function(Bokeh) {\n",
              "      Bokeh.set_log_level(\"info\");\n",
              "    },\n",
              "    function(Bokeh) {\n",
              "    \n",
              "    \n",
              "    }\n",
              "  ];\n",
              "\n",
              "  function run_inline_js() {\n",
              "    \n",
              "    if (root.Bokeh !== undefined || force === true) {\n",
              "      \n",
              "    for (var i = 0; i < inline_js.length; i++) {\n",
              "      inline_js[i].call(root, root.Bokeh);\n",
              "    }\n",
              "    } else if (Date.now() < root._bokeh_timeout) {\n",
              "      setTimeout(run_inline_js, 100);\n",
              "    } else if (!root._bokeh_failed_load) {\n",
              "      console.log(\"Bokeh: BokehJS failed to load within specified timeout.\");\n",
              "      root._bokeh_failed_load = true;\n",
              "    } else if (force !== true) {\n",
              "      var cell = $(document.getElementById(null)).parents('.cell').data().cell;\n",
              "      cell.output_area.append_execute_result(NB_LOAD_WARNING)\n",
              "    }\n",
              "\n",
              "  }\n",
              "\n",
              "  if (root._bokeh_is_loading === 0) {\n",
              "    console.debug(\"Bokeh: BokehJS loaded, going straight to plotting\");\n",
              "    run_inline_js();\n",
              "  } else {\n",
              "    load_libs(css_urls, js_urls, function() {\n",
              "      console.debug(\"Bokeh: BokehJS plotting callback run at\", now());\n",
              "      run_inline_js();\n",
              "    });\n",
              "  }\n",
              "}(window));"
            ],
            "application/vnd.bokehjs_load.v0+json": "\n(function(root) {\n  function now() {\n    return new Date();\n  }\n\n  var force = true;\n\n  if (typeof root._bokeh_onload_callbacks === \"undefined\" || force === true) {\n    root._bokeh_onload_callbacks = [];\n    root._bokeh_is_loading = undefined;\n  }\n\n  \n\n  \n  if (typeof (root._bokeh_timeout) === \"undefined\" || force === true) {\n    root._bokeh_timeout = Date.now() + 5000;\n    root._bokeh_failed_load = false;\n  }\n\n  var NB_LOAD_WARNING = {'data': {'text/html':\n     \"<div style='background-color: #fdd'>\\n\"+\n     \"<p>\\n\"+\n     \"BokehJS does not appear to have successfully loaded. If loading BokehJS from CDN, this \\n\"+\n     \"may be due to a slow or bad network connection. Possible fixes:\\n\"+\n     \"</p>\\n\"+\n     \"<ul>\\n\"+\n     \"<li>re-rerun `output_notebook()` to attempt to load from CDN again, or</li>\\n\"+\n     \"<li>use INLINE resources instead, as so:</li>\\n\"+\n     \"</ul>\\n\"+\n     \"<code>\\n\"+\n     \"from bokeh.resources import INLINE\\n\"+\n     \"output_notebook(resources=INLINE)\\n\"+\n     \"</code>\\n\"+\n     \"</div>\"}};\n\n  function display_loaded() {\n    var el = document.getElementById(null);\n    if (el != null) {\n      el.textContent = \"BokehJS is loading...\";\n    }\n    if (root.Bokeh !== undefined) {\n      if (el != null) {\n        el.textContent = \"BokehJS \" + root.Bokeh.version + \" successfully loaded.\";\n      }\n    } else if (Date.now() < root._bokeh_timeout) {\n      setTimeout(display_loaded, 100)\n    }\n  }\n\n\n  function run_callbacks() {\n    try {\n      root._bokeh_onload_callbacks.forEach(function(callback) {\n        if (callback != null)\n          callback();\n      });\n    } finally {\n      delete root._bokeh_onload_callbacks\n    }\n    console.debug(\"Bokeh: all callbacks have finished\");\n  }\n\n  function load_libs(css_urls, js_urls, callback) {\n    if (css_urls == null) css_urls = [];\n    if (js_urls == null) js_urls = [];\n\n    root._bokeh_onload_callbacks.push(callback);\n    if (root._bokeh_is_loading > 0) {\n      console.debug(\"Bokeh: BokehJS is being loaded, scheduling callback at\", now());\n      return null;\n    }\n    if (js_urls == null || js_urls.length === 0) {\n      run_callbacks();\n      return null;\n    }\n    console.debug(\"Bokeh: BokehJS not loaded, scheduling load and callback at\", now());\n    root._bokeh_is_loading = css_urls.length + js_urls.length;\n\n    function on_load() {\n      root._bokeh_is_loading--;\n      if (root._bokeh_is_loading === 0) {\n        console.debug(\"Bokeh: all BokehJS libraries/stylesheets loaded\");\n        run_callbacks()\n      }\n    }\n\n    function on_error(url) {\n      console.error(\"failed to load \" + url);\n    }\n\n    for (let i = 0; i < css_urls.length; i++) {\n      const url = css_urls[i];\n      const element = document.createElement(\"link\");\n      element.onload = on_load;\n      element.onerror = on_error.bind(null, url);\n      element.rel = \"stylesheet\";\n      element.type = \"text/css\";\n      element.href = url;\n      console.debug(\"Bokeh: injecting link tag for BokehJS stylesheet: \", url);\n      document.body.appendChild(element);\n    }\n\n    const hashes = {\"https://cdn.bokeh.org/bokeh/release/bokeh-2.3.3.min.js\": \"dM3QQsP+wXdHg42wTqW85BjZQdLNNIXqlPw/BgKoExPmTG7ZLML4EGqLMfqHT6ON\", \"https://cdn.bokeh.org/bokeh/release/bokeh-tables-2.3.3.min.js\": \"8x57I4YuIfu8XyZfFo0XVr2WAT8EK4rh/uDe3wF7YuW2FNUSNEpJbsPaB1nJ2fz2\", \"https://cdn.bokeh.org/bokeh/release/bokeh-widgets-2.3.3.min.js\": \"3QTqdz9LyAm2i0sG5XTePsHec3UHWwVsrOL68SYRoAXsafvfAyqtQ+h440+qIBhS\"};\n\n    for (let i = 0; i < js_urls.length; i++) {\n      const url = js_urls[i];\n      const element = document.createElement('script');\n      element.onload = on_load;\n      element.onerror = on_error.bind(null, url);\n      element.async = false;\n      element.src = url;\n      if (url in hashes) {\n        element.crossOrigin = \"anonymous\";\n        element.integrity = \"sha384-\" + hashes[url];\n      }\n      console.debug(\"Bokeh: injecting script tag for BokehJS library: \", url);\n      document.head.appendChild(element);\n    }\n  };\n\n  function inject_raw_css(css) {\n    const element = document.createElement(\"style\");\n    element.appendChild(document.createTextNode(css));\n    document.body.appendChild(element);\n  }\n\n  \n  var js_urls = [\"https://cdn.bokeh.org/bokeh/release/bokeh-2.3.3.min.js\", \"https://cdn.bokeh.org/bokeh/release/bokeh-widgets-2.3.3.min.js\", \"https://cdn.bokeh.org/bokeh/release/bokeh-tables-2.3.3.min.js\"];\n  var css_urls = [];\n  \n\n  var inline_js = [\n    function(Bokeh) {\n      Bokeh.set_log_level(\"info\");\n    },\n    function(Bokeh) {\n    \n    \n    }\n  ];\n\n  function run_inline_js() {\n    \n    if (root.Bokeh !== undefined || force === true) {\n      \n    for (var i = 0; i < inline_js.length; i++) {\n      inline_js[i].call(root, root.Bokeh);\n    }\n    } else if (Date.now() < root._bokeh_timeout) {\n      setTimeout(run_inline_js, 100);\n    } else if (!root._bokeh_failed_load) {\n      console.log(\"Bokeh: BokehJS failed to load within specified timeout.\");\n      root._bokeh_failed_load = true;\n    } else if (force !== true) {\n      var cell = $(document.getElementById(null)).parents('.cell').data().cell;\n      cell.output_area.append_execute_result(NB_LOAD_WARNING)\n    }\n\n  }\n\n  if (root._bokeh_is_loading === 0) {\n    console.debug(\"Bokeh: BokehJS loaded, going straight to plotting\");\n    run_inline_js();\n  } else {\n    load_libs(css_urls, js_urls, function() {\n      console.debug(\"Bokeh: BokehJS plotting callback run at\", now());\n      run_inline_js();\n    });\n  }\n}(window));"
          },
          "metadata": {}
        },
        {
          "output_type": "display_data",
          "data": {
            "text/html": [
              "\n",
              "\n",
              "\n",
              "\n",
              "\n",
              "\n",
              "  <div class=\"bk-root\" id=\"d1085fb3-ca97-469d-a442-6c701be428a6\" data-root-id=\"1002\"></div>\n"
            ]
          },
          "metadata": {}
        },
        {
          "output_type": "display_data",
          "data": {
            "application/javascript": [
              "(function(root) {\n",
              "  function embed_document(root) {\n",
              "    \n",
              "  var docs_json = {\"e48ffd1c-921b-44de-942f-be4279a2ad11\":{\"defs\":[],\"roots\":{\"references\":[{\"attributes\":{\"below\":[{\"id\":\"1011\"}],\"center\":[{\"id\":\"1014\"},{\"id\":\"1018\"}],\"height\":400,\"left\":[{\"id\":\"1015\"}],\"renderers\":[{\"id\":\"1036\"}],\"title\":{\"id\":\"1039\"},\"toolbar\":{\"id\":\"1026\"},\"width\":400,\"x_range\":{\"id\":\"1003\"},\"x_scale\":{\"id\":\"1007\"},\"y_range\":{\"id\":\"1005\"},\"y_scale\":{\"id\":\"1009\"}},\"id\":\"1002\",\"subtype\":\"Figure\",\"type\":\"Plot\"},{\"attributes\":{\"axis\":{\"id\":\"1015\"},\"dimension\":1,\"ticker\":null},\"id\":\"1018\",\"type\":\"Grid\"},{\"attributes\":{},\"id\":\"1041\",\"type\":\"AllLabels\"},{\"attributes\":{},\"id\":\"1042\",\"type\":\"BasicTickFormatter\"},{\"attributes\":{},\"id\":\"1005\",\"type\":\"DataRange1d\"},{\"attributes\":{},\"id\":\"1024\",\"type\":\"HelpTool\"},{\"attributes\":{\"fill_alpha\":{\"value\":0.5},\"fill_color\":{\"value\":\"navy\"},\"line_alpha\":{\"value\":0.5},\"line_color\":{\"value\":\"navy\"},\"size\":{\"value\":20},\"x\":{\"field\":\"x\"},\"y\":{\"field\":\"y\"}},\"id\":\"1034\",\"type\":\"Circle\"},{\"attributes\":{},\"id\":\"1003\",\"type\":\"DataRange1d\"},{\"attributes\":{},\"id\":\"1020\",\"type\":\"WheelZoomTool\"},{\"attributes\":{},\"id\":\"1019\",\"type\":\"PanTool\"},{\"attributes\":{},\"id\":\"1046\",\"type\":\"Selection\"},{\"attributes\":{\"overlay\":{\"id\":\"1025\"}},\"id\":\"1021\",\"type\":\"BoxZoomTool\"},{\"attributes\":{},\"id\":\"1022\",\"type\":\"SaveTool\"},{\"attributes\":{\"active_multi\":null,\"tools\":[{\"id\":\"1019\"},{\"id\":\"1020\"},{\"id\":\"1021\"},{\"id\":\"1022\"},{\"id\":\"1023\"},{\"id\":\"1024\"}]},\"id\":\"1026\",\"type\":\"Toolbar\"},{\"attributes\":{},\"id\":\"1047\",\"type\":\"UnionRenderers\"},{\"attributes\":{},\"id\":\"1023\",\"type\":\"ResetTool\"},{\"attributes\":{},\"id\":\"1039\",\"type\":\"Title\"},{\"attributes\":{},\"id\":\"1007\",\"type\":\"LinearScale\"},{\"attributes\":{\"source\":{\"id\":\"1033\"}},\"id\":\"1037\",\"type\":\"CDSView\"},{\"attributes\":{},\"id\":\"1044\",\"type\":\"AllLabels\"},{\"attributes\":{\"fill_alpha\":{\"value\":0.1},\"fill_color\":{\"value\":\"navy\"},\"line_alpha\":{\"value\":0.1},\"line_color\":{\"value\":\"navy\"},\"size\":{\"value\":20},\"x\":{\"field\":\"x\"},\"y\":{\"field\":\"y\"}},\"id\":\"1035\",\"type\":\"Circle\"},{\"attributes\":{\"data\":{\"x\":[1,2,3,4,5],\"y\":[6,7,2,4,5]},\"selected\":{\"id\":\"1046\"},\"selection_policy\":{\"id\":\"1047\"}},\"id\":\"1033\",\"type\":\"ColumnDataSource\"},{\"attributes\":{},\"id\":\"1045\",\"type\":\"BasicTickFormatter\"},{\"attributes\":{\"data_source\":{\"id\":\"1033\"},\"glyph\":{\"id\":\"1034\"},\"hover_glyph\":null,\"muted_glyph\":null,\"nonselection_glyph\":{\"id\":\"1035\"},\"view\":{\"id\":\"1037\"}},\"id\":\"1036\",\"type\":\"GlyphRenderer\"},{\"attributes\":{\"formatter\":{\"id\":\"1042\"},\"major_label_policy\":{\"id\":\"1041\"},\"ticker\":{\"id\":\"1012\"}},\"id\":\"1011\",\"type\":\"LinearAxis\"},{\"attributes\":{\"bottom_units\":\"screen\",\"fill_alpha\":0.5,\"fill_color\":\"lightgrey\",\"left_units\":\"screen\",\"level\":\"overlay\",\"line_alpha\":1.0,\"line_color\":\"black\",\"line_dash\":[4,4],\"line_width\":2,\"right_units\":\"screen\",\"syncable\":false,\"top_units\":\"screen\"},\"id\":\"1025\",\"type\":\"BoxAnnotation\"},{\"attributes\":{},\"id\":\"1016\",\"type\":\"BasicTicker\"},{\"attributes\":{},\"id\":\"1009\",\"type\":\"LinearScale\"},{\"attributes\":{\"formatter\":{\"id\":\"1045\"},\"major_label_policy\":{\"id\":\"1044\"},\"ticker\":{\"id\":\"1016\"}},\"id\":\"1015\",\"type\":\"LinearAxis\"},{\"attributes\":{},\"id\":\"1012\",\"type\":\"BasicTicker\"},{\"attributes\":{\"axis\":{\"id\":\"1011\"},\"ticker\":null},\"id\":\"1014\",\"type\":\"Grid\"}],\"root_ids\":[\"1002\"]},\"title\":\"Bokeh Application\",\"version\":\"2.3.3\"}};\n",
              "  var render_items = [{\"docid\":\"e48ffd1c-921b-44de-942f-be4279a2ad11\",\"root_ids\":[\"1002\"],\"roots\":{\"1002\":\"d1085fb3-ca97-469d-a442-6c701be428a6\"}}];\n",
              "  root.Bokeh.embed.embed_items_notebook(docs_json, render_items);\n",
              "\n",
              "  }\n",
              "  if (root.Bokeh !== undefined) {\n",
              "    embed_document(root);\n",
              "  } else {\n",
              "    var attempts = 0;\n",
              "    var timer = setInterval(function(root) {\n",
              "      if (root.Bokeh !== undefined) {\n",
              "        clearInterval(timer);\n",
              "        embed_document(root);\n",
              "      } else {\n",
              "        attempts++;\n",
              "        if (attempts > 100) {\n",
              "          clearInterval(timer);\n",
              "          console.log(\"Bokeh: ERROR: Unable to run BokehJS code because BokehJS library is missing\");\n",
              "        }\n",
              "      }\n",
              "    }, 10, root)\n",
              "  }\n",
              "})(window);"
            ],
            "application/vnd.bokehjs_exec.v0+json": ""
          },
          "metadata": {
            "application/vnd.bokehjs_exec.v0+json": {
              "id": "1002"
            }
          }
        }
      ]
    },
    {
      "cell_type": "code",
      "source": [
        "print(\"aaa\")"
      ],
      "metadata": {
        "colab": {
          "base_uri": "https://localhost:8080/"
        },
        "id": "nMie2cqUG-wX",
        "outputId": "136ae74b-2c33-4b6b-9cdd-17abf69ab911"
      },
      "execution_count": 18,
      "outputs": [
        {
          "output_type": "stream",
          "name": "stdout",
          "text": [
            "aaa\n"
          ]
        }
      ]
    },
    {
      "cell_type": "markdown",
      "source": [],
      "metadata": {
        "id": "LacUMJfQxt1I"
      }
    },
    {
      "cell_type": "markdown",
      "source": [
        "I. Introduction\n",
        "\n",
        "A. Explanation of what interactive plots are and their importance in data analysis\n",
        "\n",
        "B. Overview of Python libraries used for creating interactive plots (e.g. Plotly, Bokeh)\n",
        "\n",
        "II. Plotly\n",
        "\n",
        "A. Explanation of Plotly library and its features\n",
        "\n",
        "B. Installation and setup of Plotly in Python\n",
        "\n",
        "C. Basic example of creating a line chart using Plotly\n",
        "\n",
        "D. Advanced examples of creating interactive plots such as scatter plots, bar \n",
        "plots, heat maps, etc.\n",
        "\n",
        "E. Customization options for Plotly plots (e.g. changing colors, markers, etc.)\n",
        "\n",
        "III. Bokeh\n",
        "\n",
        "A. Explanation of Bokeh library and its features\n",
        "\n",
        "B. Installation and setup of Bokeh in Python\n",
        "\n",
        "C. Basic example of creating a line chart using Bokeh\n",
        "\n",
        "D. Advanced examples of creating interactive plots such as scatter plots, bar \n",
        "plots, heat maps, etc.\n",
        "\n",
        "E. Customization options for Bokeh plots (e.g. changing colors, markers, etc.)\n",
        "\n",
        "IV. Comparison between Plotly and Bokeh\n",
        "\n",
        "A. Pros and cons of each library\n",
        "\n",
        "B. Use cases for each library\n",
        "\n",
        "C. Comparison of the functionality and customization options of each library\n",
        "\n",
        "V. Best practices for creating interactive plots\n",
        "\n",
        "A. Choosing the right library for a specific use case\n",
        "\n",
        "B. Importance of data preparation for interactive plots\n",
        "\n",
        "C. Design considerations for creating effective and user-friendly interactive plots\n",
        "\n",
        "VI. Conclusion\n",
        "\n",
        "A. Recap of the importance of interactive plots in data analysis\n",
        "\n",
        "B. Summary of the key points covered in the handout\n",
        "\n",
        "C. Recommendations for further study and resources.\n",
        "\n",
        "In this plan, you can start with a brief overview of what interactive plots are, followed by a detailed explanation of two popular libraries in Python: Plotly and Bokeh. You can then compare the two libraries, highlighting their pros and cons, use cases, and functionality. Finally, you can conclude with some best practices and recommendations for further study.\n",
        "\n",
        "This should give you a comprehensive handout on interactive plots in Python that covers both the basics and advanced topics."
      ],
      "metadata": {
        "id": "_nJseX9XBKZr"
      }
    },
    {
      "cell_type": "markdown",
      "source": [
        "### Interactive Plots in Python\n",
        "\n",
        "Interactive plots allow users to explore and manipulate data in a more engaging and informative way than static plots. In Python, there are several libraries that provide functionality for creating interactive plots, such as Plotly, Bokeh, and Altair. These libraries offer a wide range of interactive features, such as zooming, panning, hovering, and selecting data points.\n",
        "\n",
        "### Usage in Linguistic Research\n",
        "\n",
        "Interactive plots can be particularly useful in linguistic research, where complex linguistic data often requires visual exploration to understand patterns and relationships. Here are some examples of how interactive plots can be used in linguistic research:\n",
        "\n",
        "Visualizing word frequency distributions: Interactive plots can be used to create interactive word clouds, where users can zoom in and out to see the most frequent words in a corpus. This is especially useful in linguistic research as it allows researchers to quickly identify the most important words in a large corpus of text.\n",
        "\n",
        "Plotting linguistic change over time: Interactive line charts can be used to plot linguistic change over time, allowing researchers to see the trends in language usage. For example, researchers can plot the frequency of certain words or phrases over time to see how they have changed in usage.\n",
        "\n",
        "Analyzing lexical similarity: Interactive plots can be used to visualize the similarity between words in a lexicon. Researchers can create interactive heatmaps to see the similarity between words, or use interactive scatter plots to see the relationships between words.\n",
        "\n",
        "Exploring linguistic diversity: Interactive plots can be used to explore linguistic diversity in a corpus. For example, researchers can use interactive bar charts to plot the frequency of different languages in a corpus, or use interactive scatter plots to visualize the diversity of language usage in different regions.\n",
        "\n",
        "### Conclusion\n",
        "\n",
        "In conclusion, interactive plots are a powerful tool for exploring and visualizing linguistic data. By allowing users to interact with data, they provide a more engaging and informative way to understand linguistic patterns and relationships. Whether you're a researcher, student, or simply someone interested in language, interactive plots can help you get the most out of your linguistic data."
      ],
      "metadata": {
        "id": "5HS3ezNPykLD"
      }
    },
    {
      "cell_type": "markdown",
      "source": [
        "### What data to use.\n",
        "\n",
        "For a talk on visualization in Python, a good dataset to use might be a linguistic one that allows you to demonstrate various types of plots and how they can be used to explore linguistic data. Here are a few suggestions:\n",
        "\n",
        "Word frequency data: You can use a dataset of word frequency counts in a specific corpus to create bar plots, histograms, and word clouds. This will help you demonstrate how to visualize the distribution of words in a corpus and identify common patterns.\n",
        "\n",
        "Part of speech data: You can use a dataset of part of speech annotations for a corpus to create pie charts, bar plots, and stacked bar plots. This will allow you to demonstrate how to visualize the distribution of different parts of speech in a corpus and identify patterns in their usage.\n",
        "\n",
        "N-gram data: You can use a dataset of n-grams (sequences of words) from a corpus to create bar plots and histograms. This will allow you to demonstrate how to visualize the distribution of n-grams in a corpus and identify common patterns.\n",
        "\n",
        "Sentiment analysis data: You can use a dataset of sentiment annotations for a corpus to create bar plots, pie charts, and scatter plots. This will allow you to demonstrate how to visualize the distribution of sentiments in a corpus and identify patterns in the data.\n",
        "\n",
        "These are just a few examples, and there are many other datasets you could use for a talk on visualization in Python. The important thing is to choose a dataset that is interesting and relevant to you and your audience, and that allows you to demonstrate various types of plots and how they can be used to explore linguistic data.\n",
        "\n",
        "### About sentiment analysis\n",
        "\n",
        "Sentiment analysis is a field of study within computational linguistics that focuses on determining the sentiment expressed in a piece of text. Sentiment can be characterized as positive, negative, or neutral, and sentiment analysis algorithms use various techniques, such as natural language processing and machine learning, to classify text according to these sentiments.\n",
        "\n",
        "Sentiment analysis data is a type of linguistic data that is annotated to indicate the sentiment expressed in a piece of text. This data can come from a variety of sources, such as online reviews, social media posts, and news articles. The sentiment annotations can be made by humans, or generated automatically using algorithms.\n",
        "\n",
        "In the context of visualization, sentiment analysis data can be used to create various types of plots, such as bar plots, pie charts, and scatter plots, to visualize the distribution of sentiments in a corpus of text. This can be useful for identifying patterns in the data and exploring how sentiment varies across different texts, authors, or time periods.\n",
        "\n",
        "\n",
        "\n"
      ],
      "metadata": {
        "id": "DJn5Tcpku4YY"
      }
    },
    {
      "cell_type": "code",
      "execution_count": 19,
      "metadata": {
        "colab": {
          "base_uri": "https://localhost:8080/"
        },
        "id": "PC-W4KhpyjKH",
        "outputId": "17c86059-fcdc-49da-a206-04778e5be613"
      },
      "outputs": [
        {
          "output_type": "stream",
          "name": "stdout",
          "text": [
            "Hello world\n"
          ]
        }
      ],
      "source": [
        "print('Hello world')"
      ]
    },
    {
      "cell_type": "markdown",
      "source": [
        "(6p) a handout on one of the topics we haven't covered in class, e.g., BERT, clustering, machine learning, regression, interactive plots\n",
        "\n",
        "(2p) a corresponding homework with a solution"
      ],
      "metadata": {
        "id": "ZBGHbzPYzokH"
      }
    }
  ]
}