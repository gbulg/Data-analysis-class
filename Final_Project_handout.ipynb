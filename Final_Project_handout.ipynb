{
  "nbformat": 4,
  "nbformat_minor": 0,
  "metadata": {
    "colab": {
      "provenance": [],
      "authorship_tag": "ABX9TyPlLAYxF8L+ml+TVc7B1LYt",
      "include_colab_link": true
    },
    "kernelspec": {
      "name": "python3",
      "display_name": "Python 3"
    },
    "language_info": {
      "name": "python"
    }
  },
  "cells": [
    {
      "cell_type": "markdown",
      "metadata": {
        "id": "view-in-github",
        "colab_type": "text"
      },
      "source": [
        "<a href=\"https://colab.research.google.com/github/gbulg/Data-analysis-class/blob/main/Final_Project_handout.ipynb\" target=\"_parent\"><img src=\"https://colab.research.google.com/assets/colab-badge.svg\" alt=\"Open In Colab\"/></a>"
      ]
    },
    {
      "cell_type": "markdown",
      "source": [
        "# Interactive plots handout\n"
      ],
      "metadata": {
        "id": "tNa-1gRcyk9Y"
      }
    },
    {
      "cell_type": "markdown",
      "source": [
        "There are several libraries in python to make interactive plots. Here i will show two of them -- Plotly and Bokeh. Others include ... ?>??.\n",
        "\n",
        "There may be several uses of interactive plots -- ??"
      ],
      "metadata": {
        "id": "EDMiRrjsvwz8"
      }
    },
    {
      "cell_type": "markdown",
      "source": [
        "different ways of interactivity -- hover, click, zoom, + ??"
      ],
      "metadata": {
        "id": "dz-lOg2snq7j"
      }
    },
    {
      "cell_type": "code",
      "source": [
        "pip install plotly"
      ],
      "metadata": {
        "colab": {
          "base_uri": "https://localhost:8080/"
        },
        "id": "3-lJ_82A4V-M",
        "outputId": "b5a99b18-3850-4126-cd94-0c91928be960"
      },
      "execution_count": 13,
      "outputs": [
        {
          "output_type": "stream",
          "name": "stdout",
          "text": [
            "Looking in indexes: https://pypi.org/simple, https://us-python.pkg.dev/colab-wheels/public/simple/\n",
            "Requirement already satisfied: plotly in /usr/local/lib/python3.8/dist-packages (5.5.0)\n",
            "Requirement already satisfied: tenacity>=6.2.0 in /usr/local/lib/python3.8/dist-packages (from plotly) (8.2.0)\n",
            "Requirement already satisfied: six in /usr/local/lib/python3.8/dist-packages (from plotly) (1.15.0)\n"
          ]
        }
      ]
    },
    {
      "cell_type": "code",
      "source": [
        "import plotly.express as px\n",
        " \n",
        "# using the iris dataset\n",
        "df = px.data.iris()\n",
        " \n",
        "# plotting the line chart\n",
        "fig = px.line(df, y=\"sepal_width\",)\n",
        " \n",
        "# showing the plot\n",
        "fig.show()"
      ],
      "metadata": {
        "colab": {
          "base_uri": "https://localhost:8080/",
          "height": 542
        },
        "id": "jq6UkR-8oBop",
        "outputId": "42991df8-306e-4b6c-b350-ffaf3c93c133"
      },
      "execution_count": 12,
      "outputs": [
        {
          "output_type": "display_data",
          "data": {
            "text/html": [
              "<html>\n",
              "<head><meta charset=\"utf-8\" /></head>\n",
              "<body>\n",
              "    <div>            <script src=\"https://cdnjs.cloudflare.com/ajax/libs/mathjax/2.7.5/MathJax.js?config=TeX-AMS-MML_SVG\"></script><script type=\"text/javascript\">if (window.MathJax) {MathJax.Hub.Config({SVG: {font: \"STIX-Web\"}});}</script>                <script type=\"text/javascript\">window.PlotlyConfig = {MathJaxConfig: 'local'};</script>\n",
              "        <script src=\"https://cdn.plot.ly/plotly-2.8.3.min.js\"></script>                <div id=\"af492ebe-a29e-46a6-8b5a-bbbe54b0ccd1\" class=\"plotly-graph-div\" style=\"height:525px; width:100%;\"></div>            <script type=\"text/javascript\">                                    window.PLOTLYENV=window.PLOTLYENV || {};                                    if (document.getElementById(\"af492ebe-a29e-46a6-8b5a-bbbe54b0ccd1\")) {                    Plotly.newPlot(                        \"af492ebe-a29e-46a6-8b5a-bbbe54b0ccd1\",                        [{\"hovertemplate\":\"index=%{x}<br>sepal_width=%{y}<extra></extra>\",\"legendgroup\":\"\",\"line\":{\"color\":\"#636efa\",\"dash\":\"solid\"},\"marker\":{\"symbol\":\"circle\"},\"mode\":\"lines\",\"name\":\"\",\"orientation\":\"v\",\"showlegend\":false,\"x\":[0,1,2,3,4,5,6,7,8,9,10,11,12,13,14,15,16,17,18,19,20,21,22,23,24,25,26,27,28,29,30,31,32,33,34,35,36,37,38,39,40,41,42,43,44,45,46,47,48,49,50,51,52,53,54,55,56,57,58,59,60,61,62,63,64,65,66,67,68,69,70,71,72,73,74,75,76,77,78,79,80,81,82,83,84,85,86,87,88,89,90,91,92,93,94,95,96,97,98,99,100,101,102,103,104,105,106,107,108,109,110,111,112,113,114,115,116,117,118,119,120,121,122,123,124,125,126,127,128,129,130,131,132,133,134,135,136,137,138,139,140,141,142,143,144,145,146,147,148,149],\"xaxis\":\"x\",\"y\":[3.5,3.0,3.2,3.1,3.6,3.9,3.4,3.4,2.9,3.1,3.7,3.4,3.0,3.0,4.0,4.4,3.9,3.5,3.8,3.8,3.4,3.7,3.6,3.3,3.4,3.0,3.4,3.5,3.4,3.2,3.1,3.4,4.1,4.2,3.1,3.2,3.5,3.1,3.0,3.4,3.5,2.3,3.2,3.5,3.8,3.0,3.8,3.2,3.7,3.3,3.2,3.2,3.1,2.3,2.8,2.8,3.3,2.4,2.9,2.7,2.0,3.0,2.2,2.9,2.9,3.1,3.0,2.7,2.2,2.5,3.2,2.8,2.5,2.8,2.9,3.0,2.8,3.0,2.9,2.6,2.4,2.4,2.7,2.7,3.0,3.4,3.1,2.3,3.0,2.5,2.6,3.0,2.6,2.3,2.7,3.0,2.9,2.9,2.5,2.8,3.3,2.7,3.0,2.9,3.0,3.0,2.5,2.9,2.5,3.6,3.2,2.7,3.0,2.5,2.8,3.2,3.0,3.8,2.6,2.2,3.2,2.8,2.8,2.7,3.3,3.2,2.8,3.0,2.8,3.0,2.8,3.8,2.8,2.8,2.6,3.0,3.4,3.1,3.0,3.1,3.1,3.1,2.7,3.2,3.3,3.0,2.5,3.0,3.4,3.0],\"yaxis\":\"y\",\"type\":\"scatter\"}],                        {\"template\":{\"data\":{\"bar\":[{\"error_x\":{\"color\":\"#2a3f5f\"},\"error_y\":{\"color\":\"#2a3f5f\"},\"marker\":{\"line\":{\"color\":\"#E5ECF6\",\"width\":0.5},\"pattern\":{\"fillmode\":\"overlay\",\"size\":10,\"solidity\":0.2}},\"type\":\"bar\"}],\"barpolar\":[{\"marker\":{\"line\":{\"color\":\"#E5ECF6\",\"width\":0.5},\"pattern\":{\"fillmode\":\"overlay\",\"size\":10,\"solidity\":0.2}},\"type\":\"barpolar\"}],\"carpet\":[{\"aaxis\":{\"endlinecolor\":\"#2a3f5f\",\"gridcolor\":\"white\",\"linecolor\":\"white\",\"minorgridcolor\":\"white\",\"startlinecolor\":\"#2a3f5f\"},\"baxis\":{\"endlinecolor\":\"#2a3f5f\",\"gridcolor\":\"white\",\"linecolor\":\"white\",\"minorgridcolor\":\"white\",\"startlinecolor\":\"#2a3f5f\"},\"type\":\"carpet\"}],\"choropleth\":[{\"colorbar\":{\"outlinewidth\":0,\"ticks\":\"\"},\"type\":\"choropleth\"}],\"contour\":[{\"colorbar\":{\"outlinewidth\":0,\"ticks\":\"\"},\"colorscale\":[[0.0,\"#0d0887\"],[0.1111111111111111,\"#46039f\"],[0.2222222222222222,\"#7201a8\"],[0.3333333333333333,\"#9c179e\"],[0.4444444444444444,\"#bd3786\"],[0.5555555555555556,\"#d8576b\"],[0.6666666666666666,\"#ed7953\"],[0.7777777777777778,\"#fb9f3a\"],[0.8888888888888888,\"#fdca26\"],[1.0,\"#f0f921\"]],\"type\":\"contour\"}],\"contourcarpet\":[{\"colorbar\":{\"outlinewidth\":0,\"ticks\":\"\"},\"type\":\"contourcarpet\"}],\"heatmap\":[{\"colorbar\":{\"outlinewidth\":0,\"ticks\":\"\"},\"colorscale\":[[0.0,\"#0d0887\"],[0.1111111111111111,\"#46039f\"],[0.2222222222222222,\"#7201a8\"],[0.3333333333333333,\"#9c179e\"],[0.4444444444444444,\"#bd3786\"],[0.5555555555555556,\"#d8576b\"],[0.6666666666666666,\"#ed7953\"],[0.7777777777777778,\"#fb9f3a\"],[0.8888888888888888,\"#fdca26\"],[1.0,\"#f0f921\"]],\"type\":\"heatmap\"}],\"heatmapgl\":[{\"colorbar\":{\"outlinewidth\":0,\"ticks\":\"\"},\"colorscale\":[[0.0,\"#0d0887\"],[0.1111111111111111,\"#46039f\"],[0.2222222222222222,\"#7201a8\"],[0.3333333333333333,\"#9c179e\"],[0.4444444444444444,\"#bd3786\"],[0.5555555555555556,\"#d8576b\"],[0.6666666666666666,\"#ed7953\"],[0.7777777777777778,\"#fb9f3a\"],[0.8888888888888888,\"#fdca26\"],[1.0,\"#f0f921\"]],\"type\":\"heatmapgl\"}],\"histogram\":[{\"marker\":{\"pattern\":{\"fillmode\":\"overlay\",\"size\":10,\"solidity\":0.2}},\"type\":\"histogram\"}],\"histogram2d\":[{\"colorbar\":{\"outlinewidth\":0,\"ticks\":\"\"},\"colorscale\":[[0.0,\"#0d0887\"],[0.1111111111111111,\"#46039f\"],[0.2222222222222222,\"#7201a8\"],[0.3333333333333333,\"#9c179e\"],[0.4444444444444444,\"#bd3786\"],[0.5555555555555556,\"#d8576b\"],[0.6666666666666666,\"#ed7953\"],[0.7777777777777778,\"#fb9f3a\"],[0.8888888888888888,\"#fdca26\"],[1.0,\"#f0f921\"]],\"type\":\"histogram2d\"}],\"histogram2dcontour\":[{\"colorbar\":{\"outlinewidth\":0,\"ticks\":\"\"},\"colorscale\":[[0.0,\"#0d0887\"],[0.1111111111111111,\"#46039f\"],[0.2222222222222222,\"#7201a8\"],[0.3333333333333333,\"#9c179e\"],[0.4444444444444444,\"#bd3786\"],[0.5555555555555556,\"#d8576b\"],[0.6666666666666666,\"#ed7953\"],[0.7777777777777778,\"#fb9f3a\"],[0.8888888888888888,\"#fdca26\"],[1.0,\"#f0f921\"]],\"type\":\"histogram2dcontour\"}],\"mesh3d\":[{\"colorbar\":{\"outlinewidth\":0,\"ticks\":\"\"},\"type\":\"mesh3d\"}],\"parcoords\":[{\"line\":{\"colorbar\":{\"outlinewidth\":0,\"ticks\":\"\"}},\"type\":\"parcoords\"}],\"pie\":[{\"automargin\":true,\"type\":\"pie\"}],\"scatter\":[{\"marker\":{\"colorbar\":{\"outlinewidth\":0,\"ticks\":\"\"}},\"type\":\"scatter\"}],\"scatter3d\":[{\"line\":{\"colorbar\":{\"outlinewidth\":0,\"ticks\":\"\"}},\"marker\":{\"colorbar\":{\"outlinewidth\":0,\"ticks\":\"\"}},\"type\":\"scatter3d\"}],\"scattercarpet\":[{\"marker\":{\"colorbar\":{\"outlinewidth\":0,\"ticks\":\"\"}},\"type\":\"scattercarpet\"}],\"scattergeo\":[{\"marker\":{\"colorbar\":{\"outlinewidth\":0,\"ticks\":\"\"}},\"type\":\"scattergeo\"}],\"scattergl\":[{\"marker\":{\"colorbar\":{\"outlinewidth\":0,\"ticks\":\"\"}},\"type\":\"scattergl\"}],\"scattermapbox\":[{\"marker\":{\"colorbar\":{\"outlinewidth\":0,\"ticks\":\"\"}},\"type\":\"scattermapbox\"}],\"scatterpolar\":[{\"marker\":{\"colorbar\":{\"outlinewidth\":0,\"ticks\":\"\"}},\"type\":\"scatterpolar\"}],\"scatterpolargl\":[{\"marker\":{\"colorbar\":{\"outlinewidth\":0,\"ticks\":\"\"}},\"type\":\"scatterpolargl\"}],\"scatterternary\":[{\"marker\":{\"colorbar\":{\"outlinewidth\":0,\"ticks\":\"\"}},\"type\":\"scatterternary\"}],\"surface\":[{\"colorbar\":{\"outlinewidth\":0,\"ticks\":\"\"},\"colorscale\":[[0.0,\"#0d0887\"],[0.1111111111111111,\"#46039f\"],[0.2222222222222222,\"#7201a8\"],[0.3333333333333333,\"#9c179e\"],[0.4444444444444444,\"#bd3786\"],[0.5555555555555556,\"#d8576b\"],[0.6666666666666666,\"#ed7953\"],[0.7777777777777778,\"#fb9f3a\"],[0.8888888888888888,\"#fdca26\"],[1.0,\"#f0f921\"]],\"type\":\"surface\"}],\"table\":[{\"cells\":{\"fill\":{\"color\":\"#EBF0F8\"},\"line\":{\"color\":\"white\"}},\"header\":{\"fill\":{\"color\":\"#C8D4E3\"},\"line\":{\"color\":\"white\"}},\"type\":\"table\"}]},\"layout\":{\"annotationdefaults\":{\"arrowcolor\":\"#2a3f5f\",\"arrowhead\":0,\"arrowwidth\":1},\"autotypenumbers\":\"strict\",\"coloraxis\":{\"colorbar\":{\"outlinewidth\":0,\"ticks\":\"\"}},\"colorscale\":{\"diverging\":[[0,\"#8e0152\"],[0.1,\"#c51b7d\"],[0.2,\"#de77ae\"],[0.3,\"#f1b6da\"],[0.4,\"#fde0ef\"],[0.5,\"#f7f7f7\"],[0.6,\"#e6f5d0\"],[0.7,\"#b8e186\"],[0.8,\"#7fbc41\"],[0.9,\"#4d9221\"],[1,\"#276419\"]],\"sequential\":[[0.0,\"#0d0887\"],[0.1111111111111111,\"#46039f\"],[0.2222222222222222,\"#7201a8\"],[0.3333333333333333,\"#9c179e\"],[0.4444444444444444,\"#bd3786\"],[0.5555555555555556,\"#d8576b\"],[0.6666666666666666,\"#ed7953\"],[0.7777777777777778,\"#fb9f3a\"],[0.8888888888888888,\"#fdca26\"],[1.0,\"#f0f921\"]],\"sequentialminus\":[[0.0,\"#0d0887\"],[0.1111111111111111,\"#46039f\"],[0.2222222222222222,\"#7201a8\"],[0.3333333333333333,\"#9c179e\"],[0.4444444444444444,\"#bd3786\"],[0.5555555555555556,\"#d8576b\"],[0.6666666666666666,\"#ed7953\"],[0.7777777777777778,\"#fb9f3a\"],[0.8888888888888888,\"#fdca26\"],[1.0,\"#f0f921\"]]},\"colorway\":[\"#636efa\",\"#EF553B\",\"#00cc96\",\"#ab63fa\",\"#FFA15A\",\"#19d3f3\",\"#FF6692\",\"#B6E880\",\"#FF97FF\",\"#FECB52\"],\"font\":{\"color\":\"#2a3f5f\"},\"geo\":{\"bgcolor\":\"white\",\"lakecolor\":\"white\",\"landcolor\":\"#E5ECF6\",\"showlakes\":true,\"showland\":true,\"subunitcolor\":\"white\"},\"hoverlabel\":{\"align\":\"left\"},\"hovermode\":\"closest\",\"mapbox\":{\"style\":\"light\"},\"paper_bgcolor\":\"white\",\"plot_bgcolor\":\"#E5ECF6\",\"polar\":{\"angularaxis\":{\"gridcolor\":\"white\",\"linecolor\":\"white\",\"ticks\":\"\"},\"bgcolor\":\"#E5ECF6\",\"radialaxis\":{\"gridcolor\":\"white\",\"linecolor\":\"white\",\"ticks\":\"\"}},\"scene\":{\"xaxis\":{\"backgroundcolor\":\"#E5ECF6\",\"gridcolor\":\"white\",\"gridwidth\":2,\"linecolor\":\"white\",\"showbackground\":true,\"ticks\":\"\",\"zerolinecolor\":\"white\"},\"yaxis\":{\"backgroundcolor\":\"#E5ECF6\",\"gridcolor\":\"white\",\"gridwidth\":2,\"linecolor\":\"white\",\"showbackground\":true,\"ticks\":\"\",\"zerolinecolor\":\"white\"},\"zaxis\":{\"backgroundcolor\":\"#E5ECF6\",\"gridcolor\":\"white\",\"gridwidth\":2,\"linecolor\":\"white\",\"showbackground\":true,\"ticks\":\"\",\"zerolinecolor\":\"white\"}},\"shapedefaults\":{\"line\":{\"color\":\"#2a3f5f\"}},\"ternary\":{\"aaxis\":{\"gridcolor\":\"white\",\"linecolor\":\"white\",\"ticks\":\"\"},\"baxis\":{\"gridcolor\":\"white\",\"linecolor\":\"white\",\"ticks\":\"\"},\"bgcolor\":\"#E5ECF6\",\"caxis\":{\"gridcolor\":\"white\",\"linecolor\":\"white\",\"ticks\":\"\"}},\"title\":{\"x\":0.05},\"xaxis\":{\"automargin\":true,\"gridcolor\":\"white\",\"linecolor\":\"white\",\"ticks\":\"\",\"title\":{\"standoff\":15},\"zerolinecolor\":\"white\",\"zerolinewidth\":2},\"yaxis\":{\"automargin\":true,\"gridcolor\":\"white\",\"linecolor\":\"white\",\"ticks\":\"\",\"title\":{\"standoff\":15},\"zerolinecolor\":\"white\",\"zerolinewidth\":2}}},\"xaxis\":{\"anchor\":\"y\",\"domain\":[0.0,1.0],\"title\":{\"text\":\"index\"}},\"yaxis\":{\"anchor\":\"x\",\"domain\":[0.0,1.0],\"title\":{\"text\":\"sepal_width\"}},\"legend\":{\"tracegroupgap\":0},\"margin\":{\"t\":60}},                        {\"responsive\": true}                    ).then(function(){\n",
              "                            \n",
              "var gd = document.getElementById('af492ebe-a29e-46a6-8b5a-bbbe54b0ccd1');\n",
              "var x = new MutationObserver(function (mutations, observer) {{\n",
              "        var display = window.getComputedStyle(gd).display;\n",
              "        if (!display || display === 'none') {{\n",
              "            console.log([gd, 'removed!']);\n",
              "            Plotly.purge(gd);\n",
              "            observer.disconnect();\n",
              "        }}\n",
              "}});\n",
              "\n",
              "// Listen for the removal of the full notebook cells\n",
              "var notebookContainer = gd.closest('#notebook-container');\n",
              "if (notebookContainer) {{\n",
              "    x.observe(notebookContainer, {childList: true});\n",
              "}}\n",
              "\n",
              "// Listen for the clearing of the current output cell\n",
              "var outputEl = gd.closest('.output');\n",
              "if (outputEl) {{\n",
              "    x.observe(outputEl, {childList: true});\n",
              "}}\n",
              "\n",
              "                        })                };                            </script>        </div>\n",
              "</body>\n",
              "</html>"
            ]
          },
          "metadata": {}
        }
      ]
    },
    {
      "cell_type": "code",
      "source": [
        "import numpy as np\n",
        "\n",
        "from bokeh.io import curdoc\n",
        "from bokeh.layouts import column, row\n",
        "from bokeh.models import ColumnDataSource, Slider, TextInput\n",
        "from bokeh.plotting import figure\n",
        "\n",
        "# Set up data\n",
        "N = 200\n",
        "x = np.linspace(0, 4*np.pi, N)\n",
        "y = np.sin(x)\n",
        "source = ColumnDataSource(data=dict(x=x, y=y))\n",
        "\n",
        "\n",
        "# Set up plot\n",
        "plot = figure(height=400, width=400, title=\"my sine wave\",\n",
        "              tools=\"crosshair,pan,reset,save,wheel_zoom\",\n",
        "              x_range=[0, 4*np.pi], y_range=[-2.5, 2.5])\n",
        "\n",
        "plot.line('x', 'y', source=source, line_width=3, line_alpha=0.6)\n",
        "\n",
        "\n",
        "# Set up widgets\n",
        "text = TextInput(title=\"title\", value='my sine wave')\n",
        "offset = Slider(title=\"offset\", value=0.0, start=-5.0, end=5.0, step=0.1)\n",
        "amplitude = Slider(title=\"amplitude\", value=1.0, start=-5.0, end=5.0, step=0.1)\n",
        "phase = Slider(title=\"phase\", value=0.0, start=0.0, end=2*np.pi)\n",
        "freq = Slider(title=\"frequency\", value=1.0, start=0.1, end=5.1, step=0.1)\n",
        "\n",
        "\n",
        "# Set up callbacks\n",
        "def update_title(attrname, old, new):\n",
        "    plot.title.text = text.value\n",
        "\n",
        "text.on_change('value', update_title)\n",
        "\n",
        "def update_data(attrname, old, new):\n",
        "\n",
        "    # Get the current slider values\n",
        "    a = amplitude.value\n",
        "    b = offset.value\n",
        "    w = phase.value\n",
        "    k = freq.value\n",
        "\n",
        "    # Generate the new curve\n",
        "    x = np.linspace(0, 4*np.pi, N)\n",
        "    y = a*np.sin(k*x + w) + b\n",
        "\n",
        "    source.data = dict(x=x, y=y)\n",
        "\n",
        "for w in [offset, amplitude, phase, freq]:\n",
        "    w.on_change('value', update_data)\n",
        "\n",
        "\n",
        "# Set up layouts and add to document\n",
        "inputs = column(text, offset, amplitude, phase, freq)\n",
        "\n",
        "curdoc().add_root(row(inputs, plot, width=800))\n",
        "curdoc().title = \"Sliders\""
      ],
      "metadata": {
        "id": "HXsz10_7rMB7"
      },
      "execution_count": 4,
      "outputs": []
    },
    {
      "cell_type": "code",
      "source": [
        "############ START BOILERPLATE ############\n",
        "#### Interactivity -- BOKEH\n",
        "import bokeh.plotting.figure as bk_figure\n",
        "from bokeh.io import curdoc, show\n",
        "from bokeh.layouts import row, widgetbox\n",
        "from bokeh.models import ColumnDataSource\n",
        "from bokeh.models.widgets import Slider, TextInput\n",
        "from bokeh.io import output_notebook # enables plot interface in J notebook\n",
        "import numpy as np\n",
        "# init bokeh\n",
        "\n",
        "from bokeh.application import Application\n",
        "from bokeh.application.handlers import FunctionHandler\n",
        "    \n",
        "    \n",
        "from bokeh.resources import INLINE\n",
        "import bokeh.io\n",
        "from bokeh import *\n",
        "bokeh.io.output_notebook(INLINE)\n",
        "############ END BOILERPLATE ############\n",
        "\n",
        "# Set up data\n",
        "N = 200\n",
        "x = np.linspace(0, 4*np.pi, N)\n",
        "y = np.sin(x)\n",
        "source = ColumnDataSource(data=dict(x=x, y=y))\n",
        "\n",
        "# Set up plot\n",
        "plot = bk_figure(plot_height=400, plot_width=400, title=\"my sine wave\",\n",
        "              tools=\"crosshair,pan,reset,save,wheel_zoom\",\n",
        "              x_range=[0, 4*np.pi], y_range=[-2.5, 2.5])\n",
        "\n",
        "plot.line('x', 'y', source=source, line_width=3, line_alpha=0.6)\n",
        "\n",
        "# Set up widgets\n",
        "text = TextInput(title=\"title\", value='my sine wave')\n",
        "offset = Slider(title=\"offset\", value=0.0, start=-5.0, end=5.0, step=0.1)\n",
        "amplitude = Slider(title=\"amplitude\", value=1.0, start=-5.0, end=5.0, step=0.1)\n",
        "phase = Slider(title=\"phase\", value=0.0, start=0.0, end=2*np.pi)\n",
        "freq = Slider(title=\"frequency\", value=1.0, start=0.1, end=5.1, step=0.1)\n",
        "\n",
        "# Set up callbacks\n",
        "def update_title(attrname, old, new):\n",
        "    plot.title.text = text.value\n",
        "\n",
        "\n",
        "\n",
        "def update_data(attrname, old, new):\n",
        "    # Get the current slider values\n",
        "    a = amplitude.value\n",
        "    b = offset.value\n",
        "    w = phase.value\n",
        "    k = freq.value\n",
        "\n",
        "    # Generate the new curve\n",
        "    x = np.linspace(0, 4*np.pi, N)\n",
        "    y = a*np.sin(k*x + w) + b\n",
        "\n",
        "    source.data = dict(x=x, y=y)\n",
        "    ### I thought I might need a show() here, but it doesn't make a difference if I add one\n",
        "    # show(layout)\n",
        "\n",
        "for w in [offset, amplitude, phase, freq]:\n",
        "    w.on_change('value', update_data)\n",
        "\n",
        "\n",
        "# Set up layouts and add to document\n",
        "inputs = widgetbox(text, offset, amplitude, phase, freq)\n",
        "layout = row(plot,\n",
        "             widgetbox(text, offset, amplitude, phase, freq))\n",
        "\n",
        "\n",
        "\n",
        "def modify_doc(doc):\n",
        "    doc.add_root(row(layout, width=800))\n",
        "    doc.title = \"Sliders\"\n",
        "    text.on_change('value', update_title)\n",
        "    \n",
        "\n",
        "handler = FunctionHandler(modify_doc)\n",
        "app = Application(handler)\n",
        "show(app)"
      ],
      "metadata": {
        "colab": {
          "base_uri": "https://localhost:8080/"
        },
        "id": "0MQFSDLqsGvb",
        "outputId": "86b0b848-7095-44a7-f6b6-a53ad0f4d865"
      },
      "execution_count": 10,
      "outputs": [
        {
          "output_type": "stream",
          "name": "stdout",
          "text": [
            "Bokeh show_app is currently unsupported\n"
          ]
        },
        {
          "output_type": "stream",
          "name": "stderr",
          "text": [
            "BokehDeprecationWarning: 'WidgetBox' is deprecated and will be removed in Bokeh 3.0, use 'bokeh.models.Column' instead\n",
            "BokehDeprecationWarning: 'WidgetBox' is deprecated and will be removed in Bokeh 3.0, use 'bokeh.models.Column' instead\n"
          ]
        }
      ]
    },
    {
      "cell_type": "markdown",
      "source": [
        "I. Introduction\n",
        "\n",
        "A. Explanation of what interactive plots are and their importance in data analysis\n",
        "\n",
        "B. Overview of Python libraries used for creating interactive plots (e.g. Plotly, Bokeh)\n",
        "\n",
        "II. Plotly\n",
        "\n",
        "A. Explanation of Plotly library and its features\n",
        "\n",
        "B. Installation and setup of Plotly in Python\n",
        "\n",
        "C. Basic example of creating a line chart using Plotly\n",
        "\n",
        "D. Advanced examples of creating interactive plots such as scatter plots, bar \n",
        "plots, heat maps, etc.\n",
        "\n",
        "E. Customization options for Plotly plots (e.g. changing colors, markers, etc.)\n",
        "\n",
        "III. Bokeh\n",
        "\n",
        "A. Explanation of Bokeh library and its features\n",
        "\n",
        "B. Installation and setup of Bokeh in Python\n",
        "\n",
        "C. Basic example of creating a line chart using Bokeh\n",
        "\n",
        "D. Advanced examples of creating interactive plots such as scatter plots, bar \n",
        "plots, heat maps, etc.\n",
        "\n",
        "E. Customization options for Bokeh plots (e.g. changing colors, markers, etc.)\n",
        "\n",
        "IV. Comparison between Plotly and Bokeh\n",
        "\n",
        "A. Pros and cons of each library\n",
        "\n",
        "B. Use cases for each library\n",
        "\n",
        "C. Comparison of the functionality and customization options of each library\n",
        "\n",
        "V. Best practices for creating interactive plots\n",
        "\n",
        "A. Choosing the right library for a specific use case\n",
        "\n",
        "B. Importance of data preparation for interactive plots\n",
        "\n",
        "C. Design considerations for creating effective and user-friendly interactive plots\n",
        "\n",
        "VI. Conclusion\n",
        "\n",
        "A. Recap of the importance of interactive plots in data analysis\n",
        "\n",
        "B. Summary of the key points covered in the handout\n",
        "\n",
        "C. Recommendations for further study and resources.\n",
        "\n",
        "In this plan, you can start with a brief overview of what interactive plots are, followed by a detailed explanation of two popular libraries in Python: Plotly and Bokeh. You can then compare the two libraries, highlighting their pros and cons, use cases, and functionality. Finally, you can conclude with some best practices and recommendations for further study.\n",
        "\n",
        "This should give you a comprehensive handout on interactive plots in Python that covers both the basics and advanced topics."
      ],
      "metadata": {
        "id": "_nJseX9XBKZr"
      }
    },
    {
      "cell_type": "code",
      "execution_count": 1,
      "metadata": {
        "colab": {
          "base_uri": "https://localhost:8080/"
        },
        "id": "PC-W4KhpyjKH",
        "outputId": "00292959-32b6-42eb-8d97-186ff2da5eb2"
      },
      "outputs": [
        {
          "output_type": "stream",
          "name": "stdout",
          "text": [
            "Hello world\n"
          ]
        }
      ],
      "source": [
        "print('Hello world')"
      ]
    },
    {
      "cell_type": "markdown",
      "source": [
        "(6p) a handout on one of the topics we haven't covered in class, e.g., BERT, clustering, machine learning, regression, interactive plots\n",
        "\n",
        "(2p) a corresponding homework with a solution"
      ],
      "metadata": {
        "id": "ZBGHbzPYzokH"
      }
    }
  ]
}